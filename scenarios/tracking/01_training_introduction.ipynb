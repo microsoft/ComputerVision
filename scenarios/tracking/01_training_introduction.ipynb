{
 "cells": [
  {
   "cell_type": "markdown",
   "metadata": {},
   "source": [
    "<i>Copyright (c) Microsoft Corporation. All rights reserved.</i>\n",
    "\n",
    "<i>Licensed under the MIT License.</i>"
   ]
  },
  {
   "cell_type": "markdown",
   "metadata": {},
   "source": [
    "# Training a Multi-Object Tracking Model\n",
    "\n",
    "This notebook shows how to train and evaluate a multi-object tracking model.\n",
    "\n",
    "Specifically, this notebook uses [FairMOT](https://github.com/ifzhang/FairMOT), a state-of-the-art tracking model with high accuracy and fast inference speed. The model is trained on a set of still images, and is then evaluated on video footage. For more information regarding FairMOT and multi-object tracking, please visit the [FAQ](./FAQ.md)."
   ]
  },
  {
   "cell_type": "markdown",
   "metadata": {},
   "source": [
    "## Initialization\n",
    "Import all the functions we need."
   ]
  },
  {
   "cell_type": "code",
   "execution_count": null,
   "metadata": {
    "scrolled": true
   },
   "outputs": [],
   "source": [
    "import os\n",
    "import os.path as osp\n",
    "import sys\n",
    "\n",
    "from ipywidgets import Video\n",
    "import matplotlib.pyplot as plt\n",
    "import torch\n",
    "import torchvision\n",
    "\n",
    "# Computer Vision repository\n",
    "sys.path.append(\"../../\")\n",
    "from utils_cv.common.data import data_path, unzip_url\n",
    "from utils_cv.common.gpu import is_windows, which_processor\n",
    "from utils_cv.tracking.data import Urls\n",
    "from utils_cv.tracking.dataset import TrackingDataset\n",
    "from utils_cv.tracking.model import TrackingLearner\n",
    "from utils_cv.tracking.plot import plot_single_frame, play_video, write_video\n",
    "\n",
    "# Change matplotlib backend so that plots are shown for windows\n",
    "if is_windows():\n",
    "    plt.switch_backend(\"TkAgg\")\n",
    "\n",
    "print(f\"TorchVision: {torchvision.__version__}\")\n",
    "which_processor()"
   ]
  },
  {
   "cell_type": "markdown",
   "metadata": {},
   "source": [
    "The above torchvision command displays your machine's GPUs (if it has any) and the compute that `torch/torchvision` is using."
   ]
  },
  {
   "cell_type": "code",
   "execution_count": null,
   "metadata": {},
   "outputs": [],
   "source": [
    "# Ensure edits to libraries are loaded and plotting is shown in the notebook.\n",
    "%reload_ext autoreload\n",
    "%autoreload 2\n",
    "%matplotlib inline"
   ]
  },
  {
   "cell_type": "markdown",
   "metadata": {},
   "source": [
    "Next, set some training and inference parameters, as well as the data input parameters. Better accuracy can typically be achieved by increasing the number of training epochs. \n",
    "\n",
    "The baseline FairMOT model is downloaded and saved to the `./models/baselines` directory as `all_dla34.pth` by running the below cell."
   ]
  },
  {
   "cell_type": "code",
   "execution_count": null,
   "metadata": {
    "tags": [
     "parameters"
    ]
   },
   "outputs": [],
   "source": [
    "# Training parameters\n",
    "EPOCHS = 10\n",
    "LEARNING_RATE = 0.0005\n",
    "BATCH_SIZE = 4\n",
    "\n",
    "# Inference parameters\n",
    "CONF_THRES = 0.3\n",
    "\n",
    "# Pretrained model location\n",
    "MODEL_DIR = unzip_url(Urls.baseline_models_path, \"./models\", exist_ok=True)\n",
    "MODEL_PATH = osp.join(MODEL_DIR, \"all_dla34.pth\")\n",
    "\n",
    "# Data Location\n",
    "TRAIN_DATA_PATH = unzip_url(Urls.cans_path, exist_ok=True)\n",
    "EVAL_DATA_PATH = unzip_url(Urls.carcans_annotations_path, exist_ok=True)\n",
    "\n",
    "# Train on the GPU or on the CPU, if a GPU is not available\n",
    "device = torch.device(\"cuda\") if torch.cuda.is_available() else torch.device(\"cpu\")\n",
    "print(f\"Using torch device: {device}\")"
   ]
  },
  {
   "cell_type": "markdown",
   "metadata": {},
   "source": [
    "## Setup\n",
    "\n",
    "Please follow the setup instructions in the [README.md](https://github.com/microsoft/computervision-recipes/blob/master/scenarios/tracking/README.md) to make sure all required libraries are installed. "
   ]
  },
  {
   "cell_type": "markdown",
   "metadata": {},
   "source": [
    "## Prepare Training Dataset\n",
    "\n",
    "This section will show how to use a small training dataset to finetune a pre-trained model. The dataset consists of 12 images of cans across four classes `{coke, gingerale, espresso, coldbrew}` and with differing backgrounds.\n",
    "\n",
    "Note that we use different cans for training, so that the re-id component in the FairMOT tracker can learn to distinguish different type of cans from one-another. During inference time, this will enable the tracker to distinguish between cans it had not seen during training. "
   ]
  },
  {
   "cell_type": "code",
   "execution_count": null,
   "metadata": {},
   "outputs": [],
   "source": [
    "os.listdir(TRAIN_DATA_PATH)"
   ]
  },
  {
   "cell_type": "markdown",
   "metadata": {},
   "source": [
    "Within the data folder there are two different subfolders:\n",
    "- `/images/`\n",
    "- `/annotations/`\n",
    "\n",
    "This format, one folder for images and one folder for annotations, is common for object detection and object tracking. In fact, the annotation format (Pascal VOC) is identical to the annotation format used for object detection - see the [01_training_introduction.ipynb](../detection/01_training_introduction.ipynb) notebook for more information."
   ]
  },
  {
   "cell_type": "markdown",
   "metadata": {},
   "source": [
    "## Load Training Images"
   ]
  },
  {
   "cell_type": "markdown",
   "metadata": {},
   "source": [
    "To load the data, we use the `TrackingDataset` class. This object knows how to read images and annotations consistent with the  format specified above."
   ]
  },
  {
   "cell_type": "code",
   "execution_count": null,
   "metadata": {},
   "outputs": [],
   "source": [
    "data_train = TrackingDataset(TRAIN_DATA_PATH, batch_size=BATCH_SIZE)\n",
    "print(\"Found {} training images.\".format(len(data_train.im_filenames)))"
   ]
  },
  {
   "cell_type": "code",
   "execution_count": null,
   "metadata": {},
   "outputs": [],
   "source": [
    "data_train.show_ims()"
   ]
  },
  {
   "cell_type": "markdown",
   "metadata": {},
   "source": [
    "## Finetune a Pretrained Model\n",
    "\n",
    "For the TrackingLearner, we use FairMOT's baseline tracking model. FairMOT's baseline tracking model is pre-trained on pedestrian datasets, such as the [MOT challenge datasets](https://motchallenge.net/). Therefore, it does not yet know how to detect cans.\n",
    "\n",
    "When we initialize the TrackingLearner, we can pass in the training dataset and the path to the baseline\n",
    "model which by default is `./models/all_dla.pth`.  "
   ]
  },
  {
   "cell_type": "code",
   "execution_count": null,
   "metadata": {},
   "outputs": [],
   "source": [
    "tracker = TrackingLearner(data_train, MODEL_PATH)"
   ]
  },
  {
   "cell_type": "markdown",
   "metadata": {},
   "source": [
    "To run the training, we call the `fit` method in the tracker object. Note that we reduce the learning rate by a factor of 10 after 75% of the epochs to improve convergence to a good minima of the loss function."
   ]
  },
  {
   "cell_type": "code",
   "execution_count": null,
   "metadata": {},
   "outputs": [],
   "source": [
    "tracker.fit(num_epochs=EPOCHS, lr=LEARNING_RATE, lr_step = round(0.75*EPOCHS))"
   ]
  },
  {
   "cell_type": "markdown",
   "metadata": {},
   "source": [
    "The function below visualizes the training losses after each epoch, and shows how the model improves over time. With appropriate values for `num_epochs` and `lr` this loss-curve should converge towards zero. The loss-curve for our training is as follows:"
   ]
  },
  {
   "cell_type": "code",
   "execution_count": null,
   "metadata": {},
   "outputs": [],
   "source": [
    "tracker.plot_training_losses()"
   ]
  },
  {
   "cell_type": "markdown",
   "metadata": {},
   "source": [
    "# Predict and Evaluate Tracking\n",
    "To validate the trained model, we run it on an evaluation dataset and compare the predicted tracking results with the dataset's ground-truth annotations.\n",
    "\n",
    "For that, we annotated each frame of a one second long video sequence called `car_cans_1s.mp4`. For more details on how to prepare the annotation and evaluation dataset please see the [FAQ](./FAQ.md). "
   ]
  },
  {
   "cell_type": "code",
   "execution_count": null,
   "metadata": {},
   "outputs": [],
   "source": [
    "eval_video_path = osp.join(EVAL_DATA_PATH, \"car_cans_1s.mp4\")\n",
    "#Video.from_file(eval_video_path)   # uncomment this line to play the video"
   ]
  },
  {
   "cell_type": "markdown",
   "metadata": {},
   "source": [
    "This shows a single frame from around the middle of the evaluation video:"
   ]
  },
  {
   "cell_type": "code",
   "execution_count": null,
   "metadata": {},
   "outputs": [],
   "source": [
    "plot_single_frame(eval_video_path, 15)"
   ]
  },
  {
   "cell_type": "markdown",
   "metadata": {},
   "source": [
    "## Predict\n",
    "\n",
    "Now, we can run the `predict` function on our evaluation dataset. Note that there are several parameters that can be tweaked to improve the tracking performance and inference speed, including `conf_thres` or `track_buffer`. Please see the  [FAQ](./FAQ.md) for more details.  "
   ]
  },
  {
   "cell_type": "code",
   "execution_count": null,
   "metadata": {
    "scrolled": false
   },
   "outputs": [],
   "source": [
    "eval_results = tracker.predict(\n",
    "    EVAL_DATA_PATH, conf_thres=CONF_THRES,\n",
    ")"
   ]
  },
  {
   "cell_type": "markdown",
   "metadata": {},
   "source": [
    "The call to `predict` returns the dictionary `eval_results` where each key is the frame number, and the value is a list of `TrackingBbox` objects that represent the tracking information of each object detected. For example, when we print out the tracking results from the last frame (frame 30), we can see two objects being tracked:"
   ]
  },
  {
   "cell_type": "code",
   "execution_count": null,
   "metadata": {},
   "outputs": [],
   "source": [
    "print(\"Last frame...tracking result:\", eval_results[max(eval_results.keys())])"
   ]
  },
  {
   "cell_type": "markdown",
   "metadata": {},
   "source": [
    "## Evaluate\n",
    "\n",
    "To obtain quantitiative evaluation metrics, we can simply pass on our `tracking_results` dictionary to the `evaluate` method in the tracker object. This outputs common MOT metrics such as IDF1 or MOTA. Please refer to the [FAQ](./FAQ.md) for more details on MOT metrics."
   ]
  },
  {
   "cell_type": "code",
   "execution_count": null,
   "metadata": {
    "scrolled": true
   },
   "outputs": [],
   "source": [
    "eval_metrics = tracker.evaluate(eval_results, EVAL_DATA_PATH)\n",
    "print(eval_metrics)"
   ]
  },
  {
   "cell_type": "markdown",
   "metadata": {},
   "source": [
    "## Visualize results"
   ]
  },
  {
   "cell_type": "markdown",
   "metadata": {},
   "source": [
    "We can visualize the tracking results by overlaying the bounding boxes and ids of the tracked objects onto the video and writing it to the following file:"
   ]
  },
  {
   "cell_type": "code",
   "execution_count": null,
   "metadata": {},
   "outputs": [],
   "source": [
    "write_video(eval_results, eval_video_path, \"results_eval.mp4\")"
   ]
  },
  {
   "cell_type": "markdown",
   "metadata": {},
   "source": [
    "The following cell extracts and displays certain frames from this video."
   ]
  },
  {
   "cell_type": "code",
   "execution_count": null,
   "metadata": {
    "scrolled": false
   },
   "outputs": [],
   "source": [
    "for frame_i in [1, int(len(eval_results) / 2), len(eval_results) - 3]:\n",
    "    im = plot_single_frame(eval_video_path, frame_i, eval_results)"
   ]
  },
  {
   "cell_type": "markdown",
   "metadata": {},
   "source": [
    "In addition, we can play the video here in the notebook:"
   ]
  },
  {
   "cell_type": "code",
   "execution_count": null,
   "metadata": {
    "scrolled": false
   },
   "outputs": [],
   "source": [
    "play_video(eval_results, eval_video_path)"
   ]
  },
  {
   "cell_type": "markdown",
   "metadata": {},
   "source": [
    "## Save the trained model\n",
    "If satified with the results from evalutation, we can save this finetuned model to disk for later use. \n",
    "```\n",
    "tracker.save(TRAINED_MODEL_PATH)\n",
    "```\n",
    "\n",
    "To load the model and track objects in a new video these commands can be used\n",
    "```\n",
    "tracker = TrackingLearner(None, TRAINED_MODEL_PATH)\n",
    "test_results = tracker.predict(\n",
    "    path_to_video, conf_thres=CONF_THRES, track_buffer=TRACK_BUFFER,\n",
    ")\n",
    "```"
   ]
  }
 ],
 "metadata": {
  "kernelspec": {
   "display_name": "cv",
   "language": "python",
   "name": "cv"
  },
  "language_info": {
   "codemirror_mode": {
    "name": "ipython",
    "version": 3
   },
   "file_extension": ".py",
   "mimetype": "text/x-python",
   "name": "python",
   "nbconvert_exporter": "python",
   "pygments_lexer": "ipython3",
   "version": "3.7.6"
  },
  "toc": {
   "base_numbering": 1,
   "nav_menu": {},
   "number_sections": true,
   "sideBar": true,
   "skip_h1_title": false,
   "title_cell": "Table of Contents",
   "title_sidebar": "Contents",
   "toc_cell": false,
   "toc_position": {
    "height": "calc(100% - 180px)",
    "left": "10px",
    "top": "150px",
    "width": "279.417px"
   },
   "toc_section_display": true,
   "toc_window_display": false
  }
 },
 "nbformat": 4,
 "nbformat_minor": 2
}
