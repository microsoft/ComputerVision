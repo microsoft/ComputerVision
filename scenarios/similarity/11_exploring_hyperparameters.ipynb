{
 "cells": [
  {
   "cell_type": "markdown",
   "metadata": {},
   "source": [
    "<i>Copyright (c) Microsoft Corporation. All rights reserved.</i>\n",
    "\n",
    "<i>Licensed under the MIT License.</i>"
   ]
  },
  {
   "cell_type": "markdown",
   "metadata": {},
   "source": [
    "# Testing different Hyperparameters and Benchmarking"
   ]
  },
  {
   "cell_type": "markdown",
   "metadata": {},
   "source": [
    "In this notebook, we'll cover how to test different hyperparameters for a particular dataset and how to benchmark different parameters across a group of datasets. Note that this re-uses functionality which was already introduced and described in the [classification/notebooks/11_exploring_hyperparameters.ipynb](../../classification/notebooks/11_exploring_hyperparameters.ipynb) notebook. **Please refer to that notebook for all explanations, which this notebook will not repeat.**\n",
    "\n",
    "For an example of how to scale up with remote GPU clusters on Azure Machine Learning, please view [24_exploring_hyperparameters_on_azureml.ipynb](../../classification/notebooks/24_exploring_hyperparameters_on_azureml.ipynb)."
   ]
  },
  {
   "cell_type": "markdown",
   "metadata": {},
   "source": [
    "## Testing hyperparameters"
   ]
  },
  {
   "cell_type": "markdown",
   "metadata": {},
   "source": [
    "Ensure edits to libraries are loaded and plotting is shown in the notebook."
   ]
  },
  {
   "cell_type": "code",
   "execution_count": 1,
   "metadata": {},
   "outputs": [],
   "source": [
    "%reload_ext autoreload\n",
    "%autoreload 2\n",
    "%matplotlib inline"
   ]
  },
  {
   "cell_type": "markdown",
   "metadata": {},
   "source": [
    "We start by importing the utilities we need."
   ]
  },
  {
   "cell_type": "code",
   "execution_count": 2,
   "metadata": {},
   "outputs": [
    {
     "data": {
      "text/plain": [
       "'1.0.48'"
      ]
     },
     "execution_count": 2,
     "metadata": {},
     "output_type": "execute_result"
    }
   ],
   "source": [
    "import sys\n",
    "import numpy as np\n",
    "import scrapbook as sb\n",
    "import torch\n",
    "import fastai\n",
    "from fastai.vision import DatasetType\n",
    "\n",
    "sys.path.append(\"../../\")\n",
    "from utils_cv.classification.data import Urls\n",
    "from utils_cv.common.data import unzip_url\n",
    "from utils_cv.classification.parameter_sweeper import ParameterSweeper, clean_sweeper_df, plot_sweeper_df\n",
    "from utils_cv.similarity.data import comparative_set_builder\n",
    "from utils_cv.similarity.metrics import positive_image_ranks\n",
    "from utils_cv.similarity.model import compute_features_learner\n",
    "\n",
    "fastai.__version__"
   ]
  },
  {
   "cell_type": "markdown",
   "metadata": {},
   "source": [
    "Define the datasets and parameters we will use in this notebook."
   ]
  },
  {
   "cell_type": "code",
   "execution_count": 3,
   "metadata": {
    "tags": [
     "parameters"
    ]
   },
   "outputs": [],
   "source": [
    "DATA_PATHS = [unzip_url(Urls.fridge_objects_path, exist_ok=True), unzip_url(Urls.fridge_objects_watermark_path, exist_ok=True)]\n",
    "REPS = 3\n",
    "LEARNING_RATES = [1e-3, 1e-4, 1e-5]\n",
    "IM_SIZES = [300, 500]\n",
    "EPOCHS = [16]\n",
    "DROPOUTS = [0]  #Leave dropout at zero. Higher values tend to perform significantly worse"
   ]
  },
  {
   "cell_type": "markdown",
   "metadata": {},
   "source": [
    "### Similiarity accuracy metric\n",
    "\n",
    "For image classification, we used the percentage of correctly labeled images to measure accuracy. For image retrieval, our measure is the rank of the positive example among a large number of negatives. This was described in the [01_training_and_evaluation_introduction.ipynb](01_training_and_evaluation_introduction.ipynb) notebook, and we will re-use some of the code from that notebook in the definition of the _retrieval_rank()_ function below."
   ]
  },
  {
   "cell_type": "code",
   "execution_count": 4,
   "metadata": {},
   "outputs": [],
   "source": [
    "def retrieval_rank(learn):\n",
    "    data = learn.data\n",
    "\n",
    "    # Build multiple sets of comparative images from the validation images\n",
    "    comparative_sets = comparative_set_builder(\n",
    "        data.valid_ds, num_sets=1000, num_negatives=99\n",
    "    )\n",
    "\n",
    "    # Use penultimate layer as image representation\n",
    "    embedding_layer = learn.model[1][-2]\n",
    "        \n",
    "    # Compute DNN features for all validation images\n",
    "    valid_features = compute_features_learner(\n",
    "        data, DatasetType.Valid, learn, embedding_layer\n",
    "    )\n",
    "    assert len(list(valid_features.values())[0]) == 512\n",
    "\n",
    "    # For each comparative set compute the distances between the query image and all reference images\n",
    "    for cs in comparative_sets:\n",
    "        cs.compute_distances(valid_features)\n",
    "\n",
    "    # Compute the median rank of the positive example over all comparative sets\n",
    "    ranks = positive_image_ranks(comparative_sets)\n",
    "    median_rank = np.median(ranks)\n",
    "    return median_rank"
   ]
  },
  {
   "cell_type": "markdown",
   "metadata": {},
   "source": [
    "### Using Python <a name=\"python\"></a>"
   ]
  },
  {
   "cell_type": "markdown",
   "metadata": {},
   "source": [
    "We start by creating the Parameter Sweeper object. Before we start testing, it's a good idea to see what the default parameters are. We can use a the property `parameters` to easily see those default values."
   ]
  },
  {
   "cell_type": "code",
   "execution_count": 5,
   "metadata": {},
   "outputs": [
    {
     "data": {
      "text/plain": [
       "OrderedDict([('learning_rate', [0.0001]),\n",
       "             ('epochs', [15]),\n",
       "             ('batch_size', [16]),\n",
       "             ('im_size', [299]),\n",
       "             ('architecture',\n",
       "              [<Architecture.resnet18: functools.partial(<function resnet18 at 0x7f443ed99598>)>]),\n",
       "             ('transform', [True]),\n",
       "             ('dropout', [0.5]),\n",
       "             ('weight_decay', [0.01]),\n",
       "             ('training_schedule',\n",
       "              [<TrainingSchedule.head_first_then_body: 'head_first_then_body'>]),\n",
       "             ('discriminative_lr', [False]),\n",
       "             ('one_cycle_policy', [True])])"
      ]
     },
     "execution_count": 5,
     "metadata": {},
     "output_type": "execute_result"
    }
   ],
   "source": [
    "sweeper = ParameterSweeper(metric_name=\"rank\")\n",
    "sweeper.parameters"
   ]
  },
  {
   "cell_type": "markdown",
   "metadata": {},
   "source": [
    "Now that we know the defaults, we can pass it the parameters we want to test, and run the parameter sweep."
   ]
  },
  {
   "cell_type": "code",
   "execution_count": 6,
   "metadata": {},
   "outputs": [
    {
     "name": "stdout",
     "output_type": "stream",
     "text": [
      "this Learner object self-destroyed - it still exists, but no longer usable\n"
     ]
    },
    {
     "data": {
      "text/html": [
       "<div>\n",
       "<style scoped>\n",
       "    .dataframe tbody tr th:only-of-type {\n",
       "        vertical-align: middle;\n",
       "    }\n",
       "\n",
       "    .dataframe tbody tr th {\n",
       "        vertical-align: top;\n",
       "    }\n",
       "\n",
       "    .dataframe thead th {\n",
       "        text-align: right;\n",
       "    }\n",
       "</style>\n",
       "<table border=\"1\" class=\"dataframe\">\n",
       "  <thead>\n",
       "    <tr style=\"text-align: right;\">\n",
       "      <th></th>\n",
       "      <th></th>\n",
       "      <th></th>\n",
       "      <th>duration</th>\n",
       "      <th>rank</th>\n",
       "    </tr>\n",
       "  </thead>\n",
       "  <tbody>\n",
       "    <tr>\n",
       "      <th rowspan=\"12\" valign=\"top\">0</th>\n",
       "      <th rowspan=\"2\" valign=\"top\">PARAMETERS [learning_rate: 0.0001]|[epochs: 16]|[batch_size: 16]|[im_size: 300]|[arch: resnet18]|[transforms: True]|[dropout: 0]|[weight_decay: 0.01]|[training_schedule: head_first_then_body]|[discriminative_lr: False]|[one_cycle_policy: True]</th>\n",
       "      <th>fridgeObjects</th>\n",
       "      <td>27.527227</td>\n",
       "      <td>3.0</td>\n",
       "    </tr>\n",
       "    <tr>\n",
       "      <th>fridgeObjectsWatermark</th>\n",
       "      <td>29.327206</td>\n",
       "      <td>7.0</td>\n",
       "    </tr>\n",
       "    <tr>\n",
       "      <th rowspan=\"2\" valign=\"top\">PARAMETERS [learning_rate: 0.0001]|[epochs: 16]|[batch_size: 16]|[im_size: 500]|[arch: resnet18]|[transforms: True]|[dropout: 0]|[weight_decay: 0.01]|[training_schedule: head_first_then_body]|[discriminative_lr: False]|[one_cycle_policy: True]</th>\n",
       "      <th>fridgeObjects</th>\n",
       "      <td>46.494100</td>\n",
       "      <td>7.0</td>\n",
       "    </tr>\n",
       "    <tr>\n",
       "      <th>fridgeObjectsWatermark</th>\n",
       "      <td>40.436677</td>\n",
       "      <td>9.0</td>\n",
       "    </tr>\n",
       "    <tr>\n",
       "      <th rowspan=\"2\" valign=\"top\">PARAMETERS [learning_rate: 0.001]|[epochs: 16]|[batch_size: 16]|[im_size: 300]|[arch: resnet18]|[transforms: True]|[dropout: 0]|[weight_decay: 0.01]|[training_schedule: head_first_then_body]|[discriminative_lr: False]|[one_cycle_policy: True]</th>\n",
       "      <th>fridgeObjects</th>\n",
       "      <td>29.745073</td>\n",
       "      <td>2.0</td>\n",
       "    </tr>\n",
       "    <tr>\n",
       "      <th>fridgeObjectsWatermark</th>\n",
       "      <td>28.454158</td>\n",
       "      <td>1.0</td>\n",
       "    </tr>\n",
       "    <tr>\n",
       "      <th rowspan=\"2\" valign=\"top\">PARAMETERS [learning_rate: 0.001]|[epochs: 16]|[batch_size: 16]|[im_size: 500]|[arch: resnet18]|[transforms: True]|[dropout: 0]|[weight_decay: 0.01]|[training_schedule: head_first_then_body]|[discriminative_lr: False]|[one_cycle_policy: True]</th>\n",
       "      <th>fridgeObjects</th>\n",
       "      <td>44.277393</td>\n",
       "      <td>1.0</td>\n",
       "    </tr>\n",
       "    <tr>\n",
       "      <th>fridgeObjectsWatermark</th>\n",
       "      <td>40.866518</td>\n",
       "      <td>1.0</td>\n",
       "    </tr>\n",
       "    <tr>\n",
       "      <th rowspan=\"2\" valign=\"top\">PARAMETERS [learning_rate: 1e-05]|[epochs: 16]|[batch_size: 16]|[im_size: 300]|[arch: resnet18]|[transforms: True]|[dropout: 0]|[weight_decay: 0.01]|[training_schedule: head_first_then_body]|[discriminative_lr: False]|[one_cycle_policy: True]</th>\n",
       "      <th>fridgeObjects</th>\n",
       "      <td>28.009722</td>\n",
       "      <td>20.0</td>\n",
       "    </tr>\n",
       "    <tr>\n",
       "      <th>fridgeObjectsWatermark</th>\n",
       "      <td>29.721222</td>\n",
       "      <td>22.0</td>\n",
       "    </tr>\n",
       "    <tr>\n",
       "      <th rowspan=\"2\" valign=\"top\">PARAMETERS [learning_rate: 1e-05]|[epochs: 16]|[batch_size: 16]|[im_size: 500]|[arch: resnet18]|[transforms: True]|[dropout: 0]|[weight_decay: 0.01]|[training_schedule: head_first_then_body]|[discriminative_lr: False]|[one_cycle_policy: True]</th>\n",
       "      <th>fridgeObjects</th>\n",
       "      <td>40.376158</td>\n",
       "      <td>25.0</td>\n",
       "    </tr>\n",
       "    <tr>\n",
       "      <th>fridgeObjectsWatermark</th>\n",
       "      <td>42.627545</td>\n",
       "      <td>34.0</td>\n",
       "    </tr>\n",
       "    <tr>\n",
       "      <th rowspan=\"12\" valign=\"top\">1</th>\n",
       "      <th rowspan=\"2\" valign=\"top\">PARAMETERS [learning_rate: 0.0001]|[epochs: 16]|[batch_size: 16]|[im_size: 300]|[arch: resnet18]|[transforms: True]|[dropout: 0]|[weight_decay: 0.01]|[training_schedule: head_first_then_body]|[discriminative_lr: False]|[one_cycle_policy: True]</th>\n",
       "      <th>fridgeObjects</th>\n",
       "      <td>30.931857</td>\n",
       "      <td>4.0</td>\n",
       "    </tr>\n",
       "    <tr>\n",
       "      <th>fridgeObjectsWatermark</th>\n",
       "      <td>26.125927</td>\n",
       "      <td>8.5</td>\n",
       "    </tr>\n",
       "    <tr>\n",
       "      <th rowspan=\"2\" valign=\"top\">PARAMETERS [learning_rate: 0.0001]|[epochs: 16]|[batch_size: 16]|[im_size: 500]|[arch: resnet18]|[transforms: True]|[dropout: 0]|[weight_decay: 0.01]|[training_schedule: head_first_then_body]|[discriminative_lr: False]|[one_cycle_policy: True]</th>\n",
       "      <th>fridgeObjects</th>\n",
       "      <td>46.117437</td>\n",
       "      <td>11.0</td>\n",
       "    </tr>\n",
       "    <tr>\n",
       "      <th>fridgeObjectsWatermark</th>\n",
       "      <td>40.555442</td>\n",
       "      <td>10.0</td>\n",
       "    </tr>\n",
       "    <tr>\n",
       "      <th rowspan=\"2\" valign=\"top\">PARAMETERS [learning_rate: 0.001]|[epochs: 16]|[batch_size: 16]|[im_size: 300]|[arch: resnet18]|[transforms: True]|[dropout: 0]|[weight_decay: 0.01]|[training_schedule: head_first_then_body]|[discriminative_lr: False]|[one_cycle_policy: True]</th>\n",
       "      <th>fridgeObjects</th>\n",
       "      <td>29.870988</td>\n",
       "      <td>1.0</td>\n",
       "    </tr>\n",
       "    <tr>\n",
       "      <th>fridgeObjectsWatermark</th>\n",
       "      <td>25.864497</td>\n",
       "      <td>1.0</td>\n",
       "    </tr>\n",
       "    <tr>\n",
       "      <th rowspan=\"2\" valign=\"top\">PARAMETERS [learning_rate: 0.001]|[epochs: 16]|[batch_size: 16]|[im_size: 500]|[arch: resnet18]|[transforms: True]|[dropout: 0]|[weight_decay: 0.01]|[training_schedule: head_first_then_body]|[discriminative_lr: False]|[one_cycle_policy: True]</th>\n",
       "      <th>fridgeObjects</th>\n",
       "      <td>46.807896</td>\n",
       "      <td>1.0</td>\n",
       "    </tr>\n",
       "    <tr>\n",
       "      <th>fridgeObjectsWatermark</th>\n",
       "      <td>41.351353</td>\n",
       "      <td>1.0</td>\n",
       "    </tr>\n",
       "    <tr>\n",
       "      <th rowspan=\"2\" valign=\"top\">PARAMETERS [learning_rate: 1e-05]|[epochs: 16]|[batch_size: 16]|[im_size: 300]|[arch: resnet18]|[transforms: True]|[dropout: 0]|[weight_decay: 0.01]|[training_schedule: head_first_then_body]|[discriminative_lr: False]|[one_cycle_policy: True]</th>\n",
       "      <th>fridgeObjects</th>\n",
       "      <td>25.873023</td>\n",
       "      <td>26.0</td>\n",
       "    </tr>\n",
       "    <tr>\n",
       "      <th>fridgeObjectsWatermark</th>\n",
       "      <td>25.889981</td>\n",
       "      <td>26.0</td>\n",
       "    </tr>\n",
       "    <tr>\n",
       "      <th rowspan=\"2\" valign=\"top\">PARAMETERS [learning_rate: 1e-05]|[epochs: 16]|[batch_size: 16]|[im_size: 500]|[arch: resnet18]|[transforms: True]|[dropout: 0]|[weight_decay: 0.01]|[training_schedule: head_first_then_body]|[discriminative_lr: False]|[one_cycle_policy: True]</th>\n",
       "      <th>fridgeObjects</th>\n",
       "      <td>41.558083</td>\n",
       "      <td>23.0</td>\n",
       "    </tr>\n",
       "    <tr>\n",
       "      <th>fridgeObjectsWatermark</th>\n",
       "      <td>41.196609</td>\n",
       "      <td>30.0</td>\n",
       "    </tr>\n",
       "    <tr>\n",
       "      <th rowspan=\"12\" valign=\"top\">2</th>\n",
       "      <th rowspan=\"2\" valign=\"top\">PARAMETERS [learning_rate: 0.0001]|[epochs: 16]|[batch_size: 16]|[im_size: 300]|[arch: resnet18]|[transforms: True]|[dropout: 0]|[weight_decay: 0.01]|[training_schedule: head_first_then_body]|[discriminative_lr: False]|[one_cycle_policy: True]</th>\n",
       "      <th>fridgeObjects</th>\n",
       "      <td>25.954923</td>\n",
       "      <td>3.0</td>\n",
       "    </tr>\n",
       "    <tr>\n",
       "      <th>fridgeObjectsWatermark</th>\n",
       "      <td>25.766089</td>\n",
       "      <td>4.0</td>\n",
       "    </tr>\n",
       "    <tr>\n",
       "      <th rowspan=\"2\" valign=\"top\">PARAMETERS [learning_rate: 0.0001]|[epochs: 16]|[batch_size: 16]|[im_size: 500]|[arch: resnet18]|[transforms: True]|[dropout: 0]|[weight_decay: 0.01]|[training_schedule: head_first_then_body]|[discriminative_lr: False]|[one_cycle_policy: True]</th>\n",
       "      <th>fridgeObjects</th>\n",
       "      <td>40.162561</td>\n",
       "      <td>9.0</td>\n",
       "    </tr>\n",
       "    <tr>\n",
       "      <th>fridgeObjectsWatermark</th>\n",
       "      <td>41.274331</td>\n",
       "      <td>9.0</td>\n",
       "    </tr>\n",
       "    <tr>\n",
       "      <th rowspan=\"2\" valign=\"top\">PARAMETERS [learning_rate: 0.001]|[epochs: 16]|[batch_size: 16]|[im_size: 300]|[arch: resnet18]|[transforms: True]|[dropout: 0]|[weight_decay: 0.01]|[training_schedule: head_first_then_body]|[discriminative_lr: False]|[one_cycle_policy: True]</th>\n",
       "      <th>fridgeObjects</th>\n",
       "      <td>26.026493</td>\n",
       "      <td>3.0</td>\n",
       "    </tr>\n",
       "    <tr>\n",
       "      <th>fridgeObjectsWatermark</th>\n",
       "      <td>25.616917</td>\n",
       "      <td>1.0</td>\n",
       "    </tr>\n",
       "    <tr>\n",
       "      <th rowspan=\"2\" valign=\"top\">PARAMETERS [learning_rate: 0.001]|[epochs: 16]|[batch_size: 16]|[im_size: 500]|[arch: resnet18]|[transforms: True]|[dropout: 0]|[weight_decay: 0.01]|[training_schedule: head_first_then_body]|[discriminative_lr: False]|[one_cycle_policy: True]</th>\n",
       "      <th>fridgeObjects</th>\n",
       "      <td>40.691592</td>\n",
       "      <td>1.0</td>\n",
       "    </tr>\n",
       "    <tr>\n",
       "      <th>fridgeObjectsWatermark</th>\n",
       "      <td>40.468641</td>\n",
       "      <td>1.0</td>\n",
       "    </tr>\n",
       "    <tr>\n",
       "      <th rowspan=\"2\" valign=\"top\">PARAMETERS [learning_rate: 1e-05]|[epochs: 16]|[batch_size: 16]|[im_size: 300]|[arch: resnet18]|[transforms: True]|[dropout: 0]|[weight_decay: 0.01]|[training_schedule: head_first_then_body]|[discriminative_lr: False]|[one_cycle_policy: True]</th>\n",
       "      <th>fridgeObjects</th>\n",
       "      <td>26.239308</td>\n",
       "      <td>19.0</td>\n",
       "    </tr>\n",
       "    <tr>\n",
       "      <th>fridgeObjectsWatermark</th>\n",
       "      <td>26.347744</td>\n",
       "      <td>23.0</td>\n",
       "    </tr>\n",
       "    <tr>\n",
       "      <th rowspan=\"2\" valign=\"top\">PARAMETERS [learning_rate: 1e-05]|[epochs: 16]|[batch_size: 16]|[im_size: 500]|[arch: resnet18]|[transforms: True]|[dropout: 0]|[weight_decay: 0.01]|[training_schedule: head_first_then_body]|[discriminative_lr: False]|[one_cycle_policy: True]</th>\n",
       "      <th>fridgeObjects</th>\n",
       "      <td>41.121185</td>\n",
       "      <td>33.0</td>\n",
       "    </tr>\n",
       "    <tr>\n",
       "      <th>fridgeObjectsWatermark</th>\n",
       "      <td>40.931316</td>\n",
       "      <td>30.0</td>\n",
       "    </tr>\n",
       "  </tbody>\n",
       "</table>\n",
       "</div>"
      ],
      "text/plain": [
       "                                                                              duration  \\\n",
       "0 PARAMETERS [learning_rate: 0.0001]|[epochs: 16]... fridgeObjects           27.527227   \n",
       "                                                     fridgeObjectsWatermark  29.327206   \n",
       "  PARAMETERS [learning_rate: 0.0001]|[epochs: 16]... fridgeObjects           46.494100   \n",
       "                                                     fridgeObjectsWatermark  40.436677   \n",
       "  PARAMETERS [learning_rate: 0.001]|[epochs: 16]|... fridgeObjects           29.745073   \n",
       "                                                     fridgeObjectsWatermark  28.454158   \n",
       "  PARAMETERS [learning_rate: 0.001]|[epochs: 16]|... fridgeObjects           44.277393   \n",
       "                                                     fridgeObjectsWatermark  40.866518   \n",
       "  PARAMETERS [learning_rate: 1e-05]|[epochs: 16]|... fridgeObjects           28.009722   \n",
       "                                                     fridgeObjectsWatermark  29.721222   \n",
       "  PARAMETERS [learning_rate: 1e-05]|[epochs: 16]|... fridgeObjects           40.376158   \n",
       "                                                     fridgeObjectsWatermark  42.627545   \n",
       "1 PARAMETERS [learning_rate: 0.0001]|[epochs: 16]... fridgeObjects           30.931857   \n",
       "                                                     fridgeObjectsWatermark  26.125927   \n",
       "  PARAMETERS [learning_rate: 0.0001]|[epochs: 16]... fridgeObjects           46.117437   \n",
       "                                                     fridgeObjectsWatermark  40.555442   \n",
       "  PARAMETERS [learning_rate: 0.001]|[epochs: 16]|... fridgeObjects           29.870988   \n",
       "                                                     fridgeObjectsWatermark  25.864497   \n",
       "  PARAMETERS [learning_rate: 0.001]|[epochs: 16]|... fridgeObjects           46.807896   \n",
       "                                                     fridgeObjectsWatermark  41.351353   \n",
       "  PARAMETERS [learning_rate: 1e-05]|[epochs: 16]|... fridgeObjects           25.873023   \n",
       "                                                     fridgeObjectsWatermark  25.889981   \n",
       "  PARAMETERS [learning_rate: 1e-05]|[epochs: 16]|... fridgeObjects           41.558083   \n",
       "                                                     fridgeObjectsWatermark  41.196609   \n",
       "2 PARAMETERS [learning_rate: 0.0001]|[epochs: 16]... fridgeObjects           25.954923   \n",
       "                                                     fridgeObjectsWatermark  25.766089   \n",
       "  PARAMETERS [learning_rate: 0.0001]|[epochs: 16]... fridgeObjects           40.162561   \n",
       "                                                     fridgeObjectsWatermark  41.274331   \n",
       "  PARAMETERS [learning_rate: 0.001]|[epochs: 16]|... fridgeObjects           26.026493   \n",
       "                                                     fridgeObjectsWatermark  25.616917   \n",
       "  PARAMETERS [learning_rate: 0.001]|[epochs: 16]|... fridgeObjects           40.691592   \n",
       "                                                     fridgeObjectsWatermark  40.468641   \n",
       "  PARAMETERS [learning_rate: 1e-05]|[epochs: 16]|... fridgeObjects           26.239308   \n",
       "                                                     fridgeObjectsWatermark  26.347744   \n",
       "  PARAMETERS [learning_rate: 1e-05]|[epochs: 16]|... fridgeObjects           41.121185   \n",
       "                                                     fridgeObjectsWatermark  40.931316   \n",
       "\n",
       "                                                                             rank  \n",
       "0 PARAMETERS [learning_rate: 0.0001]|[epochs: 16]... fridgeObjects            3.0  \n",
       "                                                     fridgeObjectsWatermark   7.0  \n",
       "  PARAMETERS [learning_rate: 0.0001]|[epochs: 16]... fridgeObjects            7.0  \n",
       "                                                     fridgeObjectsWatermark   9.0  \n",
       "  PARAMETERS [learning_rate: 0.001]|[epochs: 16]|... fridgeObjects            2.0  \n",
       "                                                     fridgeObjectsWatermark   1.0  \n",
       "  PARAMETERS [learning_rate: 0.001]|[epochs: 16]|... fridgeObjects            1.0  \n",
       "                                                     fridgeObjectsWatermark   1.0  \n",
       "  PARAMETERS [learning_rate: 1e-05]|[epochs: 16]|... fridgeObjects           20.0  \n",
       "                                                     fridgeObjectsWatermark  22.0  \n",
       "  PARAMETERS [learning_rate: 1e-05]|[epochs: 16]|... fridgeObjects           25.0  \n",
       "                                                     fridgeObjectsWatermark  34.0  \n",
       "1 PARAMETERS [learning_rate: 0.0001]|[epochs: 16]... fridgeObjects            4.0  \n",
       "                                                     fridgeObjectsWatermark   8.5  \n",
       "  PARAMETERS [learning_rate: 0.0001]|[epochs: 16]... fridgeObjects           11.0  \n",
       "                                                     fridgeObjectsWatermark  10.0  \n",
       "  PARAMETERS [learning_rate: 0.001]|[epochs: 16]|... fridgeObjects            1.0  \n",
       "                                                     fridgeObjectsWatermark   1.0  \n",
       "  PARAMETERS [learning_rate: 0.001]|[epochs: 16]|... fridgeObjects            1.0  \n",
       "                                                     fridgeObjectsWatermark   1.0  \n",
       "  PARAMETERS [learning_rate: 1e-05]|[epochs: 16]|... fridgeObjects           26.0  \n",
       "                                                     fridgeObjectsWatermark  26.0  \n",
       "  PARAMETERS [learning_rate: 1e-05]|[epochs: 16]|... fridgeObjects           23.0  \n",
       "                                                     fridgeObjectsWatermark  30.0  \n",
       "2 PARAMETERS [learning_rate: 0.0001]|[epochs: 16]... fridgeObjects            3.0  \n",
       "                                                     fridgeObjectsWatermark   4.0  \n",
       "  PARAMETERS [learning_rate: 0.0001]|[epochs: 16]... fridgeObjects            9.0  \n",
       "                                                     fridgeObjectsWatermark   9.0  \n",
       "  PARAMETERS [learning_rate: 0.001]|[epochs: 16]|... fridgeObjects            3.0  \n",
       "                                                     fridgeObjectsWatermark   1.0  \n",
       "  PARAMETERS [learning_rate: 0.001]|[epochs: 16]|... fridgeObjects            1.0  \n",
       "                                                     fridgeObjectsWatermark   1.0  \n",
       "  PARAMETERS [learning_rate: 1e-05]|[epochs: 16]|... fridgeObjects           19.0  \n",
       "                                                     fridgeObjectsWatermark  23.0  \n",
       "  PARAMETERS [learning_rate: 1e-05]|[epochs: 16]|... fridgeObjects           33.0  \n",
       "                                                     fridgeObjectsWatermark  30.0  "
      ]
     },
     "execution_count": 6,
     "metadata": {},
     "output_type": "execute_result"
    }
   ],
   "source": [
    "sweeper.update_parameters(learning_rate=LEARNING_RATES, im_size=IM_SIZES, epochs=EPOCHS, dropout=DROPOUTS)\n",
    "df = sweeper.run(datasets=DATA_PATHS, reps=REPS, metric_fct=retrieval_rank); \n",
    "df"
   ]
  },
  {
   "cell_type": "markdown",
   "metadata": {},
   "source": [
    "### Visualize Results <a name=\"visualize\"></a>"
   ]
  },
  {
   "cell_type": "markdown",
   "metadata": {},
   "source": [
    "When we read in multi-index dataframe, index 0 represents the run number, index 1 represents a single permutation of parameters, and index 2 represents the dataset. To see the results, show the df using the `clean_sweeper_df` helper function. This will display all the hyperparameters in a nice, readable way."
   ]
  },
  {
   "cell_type": "code",
   "execution_count": 7,
   "metadata": {},
   "outputs": [],
   "source": [
    "df = clean_sweeper_df(df)"
   ]
  },
  {
   "cell_type": "markdown",
   "metadata": {},
   "source": [
    "Since we've run our benchmarking over 3 repetitions, we may want to just look at the averages across the different __run numbers__."
   ]
  },
  {
   "cell_type": "code",
   "execution_count": 8,
   "metadata": {},
   "outputs": [
    {
     "data": {
      "text/html": [
       "<div>\n",
       "<style scoped>\n",
       "    .dataframe tbody tr th:only-of-type {\n",
       "        vertical-align: middle;\n",
       "    }\n",
       "\n",
       "    .dataframe tbody tr th {\n",
       "        vertical-align: top;\n",
       "    }\n",
       "\n",
       "    .dataframe thead tr th {\n",
       "        text-align: left;\n",
       "    }\n",
       "</style>\n",
       "<table border=\"1\" class=\"dataframe\">\n",
       "  <thead>\n",
       "    <tr>\n",
       "      <th></th>\n",
       "      <th colspan=\"2\" halign=\"left\">P: [learning_rate: 0.0001] [im_size: 300]</th>\n",
       "      <th colspan=\"2\" halign=\"left\">P: [learning_rate: 0.0001] [im_size: 500]</th>\n",
       "      <th colspan=\"2\" halign=\"left\">P: [learning_rate: 0.001] [im_size: 300]</th>\n",
       "      <th colspan=\"2\" halign=\"left\">P: [learning_rate: 0.001] [im_size: 500]</th>\n",
       "      <th colspan=\"2\" halign=\"left\">P: [learning_rate: 1e-05] [im_size: 300]</th>\n",
       "      <th colspan=\"2\" halign=\"left\">P: [learning_rate: 1e-05] [im_size: 500]</th>\n",
       "    </tr>\n",
       "    <tr>\n",
       "      <th></th>\n",
       "      <th>fridgeObjects</th>\n",
       "      <th>fridgeObjectsWatermark</th>\n",
       "      <th>fridgeObjects</th>\n",
       "      <th>fridgeObjectsWatermark</th>\n",
       "      <th>fridgeObjects</th>\n",
       "      <th>fridgeObjectsWatermark</th>\n",
       "      <th>fridgeObjects</th>\n",
       "      <th>fridgeObjectsWatermark</th>\n",
       "      <th>fridgeObjects</th>\n",
       "      <th>fridgeObjectsWatermark</th>\n",
       "      <th>fridgeObjects</th>\n",
       "      <th>fridgeObjectsWatermark</th>\n",
       "    </tr>\n",
       "  </thead>\n",
       "  <tbody>\n",
       "    <tr>\n",
       "      <th>duration</th>\n",
       "      <td>28.138002</td>\n",
       "      <td>27.073074</td>\n",
       "      <td>44.258033</td>\n",
       "      <td>40.755483</td>\n",
       "      <td>28.547518</td>\n",
       "      <td>26.645191</td>\n",
       "      <td>43.925627</td>\n",
       "      <td>40.895504</td>\n",
       "      <td>26.707351</td>\n",
       "      <td>27.319649</td>\n",
       "      <td>41.018475</td>\n",
       "      <td>41.585157</td>\n",
       "    </tr>\n",
       "    <tr>\n",
       "      <th>rank</th>\n",
       "      <td>3.333333</td>\n",
       "      <td>6.500000</td>\n",
       "      <td>9.000000</td>\n",
       "      <td>9.333333</td>\n",
       "      <td>2.000000</td>\n",
       "      <td>1.000000</td>\n",
       "      <td>1.000000</td>\n",
       "      <td>1.000000</td>\n",
       "      <td>21.666667</td>\n",
       "      <td>23.666667</td>\n",
       "      <td>27.000000</td>\n",
       "      <td>31.333333</td>\n",
       "    </tr>\n",
       "  </tbody>\n",
       "</table>\n",
       "</div>"
      ],
      "text/plain": [
       "         P: [learning_rate: 0.0001] [im_size: 300]                         \\\n",
       "                                     fridgeObjects fridgeObjectsWatermark   \n",
       "duration                                 28.138002              27.073074   \n",
       "rank                                      3.333333               6.500000   \n",
       "\n",
       "         P: [learning_rate: 0.0001] [im_size: 500]                         \\\n",
       "                                     fridgeObjects fridgeObjectsWatermark   \n",
       "duration                                 44.258033              40.755483   \n",
       "rank                                      9.000000               9.333333   \n",
       "\n",
       "         P: [learning_rate: 0.001] [im_size: 300]                         \\\n",
       "                                    fridgeObjects fridgeObjectsWatermark   \n",
       "duration                                28.547518              26.645191   \n",
       "rank                                     2.000000               1.000000   \n",
       "\n",
       "         P: [learning_rate: 0.001] [im_size: 500]                         \\\n",
       "                                    fridgeObjects fridgeObjectsWatermark   \n",
       "duration                                43.925627              40.895504   \n",
       "rank                                     1.000000               1.000000   \n",
       "\n",
       "         P: [learning_rate: 1e-05] [im_size: 300]                         \\\n",
       "                                    fridgeObjects fridgeObjectsWatermark   \n",
       "duration                                26.707351              27.319649   \n",
       "rank                                    21.666667              23.666667   \n",
       "\n",
       "         P: [learning_rate: 1e-05] [im_size: 500]                         \n",
       "                                    fridgeObjects fridgeObjectsWatermark  \n",
       "duration                                41.018475              41.585157  \n",
       "rank                                    27.000000              31.333333  "
      ]
     },
     "execution_count": 8,
     "metadata": {},
     "output_type": "execute_result"
    }
   ],
   "source": [
    "df.mean(level=(1,2)).T"
   ]
  },
  {
   "cell_type": "markdown",
   "metadata": {},
   "source": [
    "Print the average accuracy over the different runs for each dataset independently."
   ]
  },
  {
   "cell_type": "code",
   "execution_count": 9,
   "metadata": {},
   "outputs": [
    {
     "data": {
      "image/png": "[encoded data removed]",
      "text/plain": [
       "<Figure size 864x432 with 1 Axes>"
      ]
     },
     "metadata": {
      "needs_background": "light"
     },
     "output_type": "display_data"
    }
   ],
   "source": [
    "ax = df.mean(level=(1,2))[\"rank\"].unstack().plot(kind='bar', figsize=(12, 6))"
   ]
  },
  {
   "cell_type": "markdown",
   "metadata": {},
   "source": [
    "Additionally, we may want simply to see which set of hyperparameters perform the best across the different __datasets__. We can do that by averaging the results of the different datasets."
   ]
  },
  {
   "cell_type": "code",
   "execution_count": 10,
   "metadata": {
    "scrolled": true
   },
   "outputs": [
    {
     "data": {
      "text/html": [
       "<div>\n",
       "<style scoped>\n",
       "    .dataframe tbody tr th:only-of-type {\n",
       "        vertical-align: middle;\n",
       "    }\n",
       "\n",
       "    .dataframe tbody tr th {\n",
       "        vertical-align: top;\n",
       "    }\n",
       "\n",
       "    .dataframe thead th {\n",
       "        text-align: right;\n",
       "    }\n",
       "</style>\n",
       "<table border=\"1\" class=\"dataframe\">\n",
       "  <thead>\n",
       "    <tr style=\"text-align: right;\">\n",
       "      <th></th>\n",
       "      <th>P: [learning_rate: 0.0001] [im_size: 300]</th>\n",
       "      <th>P: [learning_rate: 0.0001] [im_size: 500]</th>\n",
       "      <th>P: [learning_rate: 0.001] [im_size: 300]</th>\n",
       "      <th>P: [learning_rate: 0.001] [im_size: 500]</th>\n",
       "      <th>P: [learning_rate: 1e-05] [im_size: 300]</th>\n",
       "      <th>P: [learning_rate: 1e-05] [im_size: 500]</th>\n",
       "    </tr>\n",
       "  </thead>\n",
       "  <tbody>\n",
       "    <tr>\n",
       "      <th>duration</th>\n",
       "      <td>27.605538</td>\n",
       "      <td>42.506758</td>\n",
       "      <td>27.596354</td>\n",
       "      <td>42.410565</td>\n",
       "      <td>27.013500</td>\n",
       "      <td>41.301816</td>\n",
       "    </tr>\n",
       "    <tr>\n",
       "      <th>rank</th>\n",
       "      <td>4.916667</td>\n",
       "      <td>9.166667</td>\n",
       "      <td>1.500000</td>\n",
       "      <td>1.000000</td>\n",
       "      <td>22.666667</td>\n",
       "      <td>29.166667</td>\n",
       "    </tr>\n",
       "  </tbody>\n",
       "</table>\n",
       "</div>"
      ],
      "text/plain": [
       "          P: [learning_rate: 0.0001] [im_size: 300]  \\\n",
       "duration                                  27.605538   \n",
       "rank                                       4.916667   \n",
       "\n",
       "          P: [learning_rate: 0.0001] [im_size: 500]  \\\n",
       "duration                                  42.506758   \n",
       "rank                                       9.166667   \n",
       "\n",
       "          P: [learning_rate: 0.001] [im_size: 300]  \\\n",
       "duration                                 27.596354   \n",
       "rank                                      1.500000   \n",
       "\n",
       "          P: [learning_rate: 0.001] [im_size: 500]  \\\n",
       "duration                                 42.410565   \n",
       "rank                                      1.000000   \n",
       "\n",
       "          P: [learning_rate: 1e-05] [im_size: 300]  \\\n",
       "duration                                 27.013500   \n",
       "rank                                     22.666667   \n",
       "\n",
       "          P: [learning_rate: 1e-05] [im_size: 500]  \n",
       "duration                                 41.301816  \n",
       "rank                                     29.166667  "
      ]
     },
     "execution_count": 10,
     "metadata": {},
     "output_type": "execute_result"
    }
   ],
   "source": [
    "df.mean(level=(1)).T"
   ]
  },
  {
   "cell_type": "markdown",
   "metadata": {},
   "source": [
    "To make it easier to see which permutation did the best, we can plot the results using the `plot_sweeper_df` helper function. This plot will help us easily see which parameters offer the highest accuracies."
   ]
  },
  {
   "cell_type": "code",
   "execution_count": 11,
   "metadata": {},
   "outputs": [
    {
     "data": {
      "image/png": "[encoded data removed]",
      "text/plain": [
       "<Figure size 864x576 with 2 Axes>"
      ]
     },
     "metadata": {
      "needs_background": "light"
     },
     "output_type": "display_data"
    }
   ],
   "source": [
    "plot_sweeper_df(df.mean(level=(1)), sort_by=\"rank\")"
   ]
  },
  {
   "cell_type": "code",
   "execution_count": 12,
   "metadata": {},
   "outputs": [
    {
     "data": {
      "application/scrapbook.scrap.json+json": {
       "data": 36,
       "encoder": "json",
       "name": "nr_elements",
       "version": 1
      }
     },
     "metadata": {
      "scrapbook": {
       "data": true,
       "display": false,
       "name": "nr_elements"
      }
     },
     "output_type": "display_data"
    },
    {
     "data": {
      "application/scrapbook.scrap.json+json": {
       "data": [
        4.916666666666667,
        9.166666666666666,
        1.5,
        1,
        22.666666666666668,
        29.166666666666668
       ],
       "encoder": "json",
       "name": "ranks",
       "version": 1
      }
     },
     "metadata": {
      "scrapbook": {
       "data": true,
       "display": false,
       "name": "ranks"
      }
     },
     "output_type": "display_data"
    },
    {
     "data": {
      "application/scrapbook.scrap.json+json": {
       "data": 46.807896,
       "encoder": "json",
       "name": "max_duration",
       "version": 1
      }
     },
     "metadata": {
      "scrapbook": {
       "data": true,
       "display": false,
       "name": "max_duration"
      }
     },
     "output_type": "display_data"
    },
    {
     "data": {
      "application/scrapbook.scrap.json+json": {
       "data": 25.616917,
       "encoder": "json",
       "name": "min_duration",
       "version": 1
      }
     },
     "metadata": {
      "scrapbook": {
       "data": true,
       "display": false,
       "name": "min_duration"
      }
     },
     "output_type": "display_data"
    }
   ],
   "source": [
    "# Preserve some of the notebook outputs\n",
    "sb.glue(\"nr_elements\", len(df))\n",
    "sb.glue(\"ranks\", list(df.mean(level=(1))[\"rank\"]))\n",
    "sb.glue(\"max_duration\", df.max().duration)\n",
    "sb.glue(\"min_duration\", df.min().duration)"
   ]
  }
 ],
 "metadata": {
  "kernelspec": {
   "display_name": "Python (cv)",
   "language": "python",
   "name": "cv"
  },
  "language_info": {
   "codemirror_mode": {
    "name": "ipython",
    "version": 3
   },
   "file_extension": ".py",
   "mimetype": "text/x-python",
   "name": "python",
   "nbconvert_exporter": "python",
   "pygments_lexer": "ipython3",
   "version": "3.6.8"
  }
 },
 "nbformat": 4,
 "nbformat_minor": 2
}
