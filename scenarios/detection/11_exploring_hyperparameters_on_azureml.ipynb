{
 "cells": [
  {
   "cell_type": "markdown",
   "metadata": {},
   "source": [
    "<i>Copyright (c) Microsoft Corporation. All rights reserved.</i>\n",
    "\n",
    "<i>Licensed under the MIT License.</i>"
   ]
  },
  {
   "cell_type": "markdown",
   "metadata": {},
   "source": [
    "# Testing different Hyperparameters and Benchmarking"
   ]
  },
  {
   "cell_type": "markdown",
   "metadata": {},
   "source": [
    "In this notebook, we will cover how to test different hyperparameters for a particular dataset and how to benchmark different parameters across a group of datasets using AzureML. We assume familiarity with the basic concepts and parameters, which are discussed in the [01_training_introduction.ipynb](01_training_introduction.ipynb), [02_mask_rcnn.ipynb](02_mask_rcnn.ipynb) and [03_training_accuracy_vs_speed.ipynb](03_training_accuracy_vs_speed.ipynb) notebooks. "
   ]
  },
  {
   "cell_type": "markdown",
   "metadata": {},
   "source": [
    "We will be using a Faster R-CNN model with ResNet-50 backbone to find all objects in an image belonging to 4 categories: 'can', 'carton', 'milk_bottle', 'water_bottle'. We will then conduct hyper-parameter tuning to find the best set of parameters for this model. For this, we present an overall process of utilizing AzureML, specifically [Hyperdrive](https://docs.microsoft.com/en-us/python/api/azureml-train-core/azureml.train.hyperdrive?view=azure-ml-py) which can train and evaluate many different parameter combinations in parallel. We demonstrate the following key steps:  \n",
    "* Configure AzureML Workspace\n",
    "* Create Remote Compute Target (GPU cluster)\n",
    "* Prepare Data\n",
    "* Prepare Training Script\n",
    "* Setup and Run Hyperdrive Experiment\n",
    "* Model Import, Re-train and Test\n",
    "\n",
    "This notebook is very similar to the [24_exploring_hyperparameters_on_azureml.ipynb](../../classification/notebooks/24_exploring_hyperparameters_on_azureml.ipynb) hyperdrive notebook used for image classification. For key concepts of AzureML see this [tutorial](https://docs.microsoft.com/en-us/azure/machine-learning/service/tutorial-train-models-with-aml?view=azure-ml-py&toc=https%3A%2F%2Fdocs.microsoft.com%2Fen-us%2Fpython%2Fapi%2Fazureml_py_toc%2Ftoc.json%3Fview%3Dazure-ml-py&bc=https%3A%2F%2Fdocs.microsoft.com%2Fen-us%2Fpython%2Fazureml_py_breadcrumb%2Ftoc.json%3Fview%3Dazure-ml-py) on model training and evaluation."
   ]
  },
  {
   "cell_type": "code",
   "execution_count": 1,
   "metadata": {},
   "outputs": [],
   "source": [
    "import os\n",
    "import sys\n",
    "from distutils.dir_util import copy_tree\n",
    "import numpy as np\n",
    "import scrapbook as sb\n",
    "import uuid\n",
    "\n",
    "import azureml.core\n",
    "from azureml.core import Workspace, Experiment\n",
    "from azureml.core.compute import ComputeTarget, AmlCompute\n",
    "from azureml.core.compute_target import ComputeTargetException\n",
    "import azureml.data\n",
    "from azureml.train.estimator import Estimator\n",
    "from azureml.train.hyperdrive import (\n",
    "    RandomParameterSampling, GridParameterSampling, BanditPolicy, HyperDriveConfig, PrimaryMetricGoal, choice, uniform\n",
    ")\n",
    "import azureml.widgets as widgets\n",
    "\n",
    "sys.path.append(\"../../\")\n",
    "from utils_cv.common.data import unzip_url\n",
    "from utils_cv.detection.data import Urls"
   ]
  },
  {
   "cell_type": "markdown",
   "metadata": {},
   "source": [
    "Ensure edits to libraries are loaded and plotting is shown in the notebook."
   ]
  },
  {
   "cell_type": "code",
   "execution_count": 2,
   "metadata": {},
   "outputs": [],
   "source": [
    "%reload_ext autoreload\n",
    "%autoreload 2\n",
    "%matplotlib inline"
   ]
  },
  {
   "cell_type": "markdown",
   "metadata": {},
   "source": [
    "We now define some parameters which will be used in this notebook:"
   ]
  },
  {
   "cell_type": "code",
   "execution_count": 3,
   "metadata": {
    "tags": [
     "parameters"
    ]
   },
   "outputs": [
    {
     "name": "stdout",
     "output_type": "stream",
     "text": [
      "[0.0001, 0.0003, 0.001, 0.003, 0.01, 0.03, 0.1, 0.3]\n",
      "8\n"
     ]
    }
   ],
   "source": [
    "# Azure resources\n",
    "#subscription_id = \"YOUR_SUBSCRIPTION_ID\"\n",
    "#resource_group = \"YOUR_RESOURCE_GROUP_NAME\"  \n",
    "#workspace_name = \"YOUR_WORKSPACE_NAME\"  \n",
    "#workspace_region = \"YOUR_WORKSPACE_REGION\" #Possible values eastus, eastus2, etc.\n",
    "\n",
    "resource_group = \"pabuehle_delme_hyperdrive\"  \n",
    "workspace_name = \"pabuehle_ws\"  \n",
    "workspace_region = \"southcentralus\" #Possible values eastus, eastus2, etc.\n",
    "\n",
    "# Choose a size for our cluster and the maximum number of nodes\n",
    "VM_SIZE = \"STANDARD_NC6\" #\"STANDARD_NC6\", STANDARD_NC6S_V3\"\n",
    "MAX_NODES = 10\n",
    "\n",
    "# Hyperparameter grid search space\n",
    "IM_MAX_SIZES = [600] #Default is 1333 pixels, defining small values here to speed up training\n",
    "LEARNING_RATES = [1e-4, 3e-4, 1e-3, 3e-3, 1e-2, 3e-2, 1e-1, 3e-1]\n",
    "print(LEARNING_RATES)\n",
    "print(len(LEARNING_RATES))\n",
    "\n",
    "# Image data\n",
    "#DATA_PATH = unzip_url(Urls.fridge_objects_path, exist_ok=True)\n",
    "#DATA_PATH = unzip_url(\"https://cvbp.blob.core.windows.net/public/datasets/object_detection/odRefrigerator.zip\", exist_ok=True)\n",
    "\n",
    "#DATA_PATH = unzip_url(\"https://cvbp.blob.core.windows.net/public/datasets/object_detection/odCokeBottle.zip\", exist_ok=True)\n",
    "#DATA_PATH = unzip_url(\"https://cvbp.blob.core.windows.net/public/datasets/object_detection/odDrone.zip\", exist_ok=True)\n",
    "#DATA_PATH = unzip_url(\"https://cvbp.blob.core.windows.net/public/datasets/object_detection/odGiraffe.zip\", exist_ok=True)\n",
    "#DATA_PATH = unzip_url(\"https://cvbp.blob.core.windows.net/public/datasets/object_detection/odPipe.zip\", exist_ok=True)\n",
    "DATA_PATH = unzip_url(\"https://cvbp.blob.core.windows.net/public/datasets/object_detection/odRefrigerator.zip\", exist_ok=True)\n",
    "#DATA_PATH = unzip_url(\"https://cvbp.blob.core.windows.net/public/datasets/object_detection/odTorso.zip\", exist_ok=True)\n",
    "#DATA_PATH = unzip_url(\"https://cvbp.blob.core.windows.net/public/datasets/object_detection/odVocSubset100th.zip\", exist_ok=True)\n"
   ]
  },
  {
   "cell_type": "markdown",
   "metadata": {},
   "source": [
    "### 1. Config AzureML workspace\n",
    "Below we setup (or load an existing) AzureML workspace, and get all its details as follows. Note that the resource group and workspace will get created if they do not yet exist. For more information regaring the AzureML workspace see also the [20_azure_workspace_setup.ipynb](../../classification/notebooks/20_azure_workspace_setup.ipynb) notebook in the image classification folder.\n",
    "\n",
    "To simplify clean-up (see end of this notebook), we recommend creating a new resource group to run this notebook."
   ]
  },
  {
   "cell_type": "code",
   "execution_count": 4,
   "metadata": {},
   "outputs": [
    {
     "name": "stderr",
     "output_type": "stream",
     "text": [
      "ERROR - get_workspace error using subscription_id=989b90f7-da4f-41f9-84c9-44848802052d, resource_group_name=pabuehle_delme_hyperdrive, workspace_name=pabuehle_ws\n"
     ]
    },
    {
     "name": "stdout",
     "output_type": "stream",
     "text": [
      "Creating new workspace\n"
     ]
    },
    {
     "name": "stderr",
     "output_type": "stream",
     "text": [
      "UserWarning: The resource group doesn't exist or was not provided. AzureML SDK is creating a resource group=pabuehle_delme_hyperdrive in location=southcentralus using subscription=989b90f7-da4f-41f9-84c9-44848802052d.\n"
     ]
    },
    {
     "name": "stdout",
     "output_type": "stream",
     "text": [
      "Deploying KeyVault with name pabuehlekeyvaultcadc5653.\n",
      "Deploying StorageAccount with name pabuehlestorage080c00f80.\n",
      "Deploying AppInsights with name pabuehleinsights992e380a.\n",
      "Deployed AppInsights with name pabuehleinsights992e380a. Took 31.16 seconds.\n",
      "Deployed KeyVault with name pabuehlekeyvaultcadc5653. Took 43.29 seconds.\n",
      "Deploying Workspace with name pabuehle_ws.\n",
      "Deployed StorageAccount with name pabuehlestorage080c00f80. Took 66.03 seconds.\n",
      "Deployed Workspace with name pabuehle_ws. Took 40.9 seconds.\n",
      "Workspace name: pabuehle_ws\n",
      "Workspace region: southcentralus\n",
      "Subscription id: 989b90f7-da4f-41f9-84c9-44848802052d\n",
      "Resource group: pabuehle_delme_hyperdrive\n"
     ]
    }
   ],
   "source": [
    "from utils_cv.common.azureml import get_or_create_workspace\n",
    "\n",
    "ws = get_or_create_workspace(\n",
    "        subscription_id,\n",
    "        resource_group,\n",
    "        workspace_name,\n",
    "        workspace_region)\n",
    "\n",
    "# Print the workspace attributes\n",
    "print('Workspace name: ' + ws.name, \n",
    "      'Workspace region: ' + ws.location, \n",
    "      'Subscription id: ' + ws.subscription_id, \n",
    "      'Resource group: ' + ws.resource_group, sep = '\\n')"
   ]
  },
  {
   "cell_type": "markdown",
   "metadata": {},
   "source": [
    "### 2. Create Remote Target\n",
    "We create a GPU cluster as our remote compute target. If a cluster with the same name already exists in our workspace, the script will load it instead. This [link](https://docs.microsoft.com/en-us/azure/machine-learning/service/how-to-set-up-training-targets#compute-targets-for-training) provides more information about how to set up a compute target on different locations.\n",
    "\n",
    "By default, the VM size is set to use STANDARD\\_NC6 machines. However, if quota is available, our recommendation is to use STANDARD\\_NC6S\\_V3 machines which come with the much faster V100 GPU. We set the minimum number of nodes to zero so that the cluster won't incur additional compute charges when not in use."
   ]
  },
  {
   "cell_type": "code",
   "execution_count": 5,
   "metadata": {},
   "outputs": [
    {
     "name": "stdout",
     "output_type": "stream",
     "text": [
      "Creating a new compute target...\n",
      "Creating\n",
      "Succeeded\n",
      "AmlCompute wait for completion finished\n",
      "Minimum number of nodes requested have been provisioned\n",
      "{'currentNodeCount': 0, 'targetNodeCount': 0, 'nodeStateCounts': {'preparingNodeCount': 0, 'runningNodeCount': 0, 'idleNodeCount': 0, 'unusableNodeCount': 0, 'leavingNodeCount': 0, 'preemptedNodeCount': 0}, 'allocationState': 'Steady', 'allocationStateTransitionTime': '2019-09-17T21:40:52.504000+00:00', 'errors': None, 'creationTime': '2019-09-17T21:38:56.815817+00:00', 'modifiedTime': '2019-09-17T21:41:01.274339+00:00', 'provisioningState': 'Succeeded', 'provisioningStateTransitionTime': None, 'scaleSettings': {'minNodeCount': 0, 'maxNodeCount': 10, 'nodeIdleTimeBeforeScaleDown': 'PT120S'}, 'vmPriority': 'Dedicated', 'vmSize': 'STANDARD_NC6'}\n"
     ]
    }
   ],
   "source": [
    "CLUSTER_NAME = \"gpu-cluster\"\n",
    "\n",
    "try:\n",
    "    # Retrieve if a compute target with the same cluster name already exists\n",
    "    compute_target = ComputeTarget(workspace=ws, name=CLUSTER_NAME)\n",
    "    print('Found existing compute target.')\n",
    "    \n",
    "except ComputeTargetException:\n",
    "    # If it doesn't already exist, we create a new one with the name provided\n",
    "    print('Creating a new compute target...')\n",
    "    compute_config = AmlCompute.provisioning_configuration(vm_size=VM_SIZE,\n",
    "                                                           min_nodes=0,\n",
    "                                                           max_nodes=MAX_NODES)\n",
    "\n",
    "    # create the cluster\n",
    "    compute_target = ComputeTarget.create(ws, CLUSTER_NAME, compute_config)\n",
    "    compute_target.wait_for_completion(show_output=True)\n",
    "\n",
    "# we can use get_status() to get a detailed status for the current cluster. \n",
    "print(compute_target.get_status().serialize())"
   ]
  },
  {
   "cell_type": "markdown",
   "metadata": {},
   "source": [
    "The compute cluster and its status can be seen in the portal. For example in the screenshot below, its automatically resizing (eventually to 0 nodes) to adjust to the number of open runs:\n",
    "<img src=\"media/hyperdrive_cluster.jpg\" width=\"800\" alt=\"Compute cluster status\">"
   ]
  },
  {
   "cell_type": "markdown",
   "metadata": {},
   "source": [
    "### 3. Prepare data\n",
    "In this notebook, we'll use the Fridge Objects dataset, which is already stored in the correct format. We then upload our data to the AzureML workspace.\n"
   ]
  },
  {
   "cell_type": "code",
   "execution_count": 6,
   "metadata": {
    "scrolled": true
   },
   "outputs": [
    {
     "name": "stdout",
     "output_type": "stream",
     "text": [
      "Uploading an estimated of 60 files\n",
      "Uploading C:\\Users\\pabuehle\\Desktop\\ComputerVision\\data\\odRefrigerator\\annotations\\0.xml\n",
      "Uploading C:\\Users\\pabuehle\\Desktop\\ComputerVision\\data\\odRefrigerator\\annotations\\10.xml\n",
      "Uploading C:\\Users\\pabuehle\\Desktop\\ComputerVision\\data\\odRefrigerator\\annotations\\11.xml\n",
      "Uploading C:\\Users\\pabuehle\\Desktop\\ComputerVision\\data\\odRefrigerator\\annotations\\12.xml\n",
      "Uploading C:\\Users\\pabuehle\\Desktop\\ComputerVision\\data\\odRefrigerator\\annotations\\13.xml\n",
      "Uploaded C:\\Users\\pabuehle\\Desktop\\ComputerVision\\data\\odRefrigerator\\annotations\\0.xml, 1 files out of an estimated total of 60\n",
      "Uploading C:\\Users\\pabuehle\\Desktop\\ComputerVision\\data\\odRefrigerator\\annotations\\14.xml\n",
      "Uploaded C:\\Users\\pabuehle\\Desktop\\ComputerVision\\data\\odRefrigerator\\annotations\\10.xml, 2 files out of an estimated total of 60\n",
      "Uploading C:\\Users\\pabuehle\\Desktop\\ComputerVision\\data\\odRefrigerator\\annotations\\15.xml\n",
      "Uploaded C:\\Users\\pabuehle\\Desktop\\ComputerVision\\data\\odRefrigerator\\annotations\\14.xml, 3 files out of an estimated total of 60\n",
      "Uploaded C:\\Users\\pabuehle\\Desktop\\ComputerVision\\data\\odRefrigerator\\annotations\\11.xml, 4 files out of an estimated total of 60\n",
      "Uploading C:\\Users\\pabuehle\\Desktop\\ComputerVision\\data\\odRefrigerator\\annotations\\17.xml\n",
      "Uploaded C:\\Users\\pabuehle\\Desktop\\ComputerVision\\data\\odRefrigerator\\annotations\\15.xml, 5 files out of an estimated total of 60\n",
      "Uploaded C:\\Users\\pabuehle\\Desktop\\ComputerVision\\data\\odRefrigerator\\annotations\\12.xml, 6 files out of an estimated total of 60\n",
      "Uploading C:\\Users\\pabuehle\\Desktop\\ComputerVision\\data\\odRefrigerator\\annotations\\18.xml\n",
      "Uploaded C:\\Users\\pabuehle\\Desktop\\ComputerVision\\data\\odRefrigerator\\annotations\\17.xml, 7 files out of an estimated total of 60\n",
      "Uploading C:\\Users\\pabuehle\\Desktop\\ComputerVision\\data\\odRefrigerator\\annotations\\19.xml\n",
      "Uploaded C:\\Users\\pabuehle\\Desktop\\ComputerVision\\data\\odRefrigerator\\annotations\\13.xml, 8 files out of an estimated total of 60\n",
      "Uploaded C:\\Users\\pabuehle\\Desktop\\ComputerVision\\data\\odRefrigerator\\annotations\\18.xml, 9 files out of an estimated total of 60\n",
      "Uploading C:\\Users\\pabuehle\\Desktop\\ComputerVision\\data\\odRefrigerator\\annotations\\2.xml\n",
      "Uploaded C:\\Users\\pabuehle\\Desktop\\ComputerVision\\data\\odRefrigerator\\annotations\\19.xml, 10 files out of an estimated total of 60\n",
      "Uploading C:\\Users\\pabuehle\\Desktop\\ComputerVision\\data\\odRefrigerator\\annotations\\20.xml\n",
      "Uploaded C:\\Users\\pabuehle\\Desktop\\ComputerVision\\data\\odRefrigerator\\annotations\\2.xml, 11 files out of an estimated total of 60\n",
      "Uploading C:\\Users\\pabuehle\\Desktop\\ComputerVision\\data\\odRefrigerator\\annotations\\21.xml\n",
      "Uploaded C:\\Users\\pabuehle\\Desktop\\ComputerVision\\data\\odRefrigerator\\annotations\\20.xml, 12 files out of an estimated total of 60\n",
      "Uploading C:\\Users\\pabuehle\\Desktop\\ComputerVision\\data\\odRefrigerator\\annotations\\22.xml\n",
      "Uploaded C:\\Users\\pabuehle\\Desktop\\ComputerVision\\data\\odRefrigerator\\annotations\\21.xml, 13 files out of an estimated total of 60\n",
      "Uploading C:\\Users\\pabuehle\\Desktop\\ComputerVision\\data\\odRefrigerator\\annotations\\23.xml\n",
      "Uploaded C:\\Users\\pabuehle\\Desktop\\ComputerVision\\data\\odRefrigerator\\annotations\\22.xml, 14 files out of an estimated total of 60\n",
      "Uploading C:\\Users\\pabuehle\\Desktop\\ComputerVision\\data\\odRefrigerator\\annotations\\24.xml\n",
      "Uploaded C:\\Users\\pabuehle\\Desktop\\ComputerVision\\data\\odRefrigerator\\annotations\\23.xml, 15 files out of an estimated total of 60\n",
      "Uploading C:\\Users\\pabuehle\\Desktop\\ComputerVision\\data\\odRefrigerator\\annotations\\25.xml\n",
      "Uploaded C:\\Users\\pabuehle\\Desktop\\ComputerVision\\data\\odRefrigerator\\annotations\\24.xml, 16 files out of an estimated total of 60\n",
      "Uploading C:\\Users\\pabuehle\\Desktop\\ComputerVision\\data\\odRefrigerator\\annotations\\26.xml\n",
      "Uploaded C:\\Users\\pabuehle\\Desktop\\ComputerVision\\data\\odRefrigerator\\annotations\\25.xml, 17 files out of an estimated total of 60\n",
      "Uploading C:\\Users\\pabuehle\\Desktop\\ComputerVision\\data\\odRefrigerator\\annotations\\3.xml\n",
      "Uploaded C:\\Users\\pabuehle\\Desktop\\ComputerVision\\data\\odRefrigerator\\annotations\\26.xml, 18 files out of an estimated total of 60\n",
      "Uploading C:\\Users\\pabuehle\\Desktop\\ComputerVision\\data\\odRefrigerator\\annotations\\4.xml\n",
      "Uploaded C:\\Users\\pabuehle\\Desktop\\ComputerVision\\data\\odRefrigerator\\annotations\\3.xml, 19 files out of an estimated total of 60\n",
      "Uploading C:\\Users\\pabuehle\\Desktop\\ComputerVision\\data\\odRefrigerator\\annotations\\5.xml\n",
      "Uploaded C:\\Users\\pabuehle\\Desktop\\ComputerVision\\data\\odRefrigerator\\annotations\\4.xml, 20 files out of an estimated total of 60\n",
      "Uploading C:\\Users\\pabuehle\\Desktop\\ComputerVision\\data\\odRefrigerator\\annotations\\6.xml\n",
      "Uploaded C:\\Users\\pabuehle\\Desktop\\ComputerVision\\data\\odRefrigerator\\annotations\\5.xml, 21 files out of an estimated total of 60\n",
      "Uploading C:\\Users\\pabuehle\\Desktop\\ComputerVision\\data\\odRefrigerator\\annotations\\7.xml\n",
      "Uploaded C:\\Users\\pabuehle\\Desktop\\ComputerVision\\data\\odRefrigerator\\annotations\\6.xml, 22 files out of an estimated total of 60\n",
      "Uploading C:\\Users\\pabuehle\\Desktop\\ComputerVision\\data\\odRefrigerator\\annotations\\8.xml\n",
      "Uploaded C:\\Users\\pabuehle\\Desktop\\ComputerVision\\data\\odRefrigerator\\annotations\\7.xml, 23 files out of an estimated total of 60\n",
      "Uploading C:\\Users\\pabuehle\\Desktop\\ComputerVision\\data\\odRefrigerator\\annotations\\9.xml\n",
      "Uploaded C:\\Users\\pabuehle\\Desktop\\ComputerVision\\data\\odRefrigerator\\annotations\\8.xml, 24 files out of an estimated total of 60\n",
      "Uploading C:\\Users\\pabuehle\\Desktop\\ComputerVision\\data\\odRefrigerator\\annotations\\neg1.xml\n",
      "Uploaded C:\\Users\\pabuehle\\Desktop\\ComputerVision\\data\\odRefrigerator\\annotations\\9.xml, 25 files out of an estimated total of 60\n",
      "Uploading C:\\Users\\pabuehle\\Desktop\\ComputerVision\\data\\odRefrigerator\\annotations\\neg2.xml\n",
      "Uploaded C:\\Users\\pabuehle\\Desktop\\ComputerVision\\data\\odRefrigerator\\annotations\\neg1.xml, 26 files out of an estimated total of 60\n",
      "Uploading C:\\Users\\pabuehle\\Desktop\\ComputerVision\\data\\odRefrigerator\\annotations\\neg3.xml\n",
      "Uploaded C:\\Users\\pabuehle\\Desktop\\ComputerVision\\data\\odRefrigerator\\annotations\\neg2.xml, 27 files out of an estimated total of 60\n",
      "Uploading C:\\Users\\pabuehle\\Desktop\\ComputerVision\\data\\odRefrigerator\\annotations\\neg4.xml\n",
      "Uploaded C:\\Users\\pabuehle\\Desktop\\ComputerVision\\data\\odRefrigerator\\annotations\\neg3.xml, 28 files out of an estimated total of 60\n",
      "Uploading C:\\Users\\pabuehle\\Desktop\\ComputerVision\\data\\odRefrigerator\\annotations\\neg5.xml\n",
      "Uploaded C:\\Users\\pabuehle\\Desktop\\ComputerVision\\data\\odRefrigerator\\annotations\\neg4.xml, 29 files out of an estimated total of 60\n",
      "Uploading C:\\Users\\pabuehle\\Desktop\\ComputerVision\\data\\odRefrigerator\\images\\0.jpg\n",
      "Uploaded C:\\Users\\pabuehle\\Desktop\\ComputerVision\\data\\odRefrigerator\\annotations\\neg5.xml, 30 files out of an estimated total of 60\n",
      "Uploading C:\\Users\\pabuehle\\Desktop\\ComputerVision\\data\\odRefrigerator\\images\\10.jpg\n",
      "Uploading C:\\Users\\pabuehle\\Desktop\\ComputerVision\\data\\odRefrigerator\\images\\11.jpg\n",
      "Uploaded C:\\Users\\pabuehle\\Desktop\\ComputerVision\\data\\odRefrigerator\\images\\0.jpg, 31 files out of an estimated total of 60\n",
      "Uploading C:\\Users\\pabuehle\\Desktop\\ComputerVision\\data\\odRefrigerator\\images\\12.jpg\n",
      "Uploading C:\\Users\\pabuehle\\Desktop\\ComputerVision\\data\\odRefrigerator\\images\\13.jpg\n",
      "Uploaded C:\\Users\\pabuehle\\Desktop\\ComputerVision\\data\\odRefrigerator\\images\\10.jpg, 32 files out of an estimated total of 60\n",
      "Uploading C:\\Users\\pabuehle\\Desktop\\ComputerVision\\data\\odRefrigerator\\images\\14.jpg\n",
      "Uploaded C:\\Users\\pabuehle\\Desktop\\ComputerVision\\data\\odRefrigerator\\images\\12.jpg, 33 files out of an estimated total of 60\n",
      "Uploading C:\\Users\\pabuehle\\Desktop\\ComputerVision\\data\\odRefrigerator\\images\\15.jpg\n",
      "Uploaded C:\\Users\\pabuehle\\Desktop\\ComputerVision\\data\\odRefrigerator\\images\\11.jpg, 34 files out of an estimated total of 60\n",
      "Uploading C:\\Users\\pabuehle\\Desktop\\ComputerVision\\data\\odRefrigerator\\images\\17.jpg\n",
      "Uploaded C:\\Users\\pabuehle\\Desktop\\ComputerVision\\data\\odRefrigerator\\images\\14.jpg, 35 files out of an estimated total of 60\n",
      "Uploading C:\\Users\\pabuehle\\Desktop\\ComputerVision\\data\\odRefrigerator\\images\\18.jpg\n",
      "Uploaded C:\\Users\\pabuehle\\Desktop\\ComputerVision\\data\\odRefrigerator\\images\\15.jpg, 36 files out of an estimated total of 60\n",
      "Uploaded C:\\Users\\pabuehle\\Desktop\\ComputerVision\\data\\odRefrigerator\\images\\13.jpg, 37 files out of an estimated total of 60\n",
      "Uploading C:\\Users\\pabuehle\\Desktop\\ComputerVision\\data\\odRefrigerator\\images\\19.jpg\n",
      "Uploaded C:\\Users\\pabuehle\\Desktop\\ComputerVision\\data\\odRefrigerator\\images\\17.jpg, 38 files out of an estimated total of 60\n",
      "Uploaded C:\\Users\\pabuehle\\Desktop\\ComputerVision\\data\\odRefrigerator\\images\\18.jpg, 39 files out of an estimated total of 60\n",
      "Uploading C:\\Users\\pabuehle\\Desktop\\ComputerVision\\data\\odRefrigerator\\images\\2.jpg\n"
     ]
    },
    {
     "name": "stdout",
     "output_type": "stream",
     "text": [
      "Uploaded C:\\Users\\pabuehle\\Desktop\\ComputerVision\\data\\odRefrigerator\\images\\19.jpg, 40 files out of an estimated total of 60\n",
      "Uploading C:\\Users\\pabuehle\\Desktop\\ComputerVision\\data\\odRefrigerator\\images\\20.jpg\n",
      "Uploaded C:\\Users\\pabuehle\\Desktop\\ComputerVision\\data\\odRefrigerator\\images\\2.jpg, 41 files out of an estimated total of 60\n",
      "Uploading C:\\Users\\pabuehle\\Desktop\\ComputerVision\\data\\odRefrigerator\\images\\21.jpg\n",
      "Uploaded C:\\Users\\pabuehle\\Desktop\\ComputerVision\\data\\odRefrigerator\\images\\20.jpg, 42 files out of an estimated total of 60\n",
      "Uploading C:\\Users\\pabuehle\\Desktop\\ComputerVision\\data\\odRefrigerator\\images\\22.jpg\n",
      "Uploaded C:\\Users\\pabuehle\\Desktop\\ComputerVision\\data\\odRefrigerator\\images\\21.jpg, 43 files out of an estimated total of 60\n",
      "Uploading C:\\Users\\pabuehle\\Desktop\\ComputerVision\\data\\odRefrigerator\\images\\23.jpg\n",
      "Uploaded C:\\Users\\pabuehle\\Desktop\\ComputerVision\\data\\odRefrigerator\\images\\22.jpg, 44 files out of an estimated total of 60\n",
      "Uploading C:\\Users\\pabuehle\\Desktop\\ComputerVision\\data\\odRefrigerator\\images\\24.jpg\n",
      "Uploaded C:\\Users\\pabuehle\\Desktop\\ComputerVision\\data\\odRefrigerator\\images\\23.jpg, 45 files out of an estimated total of 60\n",
      "Uploading C:\\Users\\pabuehle\\Desktop\\ComputerVision\\data\\odRefrigerator\\images\\25.jpg\n",
      "Uploaded C:\\Users\\pabuehle\\Desktop\\ComputerVision\\data\\odRefrigerator\\images\\24.jpg, 46 files out of an estimated total of 60\n",
      "Uploading C:\\Users\\pabuehle\\Desktop\\ComputerVision\\data\\odRefrigerator\\images\\26.jpg\n",
      "Uploaded C:\\Users\\pabuehle\\Desktop\\ComputerVision\\data\\odRefrigerator\\images\\25.jpg, 47 files out of an estimated total of 60\n",
      "Uploading C:\\Users\\pabuehle\\Desktop\\ComputerVision\\data\\odRefrigerator\\images\\3.jpg\n",
      "Uploaded C:\\Users\\pabuehle\\Desktop\\ComputerVision\\data\\odRefrigerator\\images\\26.jpg, 48 files out of an estimated total of 60\n",
      "Uploading C:\\Users\\pabuehle\\Desktop\\ComputerVision\\data\\odRefrigerator\\images\\4.jpg\n",
      "Uploaded C:\\Users\\pabuehle\\Desktop\\ComputerVision\\data\\odRefrigerator\\images\\3.jpg, 49 files out of an estimated total of 60\n",
      "Uploading C:\\Users\\pabuehle\\Desktop\\ComputerVision\\data\\odRefrigerator\\images\\5.jpg\n",
      "Uploaded C:\\Users\\pabuehle\\Desktop\\ComputerVision\\data\\odRefrigerator\\images\\4.jpg, 50 files out of an estimated total of 60\n",
      "Uploading C:\\Users\\pabuehle\\Desktop\\ComputerVision\\data\\odRefrigerator\\images\\6.jpg\n",
      "Uploaded C:\\Users\\pabuehle\\Desktop\\ComputerVision\\data\\odRefrigerator\\images\\5.jpg, 51 files out of an estimated total of 60\n",
      "Uploading C:\\Users\\pabuehle\\Desktop\\ComputerVision\\data\\odRefrigerator\\images\\7.jpg\n",
      "Uploaded C:\\Users\\pabuehle\\Desktop\\ComputerVision\\data\\odRefrigerator\\images\\6.jpg, 52 files out of an estimated total of 60\n",
      "Uploading C:\\Users\\pabuehle\\Desktop\\ComputerVision\\data\\odRefrigerator\\images\\8.jpg\n",
      "Uploaded C:\\Users\\pabuehle\\Desktop\\ComputerVision\\data\\odRefrigerator\\images\\7.jpg, 53 files out of an estimated total of 60\n",
      "Uploading C:\\Users\\pabuehle\\Desktop\\ComputerVision\\data\\odRefrigerator\\images\\9.jpg\n",
      "Uploaded C:\\Users\\pabuehle\\Desktop\\ComputerVision\\data\\odRefrigerator\\images\\8.jpg, 54 files out of an estimated total of 60\n",
      "Uploading C:\\Users\\pabuehle\\Desktop\\ComputerVision\\data\\odRefrigerator\\images\\neg1.jpg\n",
      "Uploaded C:\\Users\\pabuehle\\Desktop\\ComputerVision\\data\\odRefrigerator\\images\\9.jpg, 55 files out of an estimated total of 60\n",
      "Uploading C:\\Users\\pabuehle\\Desktop\\ComputerVision\\data\\odRefrigerator\\images\\neg2.jpg\n",
      "Uploaded C:\\Users\\pabuehle\\Desktop\\ComputerVision\\data\\odRefrigerator\\images\\neg1.jpg, 56 files out of an estimated total of 60\n",
      "Uploading C:\\Users\\pabuehle\\Desktop\\ComputerVision\\data\\odRefrigerator\\images\\neg3.jpg\n",
      "Uploaded C:\\Users\\pabuehle\\Desktop\\ComputerVision\\data\\odRefrigerator\\images\\neg2.jpg, 57 files out of an estimated total of 60\n",
      "Uploading C:\\Users\\pabuehle\\Desktop\\ComputerVision\\data\\odRefrigerator\\images\\neg4.jpg\n",
      "Uploaded C:\\Users\\pabuehle\\Desktop\\ComputerVision\\data\\odRefrigerator\\images\\neg3.jpg, 58 files out of an estimated total of 60\n",
      "Uploading C:\\Users\\pabuehle\\Desktop\\ComputerVision\\data\\odRefrigerator\\images\\neg5.jpg\n",
      "Uploaded C:\\Users\\pabuehle\\Desktop\\ComputerVision\\data\\odRefrigerator\\images\\neg4.jpg, 59 files out of an estimated total of 60\n",
      "Uploaded C:\\Users\\pabuehle\\Desktop\\ComputerVision\\data\\odRefrigerator\\images\\neg5.jpg, 60 files out of an estimated total of 60\n",
      "Uploaded 60 files\n"
     ]
    },
    {
     "data": {
      "text/plain": [
       "$AZUREML_DATAREFERENCE_4b2c3febb77845659b8d3a8f3dc95dde"
      ]
     },
     "execution_count": 6,
     "metadata": {},
     "output_type": "execute_result"
    }
   ],
   "source": [
    "# Retrieving default datastore that got automatically created when we setup a workspace\n",
    "ds = ws.get_default_datastore()\n",
    "\n",
    "# We now upload the data to a unique sub-folder to avoid accidentially training/evaluating also including older images.\n",
    "data_subfolder = str(uuid.uuid4())\n",
    "ds.upload(\n",
    "    src_dir=DATA_PATH,\n",
    "    target_path=data_subfolder,\n",
    "    overwrite=False,\n",
    "    show_progress=True\n",
    ")"
   ]
  },
  {
   "cell_type": "markdown",
   "metadata": {},
   "source": [
    "\n",
    "Here's where you can see the data in your portal: \n",
    "<img src=\"media/datastore.jpg\" width=\"800\" alt=\"Datastore screenshot for Hyperdrive notebook run\">\n",
    "\n",
    "### 4. Prepare training script\n",
    "\n",
    "Next step is to prepare scripts that AzureML Hyperdrive will use to train and evaluate models with selected hyperparameters."
   ]
  },
  {
   "cell_type": "code",
   "execution_count": 7,
   "metadata": {},
   "outputs": [],
   "source": [
    "# Create a folder for the training script and copy the utils_cv library into that folder\n",
    "script_folder = os.path.join(os.getcwd(), \"hyperdrive\")\n",
    "os.makedirs(script_folder, exist_ok=True)\n",
    "_ = copy_tree(os.path.join('..', '..', 'utils_cv'), os.path.join(script_folder, 'utils_cv'))"
   ]
  },
  {
   "cell_type": "code",
   "execution_count": 8,
   "metadata": {},
   "outputs": [
    {
     "name": "stdout",
     "output_type": "stream",
     "text": [
      "Overwriting C:\\Users\\pabuehle\\Desktop\\ComputerVision\\detection\\notebooks\\hyperdrive/train.py\n"
     ]
    }
   ],
   "source": [
    "%%writefile $script_folder/train.py\n",
    "\n",
    "# Use different matplotlib backend to avoid error during remote execution\n",
    "import matplotlib \n",
    "matplotlib.use(\"Agg\") \n",
    "import matplotlib.pyplot as plt\n",
    "\n",
    "import os\n",
    "import sys\n",
    "import argparse\n",
    "import numpy as np\n",
    "from pathlib import Path\n",
    "from azureml.core import Run\n",
    "from utils_cv.detection.dataset import DetectionDataset\n",
    "from utils_cv.detection.model import DetectionLearner, get_pretrained_fasterrcnn\n",
    "from utils_cv.common.gpu import which_processor\n",
    "which_processor()\n",
    "\n",
    "\n",
    "# Parse arguments passed by Hyperdrive\n",
    "parser = argparse.ArgumentParser()\n",
    "parser.add_argument('--data-folder', type=str, dest='data_dir')\n",
    "parser.add_argument('--data-subfolder', type=str, dest='data_subfolder')\n",
    "parser.add_argument('--epochs', type=int, dest='epochs', default=20)                                     \n",
    "parser.add_argument('--batch_size', type=int, dest='batch_size', default=2)\n",
    "parser.add_argument('--learning_rate', type=float, dest='learning_rate', default=1e-4)\n",
    "parser.add_argument('--min_size', type=int, dest='min_size', default=800)\n",
    "parser.add_argument('--max_size', type=int, dest='max_size', default=1333)\n",
    "parser.add_argument('--rpn_pre_nms_top_n_train', type=int, dest='rpn_pre_nms_top_n_train', default=2000)\n",
    "parser.add_argument('--rpn_pre_nms_top_n_test', type=int, dest='rpn_pre_nms_top_n_test', default=1000)\n",
    "parser.add_argument('--rpn_post_nms_top_n_train', type=int, dest='rpn_post_nms_top_n_train', default=2000)\n",
    "parser.add_argument('--rpn_post_nms_top_n_test', type=int, dest='rpn_post_nms_top_n_test', default=1000)\n",
    "parser.add_argument('--rpn_nms_thresh', type=float, dest='rpn_nms_thresh', default=0.7)\n",
    "parser.add_argument('--box_score_thresh', type=float, dest='box_score_thresh', default=0.05)\n",
    "parser.add_argument('--box_nms_thresh', type=float, dest='box_nms_thresh', default=0.5)\n",
    "parser.add_argument('--box_detections_per_img', type=int, dest='box_detections_per_img', default=100)\n",
    "args = parser.parse_args()\n",
    "params = vars(args)\n",
    "print(f\"params = {params}\")\n",
    "\n",
    "\n",
    "# Perform up to 3 repetitions for small datasets\n",
    "data_path = os.path.join(params['data_dir'], params[\"data_subfolder\"])\n",
    "print(f\"data_path={data_path}\")\n",
    "nr_train_imgs = len(DetectionDataset(data_path, train_pct=0.5, batch_size = params[\"batch_size\"]).train_ds)\n",
    "if nr_train_imgs<150:\n",
    "    nr_reps=3\n",
    "elif nr_train_imgs<300:\n",
    "    nr_reps=2\n",
    "else:\n",
    "    nr_reps=1\n",
    "\n",
    "    \n",
    "# Run model training and evaluation\n",
    "accs = []\n",
    "for rep_nr in range(nr_reps):\n",
    "    print(f\"**** RUNNING REPETITION {rep_nr} ****\")\n",
    "\n",
    "    # Getting training and validation data\n",
    "    data = DetectionDataset(data_path, train_pct=0.5, batch_size = params[\"batch_size\"])\n",
    "    print(\n",
    "        f\"Training dataset: {len(data.train_ds)} | Training DataLoader: {data.train_dl} \\n \\\n",
    "        Testing dataset: {len(data.test_ds)} | Testing DataLoader: {data.test_dl}\"\n",
    "    )\n",
    "\n",
    "    # Get model\n",
    "    model = get_pretrained_fasterrcnn(\n",
    "        num_classes = len(data.labels)+1,\n",
    "        min_size = params[\"min_size\"],\n",
    "        max_size = params[\"max_size\"],\n",
    "        rpn_pre_nms_top_n_train = params[\"rpn_pre_nms_top_n_train\"],\n",
    "        rpn_pre_nms_top_n_test = params[\"rpn_pre_nms_top_n_test\"],\n",
    "        rpn_post_nms_top_n_train = params[\"rpn_post_nms_top_n_train\"], \n",
    "        rpn_post_nms_top_n_test = params[\"rpn_post_nms_top_n_test\"],\n",
    "        rpn_nms_thresh = params[\"rpn_nms_thresh\"],\n",
    "        box_score_thresh = params[\"box_score_thresh\"], \n",
    "        box_nms_thresh = params[\"box_nms_thresh\"],\n",
    "        box_detections_per_img = params[\"box_detections_per_img\"]\n",
    "    )\n",
    "    detector = DetectionLearner(data, model)\n",
    "\n",
    "    # Run Training\n",
    "    detector.fit(params[\"epochs\"], lr=params[\"learning_rate\"], print_freq=30)\n",
    "    print(f\"Average precision after each epoch: {detector.ap}\")\n",
    "    \n",
    "    # Get accuracy on test set at IOU=0.5\n",
    "    e = detector.evaluate()\n",
    "    coco_eval = e.coco_eval[\"bbox\"].eval[\"precision\"]\n",
    "    precision_settings = (0, slice(0, None), slice(0, None), 0, 2)\n",
    "    acc = np.mean(np.mean(coco_eval[precision_settings]))\n",
    "\n",
    "    accs.append(float(acc))\n",
    "    #accs.append(float(detector.ap[-1]))\n",
    "    print(\"Accuracies for each repetition: \" + str(accs))\n",
    "    \n",
    "# Add log entries\n",
    "run = Run.get_context()\n",
    "\n",
    "run.log(\"accuracy\", float(np.mean(accs)))  # Logging our primary metric 'accuracy'\n",
    "run.log(\"accs\", str(accs))  # Logging our primary metric 'accuracy'\n",
    "\n",
    "#run.log(\"accuracy\", float(detector.ap[-1]))  # Logging our primary metric 'accuracy'\n",
    "run.log(\"data_dir\", params[\"data_dir\"])\n",
    "run.log(\"epochs\", params[\"epochs\"])\n",
    "run.log(\"batch_size\", params[\"batch_size\"])\n",
    "run.log(\"learning_rate\", params[\"learning_rate\"])\n",
    "run.log(\"min_size\", params[\"min_size\"])\n",
    "run.log(\"max_size\", params[\"max_size\"])\n",
    "run.log(\"rpn_pre_nms_top_n_train\", params[\"rpn_pre_nms_top_n_train\"])\n",
    "run.log(\"rpn_pre_nms_top_n_test\", params[\"rpn_pre_nms_top_n_test\"])\n",
    "run.log(\"rpn_post_nms_top_n_train\", params[\"rpn_post_nms_top_n_train\"])\n",
    "run.log(\"rpn_post_nms_top_n_test\", params[\"rpn_post_nms_top_n_test\"])\n",
    "run.log(\"rpn_nms_thresh\", params[\"rpn_nms_thresh\"])\n",
    "run.log(\"box_score_thresh\", params[\"box_score_thresh\"])\n",
    "run.log(\"box_nms_thresh\", params[\"box_nms_thresh\"])\n",
    "run.log(\"box_detections_per_img\", params[\"box_detections_per_img\"])"
   ]
  },
  {
   "cell_type": "markdown",
   "metadata": {},
   "source": [
    "### 5. Setup and run Hyperdrive experiment\n",
    "\n",
    "#### 5.1 Create Experiment  \n",
    "Experiment is the main entry point into experimenting with AzureML. To create new Experiment or get the existing one, we pass our experimentation name 'hyperparameter-tuning'.\n"
   ]
  },
  {
   "cell_type": "code",
   "execution_count": 9,
   "metadata": {},
   "outputs": [],
   "source": [
    "exp = Experiment(workspace=ws, name='hyperparameter-tuning')"
   ]
  },
  {
   "cell_type": "markdown",
   "metadata": {},
   "source": [
    "#### 5.2. Define search space\n",
    "\n",
    "Now we define the search space of hyperparameters. To test discrete parameter values use 'choice()', and for uniform sampling use 'uniform()'. For more options, see [Hyperdrive parameter expressions](https://docs.microsoft.com/en-us/python/api/azureml-train-core/azureml.train.hyperdrive.parameter_expressions?view=azure-ml-py).\n",
    "\n",
    "Hyperdrive provides three different parameter sampling methods: 'RandomParameterSampling', 'GridParameterSampling', and 'BayesianParameterSampling'. Details about each method can be found [here](https://docs.microsoft.com/en-us/azure/machine-learning/service/how-to-tune-hyperparameters). Here, we use the 'GridParameterSampling'."
   ]
  },
  {
   "cell_type": "code",
   "execution_count": 10,
   "metadata": {},
   "outputs": [],
   "source": [
    "# Grid-search\n",
    "param_sampling = GridParameterSampling( {\n",
    "        '--learning_rate': choice(LEARNING_RATES),\n",
    "        '--max_size': choice(IM_MAX_SIZES)\n",
    "    }\n",
    ")"
   ]
  },
  {
   "cell_type": "markdown",
   "metadata": {},
   "source": [
    "<b>AzureML Estimator</b> is the building block for training. An Estimator encapsulates the training code and parameters, the compute resources and runtime environment for a particular training scenario.\n",
    "We create one for our experimentation with the dependencies our model requires as follows:"
   ]
  },
  {
   "cell_type": "code",
   "execution_count": 11,
   "metadata": {},
   "outputs": [],
   "source": [
    "script_params = {\n",
    "    '--data-folder': ds.as_mount(),\n",
    "    '--data-subfolder': data_subfolder,\n",
    "}\n",
    "\n",
    "est = Estimator(source_directory=script_folder,\n",
    "                script_params=script_params,\n",
    "                compute_target=compute_target,\n",
    "                entry_script='train.py',\n",
    "                use_gpu=True,\n",
    "                pip_packages=['nvidia-ml-py3','fastai'],\n",
    "                conda_packages=['scikit-learn', 'pycocotools>=2.0','torchvision==0.3','cudatoolkit==9.0'])"
   ]
  },
  {
   "cell_type": "markdown",
   "metadata": {},
   "source": [
    "We now create a HyperDriveConfig object which includes information about parameter space sampling, termination policy, primary metric, estimator and the compute target to execute the experiment runs on."
   ]
  },
  {
   "cell_type": "code",
   "execution_count": 12,
   "metadata": {},
   "outputs": [],
   "source": [
    "hyperdrive_run_config = HyperDriveConfig(\n",
    "    estimator=est,\n",
    "    hyperparameter_sampling=param_sampling,\n",
    "    policy=None, # Do not use any early termination \n",
    "    primary_metric_name='accuracy',\n",
    "    primary_metric_goal=PrimaryMetricGoal.MAXIMIZE,\n",
    "    max_total_runs=None, # Set to none to run all possible grid parameter combinations,\n",
    "    max_concurrent_runs=MAX_NODES\n",
    ")"
   ]
  },
  {
   "cell_type": "markdown",
   "metadata": {},
   "source": [
    "#### 5.3 Run Experiment\n",
    "\n",
    "We now run the parameter sweep and visualize the experiment progress using the `RunDetails` widget:\n",
    "<img src=\"media/hyperdrive_widget_run.jpg\" width=\"700px\">\n",
    "\n",
    "Once completed, the accuracy for the different runs can be analyzed via the widget, for example below is a plot of the accuracy versus learning rate below (for two different image sizes)\n",
    "<img src=\"media/hyperdrive_widget_analysis.jpg\" width=\"700px\">\n"
   ]
  },
  {
   "cell_type": "code",
   "execution_count": 13,
   "metadata": {},
   "outputs": [
    {
     "name": "stdout",
     "output_type": "stream",
     "text": [
      "Url to hyperdrive run on the Azure portal: https://mlworkspace.azure.ai/portal/subscriptions/989b90f7-da4f-41f9-84c9-44848802052d/resourceGroups/pabuehle_delme_hyperdrive/providers/Microsoft.MachineLearningServices/workspaces/pabuehle_ws/experiments/hyperparameter-tuning/runs/hyperparameter-tuning_1568756478831934\n"
     ]
    }
   ],
   "source": [
    "hyperdrive_run = exp.submit(config=hyperdrive_run_config)\n",
    "print(f\"Url to hyperdrive run on the Azure portal: {hyperdrive_run.get_portal_url()}\")"
   ]
  },
  {
   "cell_type": "code",
   "execution_count": 14,
   "metadata": {},
   "outputs": [
    {
     "data": {
      "application/vnd.jupyter.widget-view+json": {
       "model_id": "205db1382c864ceaa8363693aa6bdf8c",
       "version_major": 2,
       "version_minor": 0
      },
      "text/plain": [
       "_HyperDriveWidget(widget_settings={'childWidgetDisplay': 'popup', 'send_telemetry': False, 'log_level': 'INFO'…"
      ]
     },
     "metadata": {},
     "output_type": "display_data"
    }
   ],
   "source": [
    "widgets.RunDetails(hyperdrive_run).show()"
   ]
  },
  {
   "cell_type": "code",
   "execution_count": null,
   "metadata": {},
   "outputs": [],
   "source": [
    "hyperdrive_run.wait_for_completion()"
   ]
  },
  {
   "cell_type": "markdown",
   "metadata": {},
   "source": [
    "To load an existing Hyperdrive Run instead of start new one, we can use \n",
    "```python\n",
    "hyperdrive_run = azureml.train.hyperdrive.HyperDriveRun(exp, <your-run-id>, hyperdrive_run_config=hyperdrive_run_config)\n",
    "```\n",
    "We also can cancel the Run with \n",
    "```python \n",
    "hyperdrive_run.cancel().\n",
    "```\n",
    "\n",
    "Once all the child-runs are finished, we can get the best run and the metrics."
   ]
  },
  {
   "cell_type": "code",
   "execution_count": null,
   "metadata": {},
   "outputs": [],
   "source": [
    "# Get best run and print out metrics\n",
    "best_run = hyperdrive_run.get_best_run_by_primary_metric()\n",
    "best_run_metrics = best_run.get_metrics()\n",
    "parameter_values = best_run.get_details()['runDefinition']['arguments']\n",
    "best_parameters = dict(zip(parameter_values[::2], parameter_values[1::2]))\n",
    "\n",
    "print(f\"* Best Run Id:{best_run.id}\")\n",
    "print(best_run)\n",
    "print(\"\\n* Best hyperparameters:\")\n",
    "print(best_parameters)\n",
    "print(f\"Accuracy = {best_run_metrics['accuracy']}\")\n",
    "print(\"Learning Rate =\", best_run_metrics['learning_rate'])"
   ]
  },
  {
   "cell_type": "code",
   "execution_count": null,
   "metadata": {},
   "outputs": [],
   "source": [
    "hyperdrive_run.get_children_sorted_by_primary_metric()"
   ]
  },
  {
   "cell_type": "code",
   "execution_count": null,
   "metadata": {},
   "outputs": [],
   "source": [
    "DATA_PATH"
   ]
  },
  {
   "cell_type": "markdown",
   "metadata": {},
   "source": [
    "### 7. Clean up\n",
    "\n",
    "To avoid unnecessary expenses, all resources which were created in this notebook need to get deleted once parameter search is concluded. To simplify this clean-up step, we recommended creating a new resource group to run this notebook. This resource group can then be deleted, e.g. using the Azure Portal, which will remove all created resources."
   ]
  },
  {
   "cell_type": "code",
   "execution_count": null,
   "metadata": {},
   "outputs": [],
   "source": [
    "# Log some outputs using scrapbook which are used during testing to verify correct notebook execution\n",
    "sb.glue(\"best_accuracy\", best_run_metrics['accuracy'])"
   ]
  }
 ],
 "metadata": {
  "kernelspec": {
   "display_name": "Python (tv2)",
   "language": "python",
   "name": "tv2"
  },
  "language_info": {
   "codemirror_mode": {
    "name": "ipython",
    "version": 3
   },
   "file_extension": ".py",
   "mimetype": "text/x-python",
   "name": "python",
   "nbconvert_exporter": "python",
   "pygments_lexer": "ipython3",
   "version": "3.6.8"
  }
 },
 "nbformat": 4,
 "nbformat_minor": 2
}
