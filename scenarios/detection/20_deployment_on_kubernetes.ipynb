{
 "cells": [
  {
   "cell_type": "code",
   "execution_count": 17,
   "metadata": {},
   "outputs": [],
   "source": [
    "import sys\n",
    "sys.path.append(\"../../\")\n",
    "\n",
    "import os\n",
    "from PIL import Image\n",
    "from pathlib import Path\n",
    "import requests\n",
    "import json\n",
    "\n",
    "from utils_cv.common.image import im2base64, ims2strlist\n",
    "from utils_cv.common.data import data_path\n",
    "from utils_cv.detection.model import DetectionLearner, get_pretrained_fasterrcnn\n",
    "from utils_cv.detection.dataset import DetectionDataset\n",
    "from utils_cv.detection.plot import (\n",
    "    display_bboxes,\n",
    "    PlotSettings,\n",
    ")"
   ]
  },
  {
   "cell_type": "code",
   "execution_count": 18,
   "metadata": {},
   "outputs": [
    {
     "name": "stdout",
     "output_type": "stream",
     "text": [
      "The blackcellmagic extension is already loaded. To reload it, use:\n",
      "  %reload_ext blackcellmagic\n"
     ]
    }
   ],
   "source": [
    "%load_ext blackcellmagic\n",
    "\n",
    "# Ensure edits to libraries are loaded and plotting is shown in the notebook.\n",
    "%reload_ext autoreload\n",
    "%autoreload 2\n",
    "%matplotlib inline"
   ]
  },
  {
   "cell_type": "code",
   "execution_count": null,
   "metadata": {},
   "outputs": [],
   "source": [
    "# detector = DetectionLearner.from_saved_model(name=\"my_drink_detector\", path=data_path()/\"odFridgeObjects\"/\"models\")\n",
    "\n",
    "# # new_im_path = Path(\"/home/jiata/code/computervision/data/cvbp_milk_bottle.jpg\")\n",
    "# new_im_path = Path(data_path()/\"odFridgeObjects\"/\"images\"/\"1.jpg\")\n",
    "\n",
    "# new_im = Image.open(new_im_path)\n",
    "# detections = detector.predict(new_im, threshold=0.5)\n",
    "\n",
    "# plot_settings = PlotSettings(rect_color=(0, 255, 0))\n",
    "# display_bboxes(\n",
    "#     detections,\n",
    "#     new_im_path,\n",
    "#     plot_settings=plot_settings,\n",
    "# )\n",
    "# detections"
   ]
  },
  {
   "cell_type": "markdown",
   "metadata": {},
   "source": [
    "---"
   ]
  },
  {
   "cell_type": "code",
   "execution_count": null,
   "metadata": {},
   "outputs": [],
   "source": [
    "# # Extract test images paths\n",
    "# im_url_root = \"https://cvbp.blob.core.windows.net/public/images/\"\n",
    "# im_filenames = [\"cvbp_milk_bottle.jpg\", \"cvbp_water_bottle.jpg\"]\n",
    "\n",
    "# for im_filename in im_filenames:\n",
    "#     # Retrieve test images from our storage blob\n",
    "#     r = requests.get(os.path.join(im_url_root, im_filename))\n",
    "\n",
    "#     # Copy test images to local data/ folder\n",
    "#     with open(os.path.join(data_path(), im_filename), 'wb') as f:\n",
    "#         f.write(r.content)\n",
    "\n",
    "# # Extract local path to test images\n",
    "# local_im_paths = [os.path.join(data_path(), im_filename) for im_filename in im_filenames]\n",
    "\n",
    "# # Convert images to json object\n",
    "# im_string_list = ims2strlist(local_im_paths)\n",
    "# service_input = json.dumps({\"data\": im_string_list})"
   ]
  },
  {
   "cell_type": "code",
   "execution_count": null,
   "metadata": {},
   "outputs": [],
   "source": [
    "# from base64 import b64decode\n",
    "# from io import BytesIO\n",
    "\n",
    "# def test_img(raw_data):\n",
    "\n",
    "#     # Expects raw_data to be a list within a json file\n",
    "#     results = []    \n",
    "#     for im_string in json.loads(raw_data)['data']:\n",
    "#         im_bytes = b64decode(im_string)\n",
    "#         im_dets = []\n",
    "#         try:\n",
    "#             new_im = Image.open(BytesIO(im_bytes))\n",
    "#             detections = detector.predict(new_im, threshold=0.5)\n",
    "#             for d in detections:\n",
    "#                 im_dets.append({\n",
    "#                     \"top\": str(d.top), \n",
    "#                     \"left\": str(d.left),\n",
    "#                     \"bottom\": str(d.bottom), \n",
    "#                     \"right\": str(d.right),\n",
    "#                     \"label_name\": d.label_name,\n",
    "#                     \"label_idx\": str(d.label_idx),\n",
    "#                     \"score\": str(d.score)\n",
    "#                 })\n",
    "#         except Exception as e:\n",
    "#             im_dets.append({\"error\": str(e)})\n",
    "#         results.append(im_dets)\n",
    "#     return results"
   ]
  },
  {
   "cell_type": "code",
   "execution_count": null,
   "metadata": {},
   "outputs": [],
   "source": [
    "# from utils_cv.detection.bbox import DetectionBbox\n",
    "\n",
    "# ret = test_img(service_input)\n",
    "# for im in ret:\n",
    "#     dets = []\n",
    "#     for bbox in im:\n",
    "#         det = DetectionBbox.from_array(\n",
    "#             [bbox['left'], bbox['top'], bbox['right'], bbox['bottom']],\n",
    "#             label_name=bbox['label_name'],\n",
    "#             label_idx=bbox['label_idx'],\n",
    "#             score=bbox['score']\n",
    "#         )\n",
    "#         dets.append(det)\n",
    "#     print(dets)\n",
    "        "
   ]
  },
  {
   "cell_type": "markdown",
   "metadata": {},
   "source": [
    "---"
   ]
  },
  {
   "cell_type": "code",
   "execution_count": null,
   "metadata": {},
   "outputs": [],
   "source": [
    "# Azure resources\n",
    "subscription_id = \"989b90f7-da4f-41f9-84c9-44848802052d\"\n",
    "resource_group = \"jiata-cv-aml\"  \n",
    "workspace_name = \"jiata-cv-aml\"  \n",
    "workspace_region = \"southcentralus\" #Possible values eastus, eastus2, etc.\n",
    "\n",
    "# Choose a size for our cluster and the maximum number of nodes\n",
    "VM_SIZE = \"Standard_NC6s_v3\" #\"Standard_NC6s_v3\", \"Standard_NC6S_V3\", \"Standard_D3_v2\"\n",
    "NODES = 3\n",
    "KUBERNETES_CLUSTER_NAME = 'jiata-aks-gpu0'"
   ]
  },
  {
   "cell_type": "code",
   "execution_count": null,
   "metadata": {},
   "outputs": [],
   "source": [
    "from utils_cv.common.azureml import get_or_create_workspace\n",
    "\n",
    "ws = get_or_create_workspace(\n",
    "    subscription_id, resource_group, workspace_name, workspace_region\n",
    ")\n",
    "\n",
    "# Print the workspace attributes\n",
    "print(\n",
    "    \"Workspace name: \" + ws.name,\n",
    "    \"Workspace region: \" + ws.location,\n",
    "    \"Subscription id: \" + ws.subscription_id,\n",
    "    \"Resource group: \" + ws.resource_group,\n",
    "    sep=\"\\n\",\n",
    ")"
   ]
  },
  {
   "cell_type": "markdown",
   "metadata": {},
   "source": [
    "Register the model"
   ]
  },
  {
   "cell_type": "code",
   "execution_count": null,
   "metadata": {},
   "outputs": [],
   "source": [
    "from azureml.core.model import Model\n",
    "\n",
    "model_state_dict = Model.register(\n",
    "    model_path=os.path.join(\n",
    "        data_path(), \"odFridgeObjects\", \"models\", \"my_drink_detector\", \"model.pt\"\n",
    "    ),\n",
    "    model_name=\"jiata-dd-model-state-dict-0\",\n",
    "    tags={\"Model\": \"object_detection\"},\n",
    "    description=\"state dict for drink detector\",\n",
    "    workspace=ws,\n",
    ")\n",
    "\n",
    "model_meta = Model.register(\n",
    "    model_path=os.path.join(\n",
    "        data_path(), \"odFridgeObjects\", \"models\", \"my_drink_detector\", \"meta.json\"\n",
    "    ),\n",
    "    model_name=\"jiata-dd-model-meta-0\",\n",
    "    tags={\"Model\": \"object_detection\"},\n",
    "    description=\"meta data for drink detector\",\n",
    "    workspace=ws,\n",
    ")"
   ]
  },
  {
   "cell_type": "markdown",
   "metadata": {},
   "source": [
    "Create scoring script."
   ]
  },
  {
   "cell_type": "code",
   "execution_count": null,
   "metadata": {},
   "outputs": [],
   "source": [
    "scoring_script = \"score.py\""
   ]
  },
  {
   "cell_type": "code",
   "execution_count": null,
   "metadata": {},
   "outputs": [],
   "source": [
    "%%writefile $scoring_script\n",
    "# Copyright (c) Microsoft. All rights reserved.\n",
    "# Licensed under the MIT license.\n",
    "\n",
    "import os\n",
    "import json\n",
    "import shutil\n",
    "\n",
    "from pathlib import Path\n",
    "from base64 import b64decode\n",
    "from io import BytesIO\n",
    "from PIL import Image\n",
    "\n",
    "from azureml.core.model import Model\n",
    "from utils_cv.detection.model import DetectionLearner, get_pretrained_fasterrcnn\n",
    "from utils_cv.detection.dataset import DetectionDataset\n",
    "\n",
    "\n",
    "def init():\n",
    "    global detector\n",
    "    # retrieve the path to the model file using the model name\n",
    "    model_state_dict_path = Model.get_model_path(model_name='jiata-dd-model-state-dict-0')\n",
    "    model_meta_data_path = Model.get_model_path(model_name='jiata-dd-model-meta-0')\n",
    "\n",
    "    # put model.pt and meta.json into the same folder\n",
    "    model_dir = \"new_detector\"\n",
    "    os.mkdir(model_dir)\n",
    "    shutil.copyfile(model_state_dict_path, os.path.join(os.getcwd(), model_dir, \"model.pt\"))\n",
    "    shutil.copyfile(model_meta_data_path, os.path.join(os.getcwd(), model_dir, \"meta.json\"))\n",
    "    \n",
    "    # load up the model\n",
    "    detector = DetectionLearner.from_saved_model(name=model_dir, path=Path(os.getcwd()))\n",
    "\n",
    "\n",
    "def run(raw_data):\n",
    "    # Expects raw_data to be a list within a json file\n",
    "    results = []    \n",
    "    for im_string in json.loads(raw_data)['data']:\n",
    "        im_bytes = b64decode(im_string)\n",
    "        im_dets = []\n",
    "        try:\n",
    "            new_im = Image.open(BytesIO(im_bytes))\n",
    "            detections = detector.predict(new_im, threshold=0.5)\n",
    "            for d in detections:\n",
    "                im_dets.append({\n",
    "                    \"top\": str(d.top), \n",
    "                    \"left\": str(d.left),\n",
    "                    \"bottom\": str(d.bottom), \n",
    "                    \"right\": str(d.right),\n",
    "                    \"label_name\": d.label_name,\n",
    "                    \"label_idx\": str(d.label_idx),\n",
    "                    \"score\": str(d.score)\n",
    "                })\n",
    "        except Exception as e:\n",
    "            im_dets.append({\"error\": str(e)})\n",
    "        results.append(im_dets)\n",
    "    return results"
   ]
  },
  {
   "cell_type": "markdown",
   "metadata": {},
   "source": [
    "Scoring script:"
   ]
  },
  {
   "cell_type": "code",
   "execution_count": null,
   "metadata": {},
   "outputs": [],
   "source": [
    "%%writefile \"myenv.yml\"\n",
    "name: cv-remote\n",
    "channels:\n",
    "- defaults\n",
    "- conda-forge\n",
    "dependencies:\n",
    "- python==3.6.8\n",
    "- pytorch>=1.2.0\n",
    "- torchvision>=0.3.0\n",
    "- cython>=0.29.1\n",
    "- git\n",
    "- pip:\n",
    "  - git+https://github.com/microsoft/ComputerVision.git@staging#egg=utils_cv\n",
    "  - git+https://github.com/philferriere/cocoapi.git#subdirectory=PythonAPI"
   ]
  },
  {
   "cell_type": "code",
   "execution_count": null,
   "metadata": {},
   "outputs": [],
   "source": [
    "from azureml.core.image import ContainerImage\n",
    "from azureml.core.webservice import AciWebservice, Webservice\n",
    "from azureml.exceptions import WebserviceException\n",
    "\n",
    "# Configure the Docker image\n",
    "try:\n",
    "    image_config = ContainerImage.image_configuration(\n",
    "        execution_script=\"score.py\",\n",
    "        runtime=\"python\",\n",
    "        conda_file=\"myenv.yml\",\n",
    "        description=\"Image with FasterRCNN model\",\n",
    "        tags={\n",
    "            \"scenario\": \"detection\",\n",
    "            \"architecture\": \"FasterRCNN\",\n",
    "            \"type\": \"Pretrained\",\n",
    "        },\n",
    "        base_image=\"mcr.microsoft.com/azureml/onnxruntime:latest-cuda\",\n",
    "    )\n",
    "except WebserviceException:\n",
    "    raise FileNotFoundError(\n",
    "        \"The files *score.py* and/or *myenv.yaml* could not be found - Please run the cells above again\"\n",
    "    )"
   ]
  },
  {
   "cell_type": "code",
   "execution_count": null,
   "metadata": {},
   "outputs": [],
   "source": [
    "# Create the Docker image\n",
    "try:\n",
    "    docker_image = ContainerImage.create(\n",
    "        name=\"object-detection-fridge-objects\",\n",
    "        models=[model_state_dict, model_meta],\n",
    "        image_config=image_config,\n",
    "        workspace=ws,\n",
    "    )\n",
    "    # The image name should not contain more than 32 characters, and should not contain any spaces, dots or underscores\n",
    "except WebserviceException:\n",
    "    raise FileNotFoundError(\n",
    "        \"The files *score.py* and/or *myenv.yaml* could not be found - Please run the cells above again\"\n",
    "    )"
   ]
  },
  {
   "cell_type": "code",
   "execution_count": null,
   "metadata": {},
   "outputs": [],
   "source": [
    "%%time\n",
    "docker_image.wait_for_creation(show_output=True)  # This can take up to 12 min"
   ]
  },
  {
   "cell_type": "code",
   "execution_count": null,
   "metadata": {},
   "outputs": [],
   "source": [
    "print(ws.images[\"object-detection-fridge-objects\"].image_build_log_uri)"
   ]
  },
  {
   "cell_type": "markdown",
   "metadata": {},
   "source": [
    "---"
   ]
  },
  {
   "cell_type": "markdown",
   "metadata": {},
   "source": [
    "First we create our Kubernetes cluster"
   ]
  },
  {
   "cell_type": "code",
   "execution_count": null,
   "metadata": {},
   "outputs": [
    {
     "name": "stdout",
     "output_type": "stream",
     "text": [
      "Creating.............................................................................."
     ]
    }
   ],
   "source": [
    "from azureml.core.compute import AksCompute, ComputeTarget\n",
    "\n",
    "if KUBERNETES_CLUSTER_NAME not in ws.compute_targets:\n",
    "    # Configure the cluster using the default configuration (i.e. with 3 virtual machines)\n",
    "    prov_config = AksCompute.provisioning_configuration(\n",
    "        vm_size=VM_SIZE, agent_count=NODES\n",
    "    )\n",
    "\n",
    "    # Create the cluster\n",
    "    aks_target = ComputeTarget.create(\n",
    "        workspace=ws,\n",
    "        name=KUBERNETES_CLUSTER_NAME,\n",
    "        provisioning_configuration=prov_config,\n",
    "    )\n",
    "    aks_target.wait_for_completion(show_output=True)\n",
    "    print(f\"We created the {aks_target.name} AKS compute target\")\n",
    "else:\n",
    "    # Retrieve the already existing cluster\n",
    "    aks_target = ws.compute_targets[KUBERNETES_CLUSTER_NAME]\n",
    "    print(f\"We retrieved the {aks_target.name} AKS compute target\")"
   ]
  },
  {
   "cell_type": "code",
   "execution_count": null,
   "metadata": {},
   "outputs": [],
   "source": []
  },
  {
   "cell_type": "code",
   "execution_count": null,
   "metadata": {},
   "outputs": [],
   "source": [
    "print(\"Docker images:\")\n",
    "for docker_im in ws.images:    \n",
    "    print(f\" --> Name: {ws.images[docker_im].name}\\n \\\n",
    "    --> ID: {ws.images[docker_im].id}\\n \\\n",
    "    --> Tags: {ws.images[docker_im].tags}\\n \\\n",
    "    --> Creation time: {ws.images[docker_im].created_time}\\n\"\n",
    "         )"
   ]
  },
  {
   "cell_type": "code",
   "execution_count": null,
   "metadata": {},
   "outputs": [],
   "source": [
    "docker_image"
   ]
  },
  {
   "cell_type": "code",
   "execution_count": null,
   "metadata": {},
   "outputs": [],
   "source": [
    "from azureml.core.webservice import AksWebservice, LocalWebservice\n",
    "aks_config = AksWebservice.deploy_configuration(enable_app_insights=True)"
   ]
  },
  {
   "cell_type": "code",
   "execution_count": null,
   "metadata": {},
   "outputs": [],
   "source": [
    "aks_service_name = \"aks-gpu-od-web-svc0\"\n",
    "aks_service = Webservice.deploy_from_image(\n",
    "    workspace=ws,\n",
    "    name=aks_service_name,\n",
    "    image=docker_image,\n",
    "    deployment_config=aks_config,\n",
    "    deployment_target=aks_target,\n",
    ")\n",
    "aks_service.wait_for_deployment(show_output=True)\n",
    "print(f\"The web service is {aks_service.state}\")"
   ]
  },
  {
   "cell_type": "code",
   "execution_count": null,
   "metadata": {},
   "outputs": [],
   "source": [
    "print(aks_service.get_logs())"
   ]
  },
  {
   "cell_type": "markdown",
   "metadata": {},
   "source": [
    "local testing"
   ]
  },
  {
   "cell_type": "markdown",
   "metadata": {},
   "source": [
    "testing"
   ]
  },
  {
   "cell_type": "code",
   "execution_count": null,
   "metadata": {},
   "outputs": [],
   "source": [
    "# Extract test images paths\n",
    "im_url_root = \"https://cvbp.blob.core.windows.net/public/images/\"\n",
    "im_filenames = [\"cvbp_milk_bottle.jpg\", \"cvbp_water_bottle.jpg\"]\n",
    "\n",
    "for im_filename in im_filenames:\n",
    "    # Retrieve test images from our storage blob\n",
    "    r = requests.get(os.path.join(im_url_root, im_filename))\n",
    "\n",
    "    # Copy test images to local data/ folder\n",
    "    with open(os.path.join(data_path(), im_filename), 'wb') as f:\n",
    "        f.write(r.content)\n",
    "\n",
    "# Extract local path to test images\n",
    "local_im_paths = [os.path.join(data_path(), im_filename) for im_filename in im_filenames]\n",
    "\n",
    "# Convert images to json object\n",
    "im_string_list = ims2strlist(local_im_paths)\n",
    "service_input = json.dumps({\"data\": im_string_list})"
   ]
  },
  {
   "cell_type": "code",
   "execution_count": null,
   "metadata": {},
   "outputs": [],
   "source": [
    "result = ws.webservices['aks-cpu-od-web-svc6'].run(service_input)"
   ]
  },
  {
   "cell_type": "code",
   "execution_count": null,
   "metadata": {},
   "outputs": [],
   "source": [
    "result"
   ]
  },
  {
   "cell_type": "code",
   "execution_count": null,
   "metadata": {},
   "outputs": [],
   "source": []
  }
 ],
 "metadata": {
  "kernelspec": {
   "display_name": "Python (cv)",
   "language": "python",
   "name": "cv"
  },
  "language_info": {
   "codemirror_mode": {
    "name": "ipython",
    "version": 3
   },
   "file_extension": ".py",
   "mimetype": "text/x-python",
   "name": "python",
   "nbconvert_exporter": "python",
   "pygments_lexer": "ipython3",
   "version": "3.6.8"
  }
 },
 "nbformat": 4,
 "nbformat_minor": 2
}
