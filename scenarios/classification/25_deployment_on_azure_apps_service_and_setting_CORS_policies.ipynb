{
 "cells": [
  {
   "cell_type": "markdown",
   "metadata": {},
   "source": [
    "<i>Copyright (c) Microsoft Corporation. All rights reserved.</i>\n",
    "\n",
    "<i>Licensed under the MIT License.</i>\n",
    "\n",
    "# Deployment of a model to Azure App Service and setting CORS policies"
   ]
  },
  {
   "cell_type": "markdown",
   "metadata": {},
   "source": [
    "## Table of contents\n",
    "\n",
    "1. [Introduction](#intro)\n",
    "1. [Model retrieval and export](#model)\n",
    "1. [Model deployment on Azure](#deploy)\n",
    "  1. [Workspace retrieval](#workspace)\n",
    "  1. [Model registration](#register)\n",
    "  1. [Scoring script](#scoring)\n",
    "  1. [Environment setup](#env)\n",
    "  1. [Computational resources](#compute)\n",
    "  1. [Web service deployment](#websvc)\n",
    "1. [Notes on web service deployment](#notes)\n",
    "1. [Clean-up](#clean)\n",
    "1. [Next steps](#next-steps)"
   ]
  },
  {
   "cell_type": "markdown",
   "metadata": {},
   "source": [
    "## 1. Introduction <a id=\"intro\"/>\n",
    "\n",
    "Azure App Service allows users to build and host web apps, mobile back ends, and RESTful APIs in the programming language of one's choice without managing infrastructure. It offers auto-scaling and high availability with support for both Windows and Linux. It also allows for automated deployments from Github, Azure DevOps, or any Git repo. \n",
    "\n",
    "For our purposes, we will be using its support for hosting RESTful APIs to deploy our trained machine learning model to a RESTful API endpoint.\n",
    "\n",
    "In this tutorial, we will learn how to target Azure Apps as a deployment target using the trained model and resources from our previous notebook [21_deployment_on_azure_instances.ipynb](21_deployment_on_azure_instances.ipynb). \n",
    "\n",
    "We will also learn how to set Cross-Origin Resource Sharing (CORS) policies that is required when developing a web application hosted in a different domain from the one hosting the deployed machine learning model's RESTful APIs.\n",
    "\n",
    "To learn more about Cross-Origin Resource Sharing (CORS) policies, go to the [CORS section](#CORS) of this notebook."
   ]
  },
  {
   "cell_type": "markdown",
   "metadata": {},
   "source": [
    "### Pre-requisites <a id=\"pre-reqs\"/>\n",
    "\n",
    "This notebook relies on resources we created in [21_deployment_on_azure_container_instances.ipynb](21_deployment_on_azure_container_instances.ipynb):\n",
    "- Our Azure Machine Learning workspace\n",
    "- The Docker image that contains the model and scoring script needed for the web service to work.\n",
    "\n",
    "If we are missing any of these, we should go back and run the steps from the sections \"Pre-requisites\" to \"3.D Environment setup\" to generate them.\n",
    "\n"
   ]
  },
  {
   "cell_type": "code",
   "execution_count": null,
   "metadata": {},
   "outputs": [],
   "source": []
  },
  {
   "cell_type": "markdown",
   "metadata": {},
   "source": [
    "## Cross-Origin Resource Sharing (CORS)<a id=\"CORS\"/>\n",
    "\n",
    "Cross-Origin Resource Sharing (CORS) is an HTTP feature that allows a web application running under a single domain to access resources from another domain. \n",
    "\n",
    "By default, web browsers enable [same origin policy](https://www.w3.org/Security/wiki/Same_Origin_Policy), a security mechanism to prevent webpages from calling APIs from a different domain than the one it is calling from. Under the same origin policy, one origin is allowed to send information to another origin, but is not permitted to receive information from another origin to prevent malicious websites from accessing confidential information from other websites.\n",
    "\n",
    "CORS provides a secure way to allow one origin to both call and receive information from APIs that are hosted in a different origin.\n",
    "\n",
    "**Hence, setting the correct CORS policy is required if you are building a web application that is hosted in a different domain from the one hosting the deployed machine learning model's RESTful APIs.**\n",
    "\n",
    "To learn more about CORS in detail, please refer to either the [CORS specification from World Wide Web Consortium (W3C)](https://www.w3.org/TR/cors/) or [Mozilla's documentation page for developers](https://developer.mozilla.org/en-US/docs/Web/HTTP/CORS)"
   ]
  }
 ],
 "metadata": {
  "kernelspec": {
   "display_name": "Python 3",
   "language": "python",
   "name": "python3"
  },
  "language_info": {
   "codemirror_mode": {
    "name": "ipython",
    "version": 3
   },
   "file_extension": ".py",
   "mimetype": "text/x-python",
   "name": "python",
   "nbconvert_exporter": "python",
   "pygments_lexer": "ipython3",
   "version": "3.6.8"
  }
 },
 "nbformat": 4,
 "nbformat_minor": 4
}
