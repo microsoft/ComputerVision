{
 "cells": [
  {
   "cell_type": "markdown",
   "metadata": {},
   "source": [
    "<i>Copyright (c) Microsoft Corporation. All rights reserved.</i>\n",
    "\n",
    "<i>Licensed under the MIT License.</i>"
   ]
  },
  {
   "cell_type": "markdown",
   "metadata": {},
   "source": [
    "# Training an Object Detection Model\n",
    "\n",
    "In this notebook, we give an introduction to training an object detection model using [torchvision](https://pytorch.org/docs/stable/torchvision/index.html). Using a small dataset, we demonstrate how to train and evaluate a FasterRCNN object detection model. We also cover one of the most common ways to store data on a file system for this type of problem.\n",
    "\n",
    "## Initialization"
   ]
  },
  {
   "cell_type": "code",
   "execution_count": 46,
   "metadata": {},
   "outputs": [],
   "source": [
    "# Ensure edits to libraries are loaded and plotting is shown in the notebook.\n",
    "%reload_ext autoreload\n",
    "%autoreload 2\n",
    "%matplotlib inline\n",
    "# %load_ext blackcellmagic"
   ]
  },
  {
   "cell_type": "markdown",
   "metadata": {},
   "source": [
    "Import all the functions we need."
   ]
  },
  {
   "cell_type": "code",
   "execution_count": 21,
   "metadata": {},
   "outputs": [
    {
     "name": "stdout",
     "output_type": "stream",
     "text": [
      "Torch is using GPU: Tesla V100-PCIE-16GB\n"
     ]
    }
   ],
   "source": [
    "import sys\n",
    "sys.path.append(\"../../\")\n",
    "\n",
    "import os\n",
    "import time\n",
    "from pathlib import Path\n",
    "from PIL import Image\n",
    "from random import randrange\n",
    "from typing import Tuple\n",
    "import torch\n",
    "from torchvision import transforms\n",
    "\n",
    "from utils_cv.common.data import unzip_url, data_path\n",
    "from utils_cv.detection.data import Urls\n",
    "from utils_cv.detection.dataset import DetectionDataset\n",
    "from utils_cv.detection.plot import display_bounding_boxes\n",
    "from utils_cv.detection.model import DetectionLearner, get_bounding_boxes, get_transform\n",
    "from utils_cv.common.gpu import which_processor\n",
    "\n",
    "which_processor()"
   ]
  },
  {
   "cell_type": "markdown",
   "metadata": {},
   "source": [
    "This shows your machine's GPUs (if has any) and the computing device `torch/torchvision` is using. We suggest using an  [Azure DSVM](https://azure.microsoft.com/en-us/services/virtual-machines/data-science-virtual-machines/) Standard NC6 as a GPU compute resource."
   ]
  },
  {
   "cell_type": "markdown",
   "metadata": {},
   "source": [
    "Next, set some model runtime parameters. We use the `unzip_url` helper function to download and unzip the data used in this example notebook."
   ]
  },
  {
   "cell_type": "code",
   "execution_count": 40,
   "metadata": {},
   "outputs": [],
   "source": [
    "DATA_PATH     = unzip_url(Urls.fridge_objects_path, exist_ok=True)\n",
    "EPOCHS        = 4\n",
    "LEARNING_RATE = 0.005\n",
    "# IM_SIZE       = 300\n",
    "# BATCH_SIZE    = 16\n",
    "# ARCHITECTURE  = models.resnet18\n",
    "\n",
    "# train on the GPU or on the CPU, if a GPU is not available\n",
    "device = torch.device(\"cuda\") if torch.cuda.is_available() else torch.device(\"cpu\")"
   ]
  },
  {
   "cell_type": "markdown",
   "metadata": {},
   "source": [
    "---\n",
    "\n",
    "# Prepare Object Detection Dataset\n",
    "\n",
    "In this notebook, we use a toy dataset called *Fridge Objects*, which consists of 134 images of 4 classes of beverage container `{can, carton, milk bottle, water bottle}` photos taken on different backgrounds. The helper function downloads and unzips data set to the `ComputerVision/data` directory.\n",
    "\n",
    "Set that directory in the `path` variable for ease of use throughout the notebook."
   ]
  },
  {
   "cell_type": "code",
   "execution_count": 4,
   "metadata": {},
   "outputs": [
    {
     "data": {
      "text/plain": [
       "['.DS_Store', 'annotations', 'images']"
      ]
     },
     "execution_count": 4,
     "metadata": {},
     "output_type": "execute_result"
    }
   ],
   "source": [
    "path = Path(DATA_PATH)\n",
    "os.listdir(path)"
   ]
  },
  {
   "cell_type": "markdown",
   "metadata": {},
   "source": [
    "You'll notice that we have two different folders inside:\n",
    "- `/images`\n",
    "- `/annotations`\n",
    "\n",
    "This format for object detection is fairly common.\n",
    "\n",
    "```\n",
    "/data\n",
    "+-- images\n",
    "|   +-- image1.jpg\n",
    "|   +-- image2.jpg\n",
    "|   +-- ...\n",
    "+-- annotations\n",
    "|   +-- image1.xml\n",
    "|   +-- image2.xml\n",
    "|   +-- ...\n",
    "+-- ...\n",
    "```\n",
    "\n",
    "The xml files inside the annotation folder contain information on where the objects are the xml's corresponding image file. In this example, our fridge object dataset is annotated in Pascal VOC format. This is one of the most common formats for labelling object detection datasets.\n",
    "\n",
    "```xml\n",
    "<!-- Example Pascal VOC annotation -->\n",
    "<annotation>\n",
    "    <folder>images</folder>\n",
    "    <filename>1.jpg</filename>\n",
    "    <path>../images/1.jpg</path>\n",
    "    <source>\n",
    "        <database>Unknown</database>\n",
    "    </source>\n",
    "    <size>\n",
    "        <width>499</width>\n",
    "        <height>666</height>\n",
    "        <depth>3</depth>\n",
    "    </size>\n",
    "    <segmented>0</segmented>\n",
    "\n",
    "    <object>\n",
    "        <name>carton</name>\n",
    "        <pose>Unspecified</pose>\n",
    "        <truncated>0</truncated>\n",
    "        <difficult>0</difficult>\n",
    "        <bndbox>\n",
    "            <xmin>100</xmin>\n",
    "            <ymin>173</ymin>\n",
    "            <xmax>233</xmax>\n",
    "            <ymax>521</ymax>\n",
    "        </bndbox>\n",
    "    </object>\n",
    "</annotation>\n",
    "```\n",
    "\n",
    "You'll notice that inside the annotation xml file, we can see which image the file references `<path>`, the number of `<objects>` in the image, that the image is of (`<name>`) and the bounding box of that object (`<bndbox>`)."
   ]
  },
  {
   "cell_type": "markdown",
   "metadata": {},
   "source": [
    "# Load Images\n",
    "\n",
    "To load the data, we need to create a Dataset object class that Torchvision knows how to use. In short, we'll need to create a class and implement the `__getitem__` method. More information here: https://pytorch.org/tutorials/intermediate/torchvision_tutorial.html#defining-the-dataset\n",
    "\n",
    "To make it more convinient, we've created a `DetectionDataset` class that knows how to extract annotation information from the Pascal VOC format and meet the requirements of the Torchvision dataset object class. "
   ]
  },
  {
   "cell_type": "code",
   "execution_count": 5,
   "metadata": {},
   "outputs": [],
   "source": [
    "fridge_objects_dataset = DetectionDataset(DATA_PATH)"
   ]
  },
  {
   "cell_type": "markdown",
   "metadata": {},
   "source": [
    "Lets visualize some of the images to make sure the annotation looks correct."
   ]
  },
  {
   "cell_type": "code",
   "execution_count": 6,
   "metadata": {},
   "outputs": [],
   "source": [
    "fridge_objects_dataset.show_batch(rows=2)"
   ]
  },
  {
   "cell_type": "markdown",
   "metadata": {},
   "source": [
    "# Finetune a Pretrained Model\n",
    "\n",
    "For the DetectionLearner, we use FasterRCNN as the default model, and Stochastic Gradient Descent as our default optimizer. \n",
    "\n",
    "Our FasterRCNN model is pretrained on COCO, a large-scale object detection, segmentation, and captioning dataset that contains over 200K labeled images with over 80 label cateogories.\n",
    "\n",
    "When we create initialize DetectionLearner, we perform the following steps:\n",
    "1. split our dataset into train/test sets, and create the dataloaders for each\n",
    "1. set the model to the torchvision's FasterRCNN\n",
    "1. setup the optimizer, SGD in our case\n",
    "1. set a learning rate scheduler to torch.optim.lr_scheduler.StepLR"
   ]
  },
  {
   "cell_type": "code",
   "execution_count": 7,
   "metadata": {},
   "outputs": [],
   "source": [
    "detector = DetectionLearner(fridge_objects_dataset, LEARNING_RATE)"
   ]
  },
  {
   "cell_type": "markdown",
   "metadata": {},
   "source": [
    "Inspect our Datasets/DataLoaders to make sure it looks right."
   ]
  },
  {
   "cell_type": "code",
   "execution_count": 28,
   "metadata": {},
   "outputs": [
    {
     "name": "stdout",
     "output_type": "stream",
     "text": [
      "Training dataset: 78 | Training DataLoader: <torch.utils.data.dataloader.DataLoader object at 0x7f1da041c940>\n",
      "Testing dataset: 50 | Testing DataLoader: <torch.utils.data.dataloader.DataLoader object at 0x7f1da041cac8> \n"
     ]
    }
   ],
   "source": [
    "print(f\"\"\"\\\n",
    "Training dataset: {len(detector.train_ds)} | Training DataLoader: {detector.train_dl}\n",
    "Testing dataset: {len(detector.test_ds)} | Testing DataLoader: {detector.test_dl} \\\n",
    "\"\"\")"
   ]
  },
  {
   "cell_type": "markdown",
   "metadata": {},
   "source": [
    "Fine-tune the model using our training data loader (`train_dl`) and evaluate our results using our testing data loader (`test_dl`)."
   ]
  },
  {
   "cell_type": "code",
   "execution_count": 73,
   "metadata": {},
   "outputs": [
    {
     "name": "stdout",
     "output_type": "stream",
     "text": [
      "Epoch: [0]  [ 0/39]  eta: 0:00:16  lr: 0.000136  loss: 0.0104 (0.0104)  loss_classifier: 0.0069 (0.0069)  loss_box_reg: 0.0013 (0.0013)  loss_objectness: 0.0001 (0.0001)  loss_rpn_box_reg: 0.0021 (0.0021)  time: 0.4177  data: 0.1652  max mem: 4347\n",
      "Epoch: [0]  [10/39]  eta: 0:00:06  lr: 0.001451  loss: 0.0104 (0.0132)  loss_classifier: 0.0068 (0.0083)  loss_box_reg: 0.0018 (0.0021)  loss_objectness: 0.0001 (0.0001)  loss_rpn_box_reg: 0.0023 (0.0027)  time: 0.2130  data: 0.0191  max mem: 4347\n",
      "Epoch: [0]  [20/39]  eta: 0:00:03  lr: 0.002765  loss: 0.0109 (0.0129)  loss_classifier: 0.0068 (0.0075)  loss_box_reg: 0.0018 (0.0020)  loss_objectness: 0.0001 (0.0009)  loss_rpn_box_reg: 0.0023 (0.0025)  time: 0.1930  data: 0.0050  max mem: 4347\n",
      "Epoch: [0]  [30/39]  eta: 0:00:01  lr: 0.004080  loss: 0.0112 (0.0130)  loss_classifier: 0.0076 (0.0078)  loss_box_reg: 0.0016 (0.0021)  loss_objectness: 0.0001 (0.0006)  loss_rpn_box_reg: 0.0024 (0.0025)  time: 0.1935  data: 0.0055  max mem: 4347\n",
      "Epoch: [0]  [38/39]  eta: 0:00:00  lr: 0.005000  loss: 0.0121 (0.0132)  loss_classifier: 0.0082 (0.0079)  loss_box_reg: 0.0022 (0.0022)  loss_objectness: 0.0001 (0.0005)  loss_rpn_box_reg: 0.0027 (0.0026)  time: 0.1932  data: 0.0055  max mem: 4347\n",
      "Epoch: [0] Total time: 0:00:07 (0.1997 s / it)\n",
      "Epoch: [1]  [ 0/39]  eta: 0:00:16  lr: 0.005000  loss: 0.0142 (0.0142)  loss_classifier: 0.0089 (0.0089)  loss_box_reg: 0.0020 (0.0020)  loss_objectness: 0.0001 (0.0001)  loss_rpn_box_reg: 0.0032 (0.0032)  time: 0.4103  data: 0.1706  max mem: 4347\n",
      "Epoch: [1]  [10/39]  eta: 0:00:06  lr: 0.005000  loss: 0.0155 (0.0158)  loss_classifier: 0.0089 (0.0087)  loss_box_reg: 0.0026 (0.0027)  loss_objectness: 0.0001 (0.0011)  loss_rpn_box_reg: 0.0032 (0.0033)  time: 0.2127  data: 0.0193  max mem: 4347\n",
      "Epoch: [1]  [20/39]  eta: 0:00:03  lr: 0.005000  loss: 0.0151 (0.0151)  loss_classifier: 0.0083 (0.0082)  loss_box_reg: 0.0026 (0.0027)  loss_objectness: 0.0001 (0.0006)  loss_rpn_box_reg: 0.0037 (0.0035)  time: 0.1933  data: 0.0048  max mem: 4347\n",
      "Epoch: [1]  [30/39]  eta: 0:00:01  lr: 0.005000  loss: 0.0156 (0.0158)  loss_classifier: 0.0086 (0.0088)  loss_box_reg: 0.0027 (0.0028)  loss_objectness: 0.0001 (0.0005)  loss_rpn_box_reg: 0.0036 (0.0036)  time: 0.1938  data: 0.0056  max mem: 4347\n",
      "Epoch: [1]  [38/39]  eta: 0:00:00  lr: 0.005000  loss: 0.0171 (0.0162)  loss_classifier: 0.0097 (0.0092)  loss_box_reg: 0.0027 (0.0029)  loss_objectness: 0.0001 (0.0004)  loss_rpn_box_reg: 0.0037 (0.0037)  time: 0.1934  data: 0.0056  max mem: 4347\n",
      "Epoch: [1] Total time: 0:00:07 (0.1997 s / it)\n",
      "Epoch: [2]  [ 0/39]  eta: 0:00:15  lr: 0.000500  loss: 0.0277 (0.0277)  loss_classifier: 0.0182 (0.0182)  loss_box_reg: 0.0060 (0.0060)  loss_objectness: 0.0001 (0.0001)  loss_rpn_box_reg: 0.0034 (0.0034)  time: 0.3960  data: 0.1502  max mem: 4347\n",
      "Epoch: [2]  [10/39]  eta: 0:00:06  lr: 0.000500  loss: 0.0166 (0.0161)  loss_classifier: 0.0091 (0.0099)  loss_box_reg: 0.0028 (0.0029)  loss_objectness: 0.0001 (0.0001)  loss_rpn_box_reg: 0.0031 (0.0032)  time: 0.2115  data: 0.0182  max mem: 4347\n",
      "Epoch: [2]  [20/39]  eta: 0:00:03  lr: 0.000500  loss: 0.0142 (0.0153)  loss_classifier: 0.0073 (0.0089)  loss_box_reg: 0.0023 (0.0027)  loss_objectness: 0.0001 (0.0002)  loss_rpn_box_reg: 0.0029 (0.0035)  time: 0.1933  data: 0.0053  max mem: 4347\n",
      "Epoch: [2]  [30/39]  eta: 0:00:01  lr: 0.000500  loss: 0.0142 (0.0152)  loss_classifier: 0.0076 (0.0091)  loss_box_reg: 0.0022 (0.0026)  loss_objectness: 0.0002 (0.0002)  loss_rpn_box_reg: 0.0028 (0.0033)  time: 0.1981  data: 0.0095  max mem: 4347\n",
      "Epoch: [2]  [38/39]  eta: 0:00:00  lr: 0.000500  loss: 0.0127 (0.0149)  loss_classifier: 0.0080 (0.0090)  loss_box_reg: 0.0022 (0.0025)  loss_objectness: 0.0001 (0.0002)  loss_rpn_box_reg: 0.0024 (0.0031)  time: 0.1983  data: 0.0096  max mem: 4347\n",
      "Epoch: [2] Total time: 0:00:07 (0.2017 s / it)\n",
      "Epoch: [3]  [ 0/39]  eta: 0:00:16  lr: 0.000500  loss: 0.0098 (0.0098)  loss_classifier: 0.0040 (0.0040)  loss_box_reg: 0.0017 (0.0017)  loss_objectness: 0.0008 (0.0008)  loss_rpn_box_reg: 0.0034 (0.0034)  time: 0.4287  data: 0.1886  max mem: 4347\n",
      "Epoch: [3]  [10/39]  eta: 0:00:06  lr: 0.000500  loss: 0.0117 (0.0114)  loss_classifier: 0.0060 (0.0065)  loss_box_reg: 0.0017 (0.0020)  loss_objectness: 0.0001 (0.0002)  loss_rpn_box_reg: 0.0028 (0.0027)  time: 0.2139  data: 0.0210  max mem: 4347\n",
      "Epoch: [3]  [20/39]  eta: 0:00:03  lr: 0.000500  loss: 0.0118 (0.0115)  loss_classifier: 0.0073 (0.0070)  loss_box_reg: 0.0016 (0.0019)  loss_objectness: 0.0001 (0.0002)  loss_rpn_box_reg: 0.0022 (0.0024)  time: 0.1934  data: 0.0050  max mem: 4347\n",
      "Epoch: [3]  [30/39]  eta: 0:00:01  lr: 0.000500  loss: 0.0124 (0.0120)  loss_classifier: 0.0075 (0.0074)  loss_box_reg: 0.0015 (0.0019)  loss_objectness: 0.0001 (0.0002)  loss_rpn_box_reg: 0.0021 (0.0025)  time: 0.1940  data: 0.0056  max mem: 4347\n",
      "Epoch: [3]  [38/39]  eta: 0:00:00  lr: 0.000500  loss: 0.0096 (0.0118)  loss_classifier: 0.0056 (0.0074)  loss_box_reg: 0.0016 (0.0019)  loss_objectness: 0.0001 (0.0002)  loss_rpn_box_reg: 0.0019 (0.0024)  time: 0.1932  data: 0.0055  max mem: 4347\n",
      "Epoch: [3] Total time: 0:00:07 (0.2003 s / it)\n"
     ]
    }
   ],
   "source": [
    "detector.fit(EPOCHS, print_freq=30)"
   ]
  },
  {
   "cell_type": "markdown",
   "metadata": {},
   "source": [
    "Visualize the loss over time."
   ]
  },
  {
   "cell_type": "code",
   "execution_count": 76,
   "metadata": {},
   "outputs": [
    {
     "data": {
      "image/png": "[encoded data removed]",
      "text/plain": [
       "<Figure size 720x360 with 1 Axes>"
      ]
     },
     "metadata": {
      "needs_background": "light"
     },
     "output_type": "display_data"
    }
   ],
   "source": [
    "detector.plot_losses()"
   ]
  },
  {
   "cell_type": "code",
   "execution_count": 63,
   "metadata": {},
   "outputs": [
    {
     "name": "stdout",
     "output_type": "stream",
     "text": [
      "creating index...\n",
      "index created!\n",
      "Test:  [ 0/25]  eta: 0:00:06  model_time: 0.0975 (0.0975)  evaluator_time: 0.0022 (0.0022)  time: 0.2685  data: 0.1652  max mem: 4347\n",
      "Test:  [24/25]  eta: 0:00:00  model_time: 0.0725 (0.0738)  evaluator_time: 0.0022 (0.0024)  time: 0.0815  data: 0.0049  max mem: 4347\n",
      "Test: Total time: 0:00:02 (0.0903 s / it)\n",
      "Averaged stats: model_time: 0.0725 (0.0738)  evaluator_time: 0.0022 (0.0024)\n",
      "Accumulating evaluation results...\n",
      "DONE (t=0.02s).\n",
      "IoU metric: bbox\n",
      " Average Precision  (AP) @[ IoU=0.50:0.95 | area=   all | maxDets=100 ] = 0.685\n",
      " Average Precision  (AP) @[ IoU=0.50      | area=   all | maxDets=100 ] = 0.750\n",
      " Average Precision  (AP) @[ IoU=0.75      | area=   all | maxDets=100 ] = 0.750\n",
      " Average Precision  (AP) @[ IoU=0.50:0.95 | area= small | maxDets=100 ] = -1.000\n",
      " Average Precision  (AP) @[ IoU=0.50:0.95 | area=medium | maxDets=100 ] = -1.000\n",
      " Average Precision  (AP) @[ IoU=0.50:0.95 | area= large | maxDets=100 ] = 0.685\n",
      " Average Recall     (AR) @[ IoU=0.50:0.95 | area=   all | maxDets=  1 ] = 0.701\n",
      " Average Recall     (AR) @[ IoU=0.50:0.95 | area=   all | maxDets= 10 ] = 0.701\n",
      " Average Recall     (AR) @[ IoU=0.50:0.95 | area=   all | maxDets=100 ] = 0.701\n",
      " Average Recall     (AR) @[ IoU=0.50:0.95 | area= small | maxDets=100 ] = -1.000\n",
      " Average Recall     (AR) @[ IoU=0.50:0.95 | area=medium | maxDets=100 ] = -1.000\n",
      " Average Recall     (AR) @[ IoU=0.50:0.95 | area= large | maxDets=100 ] = 0.701\n"
     ]
    }
   ],
   "source": [
    "e = detector.evaluate()"
   ]
  },
  {
   "cell_type": "code",
   "execution_count": 89,
   "metadata": {},
   "outputs": [
    {
     "name": "stdout",
     "output_type": "stream",
     "text": [
      "<pycocotools.coco.COCO object at 0x7f1d8dd8bc88>\n"
     ]
    }
   ],
   "source": [
    "for iou_type, coco_eval in e.coco_eval.items():\n",
    "    print(coco_eval.cocoGt)"
   ]
  },
  {
   "cell_type": "markdown",
   "metadata": {},
   "source": [
    "# Inference"
   ]
  },
  {
   "cell_type": "code",
   "execution_count": 22,
   "metadata": {},
   "outputs": [],
   "source": [
    "# select image\n",
    "im_path = test_ds.dataset.root/'images'/test_ds.dataset.ims[randrange(len(test_ds))]\n",
    "im = Image.open(im_path)\n",
    "\n",
    "# Define PyTorch Transform\n",
    "transform = transforms.Compose([transforms.ToTensor()])\n",
    "\n",
    "# Apply the transform to the image\n",
    "im = transform(im).cuda()"
   ]
  },
  {
   "cell_type": "code",
   "execution_count": 23,
   "metadata": {},
   "outputs": [
    {
     "name": "stdout",
     "output_type": "stream",
     "text": [
      "Time spend: 0.14491987228393555\n"
     ]
    }
   ],
   "source": [
    "# put the model in evaluation mode\n",
    "model = detector.get_model().eval()\n",
    "\n",
    "with torch.no_grad():\n",
    "    start = time.time()\n",
    "    pred = model([im])\n",
    "    print(f\"Time spend: {time.time() - start}\")"
   ]
  },
  {
   "cell_type": "code",
   "execution_count": 24,
   "metadata": {},
   "outputs": [],
   "source": [
    "pred_labels, pred_boxes = get_bounding_boxes(pred)\n",
    "display_bounding_boxes(pred_boxes, [fridge_objects_dataset.categories[l] for l in pred_labels], im_path)"
   ]
  },
  {
   "cell_type": "code",
   "execution_count": 25,
   "metadata": {},
   "outputs": [
    {
     "data": {
      "text/plain": [
       "['can', 'carton', 'milk_bottle', '__background__', 'water_bottle']"
      ]
     },
     "execution_count": 25,
     "metadata": {},
     "output_type": "execute_result"
    }
   ],
   "source": [
    "fridge_objects_dataset.categories"
   ]
  },
  {
   "cell_type": "code",
   "execution_count": null,
   "metadata": {},
   "outputs": [],
   "source": []
  }
 ],
 "metadata": {
  "kernelspec": {
   "display_name": "Python (cv)",
   "language": "python",
   "name": "cv"
  },
  "language_info": {
   "codemirror_mode": {
    "name": "ipython",
    "version": 3
   },
   "file_extension": ".py",
   "mimetype": "text/x-python",
   "name": "python",
   "nbconvert_exporter": "python",
   "pygments_lexer": "ipython3",
   "version": "3.6.8"
  }
 },
 "nbformat": 4,
 "nbformat_minor": 2
}
