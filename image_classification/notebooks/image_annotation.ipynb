{
 "cells": [
  {
   "cell_type": "markdown",
   "metadata": {},
   "source": [
    "<i>Copyright (c) Microsoft Corporation. All rights reserved.</i>\n",
    "\n",
    "<i>Licensed under the MIT License.</i>"
   ]
  },
  {
   "cell_type": "markdown",
   "metadata": {},
   "source": [
    "# Image annotation UI"
   ]
  },
  {
   "cell_type": "markdown",
   "metadata": {},
   "source": [
    "Open-source annotation software for object detection and image segmentation exist, however for image classification we were not able to find a good tool. Hence this notebook provides a simple UI to label images. Each image can be annotated as one or multiple labels, or marked as \"Exclude\" to indicate that the image should be skipped."
   ]
  },
  {
   "cell_type": "code",
   "execution_count": 1,
   "metadata": {},
   "outputs": [],
   "source": [
    "# Ensure edits to libraries are loaded and plotting is shown in the notebook.\n",
    "%reload_ext autoreload\n",
    "%autoreload 2\n",
    "%matplotlib inline"
   ]
  },
  {
   "cell_type": "code",
   "execution_count": 7,
   "metadata": {},
   "outputs": [],
   "source": [
    "import os, sys\n",
    "sys.path.append(\"../\")\n",
    "import numpy as np\n",
    "from utils_ic.anno_utils import AnnotationWidget"
   ]
  },
  {
   "cell_type": "markdown",
   "metadata": {},
   "source": [
    "Set some parameters and show the UI. All annotations are saved to (and loaded from) a pandas dataframe in the `IM_DIR` directory with filename `ANNO_FILENAME`. "
   ]
  },
  {
   "cell_type": "code",
   "execution_count": 10,
   "metadata": {
    "tags": [
     "parameters"
    ]
   },
   "outputs": [],
   "source": [
    "LABELS = [\"bird\", \"can\", \"car\"]\n",
    "IM_DIR = \"../data/fridgeObjects/can\"\n",
    "ANNO_FILENAME = \"cvbp_ic_annotation.txt\"\n",
    "IM_FILENAMES = None #Set to None to annotate all images in IM_DIR"
   ]
  },
  {
   "cell_type": "markdown",
   "metadata": {},
   "source": [
    "Start the UI. Unset the \"allow multi-class labeling\" checkbox to enforce that each image can only be annotated with exactly one label. When in doubt what the annotation for an image should be, or for any other reason (e.g. blurry or over-exposed image), mark an image as \"EXCLUDE\".\n",
    "\n",
    "<center>\n",
    "<img src=\"anno_ui.jpg\" style=\"width: 400px;\"/>\n",
    "<i>Annotation UI example</i>\n",
    "</center>"
   ]
  },
  {
   "cell_type": "code",
   "execution_count": 11,
   "metadata": {},
   "outputs": [
    {
     "data": {
      "application/vnd.jupyter.widget-view+json": {
       "model_id": "46d030e3a8d54fdeb64b4430791bd207",
       "version_major": 2,
       "version_minor": 0
      },
      "text/plain": [
       "Tab(children=(VBox(children=(HBox(children=(Button(description='Previous', layout=Layout(width='80px'), style=…"
      ]
     },
     "metadata": {},
     "output_type": "display_data"
    }
   ],
   "source": [
    "w_anno_ui = AnnotationWidget(\n",
    "    labels = LABELS,\n",
    "    im_dir = IM_DIR,\n",
    "    anno_path = os.path.join(IM_DIR, ANNO_FILENAME),\n",
    "    im_filenames = IM_FILENAMES\n",
    ")\n",
    "display(w_anno_ui.show())"
   ]
  },
  {
   "cell_type": "markdown",
   "metadata": {},
   "source": [
    "Fast.ai does not support the \"EXCLUDE\" flag, and hence we provide an example below which loads the annotations generated using the AnnotationWidget and returns a dataframe which does not contain the excluded images. This dataframe can then be used in the typical way with fast.ai's `ImageList.from_df()` function to create an ImageList."
   ]
  },
  {
   "cell_type": "code",
   "execution_count": null,
   "metadata": {},
   "outputs": [],
   "source": [
    "#TODO"
   ]
  }
 ],
 "metadata": {
  "kernelspec": {
   "display_name": "Python (cvbp)",
   "language": "python",
   "name": "cvbp"
  },
  "language_info": {
   "codemirror_mode": {
    "name": "ipython",
    "version": 3
   },
   "file_extension": ".py",
   "mimetype": "text/x-python",
   "name": "python",
   "nbconvert_exporter": "python",
   "pygments_lexer": "ipython3",
   "version": "3.6.8"
  }
 },
 "nbformat": 4,
 "nbformat_minor": 2
}
