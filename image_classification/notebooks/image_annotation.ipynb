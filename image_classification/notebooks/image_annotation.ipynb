{
 "cells": [
  {
   "cell_type": "markdown",
   "metadata": {},
   "source": [
    "<i>Copyright (c) Microsoft Corporation. All rights reserved.</i>\n",
    "\n",
    "<i>Licensed under the MIT License.</i>"
   ]
  },
  {
   "cell_type": "markdown",
   "metadata": {},
   "source": [
    "# Image annotation UI"
   ]
  },
  {
   "cell_type": "markdown",
   "metadata": {},
   "source": [
    "In this notebook, we will ...\n",
    "\n",
    "It is surprisingly difficult to find a decent UI for image label annotation. The only UIs I was able to find are for object detection annotation.\n",
    "\n",
    "Hence this simple annotation notebook, which will be a jupyter widget that takes as input:\n",
    "\n",
    "    An image folder\n",
    "    A list of image filenames (or none to use all images in folder)\n",
    "    A annotation file path where to store the annotations\n",
    "    A list of labels\n",
    "\n",
    "The widget read existing annotation from file if exist. Then update file after each time the user clicks on\"next image\". Also a special label \"IGNORE\" should be supported.\n",
    "\n",
    "A helper function then converts from our annotation format to fast.ai's. This is likely necessary since not sure fast.ai supports the IGNORE label."
   ]
  },
  {
   "cell_type": "code",
   "execution_count": 1,
   "metadata": {},
   "outputs": [],
   "source": [
    "# Ensure edits to libraries are loaded and plotting is shown in the notebook.\n",
    "%reload_ext autoreload\n",
    "%autoreload 2\n",
    "%matplotlib inline"
   ]
  },
  {
   "cell_type": "markdown",
   "metadata": {},
   "source": [
    "Import fastai. For now, we'll import all (`from fastai.vision import *`) so that we can easily use different utilies provided by the fastai library."
   ]
  },
  {
   "cell_type": "code",
   "execution_count": 2,
   "metadata": {},
   "outputs": [],
   "source": [
    "import sys\n",
    "sys.path.append(\"../\")\n",
    "import numpy as np"
   ]
  },
  {
   "cell_type": "markdown",
   "metadata": {},
   "source": [
    "Set some parameters."
   ]
  },
  {
   "cell_type": "code",
   "execution_count": 3,
   "metadata": {
    "tags": [
     "parameters"
    ]
   },
   "outputs": [],
   "source": [
    "SINGLE_LABEL = False\n",
    "LABELS = [\"bird\", \"can\", \"car\"]\n",
    "IM_DIR = \"C:/Users/pabuehle/Desktop/ComputerVisionBestPractices/image_classification/data/fridgeObjects/can\"\n",
    "ANNO_FILENAME = \"cvbp_ic_annotation.txt\"\n",
    "        "
   ]
  },
  {
   "cell_type": "markdown",
   "metadata": {},
   "source": [
    "---"
   ]
  },
  {
   "cell_type": "code",
   "execution_count": 4,
   "metadata": {},
   "outputs": [],
   "source": [
    "from utils_ic.anno_utils import AnnotationWidget"
   ]
  },
  {
   "cell_type": "code",
   "execution_count": 10,
   "metadata": {},
   "outputs": [
    {
     "data": {
      "application/vnd.jupyter.widget-view+json": {
       "model_id": "f1bfc2898b1044c29809112d0e43f956",
       "version_major": 2,
       "version_minor": 0
      },
      "text/plain": [
       "Tab(children=(VBox(children=(HBox(children=(Button(description='Previous', layout=Layout(width='80px'), style=…"
      ]
     },
     "metadata": {},
     "output_type": "display_data"
    },
    {
     "name": "stdout",
     "output_type": "stream",
     "text": [
      "Setting self.annos[im_filename][\"exclude\"] set to True\n",
      "    a nd self.annos[im_filename][\"labels\"] set to []\n",
      "Setting self.annos[im_filename][\"exclude\"] set to False\n",
      "    a nd self.annos[im_filename][\"labels\"] set to ['bird']\n",
      "Setting self.annos[im_filename][\"exclude\"] set to False\n",
      "    a nd self.annos[im_filename][\"labels\"] set to ['bird']\n"
     ]
    }
   ],
   "source": [
    "w_results = AnnotationWidget(\n",
    "    labels = LABELS,\n",
    "    im_dir = IM_DIR,\n",
    "    anno_filename = ANNO_FILENAME,\n",
    "    im_filenames = None\n",
    ")\n",
    "display(w_results.show())"
   ]
  },
  {
   "cell_type": "code",
   "execution_count": null,
   "metadata": {},
   "outputs": [],
   "source": [
    "dic = {}\n",
    "dic == dict()"
   ]
  },
  {
   "cell_type": "markdown",
   "metadata": {},
   "source": [
    "## 1. Prepare Image Classification Dataset"
   ]
  },
  {
   "cell_type": "markdown",
   "metadata": {},
   "source": [
    "In this notebook, we'll use a toy dataset called *Fridge Objects*, which consists of 134 images of can, carton, milk bottle and water bottle photos taken with different backgrounds. With our helper function, the data set will be downloaded and unzip to `image_classification/data`.\n",
    "\n",
    "Let's set that directory to our `path` variable, which we'll use throughout the notebook, and checkout what's inside:"
   ]
  },
  {
   "cell_type": "code",
   "execution_count": null,
   "metadata": {},
   "outputs": [],
   "source": [
    "path = Path(DATA_PATH)\n",
    "path.ls()"
   ]
  },
  {
   "cell_type": "markdown",
   "metadata": {},
   "source": [
    "To see details of each sample and prediction results, we use our widget helper class `ResultsWidget`. The widget shows each test image along with its ground truth label and model's prediction scores. We can use this tool to see how our model predicts each image and debug the model if needed.\n",
    "\n",
    "<img src=\"https://cvbp.blob.core.windows.net/public/images/ic_widget.png\" width=\"600\"/>\n",
    "<center><i>Image Classification Result Widget</i></center>"
   ]
  },
  {
   "cell_type": "code",
   "execution_count": null,
   "metadata": {
    "scrolled": false
   },
   "outputs": [],
   "source": [
    "w_results = ResultsWidget(\n",
    "    dataset=learn.data.valid_ds,\n",
    "    y_score=pred_scores,\n",
    "    y_label=[data.classes[x] for x in np.argmax(pred_scores, axis=1)]\n",
    ")\n",
    "display(w_results.show())"
   ]
  },
  {
   "cell_type": "markdown",
   "metadata": {},
   "source": [
    "That's pretty much it! Now you can bring your own dataset and train your model on them easily. "
   ]
  },
  {
   "cell_type": "code",
   "execution_count": null,
   "metadata": {},
   "outputs": [],
   "source": [
    "vec = [\"a\", \"bb\", \"c\"]"
   ]
  },
  {
   "cell_type": "code",
   "execution_count": null,
   "metadata": {},
   "outputs": [],
   "source": [
    "np.where(np.array(vec) ==  \"a\")"
   ]
  },
  {
   "cell_type": "code",
   "execution_count": null,
   "metadata": {},
   "outputs": [],
   "source": []
  }
 ],
 "metadata": {
  "kernelspec": {
   "display_name": "Python (cvbp)",
   "language": "python",
   "name": "cvbp"
  },
  "language_info": {
   "codemirror_mode": {
    "name": "ipython",
    "version": 3
   },
   "file_extension": ".py",
   "mimetype": "text/x-python",
   "name": "python",
   "nbconvert_exporter": "python",
   "pygments_lexer": "ipython3",
   "version": "3.6.8"
  }
 },
 "nbformat": 4,
 "nbformat_minor": 2
}
