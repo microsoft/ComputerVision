{
 "cells": [
  {
   "cell_type": "markdown",
   "metadata": {},
   "source": [
    "<i>Copyright (c) Microsoft Corporation. All rights reserved.</i>\n",
    "\n",
    "<i>Licensed under the MIT License.</i>"
   ]
  },
  {
   "cell_type": "markdown",
   "metadata": {},
   "source": [
    "# Image annotation UI"
   ]
  },
  {
   "cell_type": "markdown",
   "metadata": {},
   "source": [
    "Open-source annotation software for object detection and image segmentation exist, however for image classification we were not able to find a good tool. Hence this notebook provides a simple UI to label images. Each image can be annotated as one or multiple labels, or marked as \"Exclude\" to indicate that the image should not be used for model trainining or evaluation."
   ]
  },
  {
   "cell_type": "code",
   "execution_count": 1,
   "metadata": {},
   "outputs": [],
   "source": [
    "# Ensure edits to libraries are loaded and plotting is shown in the notebook.\n",
    "%reload_ext autoreload\n",
    "%autoreload 2\n",
    "%matplotlib inline"
   ]
  },
  {
   "cell_type": "code",
   "execution_count": 2,
   "metadata": {},
   "outputs": [],
   "source": [
    "import os, sys\n",
    "sys.path.append(\"../\")\n",
    "import numpy as np\n",
    "from utils_ic.anno_utils import AnnotationWidget"
   ]
  },
  {
   "cell_type": "markdown",
   "metadata": {},
   "source": [
    "Set parameters."
   ]
  },
  {
   "cell_type": "code",
   "execution_count": null,
   "metadata": {
    "tags": [
     "parameters"
    ]
   },
   "outputs": [],
   "source": [
    "IM_DIR = \"../data/fridgeObjects/can\"\n",
    "ANNO_PATH = \"cvbp_ic_annotation.csv\""
   ]
  },
  {
   "cell_type": "markdown",
   "metadata": {},
   "source": [
    "Start the UI. Set the \"Allow multi-class labeling\" checkbox to allow that images can be annotated with multiple labels. When in doubt what the annotation for an image should be, or for any other reason (e.g. blur or over-exposure), mark an image as \"EXCLUDE\". All annotations are saved to (and loaded from) a pandas dataframe with path specified in `anno_path`. \n",
    "\n",
    "<center>\n",
    "<img src=\"https://cvbp.blob.core.windows.net/public/images/document_images/anno_ui2.jpg\" style=\"width: 600px;\"/>\n",
    "<i>Annotation UI example</i>\n",
    "</center>"
   ]
  },
  {
   "cell_type": "code",
   "execution_count": null,
   "metadata": {},
   "outputs": [],
   "source": [
    "w_anno_ui = AnnotationWidget(\n",
    "    labels       = [\"can\", \"carton\", \"milk_bottle\", \"water_bottle\"],\n",
    "    im_dir       = IM_DIR,\n",
    "    anno_path    = ANNO_PATH,\n",
    "    im_filenames = None #Set to None to annotate all images in IM_DIR\n",
    ")\n",
    "\n",
    "display(w_anno_ui.show())"
   ]
  },
  {
   "cell_type": "markdown",
   "metadata": {},
   "source": [
    "Fast.ai supports using a dataframe as input to specify image paths and ground truth annotations. However, fast.ai expects the dataframe to follow a certain structure and does not support the exclude flag. We provide an example below which loads the annotations generated using the AnnotationWidget, returns a dataframe which fast.ai can load, and finally uses fast.ai's `from_df()` and `label_from_df()` functions to create an ImageList with ground truth labels.\n",
    "\n",
    "```python\n",
    "import pandas as pd\n",
    "from fastai.vision import ImageList,ImageDataBunch\n",
    "\n",
    "# Load annotation, discard excluded images, and convert to format fastai expects\n",
    "annos = pd.read_pickle(ANNO_PATH) \n",
    "keys = [key for key in annos if (not annos[key].exclude and len(annos[key].labels)>0)]\n",
    "df = pd.DataFrame([(anno[0], \",\".join(anno[1].labels)) for anno in annos[keys].items()], \n",
    "                  columns = [\"name\", \"label\"])\n",
    "display(df)\n",
    "\n",
    "# Example how to create an ImageList and assign labels using the dataframe. Note that the paths  \n",
    "# in df are relative and hence IM_DIR needs to be provided as well to from_df().\n",
    "data = (ImageList.from_df(path=IM_DIR, df = df)\n",
    "       .split_by_rand_pct(valid_pct=0.5)\n",
    "       .label_from_df(label_delim=','))\n",
    "```"
   ]
  }
 ],
 "metadata": {
  "kernelspec": {
   "display_name": "Python (cvbp)",
   "language": "python",
   "name": "cvbp"
  },
  "language_info": {
   "codemirror_mode": {
    "name": "ipython",
    "version": 3
   },
   "file_extension": ".py",
   "mimetype": "text/x-python",
   "name": "python",
   "nbconvert_exporter": "python",
   "pygments_lexer": "ipython3",
   "version": "3.6.8"
  }
 },
 "nbformat": 4,
 "nbformat_minor": 2
}
