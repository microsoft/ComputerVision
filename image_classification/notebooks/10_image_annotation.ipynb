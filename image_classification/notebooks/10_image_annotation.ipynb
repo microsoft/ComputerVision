{
 "cells": [
  {
   "cell_type": "markdown",
   "metadata": {},
   "source": [
    "<i>Copyright (c) Microsoft Corporation. All rights reserved.</i>\n",
    "\n",
    "<i>Licensed under the MIT License.</i>"
   ]
  },
  {
   "cell_type": "markdown",
   "metadata": {},
   "source": [
    "# Image annotation UI"
   ]
  },
  {
   "cell_type": "markdown",
   "metadata": {},
   "source": [
    "Open-source annotation software for object detection and image segmentation exist, however for image classification we were not able to find a good tool. Hence this notebook provides a simple UI to label images. Each image can be annotated as one or multiple labels, or marked as \"Exclude\" to indicate that the image should be skipped."
   ]
  },
  {
   "cell_type": "code",
   "execution_count": 1,
   "metadata": {
    "collapsed": true
   },
   "outputs": [],
   "source": [
    "# Ensure edits to libraries are loaded and plotting is shown in the notebook.\n",
    "%reload_ext autoreload\n",
    "%autoreload 2\n",
    "%matplotlib inline"
   ]
  },
  {
   "cell_type": "code",
   "execution_count": 2,
   "metadata": {
    "collapsed": true
   },
   "outputs": [],
   "source": [
    "import os, sys\n",
    "sys.path.append(\"../\")\n",
    "import numpy as np\n",
    "from utils_ic.anno_utils import AnnotationWidget"
   ]
  },
  {
   "cell_type": "markdown",
   "metadata": {},
   "source": [
    "Start the UI. Unset the \"allow multi-class labeling\" checkbox to enforce that each image can only be annotated with exactly one label. When in doubt what the annotation for an image should be, or for any other reason (e.g. blurry or over-exposed image), mark an image as \"EXCLUDE\". All annotations are saved to (and loaded from) a pandas dataframe in the `IM_DIR` directory with filename `ANNO_FILENAME`. \n",
    "\n",
    "<center>\n",
    "<img src=\"https://cvbp.blob.core.windows.net/public/images/document_images/anno_ui.jpg\" style=\"width: 600px;\"/>\n",
    "<i>Annotation UI example</i>\n",
    "</center>"
   ]
  },
  {
   "cell_type": "code",
   "execution_count": 3,
   "metadata": {
    "pixiedust": {
     "displayParams": {}
    }
   },
   "outputs": [
    {
     "name": "stdout",
     "output_type": "stream",
     "text": [
      "Loading existing annotation from cvbp_ic_annotation.csv.\n"
     ]
    },
    {
     "data": {
      "application/vnd.jupyter.widget-view+json": {
       "model_id": "cd3ff71448084244a870ad50d21eb726",
       "version_major": 2,
       "version_minor": 0
      },
      "text/plain": [
       "Tab(children=(VBox(children=(HBox(children=(Button(description='Previous', layout=Layout(width='80px'), style=…"
      ]
     },
     "metadata": {},
     "output_type": "display_data"
    }
   ],
   "source": [
    "ANNO_PATH = \"cvbp_ic_annotation.csv\"\n",
    "\n",
    "w_anno_ui = AnnotationWidget(\n",
    "    labels       = [\"bird\", \"can\", \"car\"],\n",
    "    im_dir       = \"../data/fridgeObjects/can\",\n",
    "    anno_path    = ANNO_PATH,\n",
    "    im_filenames = None #Set to None to annotate all images in IM_DIR\n",
    ")\n",
    "\n",
    "display(w_anno_ui.show())"
   ]
  },
  {
   "cell_type": "markdown",
   "metadata": {},
   "source": [
    "Fast.ai does not support the \"EXCLUDE\" flag, and hence we provide an example below which loads the annotations generated using the AnnotationWidget and returns a dataframe which does not contain the excluded images. This dataframe can then be used in the typical way with fast.ai's `ImageList.from_df()` function to create an ImageList."
   ]
  },
  {
   "cell_type": "code",
   "execution_count": null,
   "metadata": {
    "scrolled": true
   },
   "outputs": [],
   "source": [
    "import pandas as pd\n",
    "\n",
    "# Load annotation and only keep the non-excluded images\n",
    "df_annotations = pd.read_pickle(ANNO_PATH) \n",
    "indices = [key for key in annotations if not annotations[key].exclude]\n",
    "df_annotations_not_excluded = annotations[indices]"
   ]
  }
 ],
 "metadata": {
  "kernelspec": {
   "display_name": "Python (cvbp)",
   "language": "python",
   "name": "cvbp"
  },
  "language_info": {
   "codemirror_mode": {
    "name": "ipython",
    "version": 3
   },
   "file_extension": ".py",
   "mimetype": "text/x-python",
   "name": "python",
   "nbconvert_exporter": "python",
   "pygments_lexer": "ipython3",
   "version": "3.6.8"
  }
 },
 "nbformat": 4,
 "nbformat_minor": 2
}
