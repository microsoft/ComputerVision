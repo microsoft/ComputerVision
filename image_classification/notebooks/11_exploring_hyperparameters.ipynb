{
 "cells": [
  {
   "cell_type": "markdown",
   "metadata": {},
   "source": [
    "# Testing different Hyperparameters"
   ]
  },
  {
   "cell_type": "markdown",
   "metadata": {},
   "source": [
    "Lets say we want to learn more about __how different learning rates and different image sizes affect our model's accuracy when restricted to 10 epochs__, and we want to build an experiment to test out these hyperparameters.\n",
    "\n",
    "In this notebook, we'll walk through how we use out Experiment module with the following:\n",
    "\n",
    "- use python to perform this experiment\n",
    "- use the CLI to perform this experiment\n",
    "- evalute the results using Pandas"
   ]
  },
  {
   "cell_type": "markdown",
   "metadata": {},
   "source": [
    "---"
   ]
  },
  {
   "cell_type": "code",
   "execution_count": 1,
   "metadata": {},
   "outputs": [],
   "source": [
    "import sys\n",
    "sys.path.append(\"../\")\n",
    "import os\n",
    "\n",
    "from utils_ic import ic_root_path\n",
    "from utils_ic.datasets import unzip_url, Urls\n",
    "from utils_ic.experiment import *"
   ]
  },
  {
   "cell_type": "markdown",
   "metadata": {},
   "source": [
    "Lets download some data that we want to test on. To use the experiments tool for single label classification, we'll need to make sure that the data is stored such that images are sorted into their classes inside of a subfolder. In this notebook, we'll use the Fridge Objects dataset provided in `utils_ic.datasets.Urls`, which is stored in the correct format."
   ]
  },
  {
   "cell_type": "code",
   "execution_count": 2,
   "metadata": {},
   "outputs": [],
   "source": [
    "input_data = unzip_url(Urls.fridge_objects_path, exist_ok=True)"
   ]
  },
  {
   "cell_type": "markdown",
   "metadata": {},
   "source": [
    "## Using Python"
   ]
  },
  {
   "cell_type": "markdown",
   "metadata": {},
   "source": [
    "We start by creating the Benchmark object:"
   ]
  },
  {
   "cell_type": "code",
   "execution_count": 3,
   "metadata": {},
   "outputs": [],
   "source": [
    "exp = Experiment()"
   ]
  },
  {
   "cell_type": "markdown",
   "metadata": {},
   "source": [
    "Before we start testing, it's a good idea to see what the default parameters. We can use a the property `parameters` to easily see those default values."
   ]
  },
  {
   "cell_type": "code",
   "execution_count": 4,
   "metadata": {},
   "outputs": [
    {
     "data": {
      "text/plain": [
       "OrderedDict([('learning_rate', [0.0001]),\n",
       "             ('epochs', [15]),\n",
       "             ('batch_size', [16]),\n",
       "             ('im_size', [299]),\n",
       "             ('architecture',\n",
       "              [<Architecture.resnet18: functools.partial(<function resnet18 at 0x7f7dffd4e488>)>]),\n",
       "             ('transform', [True]),\n",
       "             ('dropout', [0.5]),\n",
       "             ('weight_decay', [0.01]),\n",
       "             ('training_schedule',\n",
       "              [<TrainingSchedule.head_first_then_body: 3>]),\n",
       "             ('discriminative_lr', [True]),\n",
       "             ('one_cycle_policy', [True])])"
      ]
     },
     "execution_count": 4,
     "metadata": {},
     "output_type": "execute_result"
    }
   ],
   "source": [
    "exp.parameters"
   ]
  },
  {
   "cell_type": "markdown",
   "metadata": {},
   "source": [
    "Now that we know the defaults, we can pass it the parameters we want to test. \n",
    "\n",
    "In this notebook, we want to see the effect of different learning rates across different image sizes using only 8 epochs (the default number of epochs is 15). To do so, I would run the `update_parameters` functions as follows:\n",
    "\n",
    "```python\n",
    "exp.update_parameters(\n",
    "    learning_rate=[1e-3, 1e-4, 1e-5], \n",
    "    im_size=[99, 299], \n",
    "    epochs=[8]\n",
    ")\n",
    "```\n",
    "\n",
    "Notice that all parameters must be passed in as a list, including single values such as `epochs=[8]`.\n",
    "\n",
    "These parameters will be used to calculate the number of permutations to run. In this case, we've passed in `learning_rate=[1e-3, 1e-4, 1e-5]`, `im_size=[99, 299]`, and `epochs=[8]`. This will result in 3 X 2 X 1 total permutations (in otherwords, 6 permutations). "
   ]
  },
  {
   "cell_type": "code",
   "execution_count": 5,
   "metadata": {},
   "outputs": [],
   "source": [
    "exp.update_parameters(learning_rate=[1e-3, 1e-4, 1e-5], im_size=[299, 499], epochs=[8])"
   ]
  },
  {
   "cell_type": "markdown",
   "metadata": {},
   "source": [
    "Now that we have our parameters defined, we call the `run()` function with the dataset to test on. \n",
    "\n",
    "We can also optionally pass in:\n",
    "- the number of repetitions to run each permutation (default is 3)\n",
    "- whether or not we want the training to stop early if the metric (accuracy) doesn't improve by 0.01 (1%) over 3 epochs (default is False)\n",
    "\n",
    "The `run` function returns a multi-index dataframe which we can work with right away."
   ]
  },
  {
   "cell_type": "code",
   "execution_count": 6,
   "metadata": {},
   "outputs": [
    {
     "name": "stdout",
     "output_type": "stream",
     "text": [
      "this Learner object self-destroyed - it still exists, but no longer usable\n"
     ]
    },
    {
     "data": {
      "text/html": [
       "<div>\n",
       "<style scoped>\n",
       "    .dataframe tbody tr th:only-of-type {\n",
       "        vertical-align: middle;\n",
       "    }\n",
       "\n",
       "    .dataframe tbody tr th {\n",
       "        vertical-align: top;\n",
       "    }\n",
       "\n",
       "    .dataframe thead th {\n",
       "        text-align: right;\n",
       "    }\n",
       "</style>\n",
       "<table border=\"1\" class=\"dataframe\">\n",
       "  <thead>\n",
       "    <tr style=\"text-align: right;\">\n",
       "      <th></th>\n",
       "      <th></th>\n",
       "      <th></th>\n",
       "      <th>duration</th>\n",
       "      <th>accuracy</th>\n",
       "    </tr>\n",
       "  </thead>\n",
       "  <tbody>\n",
       "    <tr>\n",
       "      <th rowspan=\"6\" valign=\"top\">0</th>\n",
       "      <th>PARAMETERS [learning_rate: 0.0001]|[epochs: 8]|[batch_size: 16]|[im_size: 299]|[arch: resnet18]|[transforms: True]|[dropout: 0.5]|[weight_decay: 0.01]|[training_schedule: head_first_then_body]|[discriminative_lr: True]|[one_cycle_policy: True]</th>\n",
       "      <th>fridgeObjects</th>\n",
       "      <td>31.410849</td>\n",
       "      <td>0.931818</td>\n",
       "    </tr>\n",
       "    <tr>\n",
       "      <th>PARAMETERS [learning_rate: 0.0001]|[epochs: 8]|[batch_size: 16]|[im_size: 499]|[arch: resnet18]|[transforms: True]|[dropout: 0.5]|[weight_decay: 0.01]|[training_schedule: head_first_then_body]|[discriminative_lr: True]|[one_cycle_policy: True]</th>\n",
       "      <th>fridgeObjects</th>\n",
       "      <td>38.718033</td>\n",
       "      <td>0.977273</td>\n",
       "    </tr>\n",
       "    <tr>\n",
       "      <th>PARAMETERS [learning_rate: 0.001]|[epochs: 8]|[batch_size: 16]|[im_size: 299]|[arch: resnet18]|[transforms: True]|[dropout: 0.5]|[weight_decay: 0.01]|[training_schedule: head_first_then_body]|[discriminative_lr: True]|[one_cycle_policy: True]</th>\n",
       "      <th>fridgeObjects</th>\n",
       "      <td>37.852972</td>\n",
       "      <td>0.863636</td>\n",
       "    </tr>\n",
       "    <tr>\n",
       "      <th>PARAMETERS [learning_rate: 0.001]|[epochs: 8]|[batch_size: 16]|[im_size: 499]|[arch: resnet18]|[transforms: True]|[dropout: 0.5]|[weight_decay: 0.01]|[training_schedule: head_first_then_body]|[discriminative_lr: True]|[one_cycle_policy: True]</th>\n",
       "      <th>fridgeObjects</th>\n",
       "      <td>44.820808</td>\n",
       "      <td>0.954545</td>\n",
       "    </tr>\n",
       "    <tr>\n",
       "      <th>PARAMETERS [learning_rate: 1e-05]|[epochs: 8]|[batch_size: 16]|[im_size: 299]|[arch: resnet18]|[transforms: True]|[dropout: 0.5]|[weight_decay: 0.01]|[training_schedule: head_first_then_body]|[discriminative_lr: True]|[one_cycle_policy: True]</th>\n",
       "      <th>fridgeObjects</th>\n",
       "      <td>30.239053</td>\n",
       "      <td>0.977273</td>\n",
       "    </tr>\n",
       "    <tr>\n",
       "      <th>PARAMETERS [learning_rate: 1e-05]|[epochs: 8]|[batch_size: 16]|[im_size: 499]|[arch: resnet18]|[transforms: True]|[dropout: 0.5]|[weight_decay: 0.01]|[training_schedule: head_first_then_body]|[discriminative_lr: True]|[one_cycle_policy: True]</th>\n",
       "      <th>fridgeObjects</th>\n",
       "      <td>37.803058</td>\n",
       "      <td>0.931818</td>\n",
       "    </tr>\n",
       "    <tr>\n",
       "      <th rowspan=\"6\" valign=\"top\">1</th>\n",
       "      <th>PARAMETERS [learning_rate: 0.0001]|[epochs: 8]|[batch_size: 16]|[im_size: 299]|[arch: resnet18]|[transforms: True]|[dropout: 0.5]|[weight_decay: 0.01]|[training_schedule: head_first_then_body]|[discriminative_lr: True]|[one_cycle_policy: True]</th>\n",
       "      <th>fridgeObjects</th>\n",
       "      <td>26.006287</td>\n",
       "      <td>1.000000</td>\n",
       "    </tr>\n",
       "    <tr>\n",
       "      <th>PARAMETERS [learning_rate: 0.0001]|[epochs: 8]|[batch_size: 16]|[im_size: 499]|[arch: resnet18]|[transforms: True]|[dropout: 0.5]|[weight_decay: 0.01]|[training_schedule: head_first_then_body]|[discriminative_lr: True]|[one_cycle_policy: True]</th>\n",
       "      <th>fridgeObjects</th>\n",
       "      <td>36.419786</td>\n",
       "      <td>0.977273</td>\n",
       "    </tr>\n",
       "    <tr>\n",
       "      <th>PARAMETERS [learning_rate: 0.001]|[epochs: 8]|[batch_size: 16]|[im_size: 299]|[arch: resnet18]|[transforms: True]|[dropout: 0.5]|[weight_decay: 0.01]|[training_schedule: head_first_then_body]|[discriminative_lr: True]|[one_cycle_policy: True]</th>\n",
       "      <th>fridgeObjects</th>\n",
       "      <td>28.395461</td>\n",
       "      <td>0.772727</td>\n",
       "    </tr>\n",
       "    <tr>\n",
       "      <th>PARAMETERS [learning_rate: 0.001]|[epochs: 8]|[batch_size: 16]|[im_size: 499]|[arch: resnet18]|[transforms: True]|[dropout: 0.5]|[weight_decay: 0.01]|[training_schedule: head_first_then_body]|[discriminative_lr: True]|[one_cycle_policy: True]</th>\n",
       "      <th>fridgeObjects</th>\n",
       "      <td>43.805897</td>\n",
       "      <td>0.909091</td>\n",
       "    </tr>\n",
       "    <tr>\n",
       "      <th>PARAMETERS [learning_rate: 1e-05]|[epochs: 8]|[batch_size: 16]|[im_size: 299]|[arch: resnet18]|[transforms: True]|[dropout: 0.5]|[weight_decay: 0.01]|[training_schedule: head_first_then_body]|[discriminative_lr: True]|[one_cycle_policy: True]</th>\n",
       "      <th>fridgeObjects</th>\n",
       "      <td>30.652590</td>\n",
       "      <td>0.977273</td>\n",
       "    </tr>\n",
       "    <tr>\n",
       "      <th>PARAMETERS [learning_rate: 1e-05]|[epochs: 8]|[batch_size: 16]|[im_size: 499]|[arch: resnet18]|[transforms: True]|[dropout: 0.5]|[weight_decay: 0.01]|[training_schedule: head_first_then_body]|[discriminative_lr: True]|[one_cycle_policy: True]</th>\n",
       "      <th>fridgeObjects</th>\n",
       "      <td>37.239413</td>\n",
       "      <td>0.977273</td>\n",
       "    </tr>\n",
       "    <tr>\n",
       "      <th rowspan=\"6\" valign=\"top\">2</th>\n",
       "      <th>PARAMETERS [learning_rate: 0.0001]|[epochs: 8]|[batch_size: 16]|[im_size: 299]|[arch: resnet18]|[transforms: True]|[dropout: 0.5]|[weight_decay: 0.01]|[training_schedule: head_first_then_body]|[discriminative_lr: True]|[one_cycle_policy: True]</th>\n",
       "      <th>fridgeObjects</th>\n",
       "      <td>31.896873</td>\n",
       "      <td>0.954545</td>\n",
       "    </tr>\n",
       "    <tr>\n",
       "      <th>PARAMETERS [learning_rate: 0.0001]|[epochs: 8]|[batch_size: 16]|[im_size: 499]|[arch: resnet18]|[transforms: True]|[dropout: 0.5]|[weight_decay: 0.01]|[training_schedule: head_first_then_body]|[discriminative_lr: True]|[one_cycle_policy: True]</th>\n",
       "      <th>fridgeObjects</th>\n",
       "      <td>39.929393</td>\n",
       "      <td>0.954545</td>\n",
       "    </tr>\n",
       "    <tr>\n",
       "      <th>PARAMETERS [learning_rate: 0.001]|[epochs: 8]|[batch_size: 16]|[im_size: 299]|[arch: resnet18]|[transforms: True]|[dropout: 0.5]|[weight_decay: 0.01]|[training_schedule: head_first_then_body]|[discriminative_lr: True]|[one_cycle_policy: True]</th>\n",
       "      <th>fridgeObjects</th>\n",
       "      <td>30.885216</td>\n",
       "      <td>0.931818</td>\n",
       "    </tr>\n",
       "    <tr>\n",
       "      <th>PARAMETERS [learning_rate: 0.001]|[epochs: 8]|[batch_size: 16]|[im_size: 499]|[arch: resnet18]|[transforms: True]|[dropout: 0.5]|[weight_decay: 0.01]|[training_schedule: head_first_then_body]|[discriminative_lr: True]|[one_cycle_policy: True]</th>\n",
       "      <th>fridgeObjects</th>\n",
       "      <td>43.662686</td>\n",
       "      <td>1.000000</td>\n",
       "    </tr>\n",
       "    <tr>\n",
       "      <th>PARAMETERS [learning_rate: 1e-05]|[epochs: 8]|[batch_size: 16]|[im_size: 299]|[arch: resnet18]|[transforms: True]|[dropout: 0.5]|[weight_decay: 0.01]|[training_schedule: head_first_then_body]|[discriminative_lr: True]|[one_cycle_policy: True]</th>\n",
       "      <th>fridgeObjects</th>\n",
       "      <td>32.134002</td>\n",
       "      <td>0.931818</td>\n",
       "    </tr>\n",
       "    <tr>\n",
       "      <th>PARAMETERS [learning_rate: 1e-05]|[epochs: 8]|[batch_size: 16]|[im_size: 499]|[arch: resnet18]|[transforms: True]|[dropout: 0.5]|[weight_decay: 0.01]|[training_schedule: head_first_then_body]|[discriminative_lr: True]|[one_cycle_policy: True]</th>\n",
       "      <th>fridgeObjects</th>\n",
       "      <td>39.723982</td>\n",
       "      <td>0.931818</td>\n",
       "    </tr>\n",
       "  </tbody>\n",
       "</table>\n",
       "</div>"
      ],
      "text/plain": [
       "                                                                     duration  \\\n",
       "0 PARAMETERS [learning_rate: 0.0001]|[epochs: 8]|... fridgeObjects  31.410849   \n",
       "  PARAMETERS [learning_rate: 0.0001]|[epochs: 8]|... fridgeObjects  38.718033   \n",
       "  PARAMETERS [learning_rate: 0.001]|[epochs: 8]|[... fridgeObjects  37.852972   \n",
       "  PARAMETERS [learning_rate: 0.001]|[epochs: 8]|[... fridgeObjects  44.820808   \n",
       "  PARAMETERS [learning_rate: 1e-05]|[epochs: 8]|[... fridgeObjects  30.239053   \n",
       "  PARAMETERS [learning_rate: 1e-05]|[epochs: 8]|[... fridgeObjects  37.803058   \n",
       "1 PARAMETERS [learning_rate: 0.0001]|[epochs: 8]|... fridgeObjects  26.006287   \n",
       "  PARAMETERS [learning_rate: 0.0001]|[epochs: 8]|... fridgeObjects  36.419786   \n",
       "  PARAMETERS [learning_rate: 0.001]|[epochs: 8]|[... fridgeObjects  28.395461   \n",
       "  PARAMETERS [learning_rate: 0.001]|[epochs: 8]|[... fridgeObjects  43.805897   \n",
       "  PARAMETERS [learning_rate: 1e-05]|[epochs: 8]|[... fridgeObjects  30.652590   \n",
       "  PARAMETERS [learning_rate: 1e-05]|[epochs: 8]|[... fridgeObjects  37.239413   \n",
       "2 PARAMETERS [learning_rate: 0.0001]|[epochs: 8]|... fridgeObjects  31.896873   \n",
       "  PARAMETERS [learning_rate: 0.0001]|[epochs: 8]|... fridgeObjects  39.929393   \n",
       "  PARAMETERS [learning_rate: 0.001]|[epochs: 8]|[... fridgeObjects  30.885216   \n",
       "  PARAMETERS [learning_rate: 0.001]|[epochs: 8]|[... fridgeObjects  43.662686   \n",
       "  PARAMETERS [learning_rate: 1e-05]|[epochs: 8]|[... fridgeObjects  32.134002   \n",
       "  PARAMETERS [learning_rate: 1e-05]|[epochs: 8]|[... fridgeObjects  39.723982   \n",
       "\n",
       "                                                                    accuracy  \n",
       "0 PARAMETERS [learning_rate: 0.0001]|[epochs: 8]|... fridgeObjects  0.931818  \n",
       "  PARAMETERS [learning_rate: 0.0001]|[epochs: 8]|... fridgeObjects  0.977273  \n",
       "  PARAMETERS [learning_rate: 0.001]|[epochs: 8]|[... fridgeObjects  0.863636  \n",
       "  PARAMETERS [learning_rate: 0.001]|[epochs: 8]|[... fridgeObjects  0.954545  \n",
       "  PARAMETERS [learning_rate: 1e-05]|[epochs: 8]|[... fridgeObjects  0.977273  \n",
       "  PARAMETERS [learning_rate: 1e-05]|[epochs: 8]|[... fridgeObjects  0.931818  \n",
       "1 PARAMETERS [learning_rate: 0.0001]|[epochs: 8]|... fridgeObjects  1.000000  \n",
       "  PARAMETERS [learning_rate: 0.0001]|[epochs: 8]|... fridgeObjects  0.977273  \n",
       "  PARAMETERS [learning_rate: 0.001]|[epochs: 8]|[... fridgeObjects  0.772727  \n",
       "  PARAMETERS [learning_rate: 0.001]|[epochs: 8]|[... fridgeObjects  0.909091  \n",
       "  PARAMETERS [learning_rate: 1e-05]|[epochs: 8]|[... fridgeObjects  0.977273  \n",
       "  PARAMETERS [learning_rate: 1e-05]|[epochs: 8]|[... fridgeObjects  0.977273  \n",
       "2 PARAMETERS [learning_rate: 0.0001]|[epochs: 8]|... fridgeObjects  0.954545  \n",
       "  PARAMETERS [learning_rate: 0.0001]|[epochs: 8]|... fridgeObjects  0.954545  \n",
       "  PARAMETERS [learning_rate: 0.001]|[epochs: 8]|[... fridgeObjects  0.931818  \n",
       "  PARAMETERS [learning_rate: 0.001]|[epochs: 8]|[... fridgeObjects  1.000000  \n",
       "  PARAMETERS [learning_rate: 1e-05]|[epochs: 8]|[... fridgeObjects  0.931818  \n",
       "  PARAMETERS [learning_rate: 1e-05]|[epochs: 8]|[... fridgeObjects  0.931818  "
      ]
     },
     "execution_count": 6,
     "metadata": {},
     "output_type": "execute_result"
    }
   ],
   "source": [
    "df = exp.run(datasets=[input_data], reps=3); df"
   ]
  },
  {
   "cell_type": "markdown",
   "metadata": {},
   "source": [
    "## Using the CLI"
   ]
  },
  {
   "cell_type": "markdown",
   "metadata": {},
   "source": [
    "Instead of using python to run this experiment, we may want to test from the CLI. We can do so by using the `scripts/benchmark.py` file. \n",
    "\n",
    "First we move up to the `/image_classification` directory."
   ]
  },
  {
   "cell_type": "code",
   "execution_count": 7,
   "metadata": {},
   "outputs": [],
   "source": [
    "os.chdir(ic_root_path())"
   ]
  },
  {
   "cell_type": "markdown",
   "metadata": {},
   "source": [
    "To reproduce the same test (different learning rates across different image sizes using only 8 epochs), and the same settings (3 repetitions, and no early_stopping) we can run the following:\n",
    "\n",
    "```sh\n",
    "python scripts/benchmark.py \n",
    "    --learning-rates 1e-3 1e-4 1e-5\n",
    "    --im-size 99 299\n",
    "    --epochs 5 \n",
    "    --repeat 3 \n",
    "    --no-early-stopping \n",
    "    --inputs <my-data-dir>\n",
    "    --output lr_bs_test.csv\n",
    "```\n",
    "\n",
    "Additionally, we've added an output parameter, which will automatically dump our dataframe into a csv file.\n",
    "\n",
    "To simplify the command, we can use the acryonyms of the params. We can also remove `--no-early-stopping` as that is the default behavior.\n",
    "\n",
    "```sh\n",
    "python scripts/benchmark.py -lr 1e-3 1e-4 1e-5 -is 99 299 -e 5 -i <my-data-dir> -o lr_bs_test.csv\n",
    "```\n",
    "\n",
    "HINT: You can learn more about how to use the script: `python script/benchmark.py --help`"
   ]
  },
  {
   "cell_type": "code",
   "execution_count": null,
   "metadata": {},
   "outputs": [],
   "source": [
    "# use {sys.executable} instead of just running `python` to ensure the command is executed using the environment cvbp\n",
    "!{sys.executable} scripts/benchmark.py -lr 1e-3 1e-4 1e-5 -is 99 299 -e 5 -i {input_data} -o data/lr_bs_test.csv"
   ]
  },
  {
   "cell_type": "markdown",
   "metadata": {},
   "source": [
    "Once the script completes, load the csv into a dataframe to explore it's contents. We'll want to specify `index_col=[0, 1, 2]` since it is a multi-index dataframe.\n",
    "\n",
    "```python\n",
    "df = pd.read_csv(\"data/lr_bs_test.csv\", index_col=[0, 1, 2])\n",
    "```"
   ]
  },
  {
   "cell_type": "markdown",
   "metadata": {},
   "source": [
    "---"
   ]
  },
  {
   "cell_type": "markdown",
   "metadata": {},
   "source": [
    "## Visualizing our results"
   ]
  },
  {
   "cell_type": "markdown",
   "metadata": {},
   "source": [
    "When we read in out multi-index dataframe, index 0 represents the run number, index 1 represents a single permutation of parameters, and index 2 represents the dataset."
   ]
  },
  {
   "cell_type": "markdown",
   "metadata": {},
   "source": [
    "To see the results, show the df using the `clean_df` helper function. This will display all the hyperparameters in a nice, readable way."
   ]
  },
  {
   "cell_type": "code",
   "execution_count": 7,
   "metadata": {},
   "outputs": [
    {
     "data": {
      "text/html": [
       "<div>\n",
       "<style scoped>\n",
       "    .dataframe tbody tr th:only-of-type {\n",
       "        vertical-align: middle;\n",
       "    }\n",
       "\n",
       "    .dataframe tbody tr th {\n",
       "        vertical-align: top;\n",
       "    }\n",
       "\n",
       "    .dataframe thead th {\n",
       "        text-align: right;\n",
       "    }\n",
       "</style>\n",
       "<table border=\"1\" class=\"dataframe\">\n",
       "  <thead>\n",
       "    <tr style=\"text-align: right;\">\n",
       "      <th></th>\n",
       "      <th></th>\n",
       "      <th></th>\n",
       "      <th>duration</th>\n",
       "      <th>accuracy</th>\n",
       "    </tr>\n",
       "  </thead>\n",
       "  <tbody>\n",
       "    <tr>\n",
       "      <th rowspan=\"6\" valign=\"top\">0</th>\n",
       "      <th>[learning_rate: 0.0001] [im_size: 299]</th>\n",
       "      <th>fridgeObjects</th>\n",
       "      <td>31.410849</td>\n",
       "      <td>0.931818</td>\n",
       "    </tr>\n",
       "    <tr>\n",
       "      <th>[learning_rate: 0.0001] [im_size: 499]</th>\n",
       "      <th>fridgeObjects</th>\n",
       "      <td>38.718033</td>\n",
       "      <td>0.977273</td>\n",
       "    </tr>\n",
       "    <tr>\n",
       "      <th>[learning_rate: 0.001] [im_size: 299]</th>\n",
       "      <th>fridgeObjects</th>\n",
       "      <td>37.852972</td>\n",
       "      <td>0.863636</td>\n",
       "    </tr>\n",
       "    <tr>\n",
       "      <th>[learning_rate: 0.001] [im_size: 499]</th>\n",
       "      <th>fridgeObjects</th>\n",
       "      <td>44.820808</td>\n",
       "      <td>0.954545</td>\n",
       "    </tr>\n",
       "    <tr>\n",
       "      <th>[learning_rate: 1e-05] [im_size: 299]</th>\n",
       "      <th>fridgeObjects</th>\n",
       "      <td>30.239053</td>\n",
       "      <td>0.977273</td>\n",
       "    </tr>\n",
       "    <tr>\n",
       "      <th>[learning_rate: 1e-05] [im_size: 499]</th>\n",
       "      <th>fridgeObjects</th>\n",
       "      <td>37.803058</td>\n",
       "      <td>0.931818</td>\n",
       "    </tr>\n",
       "    <tr>\n",
       "      <th rowspan=\"6\" valign=\"top\">1</th>\n",
       "      <th>[learning_rate: 0.0001] [im_size: 299]</th>\n",
       "      <th>fridgeObjects</th>\n",
       "      <td>26.006287</td>\n",
       "      <td>1.000000</td>\n",
       "    </tr>\n",
       "    <tr>\n",
       "      <th>[learning_rate: 0.0001] [im_size: 499]</th>\n",
       "      <th>fridgeObjects</th>\n",
       "      <td>36.419786</td>\n",
       "      <td>0.977273</td>\n",
       "    </tr>\n",
       "    <tr>\n",
       "      <th>[learning_rate: 0.001] [im_size: 299]</th>\n",
       "      <th>fridgeObjects</th>\n",
       "      <td>28.395461</td>\n",
       "      <td>0.772727</td>\n",
       "    </tr>\n",
       "    <tr>\n",
       "      <th>[learning_rate: 0.001] [im_size: 499]</th>\n",
       "      <th>fridgeObjects</th>\n",
       "      <td>43.805897</td>\n",
       "      <td>0.909091</td>\n",
       "    </tr>\n",
       "    <tr>\n",
       "      <th>[learning_rate: 1e-05] [im_size: 299]</th>\n",
       "      <th>fridgeObjects</th>\n",
       "      <td>30.652590</td>\n",
       "      <td>0.977273</td>\n",
       "    </tr>\n",
       "    <tr>\n",
       "      <th>[learning_rate: 1e-05] [im_size: 499]</th>\n",
       "      <th>fridgeObjects</th>\n",
       "      <td>37.239413</td>\n",
       "      <td>0.977273</td>\n",
       "    </tr>\n",
       "    <tr>\n",
       "      <th rowspan=\"6\" valign=\"top\">2</th>\n",
       "      <th>[learning_rate: 0.0001] [im_size: 299]</th>\n",
       "      <th>fridgeObjects</th>\n",
       "      <td>31.896873</td>\n",
       "      <td>0.954545</td>\n",
       "    </tr>\n",
       "    <tr>\n",
       "      <th>[learning_rate: 0.0001] [im_size: 499]</th>\n",
       "      <th>fridgeObjects</th>\n",
       "      <td>39.929393</td>\n",
       "      <td>0.954545</td>\n",
       "    </tr>\n",
       "    <tr>\n",
       "      <th>[learning_rate: 0.001] [im_size: 299]</th>\n",
       "      <th>fridgeObjects</th>\n",
       "      <td>30.885216</td>\n",
       "      <td>0.931818</td>\n",
       "    </tr>\n",
       "    <tr>\n",
       "      <th>[learning_rate: 0.001] [im_size: 499]</th>\n",
       "      <th>fridgeObjects</th>\n",
       "      <td>43.662686</td>\n",
       "      <td>1.000000</td>\n",
       "    </tr>\n",
       "    <tr>\n",
       "      <th>[learning_rate: 1e-05] [im_size: 299]</th>\n",
       "      <th>fridgeObjects</th>\n",
       "      <td>32.134002</td>\n",
       "      <td>0.931818</td>\n",
       "    </tr>\n",
       "    <tr>\n",
       "      <th>[learning_rate: 1e-05] [im_size: 499]</th>\n",
       "      <th>fridgeObjects</th>\n",
       "      <td>39.723982</td>\n",
       "      <td>0.931818</td>\n",
       "    </tr>\n",
       "  </tbody>\n",
       "</table>\n",
       "</div>"
      ],
      "text/plain": [
       "                                                         duration  accuracy\n",
       "0 [learning_rate: 0.0001] [im_size: 299] fridgeObjects  31.410849  0.931818\n",
       "  [learning_rate: 0.0001] [im_size: 499] fridgeObjects  38.718033  0.977273\n",
       "  [learning_rate: 0.001] [im_size: 299]  fridgeObjects  37.852972  0.863636\n",
       "  [learning_rate: 0.001] [im_size: 499]  fridgeObjects  44.820808  0.954545\n",
       "  [learning_rate: 1e-05] [im_size: 299]  fridgeObjects  30.239053  0.977273\n",
       "  [learning_rate: 1e-05] [im_size: 499]  fridgeObjects  37.803058  0.931818\n",
       "1 [learning_rate: 0.0001] [im_size: 299] fridgeObjects  26.006287  1.000000\n",
       "  [learning_rate: 0.0001] [im_size: 499] fridgeObjects  36.419786  0.977273\n",
       "  [learning_rate: 0.001] [im_size: 299]  fridgeObjects  28.395461  0.772727\n",
       "  [learning_rate: 0.001] [im_size: 499]  fridgeObjects  43.805897  0.909091\n",
       "  [learning_rate: 1e-05] [im_size: 299]  fridgeObjects  30.652590  0.977273\n",
       "  [learning_rate: 1e-05] [im_size: 499]  fridgeObjects  37.239413  0.977273\n",
       "2 [learning_rate: 0.0001] [im_size: 299] fridgeObjects  31.896873  0.954545\n",
       "  [learning_rate: 0.0001] [im_size: 499] fridgeObjects  39.929393  0.954545\n",
       "  [learning_rate: 0.001] [im_size: 299]  fridgeObjects  30.885216  0.931818\n",
       "  [learning_rate: 0.001] [im_size: 499]  fridgeObjects  43.662686  1.000000\n",
       "  [learning_rate: 1e-05] [im_size: 299]  fridgeObjects  32.134002  0.931818\n",
       "  [learning_rate: 1e-05] [im_size: 499]  fridgeObjects  39.723982  0.931818"
      ]
     },
     "execution_count": 7,
     "metadata": {},
     "output_type": "execute_result"
    }
   ],
   "source": [
    "df = clean_df(df); df "
   ]
  },
  {
   "cell_type": "markdown",
   "metadata": {},
   "source": [
    "Since we've run our benchmarking over 3 repetitions, we may want to just look at the averages across the different __run numbers__."
   ]
  },
  {
   "cell_type": "code",
   "execution_count": 8,
   "metadata": {},
   "outputs": [
    {
     "data": {
      "text/html": [
       "<div>\n",
       "<style scoped>\n",
       "    .dataframe tbody tr th:only-of-type {\n",
       "        vertical-align: middle;\n",
       "    }\n",
       "\n",
       "    .dataframe tbody tr th {\n",
       "        vertical-align: top;\n",
       "    }\n",
       "\n",
       "    .dataframe thead tr th {\n",
       "        text-align: left;\n",
       "    }\n",
       "</style>\n",
       "<table border=\"1\" class=\"dataframe\">\n",
       "  <thead>\n",
       "    <tr>\n",
       "      <th></th>\n",
       "      <th>[learning_rate: 0.0001] [im_size: 299]</th>\n",
       "      <th>[learning_rate: 0.0001] [im_size: 499]</th>\n",
       "      <th>[learning_rate: 0.001] [im_size: 299]</th>\n",
       "      <th>[learning_rate: 0.001] [im_size: 499]</th>\n",
       "      <th>[learning_rate: 1e-05] [im_size: 299]</th>\n",
       "      <th>[learning_rate: 1e-05] [im_size: 499]</th>\n",
       "    </tr>\n",
       "    <tr>\n",
       "      <th></th>\n",
       "      <th>fridgeObjects</th>\n",
       "      <th>fridgeObjects</th>\n",
       "      <th>fridgeObjects</th>\n",
       "      <th>fridgeObjects</th>\n",
       "      <th>fridgeObjects</th>\n",
       "      <th>fridgeObjects</th>\n",
       "    </tr>\n",
       "  </thead>\n",
       "  <tbody>\n",
       "    <tr>\n",
       "      <th>duration</th>\n",
       "      <td>29.771336</td>\n",
       "      <td>38.355737</td>\n",
       "      <td>32.377883</td>\n",
       "      <td>44.096464</td>\n",
       "      <td>31.008548</td>\n",
       "      <td>38.255484</td>\n",
       "    </tr>\n",
       "    <tr>\n",
       "      <th>accuracy</th>\n",
       "      <td>0.962121</td>\n",
       "      <td>0.969697</td>\n",
       "      <td>0.856060</td>\n",
       "      <td>0.954545</td>\n",
       "      <td>0.962121</td>\n",
       "      <td>0.946970</td>\n",
       "    </tr>\n",
       "  </tbody>\n",
       "</table>\n",
       "</div>"
      ],
      "text/plain": [
       "         [learning_rate: 0.0001] [im_size: 299]  \\\n",
       "                                  fridgeObjects   \n",
       "duration                              29.771336   \n",
       "accuracy                               0.962121   \n",
       "\n",
       "         [learning_rate: 0.0001] [im_size: 499]  \\\n",
       "                                  fridgeObjects   \n",
       "duration                              38.355737   \n",
       "accuracy                               0.969697   \n",
       "\n",
       "         [learning_rate: 0.001] [im_size: 299]  \\\n",
       "                                 fridgeObjects   \n",
       "duration                             32.377883   \n",
       "accuracy                              0.856060   \n",
       "\n",
       "         [learning_rate: 0.001] [im_size: 499]  \\\n",
       "                                 fridgeObjects   \n",
       "duration                             44.096464   \n",
       "accuracy                              0.954545   \n",
       "\n",
       "         [learning_rate: 1e-05] [im_size: 299]  \\\n",
       "                                 fridgeObjects   \n",
       "duration                             31.008548   \n",
       "accuracy                              0.962121   \n",
       "\n",
       "         [learning_rate: 1e-05] [im_size: 499]  \n",
       "                                 fridgeObjects  \n",
       "duration                             38.255484  \n",
       "accuracy                              0.946970  "
      ]
     },
     "execution_count": 8,
     "metadata": {},
     "output_type": "execute_result"
    }
   ],
   "source": [
    "df.mean(level=(1,2)).T"
   ]
  },
  {
   "cell_type": "markdown",
   "metadata": {},
   "source": [
    "Additionally, we may want simply to see which set of hyperparameters perform the best across the different __datasets__. We can do that by averaging the results of the different datasets. (The results of this step will look similar to the above since we're only passing in one dataset)."
   ]
  },
  {
   "cell_type": "code",
   "execution_count": 9,
   "metadata": {
    "scrolled": true
   },
   "outputs": [
    {
     "data": {
      "text/html": [
       "<div>\n",
       "<style scoped>\n",
       "    .dataframe tbody tr th:only-of-type {\n",
       "        vertical-align: middle;\n",
       "    }\n",
       "\n",
       "    .dataframe tbody tr th {\n",
       "        vertical-align: top;\n",
       "    }\n",
       "\n",
       "    .dataframe thead th {\n",
       "        text-align: right;\n",
       "    }\n",
       "</style>\n",
       "<table border=\"1\" class=\"dataframe\">\n",
       "  <thead>\n",
       "    <tr style=\"text-align: right;\">\n",
       "      <th></th>\n",
       "      <th>[learning_rate: 0.0001] [im_size: 299]</th>\n",
       "      <th>[learning_rate: 0.0001] [im_size: 499]</th>\n",
       "      <th>[learning_rate: 0.001] [im_size: 299]</th>\n",
       "      <th>[learning_rate: 0.001] [im_size: 499]</th>\n",
       "      <th>[learning_rate: 1e-05] [im_size: 299]</th>\n",
       "      <th>[learning_rate: 1e-05] [im_size: 499]</th>\n",
       "    </tr>\n",
       "  </thead>\n",
       "  <tbody>\n",
       "    <tr>\n",
       "      <th>duration</th>\n",
       "      <td>29.771336</td>\n",
       "      <td>38.355737</td>\n",
       "      <td>32.377883</td>\n",
       "      <td>44.096464</td>\n",
       "      <td>31.008548</td>\n",
       "      <td>38.255484</td>\n",
       "    </tr>\n",
       "    <tr>\n",
       "      <th>accuracy</th>\n",
       "      <td>0.962121</td>\n",
       "      <td>0.969697</td>\n",
       "      <td>0.856060</td>\n",
       "      <td>0.954545</td>\n",
       "      <td>0.962121</td>\n",
       "      <td>0.946970</td>\n",
       "    </tr>\n",
       "  </tbody>\n",
       "</table>\n",
       "</div>"
      ],
      "text/plain": [
       "          [learning_rate: 0.0001] [im_size: 299]  \\\n",
       "duration                               29.771336   \n",
       "accuracy                                0.962121   \n",
       "\n",
       "          [learning_rate: 0.0001] [im_size: 499]  \\\n",
       "duration                               38.355737   \n",
       "accuracy                                0.969697   \n",
       "\n",
       "          [learning_rate: 0.001] [im_size: 299]  \\\n",
       "duration                              32.377883   \n",
       "accuracy                               0.856060   \n",
       "\n",
       "          [learning_rate: 0.001] [im_size: 499]  \\\n",
       "duration                              44.096464   \n",
       "accuracy                               0.954545   \n",
       "\n",
       "          [learning_rate: 1e-05] [im_size: 299]  \\\n",
       "duration                              31.008548   \n",
       "accuracy                               0.962121   \n",
       "\n",
       "          [learning_rate: 1e-05] [im_size: 499]  \n",
       "duration                              38.255484  \n",
       "accuracy                               0.946970  "
      ]
     },
     "execution_count": 9,
     "metadata": {},
     "output_type": "execute_result"
    }
   ],
   "source": [
    "df.mean(level=(1)).T"
   ]
  },
  {
   "cell_type": "markdown",
   "metadata": {},
   "source": [
    "To make it easier to see which permutation did the best, we can plot the results using the `plot_df` helper function."
   ]
  },
  {
   "cell_type": "code",
   "execution_count": 10,
   "metadata": {},
   "outputs": [
    {
     "data": {
      "image/png": "[encoded data removed]",
      "text/plain": [
       "<Figure size 864x576 with 2 Axes>"
      ]
     },
     "metadata": {
      "needs_background": "light"
     },
     "output_type": "display_data"
    }
   ],
   "source": [
    "plot_df(df.mean(level=(1)), sort_by=\"accuracy\")"
   ]
  },
  {
   "cell_type": "markdown",
   "metadata": {},
   "source": [
    "Based on these results, we can see that with a learning rate of 1e-4 and with an image size of 299, we get the best results."
   ]
  }
 ],
 "metadata": {
  "kernelspec": {
   "display_name": "Python (cvbp)",
   "language": "python",
   "name": "cvbp"
  },
  "language_info": {
   "codemirror_mode": {
    "name": "ipython",
    "version": 3
   },
   "file_extension": ".py",
   "mimetype": "text/x-python",
   "name": "python",
   "nbconvert_exporter": "python",
   "pygments_lexer": "ipython3",
   "version": "3.6.8"
  }
 },
 "nbformat": 4,
 "nbformat_minor": 2
}
