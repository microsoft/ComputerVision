{
 "cells": [
  {
   "cell_type": "markdown",
   "metadata": {},
   "source": [
    "# Testing different Hyperparameters and Benchmarking"
   ]
  },
  {
   "cell_type": "markdown",
   "metadata": {},
   "source": [
    "In this notebook, we'll cover how to test different hyperparameters for a particular dataset and how to benchmark different parameters across a group of datasets.\n",
    "\n",
    "## Table of Contents\n",
    "\n",
    "* [Testing parameter](#hyperparam)\n",
    "  * [Using Python](#python)\n",
    "  * [Using the CLI](#cli)\n",
    "  * [Visualizing the results](#visualize)\n",
    "* [Benchmarking parameters](#benchmarking)\n",
    "\n",
    "---"
   ]
  },
  {
   "cell_type": "markdown",
   "metadata": {},
   "source": [
    "## Testing hyperparameters  <a name=\"hyperparam\"></a>\n",
    "\n",
    "Lets say we want to learn more about __how different learning rates and different image sizes affect our model's accuracy when restricted to 10 epochs__, and we want to build an experiment to test out these hyperparameters.\n",
    "\n",
    "In this notebook, we'll walk through how we use out Parameter Sweeper module with the following:\n",
    "\n",
    "- use python to perform this experiment\n",
    "- use the CLI to perform this experiment\n",
    "- evalute the results using Pandas"
   ]
  },
  {
   "cell_type": "markdown",
   "metadata": {},
   "source": [
    "We start by importing the utilities we need."
   ]
  },
  {
   "cell_type": "code",
   "execution_count": 1,
   "metadata": {},
   "outputs": [],
   "source": [
    "import sys\n",
    "sys.path.append(\"../\")\n",
    "import os\n",
    "\n",
    "from utils_ic.common import ic_root_path\n",
    "from utils_ic.datasets import unzip_url, Urls\n",
    "from utils_ic.parameter_sweeper import *"
   ]
  },
  {
   "cell_type": "markdown",
   "metadata": {},
   "source": [
    "Download some data that we want to test on. To use the Parameter Sweeper tool for single label classification, we'll need to make sure that the data is stored such that images are sorted into their classes inside of a subfolder. In this notebook, we'll use the Fridge Objects dataset provided in `utils_ic.datasets.Urls`, which is stored in the correct format.\n",
    "\n",
    "We also define some parameters we will use in this notebook"
   ]
  },
  {
   "cell_type": "code",
   "execution_count": 2,
   "metadata": {},
   "outputs": [],
   "source": [
    "DATA = unzip_url(Urls.fridge_objects_path, exist_ok=True)\n",
    "REPS = 3\n",
    "LEARNING_RATES = [1e-3, 1e-4, 1e-5]\n",
    "IM_SIZES = [299, 499]\n",
    "EPOCHS = [10]"
   ]
  },
  {
   "cell_type": "markdown",
   "metadata": {},
   "source": [
    "### Using Python <a name=\"python\"></a>"
   ]
  },
  {
   "cell_type": "markdown",
   "metadata": {},
   "source": [
    "We start by creating the Parameter Sweeper object:"
   ]
  },
  {
   "cell_type": "code",
   "execution_count": 3,
   "metadata": {},
   "outputs": [],
   "source": [
    "sweeper = ParameterSweeper()"
   ]
  },
  {
   "cell_type": "markdown",
   "metadata": {},
   "source": [
    "Before we start testing, it's a good idea to see what the default parameters Are. We can use a the property `parameters` to easily see those default values."
   ]
  },
  {
   "cell_type": "code",
   "execution_count": 4,
   "metadata": {},
   "outputs": [
    {
     "data": {
      "text/plain": [
       "OrderedDict([('learning_rate', [0.0001]),\n",
       "             ('epochs', [15]),\n",
       "             ('batch_size', [16]),\n",
       "             ('im_size', [299]),\n",
       "             ('architecture',\n",
       "              [<Architecture.resnet18: functools.partial(<function resnet18 at 0x7f23363d4730>)>]),\n",
       "             ('transform', [True]),\n",
       "             ('dropout', [0.5]),\n",
       "             ('weight_decay', [0.01]),\n",
       "             ('training_schedule',\n",
       "              [<TrainingSchedule.head_first_then_body: 'head_first_then_body'>]),\n",
       "             ('discriminative_lr', [False]),\n",
       "             ('one_cycle_policy', [True])])"
      ]
     },
     "execution_count": 4,
     "metadata": {},
     "output_type": "execute_result"
    }
   ],
   "source": [
    "sweeper.parameters"
   ]
  },
  {
   "cell_type": "markdown",
   "metadata": {},
   "source": [
    "Now that we know the defaults, we can pass it the parameters we want to test. \n",
    "\n",
    "In this notebook, we want to see the effect of different learning rates across different image sizes using only 8 epochs (the default number of epochs is 15). To do so, I would run the `update_parameters` functions as follows:\n",
    "\n",
    "```python\n",
    "sweeper.update_parameters(learning_rate=[1e-3, 1e-4, 1e-5], im_size=[299, 499], epochs=[10])\n",
    "```\n",
    "\n",
    "Notice that all parameters must be passed in as a list, including single values such the number of epochs.\n",
    "\n",
    "These parameters will be used to calculate the number of permutations to run. In this case, we've pass in three options for learning rates, two for image sizes, and one for number of epochs. This will result in 3 X 2 X 1 total permutations (in otherwords, 6 permutations). "
   ]
  },
  {
   "cell_type": "code",
   "execution_count": 5,
   "metadata": {},
   "outputs": [],
   "source": [
    "sweeper.update_parameters(learning_rate=LEARNING_RATES, im_size=IM_SIZES, epochs=EPOCHS)"
   ]
  },
  {
   "cell_type": "markdown",
   "metadata": {},
   "source": [
    "Now that we have our parameters defined, we call the `run()` function with the dataset to test on. \n",
    "\n",
    "We can also optionally pass in:\n",
    "- the number of repetitions to run each permutation (default is 3)\n",
    "- whether or not we want the training to stop early if the metric (accuracy) doesn't improve by 0.01 (1%) over 3 epochs (default is False)\n",
    "\n",
    "The `run` function returns a multi-index dataframe which we can work with right away."
   ]
  },
  {
   "cell_type": "code",
   "execution_count": 6,
   "metadata": {},
   "outputs": [
    {
     "name": "stdout",
     "output_type": "stream",
     "text": [
      "this Learner object self-destroyed - it still exists, but no longer usable\n"
     ]
    },
    {
     "data": {
      "text/html": [
       "<div>\n",
       "<style scoped>\n",
       "    .dataframe tbody tr th:only-of-type {\n",
       "        vertical-align: middle;\n",
       "    }\n",
       "\n",
       "    .dataframe tbody tr th {\n",
       "        vertical-align: top;\n",
       "    }\n",
       "\n",
       "    .dataframe thead th {\n",
       "        text-align: right;\n",
       "    }\n",
       "</style>\n",
       "<table border=\"1\" class=\"dataframe\">\n",
       "  <thead>\n",
       "    <tr style=\"text-align: right;\">\n",
       "      <th></th>\n",
       "      <th></th>\n",
       "      <th></th>\n",
       "      <th>duration</th>\n",
       "      <th>accuracy</th>\n",
       "    </tr>\n",
       "  </thead>\n",
       "  <tbody>\n",
       "    <tr>\n",
       "      <th rowspan=\"6\" valign=\"top\">0</th>\n",
       "      <th>PARAMETERS [learning_rate: 0.0001]|[epochs: 10]|[batch_size: 16]|[im_size: 299]|[arch: resnet18]|[transforms: True]|[dropout: 0.5]|[weight_decay: 0.01]|[training_schedule: head_first_then_body]|[discriminative_lr: False]|[one_cycle_policy: True]</th>\n",
       "      <th>fridgeObjects</th>\n",
       "      <td>16.630860</td>\n",
       "      <td>0.818182</td>\n",
       "    </tr>\n",
       "    <tr>\n",
       "      <th>PARAMETERS [learning_rate: 0.0001]|[epochs: 10]|[batch_size: 16]|[im_size: 499]|[arch: resnet18]|[transforms: True]|[dropout: 0.5]|[weight_decay: 0.01]|[training_schedule: head_first_then_body]|[discriminative_lr: False]|[one_cycle_policy: True]</th>\n",
       "      <th>fridgeObjects</th>\n",
       "      <td>25.982370</td>\n",
       "      <td>0.954545</td>\n",
       "    </tr>\n",
       "    <tr>\n",
       "      <th>PARAMETERS [learning_rate: 0.001]|[epochs: 10]|[batch_size: 16]|[im_size: 299]|[arch: resnet18]|[transforms: True]|[dropout: 0.5]|[weight_decay: 0.01]|[training_schedule: head_first_then_body]|[discriminative_lr: False]|[one_cycle_policy: True]</th>\n",
       "      <th>fridgeObjects</th>\n",
       "      <td>21.550776</td>\n",
       "      <td>0.954545</td>\n",
       "    </tr>\n",
       "    <tr>\n",
       "      <th>PARAMETERS [learning_rate: 0.001]|[epochs: 10]|[batch_size: 16]|[im_size: 499]|[arch: resnet18]|[transforms: True]|[dropout: 0.5]|[weight_decay: 0.01]|[training_schedule: head_first_then_body]|[discriminative_lr: False]|[one_cycle_policy: True]</th>\n",
       "      <th>fridgeObjects</th>\n",
       "      <td>27.224495</td>\n",
       "      <td>0.795455</td>\n",
       "    </tr>\n",
       "    <tr>\n",
       "      <th>PARAMETERS [learning_rate: 1e-05]|[epochs: 10]|[batch_size: 16]|[im_size: 299]|[arch: resnet18]|[transforms: True]|[dropout: 0.5]|[weight_decay: 0.01]|[training_schedule: head_first_then_body]|[discriminative_lr: False]|[one_cycle_policy: True]</th>\n",
       "      <th>fridgeObjects</th>\n",
       "      <td>16.799283</td>\n",
       "      <td>0.340909</td>\n",
       "    </tr>\n",
       "    <tr>\n",
       "      <th>PARAMETERS [learning_rate: 1e-05]|[epochs: 10]|[batch_size: 16]|[im_size: 499]|[arch: resnet18]|[transforms: True]|[dropout: 0.5]|[weight_decay: 0.01]|[training_schedule: head_first_then_body]|[discriminative_lr: False]|[one_cycle_policy: True]</th>\n",
       "      <th>fridgeObjects</th>\n",
       "      <td>26.279059</td>\n",
       "      <td>0.363636</td>\n",
       "    </tr>\n",
       "    <tr>\n",
       "      <th rowspan=\"6\" valign=\"top\">1</th>\n",
       "      <th>PARAMETERS [learning_rate: 0.0001]|[epochs: 10]|[batch_size: 16]|[im_size: 299]|[arch: resnet18]|[transforms: True]|[dropout: 0.5]|[weight_decay: 0.01]|[training_schedule: head_first_then_body]|[discriminative_lr: False]|[one_cycle_policy: True]</th>\n",
       "      <th>fridgeObjects</th>\n",
       "      <td>16.783818</td>\n",
       "      <td>0.840909</td>\n",
       "    </tr>\n",
       "    <tr>\n",
       "      <th>PARAMETERS [learning_rate: 0.0001]|[epochs: 10]|[batch_size: 16]|[im_size: 499]|[arch: resnet18]|[transforms: True]|[dropout: 0.5]|[weight_decay: 0.01]|[training_schedule: head_first_then_body]|[discriminative_lr: False]|[one_cycle_policy: True]</th>\n",
       "      <th>fridgeObjects</th>\n",
       "      <td>26.038197</td>\n",
       "      <td>0.818182</td>\n",
       "    </tr>\n",
       "    <tr>\n",
       "      <th>PARAMETERS [learning_rate: 0.001]|[epochs: 10]|[batch_size: 16]|[im_size: 299]|[arch: resnet18]|[transforms: True]|[dropout: 0.5]|[weight_decay: 0.01]|[training_schedule: head_first_then_body]|[discriminative_lr: False]|[one_cycle_policy: True]</th>\n",
       "      <th>fridgeObjects</th>\n",
       "      <td>16.770078</td>\n",
       "      <td>0.863636</td>\n",
       "    </tr>\n",
       "    <tr>\n",
       "      <th>PARAMETERS [learning_rate: 0.001]|[epochs: 10]|[batch_size: 16]|[im_size: 499]|[arch: resnet18]|[transforms: True]|[dropout: 0.5]|[weight_decay: 0.01]|[training_schedule: head_first_then_body]|[discriminative_lr: False]|[one_cycle_policy: True]</th>\n",
       "      <th>fridgeObjects</th>\n",
       "      <td>26.136180</td>\n",
       "      <td>0.886364</td>\n",
       "    </tr>\n",
       "    <tr>\n",
       "      <th>PARAMETERS [learning_rate: 1e-05]|[epochs: 10]|[batch_size: 16]|[im_size: 299]|[arch: resnet18]|[transforms: True]|[dropout: 0.5]|[weight_decay: 0.01]|[training_schedule: head_first_then_body]|[discriminative_lr: False]|[one_cycle_policy: True]</th>\n",
       "      <th>fridgeObjects</th>\n",
       "      <td>16.874532</td>\n",
       "      <td>0.363636</td>\n",
       "    </tr>\n",
       "    <tr>\n",
       "      <th>PARAMETERS [learning_rate: 1e-05]|[epochs: 10]|[batch_size: 16]|[im_size: 499]|[arch: resnet18]|[transforms: True]|[dropout: 0.5]|[weight_decay: 0.01]|[training_schedule: head_first_then_body]|[discriminative_lr: False]|[one_cycle_policy: True]</th>\n",
       "      <th>fridgeObjects</th>\n",
       "      <td>26.539296</td>\n",
       "      <td>0.363636</td>\n",
       "    </tr>\n",
       "    <tr>\n",
       "      <th rowspan=\"6\" valign=\"top\">2</th>\n",
       "      <th>PARAMETERS [learning_rate: 0.0001]|[epochs: 10]|[batch_size: 16]|[im_size: 299]|[arch: resnet18]|[transforms: True]|[dropout: 0.5]|[weight_decay: 0.01]|[training_schedule: head_first_then_body]|[discriminative_lr: False]|[one_cycle_policy: True]</th>\n",
       "      <th>fridgeObjects</th>\n",
       "      <td>16.956139</td>\n",
       "      <td>0.909091</td>\n",
       "    </tr>\n",
       "    <tr>\n",
       "      <th>PARAMETERS [learning_rate: 0.0001]|[epochs: 10]|[batch_size: 16]|[im_size: 499]|[arch: resnet18]|[transforms: True]|[dropout: 0.5]|[weight_decay: 0.01]|[training_schedule: head_first_then_body]|[discriminative_lr: False]|[one_cycle_policy: True]</th>\n",
       "      <th>fridgeObjects</th>\n",
       "      <td>26.314672</td>\n",
       "      <td>0.931818</td>\n",
       "    </tr>\n",
       "    <tr>\n",
       "      <th>PARAMETERS [learning_rate: 0.001]|[epochs: 10]|[batch_size: 16]|[im_size: 299]|[arch: resnet18]|[transforms: True]|[dropout: 0.5]|[weight_decay: 0.01]|[training_schedule: head_first_then_body]|[discriminative_lr: False]|[one_cycle_policy: True]</th>\n",
       "      <th>fridgeObjects</th>\n",
       "      <td>16.884989</td>\n",
       "      <td>0.909091</td>\n",
       "    </tr>\n",
       "    <tr>\n",
       "      <th>PARAMETERS [learning_rate: 0.001]|[epochs: 10]|[batch_size: 16]|[im_size: 499]|[arch: resnet18]|[transforms: True]|[dropout: 0.5]|[weight_decay: 0.01]|[training_schedule: head_first_then_body]|[discriminative_lr: False]|[one_cycle_policy: True]</th>\n",
       "      <th>fridgeObjects</th>\n",
       "      <td>25.947570</td>\n",
       "      <td>0.931818</td>\n",
       "    </tr>\n",
       "    <tr>\n",
       "      <th>PARAMETERS [learning_rate: 1e-05]|[epochs: 10]|[batch_size: 16]|[im_size: 299]|[arch: resnet18]|[transforms: True]|[dropout: 0.5]|[weight_decay: 0.01]|[training_schedule: head_first_then_body]|[discriminative_lr: False]|[one_cycle_policy: True]</th>\n",
       "      <th>fridgeObjects</th>\n",
       "      <td>17.115705</td>\n",
       "      <td>0.409091</td>\n",
       "    </tr>\n",
       "    <tr>\n",
       "      <th>PARAMETERS [learning_rate: 1e-05]|[epochs: 10]|[batch_size: 16]|[im_size: 499]|[arch: resnet18]|[transforms: True]|[dropout: 0.5]|[weight_decay: 0.01]|[training_schedule: head_first_then_body]|[discriminative_lr: False]|[one_cycle_policy: True]</th>\n",
       "      <th>fridgeObjects</th>\n",
       "      <td>26.203381</td>\n",
       "      <td>0.500000</td>\n",
       "    </tr>\n",
       "  </tbody>\n",
       "</table>\n",
       "</div>"
      ],
      "text/plain": [
       "                                                                     duration  \\\n",
       "0 PARAMETERS [learning_rate: 0.0001]|[epochs: 10]... fridgeObjects  16.630860   \n",
       "  PARAMETERS [learning_rate: 0.0001]|[epochs: 10]... fridgeObjects  25.982370   \n",
       "  PARAMETERS [learning_rate: 0.001]|[epochs: 10]|... fridgeObjects  21.550776   \n",
       "  PARAMETERS [learning_rate: 0.001]|[epochs: 10]|... fridgeObjects  27.224495   \n",
       "  PARAMETERS [learning_rate: 1e-05]|[epochs: 10]|... fridgeObjects  16.799283   \n",
       "  PARAMETERS [learning_rate: 1e-05]|[epochs: 10]|... fridgeObjects  26.279059   \n",
       "1 PARAMETERS [learning_rate: 0.0001]|[epochs: 10]... fridgeObjects  16.783818   \n",
       "  PARAMETERS [learning_rate: 0.0001]|[epochs: 10]... fridgeObjects  26.038197   \n",
       "  PARAMETERS [learning_rate: 0.001]|[epochs: 10]|... fridgeObjects  16.770078   \n",
       "  PARAMETERS [learning_rate: 0.001]|[epochs: 10]|... fridgeObjects  26.136180   \n",
       "  PARAMETERS [learning_rate: 1e-05]|[epochs: 10]|... fridgeObjects  16.874532   \n",
       "  PARAMETERS [learning_rate: 1e-05]|[epochs: 10]|... fridgeObjects  26.539296   \n",
       "2 PARAMETERS [learning_rate: 0.0001]|[epochs: 10]... fridgeObjects  16.956139   \n",
       "  PARAMETERS [learning_rate: 0.0001]|[epochs: 10]... fridgeObjects  26.314672   \n",
       "  PARAMETERS [learning_rate: 0.001]|[epochs: 10]|... fridgeObjects  16.884989   \n",
       "  PARAMETERS [learning_rate: 0.001]|[epochs: 10]|... fridgeObjects  25.947570   \n",
       "  PARAMETERS [learning_rate: 1e-05]|[epochs: 10]|... fridgeObjects  17.115705   \n",
       "  PARAMETERS [learning_rate: 1e-05]|[epochs: 10]|... fridgeObjects  26.203381   \n",
       "\n",
       "                                                                    accuracy  \n",
       "0 PARAMETERS [learning_rate: 0.0001]|[epochs: 10]... fridgeObjects  0.818182  \n",
       "  PARAMETERS [learning_rate: 0.0001]|[epochs: 10]... fridgeObjects  0.954545  \n",
       "  PARAMETERS [learning_rate: 0.001]|[epochs: 10]|... fridgeObjects  0.954545  \n",
       "  PARAMETERS [learning_rate: 0.001]|[epochs: 10]|... fridgeObjects  0.795455  \n",
       "  PARAMETERS [learning_rate: 1e-05]|[epochs: 10]|... fridgeObjects  0.340909  \n",
       "  PARAMETERS [learning_rate: 1e-05]|[epochs: 10]|... fridgeObjects  0.363636  \n",
       "1 PARAMETERS [learning_rate: 0.0001]|[epochs: 10]... fridgeObjects  0.840909  \n",
       "  PARAMETERS [learning_rate: 0.0001]|[epochs: 10]... fridgeObjects  0.818182  \n",
       "  PARAMETERS [learning_rate: 0.001]|[epochs: 10]|... fridgeObjects  0.863636  \n",
       "  PARAMETERS [learning_rate: 0.001]|[epochs: 10]|... fridgeObjects  0.886364  \n",
       "  PARAMETERS [learning_rate: 1e-05]|[epochs: 10]|... fridgeObjects  0.363636  \n",
       "  PARAMETERS [learning_rate: 1e-05]|[epochs: 10]|... fridgeObjects  0.363636  \n",
       "2 PARAMETERS [learning_rate: 0.0001]|[epochs: 10]... fridgeObjects  0.909091  \n",
       "  PARAMETERS [learning_rate: 0.0001]|[epochs: 10]... fridgeObjects  0.931818  \n",
       "  PARAMETERS [learning_rate: 0.001]|[epochs: 10]|... fridgeObjects  0.909091  \n",
       "  PARAMETERS [learning_rate: 0.001]|[epochs: 10]|... fridgeObjects  0.931818  \n",
       "  PARAMETERS [learning_rate: 1e-05]|[epochs: 10]|... fridgeObjects  0.409091  \n",
       "  PARAMETERS [learning_rate: 1e-05]|[epochs: 10]|... fridgeObjects  0.500000  "
      ]
     },
     "execution_count": 6,
     "metadata": {},
     "output_type": "execute_result"
    }
   ],
   "source": [
    "df = sweeper.run(datasets=[DATA], reps=REPS); df"
   ]
  },
  {
   "cell_type": "markdown",
   "metadata": {},
   "source": [
    "### Using the CLI <a name=\"cli\"></a>"
   ]
  },
  {
   "cell_type": "markdown",
   "metadata": {},
   "source": [
    "Instead of using python to run this experiment, we may want to test from the CLI. We can do so by using the `scripts/benchmark.py` file. \n",
    "\n",
    "First we move up to the `/image_classification` directory."
   ]
  },
  {
   "cell_type": "code",
   "execution_count": 7,
   "metadata": {},
   "outputs": [],
   "source": [
    "os.chdir(ic_root_path())"
   ]
  },
  {
   "cell_type": "markdown",
   "metadata": {},
   "source": [
    "To reproduce the same test (different learning rates across different image sizes using only 8 epochs), and the same settings (3 repetitions, and no early_stopping) we can run the following:\n",
    "\n",
    "```sh\n",
    "python scripts/sweep.py \n",
    "    --learning-rates 1e-3 1e-4 1e-5\n",
    "    --im-size 99 299\n",
    "    --epochs 5 \n",
    "    --repeat 3 \n",
    "    --no-early-stopping \n",
    "    --inputs <my-data-dir>\n",
    "    --output lr_bs_test.csv\n",
    "```\n",
    "\n",
    "Additionally, we've added an output parameter, which will automatically dump our dataframe into a csv file.\n",
    "\n",
    "To simplify the command, we can use the acryonyms of the params. We can also remove `--no-early-stopping` as that is the default behavior.\n",
    "\n",
    "```sh\n",
    "python scripts/sweep.py -lr 1e-3 1e-4 1e-5 -is 99 299 -e 5 -i <my-data-dir> -o lr_bs_test.csv\n",
    "```\n",
    "\n",
    "Once the script completes, load the csv into a dataframe to explore it's contents. We'll want to specify `index_col=[0, 1, 2]` since it is a multi-index dataframe.\n",
    "\n",
    "```python\n",
    "df = pd.read_csv(\"data/lr_bs_test.csv\", index_col=[0, 1, 2])\n",
    "```"
   ]
  },
  {
   "cell_type": "markdown",
   "metadata": {},
   "source": [
    "> HINT: You can learn more about how to use the script with the `--help` flag."
   ]
  },
  {
   "cell_type": "markdown",
   "metadata": {},
   "source": []
  },
  {
   "cell_type": "code",
   "execution_count": 14,
   "metadata": {},
   "outputs": [
    {
     "name": "stdout",
     "output_type": "stream",
     "text": [
      "usage: sweep.py [-h] [--learning-rate LEARNING_RATES [LEARNING_RATES ...]]\r\n",
      "                [--epoch EPOCHS [EPOCHS ...]]\r\n",
      "                [--batch-size BATCH_SIZES [BATCH_SIZES ...]]\r\n",
      "                [--im-size IM_SIZES [IM_SIZES ...]]\r\n",
      "                [--architecture {squeezenet1_1,resnet18,resnet34,resnet50} [{squeezenet1_1,resnet18,resnet34,resnet50} ...]]\r\n",
      "                [--transform TRANSFORMS [TRANSFORMS ...]]\r\n",
      "                [--dropout DROPOUTS [DROPOUTS ...]]\r\n",
      "                [--weight-decay WEIGHT_DECAYS [WEIGHT_DECAYS ...]]\r\n",
      "                [--training-schedule {head_only,body_only,head_first_then_body} [{head_only,body_only,head_first_then_body} ...]]\r\n",
      "                [--discriminative-lr {True,False} [{True,False} ...]]\r\n",
      "                [--one-cycle-policy ONE_CYCLE_POLICIES [ONE_CYCLE_POLICIES ...]]\r\n",
      "                (--inputs INPUTS [INPUTS ...] | --benchmark)\r\n",
      "                [--early-stopping] [--repeat REPEAT] [--output OUTPUT]\r\n",
      "                [--clean-up]\r\n",
      "\r\n",
      "This script is used to benchmark the different hyperparameters when it comes to doing image classification.\r\n",
      "\r\n",
      "This script will run all permutations of the parameters that are passed in.\r\n",
      "\r\n",
      "This script will run these tests on datasets provided in this repo. It will\r\n",
      "create a temporary data directory, and delete it at the end.\r\n",
      "\r\n",
      "This script uses accuracy as the evaluation metric.\r\n",
      "\r\n",
      "Use [-W ignore] to ignore warning messages when running the script.\r\n",
      "\r\n",
      "optional arguments:\r\n",
      "  -h, --help            show this help message and exit\r\n",
      "  --learning-rate LEARNING_RATES [LEARNING_RATES ...], -lr LEARNING_RATES [LEARNING_RATES ...]\r\n",
      "                        Learning rate - recommended options: [1e-3, 1e-4, 1e-5] \r\n",
      "  --epoch EPOCHS [EPOCHS ...], -e EPOCHS [EPOCHS ...]\r\n",
      "                        Epochs - recommended options: [3, 5, 10, 15]\r\n",
      "  --batch-size BATCH_SIZES [BATCH_SIZES ...], -bs BATCH_SIZES [BATCH_SIZES ...]\r\n",
      "                        Batch sizes - recommended options: [8, 16, 32, 64]\r\n",
      "  --im-size IM_SIZES [IM_SIZES ...], -is IM_SIZES [IM_SIZES ...]\r\n",
      "                        Image sizes - recommended options: [299, 499]\r\n",
      "  --architecture {squeezenet1_1,resnet18,resnet34,resnet50} [{squeezenet1_1,resnet18,resnet34,resnet50} ...], -a {squeezenet1_1,resnet18,resnet34,resnet50} [{squeezenet1_1,resnet18,resnet34,resnet50} ...]\r\n",
      "                        Choose an architecture.\r\n",
      "  --transform TRANSFORMS [TRANSFORMS ...], -t TRANSFORMS [TRANSFORMS ...]\r\n",
      "                        Tranform (data augmentation) - options: [True, False]\r\n",
      "  --dropout DROPOUTS [DROPOUTS ...], -d DROPOUTS [DROPOUTS ...]\r\n",
      "                        Dropout - recommended options: [0.5]\r\n",
      "  --weight-decay WEIGHT_DECAYS [WEIGHT_DECAYS ...], -wd WEIGHT_DECAYS [WEIGHT_DECAYS ...]\r\n",
      "                        Weight decay - recommended options: [0.01]\r\n",
      "  --training-schedule {head_only,body_only,head_first_then_body} [{head_only,body_only,head_first_then_body} ...], -ts {head_only,body_only,head_first_then_body} [{head_only,body_only,head_first_then_body} ...]\r\n",
      "                        Choose a training schedule\r\n",
      "  --discriminative-lr {True,False} [{True,False} ...], -dl {True,False} [{True,False} ...]\r\n",
      "                        Discriminative learning rate - options: [True, False]. To use discriminative learning rates, training schedule must not be 'head_only'\r\n",
      "  --one-cycle-policy ONE_CYCLE_POLICIES [ONE_CYCLE_POLICIES ...], -ocp ONE_CYCLE_POLICIES [ONE_CYCLE_POLICIES ...]\r\n",
      "                        one cycle policy - options: [True, False]\r\n",
      "  --inputs INPUTS [INPUTS ...], -i INPUTS [INPUTS ...]\r\n",
      "                        A list of data paths to run the tests on. The datasets must be structured so that each class is in a separate folder. <--benchmark> must be False\r\n",
      "  --benchmark           Whether or not to use curated benchmark datasets to test. <--input> must be empty\r\n",
      "  --early-stopping      Stop training early if possible\r\n",
      "  --repeat REPEAT, -r REPEAT\r\n",
      "                        The number of times to repeat each permutation\r\n",
      "  --output OUTPUT, -o OUTPUT\r\n",
      "                        The path of the output file.\r\n",
      "  --clean-up            Remove input data or temporary data after the run. WARNING: If this flag is set, it will permanently remove input data.\r\n",
      "\r\n",
      "Example usage:\r\n",
      "OrderedDict([('learning_rate', [0.0001]), ('epochs', [15]), ('batch_size', [16]), ('im_size', [299]), ('architecture', [<Architecture.resnet18: functools.partial(<function resnet18 at 0x7ff8929f0158>)>]), ('transform', [True]), ('dropout', [0.5]), ('weight_decay', [0.01]), ('training_schedule', [<TrainingSchedule.head_first_then_body: 'head_first_then_body'>]), ('discriminative_lr', [False]), ('one_cycle_policy', [True])])\r\n",
      "\r\n",
      "# Test the effect of 3 learning rates on 3 batch sizes\r\n",
      "$ python benchmark.py -lr 1e-3 1e-4 1e-5 -bs 8 16 32 -o learning_rate_batch_size.csv\r\n",
      "\r\n",
      "# Test the effect of one cycle policy without using discriminative learning rates over 5 runs\r\n",
      "$ python benchmark.py -dl False -ocp True False -r 5 -o ocp_dl.csv\r\n",
      "\r\n",
      "# Test different architectures and image sizes\r\n",
      "$ python benchmark.py -a squeezenet1_1 resenet18 resnet50 -is 299 499 -o arch_im_sizes.csv\r\n",
      "\r\n",
      "# Test different training schedules over 3 runs\r\n",
      "$ python benchmark.py -ts body_only head_first_then_body -r 3 -o training_schedule.csv\r\n",
      "\r\n",
      "---\r\n",
      "\r\n",
      "To view results, we recommend using pandas dataframes:\r\n",
      "\r\n",
      "```\r\n",
      "import pandas as pd\r\n",
      "df = pd.read_csv(\"results.csv\", index_col=[0, 1, 2])\r\n",
      "```\r\n"
     ]
    }
   ],
   "source": [
    "!{sys.executable} scripts/sweep.py --help"
   ]
  },
  {
   "cell_type": "markdown",
   "metadata": {},
   "source": [
    "### Visualize Results <a name=\"visualize\"></a>"
   ]
  },
  {
   "cell_type": "markdown",
   "metadata": {},
   "source": [
    "When we read in out multi-index dataframe, index 0 represents the run number, index 1 represents a single permutation of parameters, and index 2 represents the dataset."
   ]
  },
  {
   "cell_type": "markdown",
   "metadata": {},
   "source": [
    "To see the results, show the df using the `clean_sweeper_df` helper function. This will display all the hyperparameters in a nice, readable way."
   ]
  },
  {
   "cell_type": "code",
   "execution_count": 15,
   "metadata": {},
   "outputs": [],
   "source": [
    "df = clean_sweeper_df(df)"
   ]
  },
  {
   "cell_type": "markdown",
   "metadata": {},
   "source": [
    "Since we've run our benchmarking over 3 repetitions, we may want to just look at the averages across the different __run numbers__."
   ]
  },
  {
   "cell_type": "code",
   "execution_count": 16,
   "metadata": {},
   "outputs": [
    {
     "data": {
      "text/html": [
       "<div>\n",
       "<style scoped>\n",
       "    .dataframe tbody tr th:only-of-type {\n",
       "        vertical-align: middle;\n",
       "    }\n",
       "\n",
       "    .dataframe tbody tr th {\n",
       "        vertical-align: top;\n",
       "    }\n",
       "\n",
       "    .dataframe thead tr th {\n",
       "        text-align: left;\n",
       "    }\n",
       "</style>\n",
       "<table border=\"1\" class=\"dataframe\">\n",
       "  <thead>\n",
       "    <tr>\n",
       "      <th></th>\n",
       "      <th>P: [learning_rate: 0.0001] [im_size: 299]</th>\n",
       "      <th>P: [learning_rate: 0.0001] [im_size: 499]</th>\n",
       "      <th>P: [learning_rate: 0.001] [im_size: 299]</th>\n",
       "      <th>P: [learning_rate: 0.001] [im_size: 499]</th>\n",
       "      <th>P: [learning_rate: 1e-05] [im_size: 299]</th>\n",
       "      <th>P: [learning_rate: 1e-05] [im_size: 499]</th>\n",
       "    </tr>\n",
       "    <tr>\n",
       "      <th></th>\n",
       "      <th>fridgeObjects</th>\n",
       "      <th>fridgeObjects</th>\n",
       "      <th>fridgeObjects</th>\n",
       "      <th>fridgeObjects</th>\n",
       "      <th>fridgeObjects</th>\n",
       "      <th>fridgeObjects</th>\n",
       "    </tr>\n",
       "  </thead>\n",
       "  <tbody>\n",
       "    <tr>\n",
       "      <th>duration</th>\n",
       "      <td>16.790272</td>\n",
       "      <td>26.111746</td>\n",
       "      <td>18.401948</td>\n",
       "      <td>26.436082</td>\n",
       "      <td>16.929840</td>\n",
       "      <td>26.340579</td>\n",
       "    </tr>\n",
       "    <tr>\n",
       "      <th>accuracy</th>\n",
       "      <td>0.856061</td>\n",
       "      <td>0.901515</td>\n",
       "      <td>0.909091</td>\n",
       "      <td>0.871212</td>\n",
       "      <td>0.371212</td>\n",
       "      <td>0.409091</td>\n",
       "    </tr>\n",
       "  </tbody>\n",
       "</table>\n",
       "</div>"
      ],
      "text/plain": [
       "         P: [learning_rate: 0.0001] [im_size: 299]  \\\n",
       "                                     fridgeObjects   \n",
       "duration                                 16.790272   \n",
       "accuracy                                  0.856061   \n",
       "\n",
       "         P: [learning_rate: 0.0001] [im_size: 499]  \\\n",
       "                                     fridgeObjects   \n",
       "duration                                 26.111746   \n",
       "accuracy                                  0.901515   \n",
       "\n",
       "         P: [learning_rate: 0.001] [im_size: 299]  \\\n",
       "                                    fridgeObjects   \n",
       "duration                                18.401948   \n",
       "accuracy                                 0.909091   \n",
       "\n",
       "         P: [learning_rate: 0.001] [im_size: 499]  \\\n",
       "                                    fridgeObjects   \n",
       "duration                                26.436082   \n",
       "accuracy                                 0.871212   \n",
       "\n",
       "         P: [learning_rate: 1e-05] [im_size: 299]  \\\n",
       "                                    fridgeObjects   \n",
       "duration                                16.929840   \n",
       "accuracy                                 0.371212   \n",
       "\n",
       "         P: [learning_rate: 1e-05] [im_size: 499]  \n",
       "                                    fridgeObjects  \n",
       "duration                                26.340579  \n",
       "accuracy                                 0.409091  "
      ]
     },
     "execution_count": 16,
     "metadata": {},
     "output_type": "execute_result"
    }
   ],
   "source": [
    "df.mean(level=(1,2)).T"
   ]
  },
  {
   "cell_type": "markdown",
   "metadata": {},
   "source": [
    "Additionally, we may want simply to see which set of hyperparameters perform the best across the different __datasets__. We can do that by averaging the results of the different datasets. (The results of this step will look similar to the above since we're only passing in one dataset)."
   ]
  },
  {
   "cell_type": "code",
   "execution_count": 17,
   "metadata": {
    "scrolled": true
   },
   "outputs": [
    {
     "data": {
      "text/html": [
       "<div>\n",
       "<style scoped>\n",
       "    .dataframe tbody tr th:only-of-type {\n",
       "        vertical-align: middle;\n",
       "    }\n",
       "\n",
       "    .dataframe tbody tr th {\n",
       "        vertical-align: top;\n",
       "    }\n",
       "\n",
       "    .dataframe thead th {\n",
       "        text-align: right;\n",
       "    }\n",
       "</style>\n",
       "<table border=\"1\" class=\"dataframe\">\n",
       "  <thead>\n",
       "    <tr style=\"text-align: right;\">\n",
       "      <th></th>\n",
       "      <th>P: [learning_rate: 0.0001] [im_size: 299]</th>\n",
       "      <th>P: [learning_rate: 0.0001] [im_size: 499]</th>\n",
       "      <th>P: [learning_rate: 0.001] [im_size: 299]</th>\n",
       "      <th>P: [learning_rate: 0.001] [im_size: 499]</th>\n",
       "      <th>P: [learning_rate: 1e-05] [im_size: 299]</th>\n",
       "      <th>P: [learning_rate: 1e-05] [im_size: 499]</th>\n",
       "    </tr>\n",
       "  </thead>\n",
       "  <tbody>\n",
       "    <tr>\n",
       "      <th>duration</th>\n",
       "      <td>16.790272</td>\n",
       "      <td>26.111746</td>\n",
       "      <td>18.401948</td>\n",
       "      <td>26.436082</td>\n",
       "      <td>16.929840</td>\n",
       "      <td>26.340579</td>\n",
       "    </tr>\n",
       "    <tr>\n",
       "      <th>accuracy</th>\n",
       "      <td>0.856061</td>\n",
       "      <td>0.901515</td>\n",
       "      <td>0.909091</td>\n",
       "      <td>0.871212</td>\n",
       "      <td>0.371212</td>\n",
       "      <td>0.409091</td>\n",
       "    </tr>\n",
       "  </tbody>\n",
       "</table>\n",
       "</div>"
      ],
      "text/plain": [
       "          P: [learning_rate: 0.0001] [im_size: 299]  \\\n",
       "duration                                  16.790272   \n",
       "accuracy                                   0.856061   \n",
       "\n",
       "          P: [learning_rate: 0.0001] [im_size: 499]  \\\n",
       "duration                                  26.111746   \n",
       "accuracy                                   0.901515   \n",
       "\n",
       "          P: [learning_rate: 0.001] [im_size: 299]  \\\n",
       "duration                                 18.401948   \n",
       "accuracy                                  0.909091   \n",
       "\n",
       "          P: [learning_rate: 0.001] [im_size: 499]  \\\n",
       "duration                                 26.436082   \n",
       "accuracy                                  0.871212   \n",
       "\n",
       "          P: [learning_rate: 1e-05] [im_size: 299]  \\\n",
       "duration                                 16.929840   \n",
       "accuracy                                  0.371212   \n",
       "\n",
       "          P: [learning_rate: 1e-05] [im_size: 499]  \n",
       "duration                                 26.340579  \n",
       "accuracy                                  0.409091  "
      ]
     },
     "execution_count": 17,
     "metadata": {},
     "output_type": "execute_result"
    }
   ],
   "source": [
    "df.mean(level=(1)).T"
   ]
  },
  {
   "cell_type": "markdown",
   "metadata": {},
   "source": [
    "To make it easier to see which permutation did the best, we can plot the results using the `plot_sweeper_df` helper function. This plot will help us easily see which parameters offer the highest accuracies."
   ]
  },
  {
   "cell_type": "code",
   "execution_count": 18,
   "metadata": {},
   "outputs": [
    {
     "data": {
      "image/png": "[encoded data removed]",
      "text/plain": [
       "<Figure size 864x576 with 2 Axes>"
      ]
     },
     "metadata": {
      "needs_background": "light"
     },
     "output_type": "display_data"
    }
   ],
   "source": [
    "plot_sweeper_df(df.mean(level=(1)), sort_by=\"accuracy\")"
   ]
  },
  {
   "cell_type": "markdown",
   "metadata": {},
   "source": [
    "---"
   ]
  },
  {
   "cell_type": "markdown",
   "metadata": {},
   "source": [
    "## Benchmarking <a name=\"benchmarking\"></a>\n",
    "\n",
    "We can also use the Parameter Sweeper module to perform some benchmarking on different paramters. Let's say we're interesting in understanding what a good learning rate is given some arbitrary dataset. \n",
    "\n",
    "To answer the question, we use the Parameter Sweeper. However, instead of passing in a single dataset as we did above, we can use a grouping of datasets (which we can simply get from `unzip_urls(Urls.all())`) so that we can tell how well the paramters do across different datasets."
   ]
  },
  {
   "cell_type": "code",
   "execution_count": 2,
   "metadata": {
    "tags": [
     "parameters"
    ]
   },
   "outputs": [],
   "source": [
    "BENCHMARK_DATA = unzip_urls(Urls.all())\n",
    "BENCHMARK_LEARNING_RATES = [1e-2, 1e-3, 1e-4, 1e-5, 1e-6]\n",
    "BENCHMARK_EPOCHS = [3]\n",
    "BENCHMARK_REPS = 5"
   ]
  },
  {
   "cell_type": "markdown",
   "metadata": {},
   "source": [
    "Next, create a new Parameter Sweeper object to use."
   ]
  },
  {
   "cell_type": "code",
   "execution_count": 3,
   "metadata": {},
   "outputs": [],
   "source": [
    "benchmarking_sweeper = ParameterSweeper()"
   ]
  },
  {
   "cell_type": "markdown",
   "metadata": {},
   "source": [
    "Set the parameter we want to test on."
   ]
  },
  {
   "cell_type": "code",
   "execution_count": 5,
   "metadata": {},
   "outputs": [],
   "source": [
    "benchmarking_sweeper.update_parameters(learning_rate=BENCHMARK_LEARNING_RATES, epochs=BENCHMARK_EPOCHS)"
   ]
  },
  {
   "cell_type": "markdown",
   "metadata": {},
   "source": [
    "This time when we run the benchmark, it will test across all the datasets we've passed in. This will give us a sense of how these parameters work given an arbitrary dataset."
   ]
  },
  {
   "cell_type": "code",
   "execution_count": 7,
   "metadata": {},
   "outputs": [],
   "source": [
    "df = benchmarking_sweeper.run(datasets=BENCHMARK_DATA, reps=BENCHMARK_REPS)"
   ]
  },
  {
   "cell_type": "markdown",
   "metadata": {},
   "source": [
    "> Doing a benchmark can also be done using the CLI with the __scripts/sweep.py__ file. The only difference is that we use the `--benchmark` flag that will automatically use the curated set of 6 datasets that are used when calling `Urls.all()`.\n",
    "> ```sh\n",
    "python scripts/sweep.py -lr 1e-2 1e-3 1e-4 1e-5 1e-6 --benchmark --output <output_results.csv>\n",
    "```"
   ]
  },
  {
   "cell_type": "markdown",
   "metadata": {},
   "source": [
    "### Visualize Results\n",
    "Like before, we'll now want to visualize these results. First we use the `clean_sweeper_df` helper function to clean up our dataframe from redundant parameter strings."
   ]
  },
  {
   "cell_type": "code",
   "execution_count": 8,
   "metadata": {},
   "outputs": [],
   "source": [
    "df = clean_sweeper_df(df)"
   ]
  },
  {
   "cell_type": "markdown",
   "metadata": {},
   "source": [
    "Like before, we can see the averages over the different __runs__."
   ]
  },
  {
   "cell_type": "code",
   "execution_count": 9,
   "metadata": {},
   "outputs": [
    {
     "data": {
      "text/html": [
       "<div>\n",
       "<style scoped>\n",
       "    .dataframe tbody tr th:only-of-type {\n",
       "        vertical-align: middle;\n",
       "    }\n",
       "\n",
       "    .dataframe tbody tr th {\n",
       "        vertical-align: top;\n",
       "    }\n",
       "\n",
       "    .dataframe thead tr th {\n",
       "        text-align: left;\n",
       "    }\n",
       "</style>\n",
       "<table border=\"1\" class=\"dataframe\">\n",
       "  <thead>\n",
       "    <tr>\n",
       "      <th></th>\n",
       "      <th colspan=\"6\" halign=\"left\">P: [learning_rate: 0.0001]</th>\n",
       "      <th colspan=\"4\" halign=\"left\">P: [learning_rate: 0.001]</th>\n",
       "      <th>...</th>\n",
       "      <th colspan=\"4\" halign=\"left\">P: [learning_rate: 1e-05]</th>\n",
       "      <th colspan=\"6\" halign=\"left\">P: [learning_rate: 1e-06]</th>\n",
       "    </tr>\n",
       "    <tr>\n",
       "      <th></th>\n",
       "      <th>fashionTexture</th>\n",
       "      <th>flickrLogos32Subset</th>\n",
       "      <th>food101Subset</th>\n",
       "      <th>fridgeObjects</th>\n",
       "      <th>lettuce</th>\n",
       "      <th>recycle_v3</th>\n",
       "      <th>fashionTexture</th>\n",
       "      <th>flickrLogos32Subset</th>\n",
       "      <th>food101Subset</th>\n",
       "      <th>fridgeObjects</th>\n",
       "      <th>...</th>\n",
       "      <th>food101Subset</th>\n",
       "      <th>fridgeObjects</th>\n",
       "      <th>lettuce</th>\n",
       "      <th>recycle_v3</th>\n",
       "      <th>fashionTexture</th>\n",
       "      <th>flickrLogos32Subset</th>\n",
       "      <th>food101Subset</th>\n",
       "      <th>fridgeObjects</th>\n",
       "      <th>lettuce</th>\n",
       "      <th>recycle_v3</th>\n",
       "    </tr>\n",
       "  </thead>\n",
       "  <tbody>\n",
       "    <tr>\n",
       "      <th>duration</th>\n",
       "      <td>63.417779</td>\n",
       "      <td>80.348700</td>\n",
       "      <td>58.075464</td>\n",
       "      <td>5.167652</td>\n",
       "      <td>6.665957</td>\n",
       "      <td>18.713919</td>\n",
       "      <td>63.939942</td>\n",
       "      <td>80.848514</td>\n",
       "      <td>58.162088</td>\n",
       "      <td>5.134694</td>\n",
       "      <td>...</td>\n",
       "      <td>58.332290</td>\n",
       "      <td>5.136389</td>\n",
       "      <td>6.665299</td>\n",
       "      <td>18.678736</td>\n",
       "      <td>63.872168</td>\n",
       "      <td>80.460484</td>\n",
       "      <td>58.149106</td>\n",
       "      <td>5.152301</td>\n",
       "      <td>6.619845</td>\n",
       "      <td>18.605217</td>\n",
       "    </tr>\n",
       "    <tr>\n",
       "      <th>accuracy</th>\n",
       "      <td>0.825442</td>\n",
       "      <td>0.720575</td>\n",
       "      <td>0.905454</td>\n",
       "      <td>0.713636</td>\n",
       "      <td>0.827200</td>\n",
       "      <td>0.950538</td>\n",
       "      <td>0.772791</td>\n",
       "      <td>0.820797</td>\n",
       "      <td>0.887879</td>\n",
       "      <td>0.822727</td>\n",
       "      <td>...</td>\n",
       "      <td>0.743636</td>\n",
       "      <td>0.290909</td>\n",
       "      <td>0.585600</td>\n",
       "      <td>0.539785</td>\n",
       "      <td>0.113074</td>\n",
       "      <td>0.037168</td>\n",
       "      <td>0.296727</td>\n",
       "      <td>0.304545</td>\n",
       "      <td>0.456000</td>\n",
       "      <td>0.167204</td>\n",
       "    </tr>\n",
       "  </tbody>\n",
       "</table>\n",
       "<p>2 rows × 30 columns</p>\n",
       "</div>"
      ],
      "text/plain": [
       "         P: [learning_rate: 0.0001]                                    \\\n",
       "                     fashionTexture flickrLogos32Subset food101Subset   \n",
       "duration                  63.417779           80.348700     58.075464   \n",
       "accuracy                   0.825442            0.720575      0.905454   \n",
       "\n",
       "                                            P: [learning_rate: 0.001]  \\\n",
       "         fridgeObjects   lettuce recycle_v3            fashionTexture   \n",
       "duration      5.167652  6.665957  18.713919                 63.939942   \n",
       "accuracy      0.713636  0.827200   0.950538                  0.772791   \n",
       "\n",
       "                                                          ...  \\\n",
       "         flickrLogos32Subset food101Subset fridgeObjects  ...   \n",
       "duration           80.848514     58.162088      5.134694  ...   \n",
       "accuracy            0.820797      0.887879      0.822727  ...   \n",
       "\n",
       "         P: [learning_rate: 1e-05]                                     \\\n",
       "                     food101Subset fridgeObjects   lettuce recycle_v3   \n",
       "duration                 58.332290      5.136389  6.665299  18.678736   \n",
       "accuracy                  0.743636      0.290909  0.585600   0.539785   \n",
       "\n",
       "         P: [learning_rate: 1e-06]                                    \\\n",
       "                    fashionTexture flickrLogos32Subset food101Subset   \n",
       "duration                 63.872168           80.460484     58.149106   \n",
       "accuracy                  0.113074            0.037168      0.296727   \n",
       "\n",
       "                                             \n",
       "         fridgeObjects   lettuce recycle_v3  \n",
       "duration      5.152301  6.619845  18.605217  \n",
       "accuracy      0.304545  0.456000   0.167204  \n",
       "\n",
       "[2 rows x 30 columns]"
      ]
     },
     "execution_count": 9,
     "metadata": {},
     "output_type": "execute_result"
    }
   ],
   "source": [
    "df.mean(level=(1,2)).T"
   ]
  },
  {
   "cell_type": "markdown",
   "metadata": {},
   "source": [
    "We can also see the averages over the different __datasets__ too."
   ]
  },
  {
   "cell_type": "code",
   "execution_count": 10,
   "metadata": {},
   "outputs": [
    {
     "data": {
      "text/html": [
       "<div>\n",
       "<style scoped>\n",
       "    .dataframe tbody tr th:only-of-type {\n",
       "        vertical-align: middle;\n",
       "    }\n",
       "\n",
       "    .dataframe tbody tr th {\n",
       "        vertical-align: top;\n",
       "    }\n",
       "\n",
       "    .dataframe thead th {\n",
       "        text-align: right;\n",
       "    }\n",
       "</style>\n",
       "<table border=\"1\" class=\"dataframe\">\n",
       "  <thead>\n",
       "    <tr style=\"text-align: right;\">\n",
       "      <th></th>\n",
       "      <th>P: [learning_rate: 0.0001]</th>\n",
       "      <th>P: [learning_rate: 0.001]</th>\n",
       "      <th>P: [learning_rate: 0.01]</th>\n",
       "      <th>P: [learning_rate: 1e-05]</th>\n",
       "      <th>P: [learning_rate: 1e-06]</th>\n",
       "    </tr>\n",
       "  </thead>\n",
       "  <tbody>\n",
       "    <tr>\n",
       "      <th>duration</th>\n",
       "      <td>38.731578</td>\n",
       "      <td>38.903957</td>\n",
       "      <td>38.900608</td>\n",
       "      <td>38.643917</td>\n",
       "      <td>38.809853</td>\n",
       "    </tr>\n",
       "    <tr>\n",
       "      <th>accuracy</th>\n",
       "      <td>0.823808</td>\n",
       "      <td>0.846394</td>\n",
       "      <td>0.393808</td>\n",
       "      <td>0.455115</td>\n",
       "      <td>0.229120</td>\n",
       "    </tr>\n",
       "  </tbody>\n",
       "</table>\n",
       "</div>"
      ],
      "text/plain": [
       "          P: [learning_rate: 0.0001]  P: [learning_rate: 0.001]  \\\n",
       "duration                   38.731578                  38.903957   \n",
       "accuracy                    0.823808                   0.846394   \n",
       "\n",
       "          P: [learning_rate: 0.01]  P: [learning_rate: 1e-05]  \\\n",
       "duration                 38.900608                  38.643917   \n",
       "accuracy                  0.393808                   0.455115   \n",
       "\n",
       "          P: [learning_rate: 1e-06]  \n",
       "duration                  38.809853  \n",
       "accuracy                   0.229120  "
      ]
     },
     "execution_count": 10,
     "metadata": {},
     "output_type": "execute_result"
    }
   ],
   "source": [
    "df.mean(level=(1)).T"
   ]
  },
  {
   "cell_type": "markdown",
   "metadata": {},
   "source": [
    "Print the average accuracy over the different runs for each dataset independently."
   ]
  },
  {
   "cell_type": "code",
   "execution_count": 11,
   "metadata": {},
   "outputs": [
    {
     "data": {
      "text/plain": [
       "[Text(0, 0, '0.00%'),\n",
       " Text(0, 0, '20.00%'),\n",
       " Text(0, 0, '40.00%'),\n",
       " Text(0, 0, '60.00%'),\n",
       " Text(0, 0, '80.00%'),\n",
       " Text(0, 0, '100.00%'),\n",
       " Text(0, 0, '120.00%')]"
      ]
     },
     "execution_count": 11,
     "metadata": {},
     "output_type": "execute_result"
    },
    {
     "data": {
      "image/png": "[encoded data removed]",
      "text/plain": [
       "<Figure size 864x432 with 1 Axes>"
      ]
     },
     "metadata": {
      "needs_background": "light"
     },
     "output_type": "display_data"
    }
   ],
   "source": [
    "ax = df.mean(level=(1,2))[\"accuracy\"].unstack().plot(kind='bar', figsize=(12, 6))\n",
    "ax.set_yticklabels(['{:,.2%}'.format(x) for x in ax.get_yticks()])"
   ]
  },
  {
   "cell_type": "markdown",
   "metadata": {},
   "source": [
    "Take advantage of the helper function `plot_sweeper_df` to visualize the results in a nice way."
   ]
  },
  {
   "cell_type": "code",
   "execution_count": 12,
   "metadata": {},
   "outputs": [
    {
     "data": {
      "image/png": "[encoded data removed]",
      "text/plain": [
       "<Figure size 864x432 with 1 Axes>"
      ]
     },
     "metadata": {
      "needs_background": "light"
     },
     "output_type": "display_data"
    }
   ],
   "source": [
    "plot_sweeper_df(df.mean(level=(1)), sort_by=\"accuracy\", show_cols=[\"accuracy\"], figsize=(12,6))"
   ]
  }
 ],
 "metadata": {
  "kernelspec": {
   "display_name": "Python (cvbp)",
   "language": "python",
   "name": "cvbp"
  },
  "language_info": {
   "codemirror_mode": {
    "name": "ipython",
    "version": 3
   },
   "file_extension": ".py",
   "mimetype": "text/x-python",
   "name": "python",
   "nbconvert_exporter": "python",
   "pygments_lexer": "ipython3",
   "version": "3.6.8"
  }
 },
 "nbformat": 4,
 "nbformat_minor": 2
}
