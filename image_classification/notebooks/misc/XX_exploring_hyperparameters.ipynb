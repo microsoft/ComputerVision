{
 "cells": [
  {
   "cell_type": "markdown",
   "metadata": {},
   "source": [
    "# Testing different Hyperparameters"
   ]
  },
  {
   "cell_type": "markdown",
   "metadata": {},
   "source": [
    "Lets say we're curious about __how different learning rates and different batch sizes affect our model's accuracy when restricted to 5 epochs__, and we want to build an experiment to test out these hyperparameters.\n",
    "\n",
    "In this notebook, we'll walk through the following:\n",
    "\n",
    "- use python to perform this experiment\n",
    "- use the CLI to perform this experiment\n",
    "- evalute the results using Pandas"
   ]
  },
  {
   "cell_type": "markdown",
   "metadata": {},
   "source": [
    "---"
   ]
  },
  {
   "cell_type": "code",
   "execution_count": 7,
   "metadata": {},
   "outputs": [],
   "source": [
    "import sys\n",
    "sys.path.append(\"../../\")\n",
    "import pandas as pd\n",
    "import os\n",
    "\n",
    "from utils_ic import ic_root_path\n",
    "from utils_ic.datasets import unzip_url, Urls, data_path\n",
    "from utils_ic.benchmark import (\n",
    "    prettify_df, benchmark, Architecture, TrainingSchedule, get_parameters\n",
    ")\n",
    "from utils_ic.datasets import unzip_urls"
   ]
  },
  {
   "cell_type": "markdown",
   "metadata": {},
   "source": [
    "Lets download some data that we want to test on."
   ]
  },
  {
   "cell_type": "code",
   "execution_count": 2,
   "metadata": {},
   "outputs": [],
   "source": [
    "input_data = unzip_url(Urls.fridge_objects_path, exist_ok=True)"
   ]
  },
  {
   "cell_type": "markdown",
   "metadata": {},
   "source": [
    "## Using Python"
   ]
  },
  {
   "cell_type": "markdown",
   "metadata": {},
   "source": [
    "Before we start testing, it's a good idea to see what the default parameters. We can use a the helper function `get_parameters` to easily get those default values.\n",
    "\n",
    "Use `get_parameters??` to see what the method signature looks like, and also what the defaults are. "
   ]
  },
  {
   "cell_type": "code",
   "execution_count": null,
   "metadata": {},
   "outputs": [],
   "source": [
    "get_parameters??"
   ]
  },
  {
   "cell_type": "markdown",
   "metadata": {},
   "source": [
    "Now that we know the defaults, we can pass in the list of the parameters we want to benchmark. \n",
    "\n",
    "In this notebook, we want to see the effect of different learning rates across different batch sizes using only 5 epochs (the default number of epochs is 15). To do so, I would run the `get_parameters` functions as follows:\n",
    "\n",
    "```python\n",
    "params = get_parameters(lrs=[1e-3, 1e-4], batch_sizes=[8, 16, 32], epochs=[5])\n",
    "```\n",
    "\n",
    "Notice that all parameters must be passed in as a list, including single values such as `epochs=[5]`.\n",
    "\n",
    "These parameters will be used to calculate the number of permutations to run. In this case, we've passed in `lrs=[1e-3, 1e-4]`, `batch_sizes=[8, 16, 32]`, and `epochs=[5]`. This will result in 2 X 3 X 1 total permutations (in otherwords, 6 permutations). "
   ]
  },
  {
   "cell_type": "code",
   "execution_count": 11,
   "metadata": {},
   "outputs": [],
   "source": [
    "params = get_parameters(lrs=[1e-3, 1e-4], batch_sizes=[8, 16, 32], epochs=[5])"
   ]
  },
  {
   "cell_type": "markdown",
   "metadata": {},
   "source": [
    "Now that we have our parameters defined, we call the function `benchmark()` which takes in those params. \n",
    "\n",
    "We also need to pass in:\n",
    "- the number of repetitions to run each permutation\n",
    "- whether or not we want the training to stop early if the metric (accuracy) doesn't improve by 0.01 (1%) over 3 epochs"
   ]
  },
  {
   "cell_type": "code",
   "execution_count": 12,
   "metadata": {},
   "outputs": [],
   "source": [
    "reps = 3\n",
    "early_stopping = False"
   ]
  },
  {
   "cell_type": "markdown",
   "metadata": {},
   "source": [
    "The `benchmark()` function returns a multi-index dataframe which we can work with right away."
   ]
  },
  {
   "cell_type": "code",
   "execution_count": 13,
   "metadata": {},
   "outputs": [
    {
     "data": {
      "text/html": [
       "<div>\n",
       "<style scoped>\n",
       "    .dataframe tbody tr th:only-of-type {\n",
       "        vertical-align: middle;\n",
       "    }\n",
       "\n",
       "    .dataframe tbody tr th {\n",
       "        vertical-align: top;\n",
       "    }\n",
       "\n",
       "    .dataframe thead th {\n",
       "        text-align: right;\n",
       "    }\n",
       "</style>\n",
       "<table border=\"1\" class=\"dataframe\">\n",
       "  <thead>\n",
       "    <tr style=\"text-align: right;\">\n",
       "      <th></th>\n",
       "      <th></th>\n",
       "      <th></th>\n",
       "      <th>duration</th>\n",
       "      <th>accuracy</th>\n",
       "    </tr>\n",
       "  </thead>\n",
       "  <tbody>\n",
       "    <tr>\n",
       "      <th rowspan=\"6\" valign=\"top\">0</th>\n",
       "      <th>lr: 0.0001, epochs: 5, batch_size: 16, im_size: 299, arch: resnet18, transforms: True, dropout: 0.5, weight_decay: 0.01, training_schedule: head_first_then_body, discriminative_lr: True, one_cycle_policy: True</th>\n",
       "      <th>fridgeObjects</th>\n",
       "      <td>0.836295</td>\n",
       "      <td>0.136364</td>\n",
       "    </tr>\n",
       "    <tr>\n",
       "      <th>lr: 0.0001, epochs: 5, batch_size: 32, im_size: 299, arch: resnet18, transforms: True, dropout: 0.5, weight_decay: 0.01, training_schedule: head_first_then_body, discriminative_lr: True, one_cycle_policy: True</th>\n",
       "      <th>fridgeObjects</th>\n",
       "      <td>1.108188</td>\n",
       "      <td>0.409091</td>\n",
       "    </tr>\n",
       "    <tr>\n",
       "      <th>lr: 0.0001, epochs: 5, batch_size: 8, im_size: 299, arch: resnet18, transforms: True, dropout: 0.5, weight_decay: 0.01, training_schedule: head_first_then_body, discriminative_lr: True, one_cycle_policy: True</th>\n",
       "      <th>fridgeObjects</th>\n",
       "      <td>0.644506</td>\n",
       "      <td>0.272727</td>\n",
       "    </tr>\n",
       "    <tr>\n",
       "      <th>lr: 0.001, epochs: 5, batch_size: 16, im_size: 299, arch: resnet18, transforms: True, dropout: 0.5, weight_decay: 0.01, training_schedule: head_first_then_body, discriminative_lr: True, one_cycle_policy: True</th>\n",
       "      <th>fridgeObjects</th>\n",
       "      <td>0.825757</td>\n",
       "      <td>0.159091</td>\n",
       "    </tr>\n",
       "    <tr>\n",
       "      <th>lr: 0.001, epochs: 5, batch_size: 32, im_size: 299, arch: resnet18, transforms: True, dropout: 0.5, weight_decay: 0.01, training_schedule: head_first_then_body, discriminative_lr: True, one_cycle_policy: True</th>\n",
       "      <th>fridgeObjects</th>\n",
       "      <td>1.113043</td>\n",
       "      <td>0.159091</td>\n",
       "    </tr>\n",
       "    <tr>\n",
       "      <th>lr: 0.001, epochs: 5, batch_size: 8, im_size: 299, arch: resnet18, transforms: True, dropout: 0.5, weight_decay: 0.01, training_schedule: head_first_then_body, discriminative_lr: True, one_cycle_policy: True</th>\n",
       "      <th>fridgeObjects</th>\n",
       "      <td>4.986475</td>\n",
       "      <td>0.272727</td>\n",
       "    </tr>\n",
       "    <tr>\n",
       "      <th rowspan=\"6\" valign=\"top\">1</th>\n",
       "      <th>lr: 0.0001, epochs: 5, batch_size: 16, im_size: 299, arch: resnet18, transforms: True, dropout: 0.5, weight_decay: 0.01, training_schedule: head_first_then_body, discriminative_lr: True, one_cycle_policy: True</th>\n",
       "      <th>fridgeObjects</th>\n",
       "      <td>0.789720</td>\n",
       "      <td>0.204545</td>\n",
       "    </tr>\n",
       "    <tr>\n",
       "      <th>lr: 0.0001, epochs: 5, batch_size: 32, im_size: 299, arch: resnet18, transforms: True, dropout: 0.5, weight_decay: 0.01, training_schedule: head_first_then_body, discriminative_lr: True, one_cycle_policy: True</th>\n",
       "      <th>fridgeObjects</th>\n",
       "      <td>1.286736</td>\n",
       "      <td>0.136364</td>\n",
       "    </tr>\n",
       "    <tr>\n",
       "      <th>lr: 0.0001, epochs: 5, batch_size: 8, im_size: 299, arch: resnet18, transforms: True, dropout: 0.5, weight_decay: 0.01, training_schedule: head_first_then_body, discriminative_lr: True, one_cycle_policy: True</th>\n",
       "      <th>fridgeObjects</th>\n",
       "      <td>0.710519</td>\n",
       "      <td>0.204545</td>\n",
       "    </tr>\n",
       "    <tr>\n",
       "      <th>lr: 0.001, epochs: 5, batch_size: 16, im_size: 299, arch: resnet18, transforms: True, dropout: 0.5, weight_decay: 0.01, training_schedule: head_first_then_body, discriminative_lr: True, one_cycle_policy: True</th>\n",
       "      <th>fridgeObjects</th>\n",
       "      <td>0.871194</td>\n",
       "      <td>0.272727</td>\n",
       "    </tr>\n",
       "    <tr>\n",
       "      <th>lr: 0.001, epochs: 5, batch_size: 32, im_size: 299, arch: resnet18, transforms: True, dropout: 0.5, weight_decay: 0.01, training_schedule: head_first_then_body, discriminative_lr: True, one_cycle_policy: True</th>\n",
       "      <th>fridgeObjects</th>\n",
       "      <td>1.064035</td>\n",
       "      <td>0.159091</td>\n",
       "    </tr>\n",
       "    <tr>\n",
       "      <th>lr: 0.001, epochs: 5, batch_size: 8, im_size: 299, arch: resnet18, transforms: True, dropout: 0.5, weight_decay: 0.01, training_schedule: head_first_then_body, discriminative_lr: True, one_cycle_policy: True</th>\n",
       "      <th>fridgeObjects</th>\n",
       "      <td>0.638611</td>\n",
       "      <td>0.159091</td>\n",
       "    </tr>\n",
       "    <tr>\n",
       "      <th rowspan=\"6\" valign=\"top\">2</th>\n",
       "      <th>lr: 0.0001, epochs: 5, batch_size: 16, im_size: 299, arch: resnet18, transforms: True, dropout: 0.5, weight_decay: 0.01, training_schedule: head_first_then_body, discriminative_lr: True, one_cycle_policy: True</th>\n",
       "      <th>fridgeObjects</th>\n",
       "      <td>0.776679</td>\n",
       "      <td>0.204545</td>\n",
       "    </tr>\n",
       "    <tr>\n",
       "      <th>lr: 0.0001, epochs: 5, batch_size: 32, im_size: 299, arch: resnet18, transforms: True, dropout: 0.5, weight_decay: 0.01, training_schedule: head_first_then_body, discriminative_lr: True, one_cycle_policy: True</th>\n",
       "      <th>fridgeObjects</th>\n",
       "      <td>1.080423</td>\n",
       "      <td>0.181818</td>\n",
       "    </tr>\n",
       "    <tr>\n",
       "      <th>lr: 0.0001, epochs: 5, batch_size: 8, im_size: 299, arch: resnet18, transforms: True, dropout: 0.5, weight_decay: 0.01, training_schedule: head_first_then_body, discriminative_lr: True, one_cycle_policy: True</th>\n",
       "      <th>fridgeObjects</th>\n",
       "      <td>0.662220</td>\n",
       "      <td>0.386364</td>\n",
       "    </tr>\n",
       "    <tr>\n",
       "      <th>lr: 0.001, epochs: 5, batch_size: 16, im_size: 299, arch: resnet18, transforms: True, dropout: 0.5, weight_decay: 0.01, training_schedule: head_first_then_body, discriminative_lr: True, one_cycle_policy: True</th>\n",
       "      <th>fridgeObjects</th>\n",
       "      <td>0.784717</td>\n",
       "      <td>0.340909</td>\n",
       "    </tr>\n",
       "    <tr>\n",
       "      <th>lr: 0.001, epochs: 5, batch_size: 32, im_size: 299, arch: resnet18, transforms: True, dropout: 0.5, weight_decay: 0.01, training_schedule: head_first_then_body, discriminative_lr: True, one_cycle_policy: True</th>\n",
       "      <th>fridgeObjects</th>\n",
       "      <td>1.103894</td>\n",
       "      <td>0.250000</td>\n",
       "    </tr>\n",
       "    <tr>\n",
       "      <th>lr: 0.001, epochs: 5, batch_size: 8, im_size: 299, arch: resnet18, transforms: True, dropout: 0.5, weight_decay: 0.01, training_schedule: head_first_then_body, discriminative_lr: True, one_cycle_policy: True</th>\n",
       "      <th>fridgeObjects</th>\n",
       "      <td>0.639533</td>\n",
       "      <td>0.340909</td>\n",
       "    </tr>\n",
       "  </tbody>\n",
       "</table>\n",
       "</div>"
      ],
      "text/plain": [
       "                                                                    duration  \\\n",
       "0 lr: 0.0001, epochs: 5, batch_size: 16, im_size:... fridgeObjects  0.836295   \n",
       "  lr: 0.0001, epochs: 5, batch_size: 32, im_size:... fridgeObjects  1.108188   \n",
       "  lr: 0.0001, epochs: 5, batch_size: 8, im_size: ... fridgeObjects  0.644506   \n",
       "  lr: 0.001, epochs: 5, batch_size: 16, im_size: ... fridgeObjects  0.825757   \n",
       "  lr: 0.001, epochs: 5, batch_size: 32, im_size: ... fridgeObjects  1.113043   \n",
       "  lr: 0.001, epochs: 5, batch_size: 8, im_size: 2... fridgeObjects  4.986475   \n",
       "1 lr: 0.0001, epochs: 5, batch_size: 16, im_size:... fridgeObjects  0.789720   \n",
       "  lr: 0.0001, epochs: 5, batch_size: 32, im_size:... fridgeObjects  1.286736   \n",
       "  lr: 0.0001, epochs: 5, batch_size: 8, im_size: ... fridgeObjects  0.710519   \n",
       "  lr: 0.001, epochs: 5, batch_size: 16, im_size: ... fridgeObjects  0.871194   \n",
       "  lr: 0.001, epochs: 5, batch_size: 32, im_size: ... fridgeObjects  1.064035   \n",
       "  lr: 0.001, epochs: 5, batch_size: 8, im_size: 2... fridgeObjects  0.638611   \n",
       "2 lr: 0.0001, epochs: 5, batch_size: 16, im_size:... fridgeObjects  0.776679   \n",
       "  lr: 0.0001, epochs: 5, batch_size: 32, im_size:... fridgeObjects  1.080423   \n",
       "  lr: 0.0001, epochs: 5, batch_size: 8, im_size: ... fridgeObjects  0.662220   \n",
       "  lr: 0.001, epochs: 5, batch_size: 16, im_size: ... fridgeObjects  0.784717   \n",
       "  lr: 0.001, epochs: 5, batch_size: 32, im_size: ... fridgeObjects  1.103894   \n",
       "  lr: 0.001, epochs: 5, batch_size: 8, im_size: 2... fridgeObjects  0.639533   \n",
       "\n",
       "                                                                    accuracy  \n",
       "0 lr: 0.0001, epochs: 5, batch_size: 16, im_size:... fridgeObjects  0.136364  \n",
       "  lr: 0.0001, epochs: 5, batch_size: 32, im_size:... fridgeObjects  0.409091  \n",
       "  lr: 0.0001, epochs: 5, batch_size: 8, im_size: ... fridgeObjects  0.272727  \n",
       "  lr: 0.001, epochs: 5, batch_size: 16, im_size: ... fridgeObjects  0.159091  \n",
       "  lr: 0.001, epochs: 5, batch_size: 32, im_size: ... fridgeObjects  0.159091  \n",
       "  lr: 0.001, epochs: 5, batch_size: 8, im_size: 2... fridgeObjects  0.272727  \n",
       "1 lr: 0.0001, epochs: 5, batch_size: 16, im_size:... fridgeObjects  0.204545  \n",
       "  lr: 0.0001, epochs: 5, batch_size: 32, im_size:... fridgeObjects  0.136364  \n",
       "  lr: 0.0001, epochs: 5, batch_size: 8, im_size: ... fridgeObjects  0.204545  \n",
       "  lr: 0.001, epochs: 5, batch_size: 16, im_size: ... fridgeObjects  0.272727  \n",
       "  lr: 0.001, epochs: 5, batch_size: 32, im_size: ... fridgeObjects  0.159091  \n",
       "  lr: 0.001, epochs: 5, batch_size: 8, im_size: 2... fridgeObjects  0.159091  \n",
       "2 lr: 0.0001, epochs: 5, batch_size: 16, im_size:... fridgeObjects  0.204545  \n",
       "  lr: 0.0001, epochs: 5, batch_size: 32, im_size:... fridgeObjects  0.181818  \n",
       "  lr: 0.0001, epochs: 5, batch_size: 8, im_size: ... fridgeObjects  0.386364  \n",
       "  lr: 0.001, epochs: 5, batch_size: 16, im_size: ... fridgeObjects  0.340909  \n",
       "  lr: 0.001, epochs: 5, batch_size: 32, im_size: ... fridgeObjects  0.250000  \n",
       "  lr: 0.001, epochs: 5, batch_size: 8, im_size: 2... fridgeObjects  0.340909  "
      ]
     },
     "execution_count": 13,
     "metadata": {},
     "output_type": "execute_result"
    }
   ],
   "source": [
    "df = benchmark([input_data], params, reps, early_stopping); df"
   ]
  },
  {
   "cell_type": "markdown",
   "metadata": {},
   "source": [
    "## Using the CLI tool to benchmark"
   ]
  },
  {
   "cell_type": "markdown",
   "metadata": {},
   "source": [
    "Instead of using python to run this experiment, we may want to test from the CLI. We can do so by using the `scripts/benchmark.py` file. \n",
    "\n",
    "First we move up to the `/image_classification` directory."
   ]
  },
  {
   "cell_type": "code",
   "execution_count": 3,
   "metadata": {},
   "outputs": [],
   "source": [
    "os.chdir(ic_root_path())"
   ]
  },
  {
   "cell_type": "markdown",
   "metadata": {},
   "source": [
    "To reproduce the same test (different learning rates across different batch sizes using only 5 epochs), and the same settings (datasets in 'tmp_data', 3 repetitions, and no early_stopping) we can run the following:\n",
    "\n",
    "```sh\n",
    "python scripts/benchmark.py \n",
    "    --learning-rates 1e-3 1e-4 \n",
    "    --batch-sizes 8 16 32 \n",
    "    --epochs 5 \n",
    "    --repeat 3 \n",
    "    --no-early-stopping \n",
    "    --inputs <my-data-dir>\n",
    "    --output lr_bs_test.csv\n",
    "```\n",
    "\n",
    "Additionally, we've added an output parameter, which will automatically dump our dataframe into a csv file.\n",
    "\n",
    "To simplify the command, we can use the acryonyms of the params. We can also remove `--no-early-stopping` as that is the default behavior.\n",
    "\n",
    "```sh\n",
    "python scripts/benchmark.py -lr 1e-3 1e-4 -bs 8 16 32 -e 5 -r 3 -i <my-data-dir> -o lr_bs_test.csv\n",
    "```\n",
    "\n",
    "HINT: You can learn more about how to use the script: `python script/benchmark.py --help`"
   ]
  },
  {
   "cell_type": "code",
   "execution_count": 4,
   "metadata": {},
   "outputs": [
    {
     "name": "stdout",
     "output_type": "stream",
     "text": [
      "Running 1 of 6 permutations. Repeat 1 of 3.\n",
      "Running 2 of 6 permutations. Repeat 1 of 3.      \n",
      "Running 3 of 6 permutations. Repeat 1 of 3.      \n",
      "Running 4 of 6 permutations. Repeat 1 of 3.      \n",
      "Running 5 of 6 permutations. Repeat 1 of 3.      \n",
      "Running 6 of 6 permutations. Repeat 1 of 3.      \n",
      "Running 1 of 6 permutations. Repeat 2 of 3.      \n",
      "Running 2 of 6 permutations. Repeat 2 of 3.      \n",
      "Running 3 of 6 permutations. Repeat 2 of 3.      \n",
      "Running 4 of 6 permutations. Repeat 2 of 3.      \n",
      "Running 5 of 6 permutations. Repeat 2 of 3.      \n",
      "Running 6 of 6 permutations. Repeat 2 of 3.      \n",
      "Running 1 of 6 permutations. Repeat 3 of 3.      \n",
      "Running 2 of 6 permutations. Repeat 3 of 3.      \n",
      "Running 3 of 6 permutations. Repeat 3 of 3.      \n",
      "Running 4 of 6 permutations. Repeat 3 of 3.      \n",
      "Running 5 of 6 permutations. Repeat 3 of 3.      \n",
      "Running 6 of 6 permutations. Repeat 3 of 3.      \n",
      "Total Time elapsed: 32.6 seconds.                \n",
      "Output has been saved to '/home/jiata/code/cvbp/image_classification/data/lr_bs_test.csv'.\n"
     ]
    }
   ],
   "source": [
    "# use {sys.executable} instead of just running `python` to ensure the command is executed using the environment cvbp\n",
    "!{sys.executable} scripts/benchmark.py -l 1e-3 1e-4 -bs 8 16 32 -e 5 -r 3 -i {input_data} -o data/lr_bs_test.csv"
   ]
  },
  {
   "cell_type": "markdown",
   "metadata": {},
   "source": [
    "Once the script completes, load the csv into a dataframe to explore it's contents. We'll want to specify `index_col=[0, 1, 2]` since it is a multi-index dataframe."
   ]
  },
  {
   "cell_type": "code",
   "execution_count": 10,
   "metadata": {},
   "outputs": [
    {
     "data": {
      "text/html": [
       "<div>\n",
       "<style scoped>\n",
       "    .dataframe tbody tr th:only-of-type {\n",
       "        vertical-align: middle;\n",
       "    }\n",
       "\n",
       "    .dataframe tbody tr th {\n",
       "        vertical-align: top;\n",
       "    }\n",
       "\n",
       "    .dataframe thead th {\n",
       "        text-align: right;\n",
       "    }\n",
       "</style>\n",
       "<table border=\"1\" class=\"dataframe\">\n",
       "  <thead>\n",
       "    <tr style=\"text-align: right;\">\n",
       "      <th></th>\n",
       "      <th></th>\n",
       "      <th></th>\n",
       "      <th>duration</th>\n",
       "      <th>accuracy</th>\n",
       "    </tr>\n",
       "  </thead>\n",
       "  <tbody>\n",
       "    <tr>\n",
       "      <th rowspan=\"6\" valign=\"top\">0</th>\n",
       "      <th>lr: 0.0001, epochs: 5, batch_size: 16, im_size: 299, arch: resnet18, transforms: True, dropout: 0.5, weight_decay: 0.01, training_schedule: head_first_then_body, discriminative_lr: False, one_cycle_policy: False</th>\n",
       "      <th>fridgeObjects</th>\n",
       "      <td>0.838662</td>\n",
       "      <td>0.363636</td>\n",
       "    </tr>\n",
       "    <tr>\n",
       "      <th>lr: 0.0001, epochs: 5, batch_size: 32, im_size: 299, arch: resnet18, transforms: True, dropout: 0.5, weight_decay: 0.01, training_schedule: head_first_then_body, discriminative_lr: False, one_cycle_policy: False</th>\n",
       "      <th>fridgeObjects</th>\n",
       "      <td>1.092153</td>\n",
       "      <td>0.431818</td>\n",
       "    </tr>\n",
       "    <tr>\n",
       "      <th>lr: 0.0001, epochs: 5, batch_size: 8, im_size: 299, arch: resnet18, transforms: True, dropout: 0.5, weight_decay: 0.01, training_schedule: head_first_then_body, discriminative_lr: False, one_cycle_policy: False</th>\n",
       "      <th>fridgeObjects</th>\n",
       "      <td>0.647182</td>\n",
       "      <td>0.295455</td>\n",
       "    </tr>\n",
       "    <tr>\n",
       "      <th>lr: 0.001, epochs: 5, batch_size: 16, im_size: 299, arch: resnet18, transforms: True, dropout: 0.5, weight_decay: 0.01, training_schedule: head_first_then_body, discriminative_lr: False, one_cycle_policy: False</th>\n",
       "      <th>fridgeObjects</th>\n",
       "      <td>0.792494</td>\n",
       "      <td>0.250000</td>\n",
       "    </tr>\n",
       "    <tr>\n",
       "      <th>lr: 0.001, epochs: 5, batch_size: 32, im_size: 299, arch: resnet18, transforms: True, dropout: 0.5, weight_decay: 0.01, training_schedule: head_first_then_body, discriminative_lr: False, one_cycle_policy: False</th>\n",
       "      <th>fridgeObjects</th>\n",
       "      <td>1.198691</td>\n",
       "      <td>0.181818</td>\n",
       "    </tr>\n",
       "    <tr>\n",
       "      <th>lr: 0.001, epochs: 5, batch_size: 8, im_size: 299, arch: resnet18, transforms: True, dropout: 0.5, weight_decay: 0.01, training_schedule: head_first_then_body, discriminative_lr: False, one_cycle_policy: False</th>\n",
       "      <th>fridgeObjects</th>\n",
       "      <td>4.770589</td>\n",
       "      <td>0.272727</td>\n",
       "    </tr>\n",
       "    <tr>\n",
       "      <th rowspan=\"6\" valign=\"top\">1</th>\n",
       "      <th>lr: 0.0001, epochs: 5, batch_size: 16, im_size: 299, arch: resnet18, transforms: True, dropout: 0.5, weight_decay: 0.01, training_schedule: head_first_then_body, discriminative_lr: False, one_cycle_policy: False</th>\n",
       "      <th>fridgeObjects</th>\n",
       "      <td>0.786056</td>\n",
       "      <td>0.181818</td>\n",
       "    </tr>\n",
       "    <tr>\n",
       "      <th>lr: 0.0001, epochs: 5, batch_size: 32, im_size: 299, arch: resnet18, transforms: True, dropout: 0.5, weight_decay: 0.01, training_schedule: head_first_then_body, discriminative_lr: False, one_cycle_policy: False</th>\n",
       "      <th>fridgeObjects</th>\n",
       "      <td>1.113328</td>\n",
       "      <td>0.318182</td>\n",
       "    </tr>\n",
       "    <tr>\n",
       "      <th>lr: 0.0001, epochs: 5, batch_size: 8, im_size: 299, arch: resnet18, transforms: True, dropout: 0.5, weight_decay: 0.01, training_schedule: head_first_then_body, discriminative_lr: False, one_cycle_policy: False</th>\n",
       "      <th>fridgeObjects</th>\n",
       "      <td>0.656206</td>\n",
       "      <td>0.227273</td>\n",
       "    </tr>\n",
       "    <tr>\n",
       "      <th>lr: 0.001, epochs: 5, batch_size: 16, im_size: 299, arch: resnet18, transforms: True, dropout: 0.5, weight_decay: 0.01, training_schedule: head_first_then_body, discriminative_lr: False, one_cycle_policy: False</th>\n",
       "      <th>fridgeObjects</th>\n",
       "      <td>0.786065</td>\n",
       "      <td>0.250000</td>\n",
       "    </tr>\n",
       "    <tr>\n",
       "      <th>lr: 0.001, epochs: 5, batch_size: 32, im_size: 299, arch: resnet18, transforms: True, dropout: 0.5, weight_decay: 0.01, training_schedule: head_first_then_body, discriminative_lr: False, one_cycle_policy: False</th>\n",
       "      <th>fridgeObjects</th>\n",
       "      <td>1.188282</td>\n",
       "      <td>0.250000</td>\n",
       "    </tr>\n",
       "    <tr>\n",
       "      <th>lr: 0.001, epochs: 5, batch_size: 8, im_size: 299, arch: resnet18, transforms: True, dropout: 0.5, weight_decay: 0.01, training_schedule: head_first_then_body, discriminative_lr: False, one_cycle_policy: False</th>\n",
       "      <th>fridgeObjects</th>\n",
       "      <td>0.681003</td>\n",
       "      <td>0.181818</td>\n",
       "    </tr>\n",
       "    <tr>\n",
       "      <th rowspan=\"6\" valign=\"top\">2</th>\n",
       "      <th>lr: 0.0001, epochs: 5, batch_size: 16, im_size: 299, arch: resnet18, transforms: True, dropout: 0.5, weight_decay: 0.01, training_schedule: head_first_then_body, discriminative_lr: False, one_cycle_policy: False</th>\n",
       "      <th>fridgeObjects</th>\n",
       "      <td>0.871925</td>\n",
       "      <td>0.136364</td>\n",
       "    </tr>\n",
       "    <tr>\n",
       "      <th>lr: 0.0001, epochs: 5, batch_size: 32, im_size: 299, arch: resnet18, transforms: True, dropout: 0.5, weight_decay: 0.01, training_schedule: head_first_then_body, discriminative_lr: False, one_cycle_policy: False</th>\n",
       "      <th>fridgeObjects</th>\n",
       "      <td>1.070272</td>\n",
       "      <td>0.181818</td>\n",
       "    </tr>\n",
       "    <tr>\n",
       "      <th>lr: 0.0001, epochs: 5, batch_size: 8, im_size: 299, arch: resnet18, transforms: True, dropout: 0.5, weight_decay: 0.01, training_schedule: head_first_then_body, discriminative_lr: False, one_cycle_policy: False</th>\n",
       "      <th>fridgeObjects</th>\n",
       "      <td>0.649098</td>\n",
       "      <td>0.181818</td>\n",
       "    </tr>\n",
       "    <tr>\n",
       "      <th>lr: 0.001, epochs: 5, batch_size: 16, im_size: 299, arch: resnet18, transforms: True, dropout: 0.5, weight_decay: 0.01, training_schedule: head_first_then_body, discriminative_lr: False, one_cycle_policy: False</th>\n",
       "      <th>fridgeObjects</th>\n",
       "      <td>0.769118</td>\n",
       "      <td>0.409091</td>\n",
       "    </tr>\n",
       "    <tr>\n",
       "      <th>lr: 0.001, epochs: 5, batch_size: 32, im_size: 299, arch: resnet18, transforms: True, dropout: 0.5, weight_decay: 0.01, training_schedule: head_first_then_body, discriminative_lr: False, one_cycle_policy: False</th>\n",
       "      <th>fridgeObjects</th>\n",
       "      <td>1.063724</td>\n",
       "      <td>0.272727</td>\n",
       "    </tr>\n",
       "    <tr>\n",
       "      <th>lr: 0.001, epochs: 5, batch_size: 8, im_size: 299, arch: resnet18, transforms: True, dropout: 0.5, weight_decay: 0.01, training_schedule: head_first_then_body, discriminative_lr: False, one_cycle_policy: False</th>\n",
       "      <th>fridgeObjects</th>\n",
       "      <td>0.787141</td>\n",
       "      <td>0.227273</td>\n",
       "    </tr>\n",
       "  </tbody>\n",
       "</table>\n",
       "</div>"
      ],
      "text/plain": [
       "                                                                    duration  \\\n",
       "0 lr: 0.0001, epochs: 5, batch_size: 16, im_size:... fridgeObjects  0.838662   \n",
       "  lr: 0.0001, epochs: 5, batch_size: 32, im_size:... fridgeObjects  1.092153   \n",
       "  lr: 0.0001, epochs: 5, batch_size: 8, im_size: ... fridgeObjects  0.647182   \n",
       "  lr: 0.001, epochs: 5, batch_size: 16, im_size: ... fridgeObjects  0.792494   \n",
       "  lr: 0.001, epochs: 5, batch_size: 32, im_size: ... fridgeObjects  1.198691   \n",
       "  lr: 0.001, epochs: 5, batch_size: 8, im_size: 2... fridgeObjects  4.770589   \n",
       "1 lr: 0.0001, epochs: 5, batch_size: 16, im_size:... fridgeObjects  0.786056   \n",
       "  lr: 0.0001, epochs: 5, batch_size: 32, im_size:... fridgeObjects  1.113328   \n",
       "  lr: 0.0001, epochs: 5, batch_size: 8, im_size: ... fridgeObjects  0.656206   \n",
       "  lr: 0.001, epochs: 5, batch_size: 16, im_size: ... fridgeObjects  0.786065   \n",
       "  lr: 0.001, epochs: 5, batch_size: 32, im_size: ... fridgeObjects  1.188282   \n",
       "  lr: 0.001, epochs: 5, batch_size: 8, im_size: 2... fridgeObjects  0.681003   \n",
       "2 lr: 0.0001, epochs: 5, batch_size: 16, im_size:... fridgeObjects  0.871925   \n",
       "  lr: 0.0001, epochs: 5, batch_size: 32, im_size:... fridgeObjects  1.070272   \n",
       "  lr: 0.0001, epochs: 5, batch_size: 8, im_size: ... fridgeObjects  0.649098   \n",
       "  lr: 0.001, epochs: 5, batch_size: 16, im_size: ... fridgeObjects  0.769118   \n",
       "  lr: 0.001, epochs: 5, batch_size: 32, im_size: ... fridgeObjects  1.063724   \n",
       "  lr: 0.001, epochs: 5, batch_size: 8, im_size: 2... fridgeObjects  0.787141   \n",
       "\n",
       "                                                                    accuracy  \n",
       "0 lr: 0.0001, epochs: 5, batch_size: 16, im_size:... fridgeObjects  0.363636  \n",
       "  lr: 0.0001, epochs: 5, batch_size: 32, im_size:... fridgeObjects  0.431818  \n",
       "  lr: 0.0001, epochs: 5, batch_size: 8, im_size: ... fridgeObjects  0.295455  \n",
       "  lr: 0.001, epochs: 5, batch_size: 16, im_size: ... fridgeObjects  0.250000  \n",
       "  lr: 0.001, epochs: 5, batch_size: 32, im_size: ... fridgeObjects  0.181818  \n",
       "  lr: 0.001, epochs: 5, batch_size: 8, im_size: 2... fridgeObjects  0.272727  \n",
       "1 lr: 0.0001, epochs: 5, batch_size: 16, im_size:... fridgeObjects  0.181818  \n",
       "  lr: 0.0001, epochs: 5, batch_size: 32, im_size:... fridgeObjects  0.318182  \n",
       "  lr: 0.0001, epochs: 5, batch_size: 8, im_size: ... fridgeObjects  0.227273  \n",
       "  lr: 0.001, epochs: 5, batch_size: 16, im_size: ... fridgeObjects  0.250000  \n",
       "  lr: 0.001, epochs: 5, batch_size: 32, im_size: ... fridgeObjects  0.250000  \n",
       "  lr: 0.001, epochs: 5, batch_size: 8, im_size: 2... fridgeObjects  0.181818  \n",
       "2 lr: 0.0001, epochs: 5, batch_size: 16, im_size:... fridgeObjects  0.136364  \n",
       "  lr: 0.0001, epochs: 5, batch_size: 32, im_size:... fridgeObjects  0.181818  \n",
       "  lr: 0.0001, epochs: 5, batch_size: 8, im_size: ... fridgeObjects  0.181818  \n",
       "  lr: 0.001, epochs: 5, batch_size: 16, im_size: ... fridgeObjects  0.409091  \n",
       "  lr: 0.001, epochs: 5, batch_size: 32, im_size: ... fridgeObjects  0.272727  \n",
       "  lr: 0.001, epochs: 5, batch_size: 8, im_size: 2... fridgeObjects  0.227273  "
      ]
     },
     "execution_count": 10,
     "metadata": {},
     "output_type": "execute_result"
    }
   ],
   "source": [
    "df = pd.read_csv(\"data/lr_bs_test.csv\", index_col=[0, 1, 2]); df"
   ]
  },
  {
   "cell_type": "markdown",
   "metadata": {},
   "source": [
    "---"
   ]
  },
  {
   "cell_type": "markdown",
   "metadata": {},
   "source": [
    "## Visualizing our results"
   ]
  },
  {
   "cell_type": "markdown",
   "metadata": {},
   "source": [
    "When we read in out multi-index dataframe, index 0 represents the run number, index 1 represents a single permutation of parameters, and index 2 represents the dataset."
   ]
  },
  {
   "cell_type": "markdown",
   "metadata": {},
   "source": [
    "To see the results, show the df using the `prettify_df` function. This will display all the hyperparameters in a nice, readable way."
   ]
  },
  {
   "cell_type": "code",
   "execution_count": 17,
   "metadata": {},
   "outputs": [
    {
     "data": {
      "text/html": [
       "<table border=\"1\" class=\"dataframe\">\n",
       "  <thead>\n",
       "    <tr>\n",
       "      <th></th>\n",
       "      <th colspan=\"6\" halign=\"left\">0</th>\n",
       "      <th colspan=\"6\" halign=\"left\">1</th>\n",
       "      <th colspan=\"6\" halign=\"left\">2</th>\n",
       "    </tr>\n",
       "    <tr>\n",
       "      <th></th>\n",
       "      <th>lr: 0.0001<br> epochs: 5<br> batch_size: 16<br> im_size: 299<br> arch: resnet18<br> transforms: True<br> dropout: 0.5<br> weight_decay: 0.01<br> training_schedule: head_first_then_body<br> discriminative_lr: True<br> one_cycle_policy: True</th>\n",
       "      <th>lr: 0.0001<br> epochs: 5<br> batch_size: 32<br> im_size: 299<br> arch: resnet18<br> transforms: True<br> dropout: 0.5<br> weight_decay: 0.01<br> training_schedule: head_first_then_body<br> discriminative_lr: True<br> one_cycle_policy: True</th>\n",
       "      <th>lr: 0.0001<br> epochs: 5<br> batch_size: 8<br> im_size: 299<br> arch: resnet18<br> transforms: True<br> dropout: 0.5<br> weight_decay: 0.01<br> training_schedule: head_first_then_body<br> discriminative_lr: True<br> one_cycle_policy: True</th>\n",
       "      <th>lr: 0.001<br> epochs: 5<br> batch_size: 16<br> im_size: 299<br> arch: resnet18<br> transforms: True<br> dropout: 0.5<br> weight_decay: 0.01<br> training_schedule: head_first_then_body<br> discriminative_lr: True<br> one_cycle_policy: True</th>\n",
       "      <th>lr: 0.001<br> epochs: 5<br> batch_size: 32<br> im_size: 299<br> arch: resnet18<br> transforms: True<br> dropout: 0.5<br> weight_decay: 0.01<br> training_schedule: head_first_then_body<br> discriminative_lr: True<br> one_cycle_policy: True</th>\n",
       "      <th>lr: 0.001<br> epochs: 5<br> batch_size: 8<br> im_size: 299<br> arch: resnet18<br> transforms: True<br> dropout: 0.5<br> weight_decay: 0.01<br> training_schedule: head_first_then_body<br> discriminative_lr: True<br> one_cycle_policy: True</th>\n",
       "      <th>lr: 0.0001<br> epochs: 5<br> batch_size: 16<br> im_size: 299<br> arch: resnet18<br> transforms: True<br> dropout: 0.5<br> weight_decay: 0.01<br> training_schedule: head_first_then_body<br> discriminative_lr: True<br> one_cycle_policy: True</th>\n",
       "      <th>lr: 0.0001<br> epochs: 5<br> batch_size: 32<br> im_size: 299<br> arch: resnet18<br> transforms: True<br> dropout: 0.5<br> weight_decay: 0.01<br> training_schedule: head_first_then_body<br> discriminative_lr: True<br> one_cycle_policy: True</th>\n",
       "      <th>lr: 0.0001<br> epochs: 5<br> batch_size: 8<br> im_size: 299<br> arch: resnet18<br> transforms: True<br> dropout: 0.5<br> weight_decay: 0.01<br> training_schedule: head_first_then_body<br> discriminative_lr: True<br> one_cycle_policy: True</th>\n",
       "      <th>lr: 0.001<br> epochs: 5<br> batch_size: 16<br> im_size: 299<br> arch: resnet18<br> transforms: True<br> dropout: 0.5<br> weight_decay: 0.01<br> training_schedule: head_first_then_body<br> discriminative_lr: True<br> one_cycle_policy: True</th>\n",
       "      <th>lr: 0.001<br> epochs: 5<br> batch_size: 32<br> im_size: 299<br> arch: resnet18<br> transforms: True<br> dropout: 0.5<br> weight_decay: 0.01<br> training_schedule: head_first_then_body<br> discriminative_lr: True<br> one_cycle_policy: True</th>\n",
       "      <th>lr: 0.001<br> epochs: 5<br> batch_size: 8<br> im_size: 299<br> arch: resnet18<br> transforms: True<br> dropout: 0.5<br> weight_decay: 0.01<br> training_schedule: head_first_then_body<br> discriminative_lr: True<br> one_cycle_policy: True</th>\n",
       "      <th>lr: 0.0001<br> epochs: 5<br> batch_size: 16<br> im_size: 299<br> arch: resnet18<br> transforms: True<br> dropout: 0.5<br> weight_decay: 0.01<br> training_schedule: head_first_then_body<br> discriminative_lr: True<br> one_cycle_policy: True</th>\n",
       "      <th>lr: 0.0001<br> epochs: 5<br> batch_size: 32<br> im_size: 299<br> arch: resnet18<br> transforms: True<br> dropout: 0.5<br> weight_decay: 0.01<br> training_schedule: head_first_then_body<br> discriminative_lr: True<br> one_cycle_policy: True</th>\n",
       "      <th>lr: 0.0001<br> epochs: 5<br> batch_size: 8<br> im_size: 299<br> arch: resnet18<br> transforms: True<br> dropout: 0.5<br> weight_decay: 0.01<br> training_schedule: head_first_then_body<br> discriminative_lr: True<br> one_cycle_policy: True</th>\n",
       "      <th>lr: 0.001<br> epochs: 5<br> batch_size: 16<br> im_size: 299<br> arch: resnet18<br> transforms: True<br> dropout: 0.5<br> weight_decay: 0.01<br> training_schedule: head_first_then_body<br> discriminative_lr: True<br> one_cycle_policy: True</th>\n",
       "      <th>lr: 0.001<br> epochs: 5<br> batch_size: 32<br> im_size: 299<br> arch: resnet18<br> transforms: True<br> dropout: 0.5<br> weight_decay: 0.01<br> training_schedule: head_first_then_body<br> discriminative_lr: True<br> one_cycle_policy: True</th>\n",
       "      <th>lr: 0.001<br> epochs: 5<br> batch_size: 8<br> im_size: 299<br> arch: resnet18<br> transforms: True<br> dropout: 0.5<br> weight_decay: 0.01<br> training_schedule: head_first_then_body<br> discriminative_lr: True<br> one_cycle_policy: True</th>\n",
       "    </tr>\n",
       "    <tr>\n",
       "      <th></th>\n",
       "      <th>fridgeObjects</th>\n",
       "      <th>fridgeObjects</th>\n",
       "      <th>fridgeObjects</th>\n",
       "      <th>fridgeObjects</th>\n",
       "      <th>fridgeObjects</th>\n",
       "      <th>fridgeObjects</th>\n",
       "      <th>fridgeObjects</th>\n",
       "      <th>fridgeObjects</th>\n",
       "      <th>fridgeObjects</th>\n",
       "      <th>fridgeObjects</th>\n",
       "      <th>fridgeObjects</th>\n",
       "      <th>fridgeObjects</th>\n",
       "      <th>fridgeObjects</th>\n",
       "      <th>fridgeObjects</th>\n",
       "      <th>fridgeObjects</th>\n",
       "      <th>fridgeObjects</th>\n",
       "      <th>fridgeObjects</th>\n",
       "      <th>fridgeObjects</th>\n",
       "    </tr>\n",
       "  </thead>\n",
       "  <tbody>\n",
       "    <tr>\n",
       "      <th>duration</th>\n",
       "      <td>0.836295</td>\n",
       "      <td>1.108188</td>\n",
       "      <td>0.644506</td>\n",
       "      <td>0.825757</td>\n",
       "      <td>1.113043</td>\n",
       "      <td>4.986475</td>\n",
       "      <td>0.789720</td>\n",
       "      <td>1.286736</td>\n",
       "      <td>0.710519</td>\n",
       "      <td>0.871194</td>\n",
       "      <td>1.064035</td>\n",
       "      <td>0.638611</td>\n",
       "      <td>0.776679</td>\n",
       "      <td>1.080423</td>\n",
       "      <td>0.662220</td>\n",
       "      <td>0.784717</td>\n",
       "      <td>1.103894</td>\n",
       "      <td>0.639533</td>\n",
       "    </tr>\n",
       "    <tr>\n",
       "      <th>accuracy</th>\n",
       "      <td>0.136364</td>\n",
       "      <td>0.409091</td>\n",
       "      <td>0.272727</td>\n",
       "      <td>0.159091</td>\n",
       "      <td>0.159091</td>\n",
       "      <td>0.272727</td>\n",
       "      <td>0.204545</td>\n",
       "      <td>0.136364</td>\n",
       "      <td>0.204545</td>\n",
       "      <td>0.272727</td>\n",
       "      <td>0.159091</td>\n",
       "      <td>0.159091</td>\n",
       "      <td>0.204545</td>\n",
       "      <td>0.181818</td>\n",
       "      <td>0.386364</td>\n",
       "      <td>0.340909</td>\n",
       "      <td>0.250000</td>\n",
       "      <td>0.340909</td>\n",
       "    </tr>\n",
       "  </tbody>\n",
       "</table>"
      ],
      "text/plain": [
       "<IPython.core.display.HTML object>"
      ]
     },
     "metadata": {},
     "output_type": "display_data"
    }
   ],
   "source": [
    "prettify_df(df.T)"
   ]
  },
  {
   "cell_type": "markdown",
   "metadata": {},
   "source": [
    "Since we've run our benchmarking over 3 repetitions, we may want to just look at the averages across the different __run numbers__."
   ]
  },
  {
   "cell_type": "code",
   "execution_count": 19,
   "metadata": {},
   "outputs": [
    {
     "data": {
      "text/html": [
       "<table border=\"1\" class=\"dataframe\">\n",
       "  <thead>\n",
       "    <tr>\n",
       "      <th></th>\n",
       "      <th>lr: 0.0001<br> epochs: 5<br> batch_size: 16<br> im_size: 299<br> arch: resnet18<br> transforms: True<br> dropout: 0.5<br> weight_decay: 0.01<br> training_schedule: head_first_then_body<br> discriminative_lr: True<br> one_cycle_policy: True</th>\n",
       "      <th>lr: 0.0001<br> epochs: 5<br> batch_size: 32<br> im_size: 299<br> arch: resnet18<br> transforms: True<br> dropout: 0.5<br> weight_decay: 0.01<br> training_schedule: head_first_then_body<br> discriminative_lr: True<br> one_cycle_policy: True</th>\n",
       "      <th>lr: 0.0001<br> epochs: 5<br> batch_size: 8<br> im_size: 299<br> arch: resnet18<br> transforms: True<br> dropout: 0.5<br> weight_decay: 0.01<br> training_schedule: head_first_then_body<br> discriminative_lr: True<br> one_cycle_policy: True</th>\n",
       "      <th>lr: 0.001<br> epochs: 5<br> batch_size: 16<br> im_size: 299<br> arch: resnet18<br> transforms: True<br> dropout: 0.5<br> weight_decay: 0.01<br> training_schedule: head_first_then_body<br> discriminative_lr: True<br> one_cycle_policy: True</th>\n",
       "      <th>lr: 0.001<br> epochs: 5<br> batch_size: 32<br> im_size: 299<br> arch: resnet18<br> transforms: True<br> dropout: 0.5<br> weight_decay: 0.01<br> training_schedule: head_first_then_body<br> discriminative_lr: True<br> one_cycle_policy: True</th>\n",
       "      <th>lr: 0.001<br> epochs: 5<br> batch_size: 8<br> im_size: 299<br> arch: resnet18<br> transforms: True<br> dropout: 0.5<br> weight_decay: 0.01<br> training_schedule: head_first_then_body<br> discriminative_lr: True<br> one_cycle_policy: True</th>\n",
       "    </tr>\n",
       "    <tr>\n",
       "      <th></th>\n",
       "      <th>fridgeObjects</th>\n",
       "      <th>fridgeObjects</th>\n",
       "      <th>fridgeObjects</th>\n",
       "      <th>fridgeObjects</th>\n",
       "      <th>fridgeObjects</th>\n",
       "      <th>fridgeObjects</th>\n",
       "    </tr>\n",
       "  </thead>\n",
       "  <tbody>\n",
       "    <tr>\n",
       "      <th>duration</th>\n",
       "      <td>0.800898</td>\n",
       "      <td>1.158449</td>\n",
       "      <td>0.672415</td>\n",
       "      <td>0.827223</td>\n",
       "      <td>1.093657</td>\n",
       "      <td>2.088206</td>\n",
       "    </tr>\n",
       "    <tr>\n",
       "      <th>accuracy</th>\n",
       "      <td>0.181818</td>\n",
       "      <td>0.242424</td>\n",
       "      <td>0.287879</td>\n",
       "      <td>0.257576</td>\n",
       "      <td>0.189394</td>\n",
       "      <td>0.257576</td>\n",
       "    </tr>\n",
       "  </tbody>\n",
       "</table>"
      ],
      "text/plain": [
       "<IPython.core.display.HTML object>"
      ]
     },
     "metadata": {},
     "output_type": "display_data"
    }
   ],
   "source": [
    "prettify_df(df.mean(level=(1,2)).T)"
   ]
  },
  {
   "cell_type": "markdown",
   "metadata": {},
   "source": [
    "Additionally, we may want simply to see which set of hyperparameters perform the best across the different __datasets__. We can do that by averaging the results of the different datasets. (The results of this step will look similar to the above since we're only passing in one dataset)."
   ]
  },
  {
   "cell_type": "code",
   "execution_count": 20,
   "metadata": {},
   "outputs": [
    {
     "data": {
      "text/html": [
       "<table border=\"1\" class=\"dataframe\">\n",
       "  <thead>\n",
       "    <tr style=\"text-align: right;\">\n",
       "      <th></th>\n",
       "      <th>lr: 0.0001<br> epochs: 5<br> batch_size: 16<br> im_size: 299<br> arch: resnet18<br> transforms: True<br> dropout: 0.5<br> weight_decay: 0.01<br> training_schedule: head_first_then_body<br> discriminative_lr: True<br> one_cycle_policy: True</th>\n",
       "      <th>lr: 0.0001<br> epochs: 5<br> batch_size: 32<br> im_size: 299<br> arch: resnet18<br> transforms: True<br> dropout: 0.5<br> weight_decay: 0.01<br> training_schedule: head_first_then_body<br> discriminative_lr: True<br> one_cycle_policy: True</th>\n",
       "      <th>lr: 0.0001<br> epochs: 5<br> batch_size: 8<br> im_size: 299<br> arch: resnet18<br> transforms: True<br> dropout: 0.5<br> weight_decay: 0.01<br> training_schedule: head_first_then_body<br> discriminative_lr: True<br> one_cycle_policy: True</th>\n",
       "      <th>lr: 0.001<br> epochs: 5<br> batch_size: 16<br> im_size: 299<br> arch: resnet18<br> transforms: True<br> dropout: 0.5<br> weight_decay: 0.01<br> training_schedule: head_first_then_body<br> discriminative_lr: True<br> one_cycle_policy: True</th>\n",
       "      <th>lr: 0.001<br> epochs: 5<br> batch_size: 32<br> im_size: 299<br> arch: resnet18<br> transforms: True<br> dropout: 0.5<br> weight_decay: 0.01<br> training_schedule: head_first_then_body<br> discriminative_lr: True<br> one_cycle_policy: True</th>\n",
       "      <th>lr: 0.001<br> epochs: 5<br> batch_size: 8<br> im_size: 299<br> arch: resnet18<br> transforms: True<br> dropout: 0.5<br> weight_decay: 0.01<br> training_schedule: head_first_then_body<br> discriminative_lr: True<br> one_cycle_policy: True</th>\n",
       "    </tr>\n",
       "  </thead>\n",
       "  <tbody>\n",
       "    <tr>\n",
       "      <th>duration</th>\n",
       "      <td>0.800898</td>\n",
       "      <td>1.158449</td>\n",
       "      <td>0.672415</td>\n",
       "      <td>0.827223</td>\n",
       "      <td>1.093657</td>\n",
       "      <td>2.088206</td>\n",
       "    </tr>\n",
       "    <tr>\n",
       "      <th>accuracy</th>\n",
       "      <td>0.181818</td>\n",
       "      <td>0.242424</td>\n",
       "      <td>0.287879</td>\n",
       "      <td>0.257576</td>\n",
       "      <td>0.189394</td>\n",
       "      <td>0.257576</td>\n",
       "    </tr>\n",
       "  </tbody>\n",
       "</table>"
      ],
      "text/plain": [
       "<IPython.core.display.HTML object>"
      ]
     },
     "metadata": {},
     "output_type": "display_data"
    }
   ],
   "source": [
    "prettify_df(df.mean(level=(1)).T)"
   ]
  },
  {
   "cell_type": "markdown",
   "metadata": {},
   "source": [
    "---"
   ]
  },
  {
   "cell_type": "markdown",
   "metadata": {},
   "source": [
    "## Clean up"
   ]
  },
  {
   "cell_type": "markdown",
   "metadata": {},
   "source": [
    "Clean up the data directory we created since we've finished with our benchmarks."
   ]
  },
  {
   "cell_type": "code",
   "execution_count": null,
   "metadata": {},
   "outputs": [],
   "source": [
    "shutil.rmtree(\"tmp_data\")"
   ]
  }
 ],
 "metadata": {
  "kernelspec": {
   "display_name": "Python (cvbp)",
   "language": "python",
   "name": "cvbp"
  },
  "language_info": {
   "codemirror_mode": {
    "name": "ipython",
    "version": 3
   },
   "file_extension": ".py",
   "mimetype": "text/x-python",
   "name": "python",
   "nbconvert_exporter": "python",
   "pygments_lexer": "ipython3",
   "version": "3.6.8"
  }
 },
 "nbformat": 4,
 "nbformat_minor": 2
}
