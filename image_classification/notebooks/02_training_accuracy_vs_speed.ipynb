{
 "cells": [
  {
   "cell_type": "markdown",
   "metadata": {},
   "source": [
    "# Accuracy VS Speed\n",
    "\n",
    "When building a deep learning model for computer vision, there are many parameters that we may want to tune in order get the kind of model we need. Sometimes, we want models that perform at the highest possible accuracy it can achieve. Other times, we want models that can be packed into small machines to optimize for portability. By configuring these parameters, we can create models that are composed precisely to our needs.\n",
    "\n",
    "## High accuracy models vs High speed models\n",
    "\n",
    "While not always the case, high-speed models (smaller models and with faster the inference times) tend to be less performant than high-accuracy models (large complex models with slower inference times). \n",
    "\n",
    "As practitioners of computer vision, we want to be able to configure the trade-off between inference speeds and model performance so that we have better control over our models in different scenarios - especially when it comes to deploying our models into production pipelines. \n",
    "\n",
    "High accuracy models are most suited for scenarios where you're inferencing on a beefy server where resources are a problem. Sometimes these servers may live in the cloud, such as on Azure, while other times these servers may be physical boxes that are deployed at the site of production.\n",
    "\n",
    "In contrast, high speed models (which tend to have a smaller memory footprint) are most commonly used in IoT scenarios or scenarios where we want to optimize for through-put.\n",
    "\n",
    "This notebook will explore this trade-off and help you come of with the optimal model for your scenario.\n"
   ]
  },
  {
   "cell_type": "markdown",
   "metadata": {},
   "source": [
    "---"
   ]
  },
  {
   "cell_type": "markdown",
   "metadata": {},
   "source": [
    "Check out fastai version."
   ]
  },
  {
   "cell_type": "code",
   "execution_count": 1,
   "metadata": {},
   "outputs": [
    {
     "data": {
      "text/plain": [
       "'1.0.47'"
      ]
     },
     "execution_count": 1,
     "metadata": {},
     "output_type": "execute_result"
    }
   ],
   "source": [
    "import fastai\n",
    "fastai.__version__"
   ]
  },
  {
   "cell_type": "markdown",
   "metadata": {},
   "source": [
    "Ensure edits to libraries are loaded and plotting is shown in the notebook."
   ]
  },
  {
   "cell_type": "code",
   "execution_count": null,
   "metadata": {},
   "outputs": [],
   "source": [
    "%reload_ext autoreload\n",
    "%autoreload 2\n",
    "%matplotlib inline"
   ]
  },
  {
   "cell_type": "markdown",
   "metadata": {},
   "source": [
    "## High Accuracy Models\n",
    "\n",
    "Lets start by looking at high-accuracy models. (In the meantime, don't worry about the model's speed or memory footprint.)\n",
    "\n",
    "As you walked through [the previous notebook](01_training_introduction.ipynb), you may have wondered why we chose specific parameters for the model. These parameters include:\n",
    "- model architecture (resnet50, resnet18, etc)\n",
    "- learning rate\n",
    "- number of epochs\n",
    "- image sizes\n",
    "\n",
    "It turns out, many of these parameters were chosen as the default parameters to optimize for high-accuracy models because of empirical findings.  "
   ]
  },
  {
   "cell_type": "markdown",
   "metadata": {},
   "source": [
    "---"
   ]
  },
  {
   "cell_type": "code",
   "execution_count": null,
   "metadata": {},
   "outputs": [],
   "source": []
  },
  {
   "cell_type": "markdown",
   "metadata": {},
   "source": [
    "import sys\n",
    "sys.path.append(\"../\")\n",
    "from pathlib import Path\n",
    "from utils_ic.datasets import Urls, unzip_url, data_path\n",
    "from fastai.vision import *\n",
    "from fastai.metrics import error_rate, accuracy"
   ]
  }
 ],
 "metadata": {
  "kernelspec": {
   "display_name": "Python (cvbp)",
   "language": "python",
   "name": "cvbp"
  },
  "language_info": {
   "codemirror_mode": {
    "name": "ipython",
    "version": 3
   },
   "file_extension": ".py",
   "mimetype": "text/x-python",
   "name": "python",
   "nbconvert_exporter": "python",
   "pygments_lexer": "ipython3",
   "version": "3.6.8"
  }
 },
 "nbformat": 4,
 "nbformat_minor": 2
}
