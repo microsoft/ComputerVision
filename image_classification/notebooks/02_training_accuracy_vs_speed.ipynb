{
 "cells": [
  {
   "cell_type": "markdown",
   "metadata": {},
   "source": [
    "# Building Models for Accuracy VS Speed\n",
    "\n",
    "When building a deep learning model for computer vision, there are many parameters that we may want to tune in order get the kind of model we need. Sometimes, we want models that perform at the highest possible accuracy it can achieve. Other times, we want models that can be packed into small machines and optimized for mobility. By configuring these parameters, we can compose models to precisely fit our needs.\n",
    "\n",
    "## Table of Contents:\n",
    "  * [Trade-off accuracy and speed](#introduction)\n",
    "  * [Methodology](#methodology)\n",
    "    * [Datasets](#methodology-datasets)\n",
    "    * [Model Characteristics](#methodology-model-characteristics)\n",
    "    * [Default Parameters](#methodology-default-parameters)\n",
    "  * [DNN Architecture](#dnn)\n",
    "  * [Learning Rate & Epochs](#lr)\n",
    "  * [Image Resolution](#imsize)\n",
    "  * [TLDR](#tldr)"
   ]
  },
  {
   "cell_type": "markdown",
   "metadata": {},
   "source": [
    "---"
   ]
  },
  {
   "cell_type": "markdown",
   "metadata": {},
   "source": [
    "## What to optimize for? <a name=\"introduction\"></a>\n",
    "\n",
    "As practitioners of computer vision, we want to be able to control what to optimize when building our models. Unless you are building a model for a Kaggle competition, it is unlikely that you can build your model with only its accuracy in mind. \n",
    "\n",
    "In the real world, models must be able to run under varying scenarios with different constraints. Different scenarios requires us, as computer vision practitioners, to prioritize different characteristics over others.\n",
    "\n",
    "For example, in an IoT setting, where the inferencing device has limited computational capabilities, we need to design our models to have a small memory footprint. In contrast, medical situations often require the highest possible accuracy because the cost of mis-classification could impact the well-being of a patient. In this scenario, the accuracy of the model can not be compromised. \n",
    "\n",
    "This notebook will explore different characteristics when modelling and help you come up with the optimal model for your specific scenario.\n",
    "\n",
    "## Methodology <a name=\"methodology\"></a>\n",
    "\n",
    "To explore the charactistics of a model, we - the computer vision repo team - have conducted various experiments to explore the impact of different hyperparameters on a model's _accuracy_, _training duration_, _inference speed_, and _memory footprint_. In this notebook, we hope to outline some of the key findings so that you can make better decisions when settings parameters.\n",
    "\n",
    "In this notebook, we use the results of our experiments to give us concrete evidence when it comes to understanding which parameters work and which dont. \n",
    "\n",
    "> To recreate these experiments, you can use the `util_ic.parameter_sweeper` module that lets us easily test different parameters when building models. You can learn more about how to use the module in the [Exploring Hyperparameters](.11_exploring_hyperparamters.ipynb) notebook.\n",
    "\n",
    "\n",
    "### Datasets <a name=\"methodology-datasets\"></a>\n",
    "\n",
    "For our experiments, we relied on a set of six different classification datasets. (These datasets can be downloaded directly from this repo using the `util_ic.datasets` module.)\n",
    "\n",
    "| Dataset Name | Number of Images | Number of Classes | \n",
    "| --- | --- | --- |\n",
    "| food101Subset | 5000 | 5 | \n",
    "| flickrLogos32Subset | 2740 | 33 | \n",
    "| fashionTexture | 1716 | 11 | \n",
    "| recycle_v3 |  564 | 11 | \n",
    "| lettuce | 380 | 2 |\n",
    "| fridgeObjects | 134 | 4 | \n",
    "\n",
    "When selecting these datasets, we wanted to have a variety of image types with different amounts of data and number of classes. \n",
    "\n",
    "\n",
    "### Model Characteristics <a name=\"methodology-model-characteristics\"></a>\n",
    "\n",
    "In our experiment, we look at these characteristics to evaluate the impact of various paramters.\n",
    "\n",
    "- __Accuracy__\n",
    "    \n",
    "    Accuracy is our evaluation metric for the model. It represents the average accuracy over 5 runs for our six different datasets. \n",
    "\n",
    "\n",
    "- __Training Duration__\n",
    "\n",
    "    The training duration is how long it takes to train the model. It represents the average duration over 5 runs for our six different datasets.\n",
    "\n",
    "\n",
    "- __Inference Speed__ \n",
    "\n",
    "    The inference speed is the time it takes the model to run 1000 predictions.\n",
    "\n",
    "\n",
    "- __Memory Footprint__\n",
    "\n",
    "    The memory footprint is size of the model parameters saved as the pickled file. This can be achieved by running `learn.export(...)` and examining the size of the exported file.\n",
    "    \n",
    "### Default Parameters <a name=\"methodology-default-parameters\"></a>\n",
    "\n",
    "For our experiments, we used following parameters:\n",
    "\n",
    "| Parameter | Value |\n",
    "| --- | --- |\n",
    "| Batch Size | 16 |\n",
    "| Dropout | 0.5 |\n",
    "| Weight Decay | 0.01 |\n",
    "| Momentum | 0.9 |\n",
    "| Epochs | 15 |\n",
    "\n",
    "It turns out that these parameters did not (in any significant way) affect the model's performance, training/inference speed, or memory footprint. So, for most datasets, we can use these as our default values.\n",
    "\n",
    "When running these experiments, we also set the number of epochs to 15, unless otherwise specified. For the datasets that we're using, training for 15 epochs might be more than is necessary. But one of the observations we've had is that it is extremely hard to overfit our model, so training for more epochs tends not to hurt the model's performance. However, the high number of epochs may mean that our average training durations are longer than what they could be. "
   ]
  },
  {
   "cell_type": "markdown",
   "metadata": {},
   "source": [
    "In the section below, we'll look at how different parameters affect our model."
   ]
  },
  {
   "cell_type": "markdown",
   "metadata": {},
   "source": [
    "## DNN Architectures <a name=\"dnn\"></a>\n",
    "\n",
    "One of the most important decisions to make when building a model is choosing what DNN architectures to use. Some DNNs have hundreds of layers and end up having quite a large memory footprint with millions of parameters to tune, while others are compact and small enough to fit onto memory limited edge devices. \n",
    "\n",
    "When looking at an architecture, we may want to consider the characteristics mentioned above: the model's accuracy (or the model's performance metric more broadly speaking), the model's memory footprint, how long it takes to train the model, and the inference speed of the model.\n",
    "\n",
    "Lets take a __squeezenet1_1__ model, a __resnet18__ model and __resnet50__ model and compare the differences based on our experiment. For this experiment, we kept the image size at 499 pixels.\n",
    "\n",
    "![architecture_comparisons](figs/architecture_comparisons.png)\n",
    "\n",
    "As you can see from the graphs above, there is a clear trade-off when deciding between the models. \n",
    "\n",
    "In terms of accuracy, __resnet50__ out-performs the rest, but it also suffers from having the highest memory footprint, and the longest training and inference times. On the other end of the spectrum, __squeezenet1_1__ performs the worst in terms fo accuracy, but has by far the smallest memory footprint.\n",
    "\n",
    "---\n",
    "\n",
    "<details><summary>See the code to generate the graphs</summary>\n",
    "<p>\n",
    "\n",
    "#### Code snippet to generate graphs in this cell\n",
    "\n",
    "```python\n",
    "import pandas as pd\n",
    "from utils_ic.parameter_sweeper import add_value_labels\n",
    "%matplotlib inline\n",
    "\n",
    "df = pd.DataFrame({\n",
    "    \"accuracy\": [.9472, .9190, .8251],\n",
    "    \"training_duration\": [385.3, 280.5, 272.5],\n",
    "    \"inference_duration\": [34.2, 27.8, 27.6],\n",
    "    \"memory\": [99, 45, 4.9],\n",
    "    \"model\": ['resnet50', 'resnet18', 'squeezenet1_1'],\n",
    "}).set_index(\"model\")\n",
    "\n",
    "ax1, ax2, ax3, ax4 = df.plot.bar(\n",
    "    rot=90, subplots=True, legend=False, figsize=(8,10)\n",
    ")\n",
    "\n",
    "for ax in [ax1, ax2, ax3, ax4]:\n",
    "    for i in [0, 1, 2]:\n",
    "        if i==0: ax.get_children()[i].set_color('r') \n",
    "        if i==1: ax.get_children()[i].set_color('g') \n",
    "        if i==2: ax.get_children()[i].set_color('b') \n",
    "\n",
    "ax1.set_title(\"Accuracy (%)\")\n",
    "ax2.set_title(\"Training Duration (seconds)\")\n",
    "ax3.set_title(\"Inference Time (seconds)\")\n",
    "ax4.set_title(\"Memory Footprint (mb)\")\n",
    "\n",
    "ax1.set_ylabel(\"%\")\n",
    "ax2.set_ylabel(\"seconds\")\n",
    "ax3.set_ylabel(\"seconds\")\n",
    "ax4.set_ylabel(\"mb\")\n",
    "\n",
    "ax1.set_ylim(top=df[\"accuracy\"].max() * 1.3)\n",
    "ax2.set_ylim(top=df[\"training_duration\"].max() * 1.3)\n",
    "ax3.set_ylim(top=df[\"inference_duration\"].max() * 1.3)\n",
    "ax4.set_ylim(top=df[\"memory\"].max() * 1.3)\n",
    "\n",
    "add_value_labels(ax1, percentage=True)\n",
    "add_value_labels(ax2)\n",
    "add_value_labels(ax3)\n",
    "add_value_labels(ax4)\n",
    "```\n",
    "\n",
    "</p>\n",
    "</details>\n"
   ]
  },
  {
   "cell_type": "markdown",
   "metadata": {},
   "source": [
    "## Learning Rate and Epochs <a name=\"lr\"></a>\n",
    "\n",
    "Learning rate tends to be one of the most important parameters to set when training your model. \n",
    "\n",
    "If your learning rate is set too low, training will progress very slowly since we're only making tiny updates to the weights in your network. However, if your learning rate is too high, it can cause undesirable divergent behavior in your loss function.\n",
    "\n",
    "One way to mitigate against a low learning rate is to make sure that you're training for many epochs.\n",
    "\n",
    "To efficiently build a model, we need to make sure that our learning rate is in the correct range. To find a good default learning rate, we've tested various learning rates on a range of datasets over two different epochs settings.\n",
    "\n",
    "![lr_comparisons](figs/lr_comparisons.png)\n",
    "\n",
    "In both figures, we can see that a learning rate of 1e-3 and 1e-4 tends to work the best across the different datasets and the two settings for epochs.\n",
    "\n",
    "In the figure on the left which shows the results of the different learning rates on different datasets at 15 epochs, we can see that a learning rate of 1e-4 does the best overall. But this may not be the case for every dataset. If you look carefully, there is a pretty significant variance between the datasets and it may be possible that a learning rate of 1-e3 works better than a learning rate of 1e-4 for some datasets.\n",
    "\n",
    "In the figure on the right, both 1e-4 and 1e-3 seem to work well. At 15 epochs, the results of 1e-4 are only slightly better than that of 1e-3. However, at 3 epochs, a learning rate of 1e-3 out performs the learning rate at 1e-4. This makes sense since we're limiting the training to only 3 epochs, the model that can update its weights more quickly will perform better.\n",
    "\n",
    "As a result, we may learn towards using higher learning rates (such as 1e-3) if we want to minimize the training time, and lower learning rates (such as 1e-4) if training time is not constrained.\n",
    "\n",
    "---\n",
    "\n",
    "<details><summary>See the code to generate the graphs</summary>\n",
    "<p>\n",
    "\n",
    "#### Code snippet to generate graphs in this cell\n",
    "\n",
    "```python\n",
    "import matplotlib.pyplot as plt\n",
    "%matplotlib inline\n",
    "\n",
    "df_dataset_comp = pd.DataFrame({\n",
    "    \"fashionTexture\": [0.8749, 0.8481, 0.2491, 0.670318, 0.1643],\n",
    "    \"flickrLogos32Subset\": [0.9069, 0.9064, 0.2179, 0.7175, 0.1073],\n",
    "    \"food101Subset\": [0.9294, 0.9127, 0.6891, 0.9090, 0.555827],\n",
    "    \"fridgeObjects\": [0.9591, 0.9727, 0.272727, 0.6136, 0.181818],\n",
    "    \"lettuce\": [0.8992, 0.9104, 0.632, 0.8192, 0.5120],\n",
    "    \"recycle_v3\": [0.9527, 0.9581, 0.766, 0.8591, 0.2876],\n",
    "    \"learning_rate\": [0.000100, 0.001000, 0.010000, 0.000010, 0.000001]\n",
    "}).set_index(\"learning_rate\")\n",
    "\n",
    "df_epoch_comp = pd.DataFrame({\n",
    "    \"3_epochs\": [0.823808, 0.846394, 0.393808, 0.455115, 0.229120],\n",
    "    \"15_epochs\": [0.920367, 0.918067, 0.471138, 0.764786, 0.301474],\n",
    "    \"learning_rate\": [0.000100, 0.001000, 0.010000, 0.000010, 0.000001]\n",
    "}).set_index(\"learning_rate\")\n",
    "\n",
    "plt.figure(1)\n",
    "ax1 = plt.subplot(121)\n",
    "ax2 = plt.subplot(122)\n",
    "\n",
    "vals = ax2.get_yticks()\n",
    "\n",
    "df_dataset_comp.sort_index().plot(kind='bar', rot=0, figsize=(15, 6), ax=ax1)\n",
    "vals = ax1.get_yticks()\n",
    "ax1.set_yticklabels(['{:,.2%}'.format(x) for x in vals])\n",
    "ax1.set_ylim(0,1)\n",
    "ax1.set_ylabel(\"Accuracy (%)\")\n",
    "ax1.set_title(\"Accuracy of Learning Rates by Datasets @ 15 Epochs\")\n",
    "ax1.legend(loc=2)\n",
    "\n",
    "df_epoch_comp.sort_index().plot(kind='bar', rot=0, figsize=(15, 6), ax=ax2)\n",
    "ax2.set_yticklabels(['{:,.2%}'.format(x) for x in vals])\n",
    "ax2.set_ylim(0,1)\n",
    "ax2.set_title(\"Accuracy of Learning Rates by Epochs\")\n",
    "ax2.legend(loc=2)\n",
    "```\n",
    "\n",
    "</p>\n",
    "</details>"
   ]
  },
  {
   "cell_type": "markdown",
   "metadata": {},
   "source": [
    "## Image Resolution <a name=\"imsize\"></a>\n",
    "\n",
    "A model's input image resolution tends to affect its accuracy. Usually, convolutional neural networks able to take advantage of higher resolution images.\n",
    "\n",
    "But how does it impact some of the other aspects of the model? \n",
    "\n",
    "It turns out that the image size doesn't affect the model's memory footprint. Because the image size doesn't change the number of parameters, it makes sense that it should not affect the model size. \n",
    "\n",
    "However, the image size has a direct impact on training and inference speeds. An increase in image size means an increase in the number of paramters we have to calculate.\n",
    "\n",
    "![imsize_comparisons](figs/imsize_comparisons.png)\n",
    "\n",
    "From the results, we can see that an increase in image resolution from 299X299 to 499X499 will increase the performance marginally at the cost of a longer training duration and slower inference speed.\n",
    "\n",
    "---\n",
    "\n",
    "<details><summary>See the code to generate the graphs</summary>\n",
    "<p>\n",
    "\n",
    "#### Code snippet to generate graphs in this cell\n",
    "\n",
    "```python\n",
    "import pandas as pd\n",
    "from utils_ic.parameter_sweeper import add_value_labels\n",
    "%matplotlib inline\n",
    "\n",
    "df = pd.DataFrame({\n",
    "    \"accuracy\": [.9472, .9394, .9190, .9164, .8366, .8251],\n",
    "    \"training_duration\": [385.3, 218.8, 280.5, 184.9, 272.5, 182.3],\n",
    "    \"inference_duration\": [34.2, 23.2, 27.8, 17.8, 27.6, 17.3],\n",
    "    \"model\": ['resnet50 X 499', 'resnet50 X 299', 'resnet18 X 499', 'resnet18 X 299', 'squeezenet1_1 X 499', 'squeezenet1_1 X 299'],\n",
    "}).set_index(\"model\"); df\n",
    "\n",
    "ax1, ax2, ax3 = df.plot.bar(\n",
    "    rot=90, subplots=True, legend=False, figsize=(12, 12)\n",
    ")\n",
    "\n",
    "for i in range(len(df)):\n",
    "    if i < len(df)/3:\n",
    "        ax1.get_children()[i].set_color('r')\n",
    "        ax2.get_children()[i].set_color('r')\n",
    "        ax3.get_children()[i].set_color('r')\n",
    "    if i >= len(df)/3 and i < 2*len(df)/3:\n",
    "        ax1.get_children()[i].set_color('g')\n",
    "        ax2.get_children()[i].set_color('g')\n",
    "        ax3.get_children()[i].set_color('g')  \n",
    "    if i >= 2*len(df)/3:\n",
    "        ax1.get_children()[i].set_color('b')\n",
    "        ax2.get_children()[i].set_color('b')\n",
    "        ax3.get_children()[i].set_color('b') \n",
    "\n",
    "ax1.set_title(\"Accuracy (%)\")\n",
    "ax2.set_title(\"Training Duration (seconds)\")\n",
    "ax3.set_title(\"Inference Speed (seconds)\")  \n",
    "\n",
    "ax1.set_ylabel(\"%\")\n",
    "ax2.set_ylabel(\"seconds\")\n",
    "ax3.set_ylabel(\"seconds\")\n",
    "\n",
    "ax1.set_ylim(top=df[\"accuracy\"].max() * 1.2)\n",
    "ax2.set_ylim(top=df[\"training_duration\"].max() * 1.2)\n",
    "ax3.set_ylim(top=df[\"inference_duration\"].max() * 1.2)\n",
    "\n",
    "add_value_labels(ax1, percentage=True)\n",
    "add_value_labels(ax2)\n",
    "add_value_labels(ax3)\n",
    "```\n",
    "\n",
    "</p>\n",
    "</details>"
   ]
  },
  {
   "cell_type": "markdown",
   "metadata": {},
   "source": [
    "## TLDR <a name=\"tldr\"></a>\n",
    "\n",
    "Heres the tldr if you didn't have time to read the above.\n",
    "\n",
    "\n",
    "__Architecture__ \n",
    "\n",
    "- Start with __resnet18__. If you're not memory or inference speed constrained, switch to __resnet50__. If you are memory constrained, use __squeezenet1_1__.\n",
    "\n",
    "\n",
    "__Learning rate__ \n",
    "\n",
    "- Set your learning rate to __1e-4__ if you have lots of time to train. Otherwise, __1e-3__ will work pretty well on fewer epochs. \n",
    "\n",
    "\n",
    "__Image size__ \n",
    "\n",
    "- Image size __299__ works pretty well. Increase image size and it'll work a bit better but much slower.\n",
    "\n",
    "__Other parameters__ \n",
    "\n",
    "- Don't worry about the model's __batch size__, __momentum__, __drop-out__ and __weight decay__. Unless you're really fine-tuning your model, just stick with these [defaults](#methodology-default-parameters).\n"
   ]
  },
  {
   "cell_type": "markdown",
   "metadata": {},
   "source": [
    "---"
   ]
  },
  {
   "cell_type": "markdown",
   "metadata": {},
   "source": [
    "# Training our classifier"
   ]
  },
  {
   "cell_type": "markdown",
   "metadata": {},
   "source": [
    "Lets first verify our fastai version:"
   ]
  },
  {
   "cell_type": "code",
   "execution_count": 1,
   "metadata": {},
   "outputs": [
    {
     "data": {
      "text/plain": [
       "'1.0.47'"
      ]
     },
     "execution_count": 1,
     "metadata": {},
     "output_type": "execute_result"
    }
   ],
   "source": [
    "import fastai\n",
    "fastai.__version__"
   ]
  },
  {
   "cell_type": "markdown",
   "metadata": {},
   "source": [
    "Ensure edits to libraries are loaded and plotting is shown in the notebook."
   ]
  },
  {
   "cell_type": "code",
   "execution_count": 2,
   "metadata": {},
   "outputs": [],
   "source": [
    "%reload_ext autoreload\n",
    "%autoreload 2\n",
    "%matplotlib inline"
   ]
  },
  {
   "cell_type": "markdown",
   "metadata": {},
   "source": [
    "Import fastai. For now, we'll import all (import *) so that we can easily use different utilies provided by the fastai library."
   ]
  },
  {
   "cell_type": "code",
   "execution_count": 3,
   "metadata": {},
   "outputs": [],
   "source": [
    "import sys\n",
    "sys.path.append(\"../\")\n",
    "import os\n",
    "from pathlib import Path\n",
    "from utils_ic.datasets import Urls, unzip_url\n",
    "from fastai.vision import *\n",
    "from fastai.metrics import accuracy"
   ]
  },
  {
   "cell_type": "markdown",
   "metadata": {},
   "source": [
    "Now that we've set up our notebook, lets set the hyperparameters based on which model type was selected."
   ]
  },
  {
   "cell_type": "markdown",
   "metadata": {},
   "source": [
    "## Choosing between two types of models"
   ]
  },
  {
   "cell_type": "markdown",
   "metadata": {},
   "source": [
    "For most scenarios, computer vision practitioners want to create one of two types of models:\n",
    "\n",
    "1. __Model A__ - A model that performs at its highest possible performance (such as accuracy).\n",
    "1. __Model B__ - A model with a small memory footprint, fast inference speeds, and fast training times.\n",
    "\n",
    "Based on the findings above, we can get either one of these models by tweaking our paramaters."
   ]
  },
  {
   "cell_type": "code",
   "execution_count": 4,
   "metadata": {
    "tags": [
     "parameters"
    ]
   },
   "outputs": [],
   "source": [
    "# Only one can be True\n",
    "MODEL_A = False\n",
    "MODEL_B = True\n",
    "\n",
    "# Path to your data\n",
    "DATA_PATH = unzip_url(Urls.recycle_path, exist_ok=True)"
   ]
  },
  {
   "cell_type": "markdown",
   "metadata": {},
   "source": [
    "Make sure that only one is set to True"
   ]
  },
  {
   "cell_type": "code",
   "execution_count": 5,
   "metadata": {},
   "outputs": [],
   "source": [
    "assert MODEL_A - MODEL_B != 0"
   ]
  },
  {
   "cell_type": "code",
   "execution_count": 6,
   "metadata": {},
   "outputs": [],
   "source": [
    "if MODEL_A:\n",
    "    ARCHITECTURE = models.resnet50\n",
    "    IM_SIZE = 499 # you try even higher\n",
    "    LEARNING_RATE = 1e-4\n",
    "    EPOCHS = 15\n",
    "    \n",
    "if MODEL_B:\n",
    "    ARCHITECTURE = models.squeezenet1_1\n",
    "    IM_SIZE = 299 # you try even lower\n",
    "    LEARNING_RATE = 1e-3\n",
    "    EPOCHS = 5"
   ]
  },
  {
   "cell_type": "markdown",
   "metadata": {},
   "source": [
    "## Training\n",
    "\n",
    "We'll now re-apply the same steps we did in the [training introduction](01_training_introduction.ipynb) notebook here."
   ]
  },
  {
   "cell_type": "markdown",
   "metadata": {},
   "source": [
    "Load our data."
   ]
  },
  {
   "cell_type": "code",
   "execution_count": 7,
   "metadata": {},
   "outputs": [],
   "source": [
    "data = (ImageList.from_folder(Path(DATA_PATH)) \n",
    "        .split_by_rand_pct(valid_pct=0.2, seed=10) \n",
    "        .label_from_folder() \n",
    "        .transform(size=IM_SIZE) \n",
    "        .databunch(bs=16) \n",
    "        .normalize(imagenet_stats))"
   ]
  },
  {
   "cell_type": "markdown",
   "metadata": {},
   "source": [
    "Create our learner."
   ]
  },
  {
   "cell_type": "code",
   "execution_count": 8,
   "metadata": {},
   "outputs": [
    {
     "name": "stderr",
     "output_type": "stream",
     "text": [
      "/home/jiata/anaconda3/envs/cvbp/lib/python3.6/site-packages/torchvision/models/squeezenet.py:94: UserWarning: nn.init.kaiming_uniform is now deprecated in favor of nn.init.kaiming_uniform_.\n",
      "  init.kaiming_uniform(m.weight.data)\n",
      "/home/jiata/anaconda3/envs/cvbp/lib/python3.6/site-packages/torchvision/models/squeezenet.py:92: UserWarning: nn.init.normal is now deprecated in favor of nn.init.normal_.\n",
      "  init.normal(m.weight.data, mean=0.0, std=0.01)\n"
     ]
    }
   ],
   "source": [
    "learn = cnn_learner(data, ARCHITECTURE, metrics=accuracy)"
   ]
  },
  {
   "cell_type": "markdown",
   "metadata": {},
   "source": [
    "Train the last layer for a few epochs."
   ]
  },
  {
   "cell_type": "code",
   "execution_count": 9,
   "metadata": {},
   "outputs": [
    {
     "data": {
      "text/html": [
       "Total time: 00:08 <p><table border=\"1\" class=\"dataframe\">\n",
       "  <thead>\n",
       "    <tr style=\"text-align: left;\">\n",
       "      <th>epoch</th>\n",
       "      <th>train_loss</th>\n",
       "      <th>valid_loss</th>\n",
       "      <th>accuracy</th>\n",
       "      <th>time</th>\n",
       "    </tr>\n",
       "  </thead>\n",
       "  <tbody>\n",
       "    <tr>\n",
       "      <td>0</td>\n",
       "      <td>1.163430</td>\n",
       "      <td>0.205355</td>\n",
       "      <td>0.968889</td>\n",
       "      <td>00:04</td>\n",
       "    </tr>\n",
       "    <tr>\n",
       "      <td>1</td>\n",
       "      <td>0.506480</td>\n",
       "      <td>0.162099</td>\n",
       "      <td>0.960000</td>\n",
       "      <td>00:04</td>\n",
       "    </tr>\n",
       "  </tbody>\n",
       "</table>"
      ],
      "text/plain": [
       "<IPython.core.display.HTML object>"
      ]
     },
     "metadata": {},
     "output_type": "display_data"
    }
   ],
   "source": [
    "learn.fit_one_cycle(2, LEARNING_RATE)"
   ]
  },
  {
   "cell_type": "markdown",
   "metadata": {},
   "source": [
    "Unfreeze the layers"
   ]
  },
  {
   "cell_type": "code",
   "execution_count": 10,
   "metadata": {},
   "outputs": [],
   "source": [
    "learn.unfreeze()"
   ]
  },
  {
   "cell_type": "markdown",
   "metadata": {},
   "source": [
    "Fine tune the network for the remaining epochs."
   ]
  },
  {
   "cell_type": "code",
   "execution_count": 11,
   "metadata": {},
   "outputs": [
    {
     "data": {
      "text/html": [
       "Total time: 00:21 <p><table border=\"1\" class=\"dataframe\">\n",
       "  <thead>\n",
       "    <tr style=\"text-align: left;\">\n",
       "      <th>epoch</th>\n",
       "      <th>train_loss</th>\n",
       "      <th>valid_loss</th>\n",
       "      <th>accuracy</th>\n",
       "      <th>time</th>\n",
       "    </tr>\n",
       "  </thead>\n",
       "  <tbody>\n",
       "    <tr>\n",
       "      <td>0</td>\n",
       "      <td>0.320704</td>\n",
       "      <td>0.616755</td>\n",
       "      <td>0.791111</td>\n",
       "      <td>00:04</td>\n",
       "    </tr>\n",
       "    <tr>\n",
       "      <td>1</td>\n",
       "      <td>0.988863</td>\n",
       "      <td>2.412036</td>\n",
       "      <td>0.413333</td>\n",
       "      <td>00:04</td>\n",
       "    </tr>\n",
       "    <tr>\n",
       "      <td>2</td>\n",
       "      <td>0.744600</td>\n",
       "      <td>0.725198</td>\n",
       "      <td>0.786667</td>\n",
       "      <td>00:04</td>\n",
       "    </tr>\n",
       "    <tr>\n",
       "      <td>3</td>\n",
       "      <td>0.507457</td>\n",
       "      <td>0.294722</td>\n",
       "      <td>0.902222</td>\n",
       "      <td>00:04</td>\n",
       "    </tr>\n",
       "    <tr>\n",
       "      <td>4</td>\n",
       "      <td>0.334014</td>\n",
       "      <td>0.191229</td>\n",
       "      <td>0.955556</td>\n",
       "      <td>00:04</td>\n",
       "    </tr>\n",
       "  </tbody>\n",
       "</table>"
      ],
      "text/plain": [
       "<IPython.core.display.HTML object>"
      ]
     },
     "metadata": {},
     "output_type": "display_data"
    }
   ],
   "source": [
    "learn.fit_one_cycle(EPOCHS, LEARNING_RATE)"
   ]
  },
  {
   "cell_type": "markdown",
   "metadata": {},
   "source": [
    "## Evaluation"
   ]
  },
  {
   "cell_type": "markdown",
   "metadata": {},
   "source": [
    "In this section, we test our model on the following characteristics:\n",
    "- accuracy\n",
    "- parameter export size / memory footprint required\n",
    "- inference speed\n",
    "\n",
    "Refer back to the [training introduction](01_training_introduction.ipynb) to learn about other ways to evaluate the model."
   ]
  },
  {
   "cell_type": "markdown",
   "metadata": {},
   "source": [
    "#### Accuracy \n",
    "For now, we can just take a look at the final accuracy on the validation set."
   ]
  },
  {
   "cell_type": "code",
   "execution_count": 12,
   "metadata": {},
   "outputs": [
    {
     "name": "stdout",
     "output_type": "stream",
     "text": [
      "Accuracy on validation set: 0.9555555582046509\n"
     ]
    }
   ],
   "source": [
    "_, metric = learn.validate(learn.data.valid_dl, metrics=[accuracy])\n",
    "print(f'Accuracy on validation set: {float(metric)}')"
   ]
  },
  {
   "cell_type": "markdown",
   "metadata": {},
   "source": [
    "#### Memory footprint\n",
    "\n",
    "Export our model and inspect the size of the file."
   ]
  },
  {
   "cell_type": "code",
   "execution_count": 13,
   "metadata": {},
   "outputs": [],
   "source": [
    "model_fn = 'model_a' if MODEL_A else 'model_b'"
   ]
  },
  {
   "cell_type": "code",
   "execution_count": 14,
   "metadata": {},
   "outputs": [],
   "source": [
    "learn.export(f\"{model_fn}\")"
   ]
  },
  {
   "cell_type": "code",
   "execution_count": 15,
   "metadata": {},
   "outputs": [
    {
     "name": "stdout",
     "output_type": "stream",
     "text": [
      "'model_b' is 4.86MB.\n"
     ]
    }
   ],
   "source": [
    "size_in_mb = os.path.getsize(Path(DATA_PATH)/('model_a' if MODEL_A else 'model_b')) / (1024*1024.)\n",
    "print(f\"'{model_fn}' is {round(size_in_mb, 2)}MB.\")"
   ]
  },
  {
   "cell_type": "markdown",
   "metadata": {},
   "source": [
    "#### Inference speed\n",
    "\n",
    "Use the model to inference and time how long it takes."
   ]
  },
  {
   "cell_type": "code",
   "execution_count": 16,
   "metadata": {},
   "outputs": [],
   "source": [
    "im = open_image(f\"{(Path(DATA_PATH)/learn.data.classes[0]).ls()[0]}\")"
   ]
  },
  {
   "cell_type": "code",
   "execution_count": 17,
   "metadata": {},
   "outputs": [
    {
     "name": "stdout",
     "output_type": "stream",
     "text": [
      "12.3 ms ± 140 µs per loop (mean ± std. dev. of 7 runs, 100 loops each)\n"
     ]
    }
   ],
   "source": [
    "%%timeit\n",
    "learn.predict(im)"
   ]
  },
  {
   "cell_type": "markdown",
   "metadata": {},
   "source": [
    "Now that we have a good understanding of how different parameters affect the model, we can create more specific models to better fit out needs."
   ]
  }
 ],
 "metadata": {
  "kernelspec": {
   "display_name": "Python (cvbp)",
   "language": "python",
   "name": "cvbp"
  },
  "language_info": {
   "codemirror_mode": {
    "name": "ipython",
    "version": 3
   },
   "file_extension": ".py",
   "mimetype": "text/x-python",
   "name": "python",
   "nbconvert_exporter": "python",
   "pygments_lexer": "ipython3",
   "version": "3.6.8"
  }
 },
 "nbformat": 4,
 "nbformat_minor": 2
}
