{
 "cells": [
  {
   "cell_type": "markdown",
   "metadata": {},
   "source": [
    "<i>Copyright (c) Microsoft Corporation. All rights reserved.</i>\n",
    "\n",
    "<i>Licensed under the MIT License.</i>"
   ]
  },
  {
   "cell_type": "markdown",
   "metadata": {},
   "source": [
    "# Testing different Hyperparameters and Benchmarking"
   ]
  },
  {
   "cell_type": "markdown",
   "metadata": {},
   "source": [
    "In this notebook, we'll cover how to test different hyperparameters for a particular dataset and how to benchmark different parameters across a group of datasets using AzureML"
   ]
  },
  {
   "cell_type": "markdown",
   "metadata": {},
   "source": [
    "Similar to 11_exploring_hyperparameters.ipynb, we will learn more about __how different learning rates and different image sizes affect our model's accuracy when restricted to 10 epochs__, and we want to build an AzureML experiment to test out these hyperparameters.\n",
    "\n",
    "We present an overall process of utilizing AzureML, specifically [Hyperdrive](https://docs.microsoft.com/en-us/python/api/azureml-train-core/azureml.train.hyperdrive?view=azure-ml-py) component, for the hyperparameter tuning by demonstrating key steps:  \n",
    "* Configure AzureML Workspace\n",
    "* Create Remote Compute Target (GPU cluster)\n",
    "* Prepare Data\n",
    "* Prepare Training Script\n",
    "* Setup and Run Hyperdrive Experiment\n",
    "* Model Import, Re-train and Test"
   ]
  },
  {
   "cell_type": "code",
   "execution_count": null,
   "metadata": {},
   "outputs": [],
   "source": [
    "import fastai\n",
    "from fastai.vision import *\n",
    "\n",
    "import os\n",
    "import sys\n",
    "sys.path.append(\"../../\")\n",
    "\n",
    "from utils_cv.classification.data import Urls\n",
    "from utils_cv.common.data import unzip_url\n",
    "\n",
    "import azureml.core\n",
    "from azureml.core import Workspace, Experiment\n",
    "from azureml.core.compute import ComputeTarget, AmlCompute\n",
    "from azureml.core.compute_target import ComputeTargetException\n",
    "import azureml.data\n",
    "from azureml.train.hyperdrive import RandomParameterSampling, BanditPolicy, HyperDriveConfig, PrimaryMetricGoal, choice\n",
    "from azureml.train.estimator import Estimator\n",
    "\n",
    "import azureml.widgets as widgets\n",
    "\n",
    "print(\"SDK version:\", azureml.core.VERSION)"
   ]
  },
  {
   "cell_type": "markdown",
   "metadata": {},
   "source": [
    "Ensure edits to libraries are loaded and plotting is shown in the notebook."
   ]
  },
  {
   "cell_type": "code",
   "execution_count": null,
   "metadata": {},
   "outputs": [],
   "source": [
    "%reload_ext autoreload\n",
    "%autoreload 2\n",
    "%matplotlib inline"
   ]
  },
  {
   "cell_type": "markdown",
   "metadata": {},
   "source": [
    "### 1. Config AzureML workspace\n",
    "Below we setup AzureML workspace and get all its details as follows:"
   ]
  },
  {
   "cell_type": "code",
   "execution_count": null,
   "metadata": {},
   "outputs": [],
   "source": [
    "ws = Workspace.setup()\n",
    "ws_details = ws.get_details()\n",
    "print('Name:\\t\\t{}\\nLocation:\\t{}'\n",
    "      .format(ws_details['name'],\n",
    "              ws_details['location']))"
   ]
  },
  {
   "cell_type": "markdown",
   "metadata": {},
   "source": [
    "### 2. Create Remote Target\n",
    "We create a GPU cluster as our remote compute target. If a cluster with the same name is already exist in our workspace, the script will load it instead. We can see [here](https://docs.microsoft.com/en-us/azure/machine-learning/service/how-to-set-up-training-targets) to learn more about setting up a compute target on different locations.\n",
    "\n",
    "This notebook selects STANDARD_NC6 virtual machine (VM) and sets it's priority as lowpriority to save the cost."
   ]
  },
  {
   "cell_type": "code",
   "execution_count": null,
   "metadata": {},
   "outputs": [],
   "source": [
    "# choose a name for our cluster\n",
    "cluster_name = \"gpu-cluster-nc6\"\n",
    "# Remote compute (cluster) configuration. If you want to save the cost more, set these to small.\n",
    "VM_SIZE = 'STANDARD_NC6'\n",
    "VM_PRIORITY = 'lowpriority'\n",
    "\n",
    "# Cluster nodes\n",
    "MIN_NODES = 0\n",
    "MAX_NODES = 4\n",
    "\n",
    "try:\n",
    "    compute_target = ComputeTarget(workspace=ws, name=cluster_name)\n",
    "    print('Found existing compute target.')\n",
    "except ComputeTargetException:\n",
    "    print('Creating a new compute target...')\n",
    "    compute_config = AmlCompute.provisioning_configuration(vm_size=VM_SIZE,\n",
    "                                                           min_nodes=MIN_NODES,\n",
    "                                                           max_nodes=MAX_NODES)\n",
    "\n",
    "    # create the cluster\n",
    "    compute_target = ComputeTarget.create(ws, cluster_name, compute_config)\n",
    "\n",
    "    compute_target.wait_for_completion(show_output=True)\n",
    "\n",
    "# we can use get_status() to get a detailed status for the current cluster. \n",
    "print(compute_target.get_status().serialize())"
   ]
  },
  {
   "cell_type": "markdown",
   "metadata": {},
   "source": [
    "### 3. Prepare data\n",
    "In this notebook, we'll use the Fridge Objects dataset, which is already stored in the correct format. We then upload our data to the AzureML workspace.\n"
   ]
  },
  {
   "cell_type": "code",
   "execution_count": null,
   "metadata": {},
   "outputs": [],
   "source": [
    "# Note, all the files under DATA_DIR will be uploaded to the data store\n",
    "DATA = unzip_url(Urls.fridge_objects_path, exist_ok=True)\n",
    "REPS = 3\n",
    "\n",
    "ds = ws.get_default_datastore()\n",
    "\n",
    "ds.upload(\n",
    "    src_dir=os.path.dirname(DATA),\n",
    "    target_path='data',\n",
    "    overwrite=True,\n",
    "    show_progress=True\n",
    ")"
   ]
  },
  {
   "cell_type": "markdown",
   "metadata": {},
   "source": [
    "### 4. Prepare training script\n",
    "\n",
    "Next step is to prepare scripts that AzureML Hyperdrive will use to train and evaluate models with selected hyperparameters. To run the model notebook from the Hyperdrive Run, all we need is to prepare an entry script which parses the hyperparameter arguments, passes them to the notebook, and records the results of the notebook to AzureML Run logs. "
   ]
  },
  {
   "cell_type": "code",
   "execution_count": null,
   "metadata": {},
   "outputs": [],
   "source": [
    "# creating a folder for the training script here\n",
    "script_folder = os.path.join(os.getcwd(), \"hyperparameter\")\n",
    "os.makedirs(script_folder, exist_ok=True)"
   ]
  },
  {
   "cell_type": "code",
   "execution_count": null,
   "metadata": {},
   "outputs": [],
   "source": [
    "%%writefile $script_folder/train.py\n",
    "\n",
    "import numpy as np\n",
    "import os\n",
    "from sklearn.externals import joblib\n",
    "import sys\n",
    "\n",
    "import fastai\n",
    "from fastai.vision import *\n",
    "from fastai.vision.data import *\n",
    "\n",
    "from azureml.core import Run\n",
    "\n",
    "run = Run.get_context()\n",
    "\n",
    "# The datastore is mounted in the Estimator script_params which resolves to an environment variable\n",
    "# name of the format \"$AZUREML_DATAREFERENCE_XXXX\" where XXXX is the default datastore 'workspaceblobstore' in this case.\n",
    "# We retrieve our FridgeObjects dataset by giving the path such as below.\n",
    "data_store_path = str(os.environ['AZUREML_DATAREFERENCE_workspaceblobstore'])\n",
    "path = data_store_path + '/data/fridgeObjects'\n",
    "\n",
    "# Define parameters that we are going to use for training\n",
    "IM_SIZES = [299, 499]\n",
    "ARCHITECTURE  = models.resnet50\n",
    "LEARNING_RATES = [1e-3, 1e-4, 1e-5]\n",
    "EPOCHS = [10]\n",
    "\n",
    "# Getting training and validation data and training the CNN as done in 01_training_introduction.ipynb\n",
    "data = (ImageList.from_folder(path)\n",
    "        .split_by_rand_pct(valid_pct=0.2, seed=10)\n",
    "        .label_from_folder() \n",
    "        .transform(size=299) \n",
    "        .databunch(bs=16) \n",
    "        .normalize(imagenet_stats))\n",
    "\n",
    "learn = cnn_learner(\n",
    "    data,\n",
    "    ARCHITECTURE,\n",
    "    metrics=[accuracy]\n",
    ")\n",
    "\n",
    "learn.unfreeze()\n",
    "learn.fit(EPOCHS[0], LEARNING_RATES[0])\n",
    "\n",
    "training_losses = [x.numpy().ravel()[0] for x in learn.recorder.losses]\n",
    "accuracy = [x[0].numpy().ravel()[0] for x in learn.recorder.metrics][-1]\n",
    "\n",
    "#run.log_list('training_loss', training_losses)\n",
    "#run.log_list('validation_loss', learn.recorder.val_losses)\n",
    "#run.log_list('error_rate', error_rate)\n",
    "#run.log_list('learning_rate', learn.recorder.lrs)\n",
    "run.log('accuracy', float(accuracy))  # Logging our primary metric 'accuracy'\n",
    "\n",
    "current_directory = os.getcwd()\n",
    "output_folder = os.path.join(current_directory, 'outputs')\n",
    "MODEL_NAME = 'im_classif_resnet50'  # Name we will give our model both locally and on Azure\n",
    "PICKLED_MODEL_NAME = MODEL_NAME + '.pkl'\n",
    "os.makedirs(output_folder, exist_ok=True)\n",
    "\n",
    "learn.export(os.path.join(output_folder, PICKLED_MODEL_NAME))"
   ]
  },
  {
   "cell_type": "markdown",
   "metadata": {},
   "source": [
    "### 5. Setup and run Hyperdrive experiment\n",
    "\n",
    "Next step is to prepare scripts that AzureML Hyperdrive will use to train and evaluate models with selected hyperparameters. To run the model notebook from the Hyperdrive Run, all we need is to prepare an entry script which parses the hyperparameter arguments, passes them to the notebook, and records the results of the notebook to AzureML Run logs. \n",
    "\n",
    "#### 5.1 Create Experiment  \n",
    "Experiment is the main entry point into experimenting with AzureML. To create new Experiment or get the existing one, we pass our experimentation name 'hyperparameter-tuning'.\n"
   ]
  },
  {
   "cell_type": "code",
   "execution_count": null,
   "metadata": {},
   "outputs": [],
   "source": [
    "experiment_name = 'hyperparameter-tuning'\n",
    "exp = Experiment(workspace=ws, name=experiment_name)"
   ]
  },
  {
   "cell_type": "markdown",
   "metadata": {},
   "source": [
    "#### 5.2. Define search space\n",
    "\n",
    "Now we define the search space of hyperparameters. For example, if you want to test different batch sizes of {64, 128, 256}, you can use azureml.train.hyperdrive.choice(64, 128, 256). To search from a continuous space, use uniform(start, end). For more options, see [Hyperdrive parameter expressions](https://docs.microsoft.com/en-us/python/api/azureml-train-core/azureml.train.hyperdrive.parameter_expressions?view=azure-ml-py).\n",
    "\n",
    "In this notebook, we fix model architecture as models.resnet50 and the number of epochs to 10.\n",
    "In the search space, we set different learning rates and image sizes. Details about the hyperparameters can be found from our 11_exploring_hyperparameters.ipynb notebook.\n",
    "\n",
    "Hyperdrive provides three different parameter sampling methods: RandomParameterSampling, GridParameterSampling, and BayesianParameterSampling. Details about each method can be found [here](https://docs.microsoft.com/en-us/azure/machine-learning/service/how-to-tune-hyperparameters). Here, we use the Random Parameter sampling."
   ]
  },
  {
   "cell_type": "code",
   "execution_count": null,
   "metadata": {},
   "outputs": [],
   "source": [
    "IM_SIZES = [299, 499]\n",
    "LEARNING_RATES = [1e-3, 1e-4, 1e-5]\n",
    "\n",
    "# Hyperparameter search space\n",
    "param_sampling = RandomParameterSampling( {\n",
    "        'learning_rate': choice(LEARNING_RATES),\n",
    "        'im_sizes': choice(IM_SIZES)\n",
    "    }\n",
    ")\n",
    "\n",
    "primary_metric_name = 'accuracy'\n",
    "primary_metric_goal = PrimaryMetricGoal.MAXIMIZE\n",
    "max_total_runs=50\n",
    "max_concurrent_runs=4\n",
    "\n",
    "early_termination_policy = BanditPolicy(slack_factor=0.15, evaluation_interval=1, delay_evaluation=20)"
   ]
  },
  {
   "cell_type": "markdown",
   "metadata": {},
   "source": [
    "<b>AzureML Estimator</b> is the building block for training. An Estimator encapsulates the training code and parameters, the compute resources and runtime environment for a particular training scenario.\n",
    "We create one for our experimentation with the dependencies our model requires as follows:\n",
    "\n",
    "```python\n",
    "pip_packages=['fastai']\n",
    "conda_packages=['scikit-learn']\n",
    "```"
   ]
  },
  {
   "cell_type": "code",
   "execution_count": null,
   "metadata": {},
   "outputs": [],
   "source": [
    "script_params = {\n",
    "    '--data-folder': ds.as_mount(),\n",
    "}\n",
    "\n",
    "est = Estimator(source_directory=script_folder,\n",
    "                script_params=script_params,\n",
    "                compute_target=compute_target,\n",
    "                entry_script='train.py',\n",
    "                pip_packages=['fastai'],\n",
    "                conda_packages=['scikit-learn'])\n",
    "#model_run = exp.submit(est)\n",
    "#widgets.RunDetails(model_run).show()"
   ]
  },
  {
   "cell_type": "markdown",
   "metadata": {},
   "source": [
    "To the Hyperdrive Run Config, we set our primary metric name and the goal (our hyperparameter search criteria), hyperparameter sampling method, and number of total child-runs. The bigger the search space, the more number of runs we will need for better results."
   ]
  },
  {
   "cell_type": "code",
   "execution_count": null,
   "metadata": {},
   "outputs": [],
   "source": [
    "hyperdrive_run_config = HyperDriveConfig(estimator=est,\n",
    "                                         hyperparameter_sampling=param_sampling,\n",
    "                                         policy=early_termination_policy,\n",
    "                                         primary_metric_name=primary_metric_name,\n",
    "                                         primary_metric_goal=primary_metric_goal,\n",
    "                                         max_total_runs=max_total_runs,\n",
    "                                         max_concurrent_runs= max_concurrent_runs)"
   ]
  },
  {
   "cell_type": "markdown",
   "metadata": {},
   "source": [
    "#### 5.3 Run Experiment\n",
    "Now we submit the Run to our experiment. We can see the experiment progress from this notebook by using \n",
    "```python \n",
    "azureml.widgets.RunDetails(hyperdrive_run).show()\n",
    "``` \n",
    "or check from the Azure portal with the url link we get by running \n",
    "```python \n",
    "hyperdrive_run.get_portal_url().```\n",
    "\n",
    "To load an existing Hyperdrive Run instead of start new one, we can use \n",
    "```python\n",
    "hyperdrive_run = azureml.train.hyperdrive.HyperDriveRun(exp, <your-run-id>, hyperdrive_run_config=hyperdrive_run_config)\n",
    "```\n",
    "We also can cancel the Run with \n",
    "```python \n",
    "hyperdrive_run_config.cancel().\n",
    "```"
   ]
  },
  {
   "cell_type": "code",
   "execution_count": null,
   "metadata": {},
   "outputs": [],
   "source": [
    "hyperdrive_run = exp.submit(config=hyperdrive_run_config)\n",
    "widgets.RunDetails(hyperdrive_run).show()"
   ]
  },
  {
   "cell_type": "markdown",
   "metadata": {},
   "source": [
    "Once all the child-runs are finished, we can get the best run and the metrics."
   ]
  },
  {
   "cell_type": "code",
   "execution_count": null,
   "metadata": {},
   "outputs": [],
   "source": [
    "# Get best run and print out metrics\n",
    "best_run = hyperdrive_run.get_best_run_by_primary_metric()\n",
    "best_run_metrics = best_run.get_metrics()\n",
    "parameter_values = best_run.get_details()['runDefinition']['arguments']\n",
    "best_parameters = dict(zip(parameter_values[::2], parameter_values[1::2]))\n",
    "\n",
    "print(\"* Best Run Id:\", best_run.id)\n",
    "print(best_run)\n",
    "print(\"\\n* Best hyperparameters:\")\n",
    "print(best_parameters)\n",
    "print(\"Accuracy =\", best_run_metrics['accuracy'])\n",
    "#print(\"Learning Rate =\", best_run_metrics['learning_rate'])"
   ]
  },
  {
   "cell_type": "markdown",
   "metadata": {},
   "source": [
    "### 6. Test the model\n",
    "\n",
    "We can download the best run model from outputs folder and use it to test against unseen images"
   ]
  },
  {
   "cell_type": "code",
   "execution_count": null,
   "metadata": {},
   "outputs": [],
   "source": [
    "current_directory = os.getcwd()\n",
    "output_folder = os.path.join(current_directory, 'outputs')\n",
    "MODEL_NAME = 'im_classif_resnet50'\n",
    "PICKLED_MODEL_NAME = MODEL_NAME + '.pkl'\n",
    "os.makedirs(output_folder, exist_ok=True)\n",
    "\n",
    "for f in best_run.get_file_names():\n",
    "    if f.startswith('outputs/im_classif_resnet50'):\n",
    "        print(\"Downloading {}..\".format(f))\n",
    "        best_run.download_file(name=f, output_file_path=output_folder)\n",
    "saved_model = load_learner(path = output_folder, file=PICKLED_MODEL_NAME)\n",
    "print(saved_model)"
   ]
  },
  {
   "cell_type": "markdown",
   "metadata": {},
   "source": [
    "We can now use the retrieved best run model to get predictions on unseen images as done in 02_training_accuracy_vs_speed.ipynb notebook using\n",
    "```python\n",
    "saved_model.predict(image)\n",
    "```"
   ]
  }
 ],
 "metadata": {
  "kernelspec": {
    "display_name": "Python (cvbp)",
    "language": "python",
    "name": "cvbp"
  },
  "language_info": {
   "codemirror_mode": {
    "name": "ipython",
    "version": 3
   },
   "file_extension": ".py",
   "mimetype": "text/x-python",
   "name": "python",
   "nbconvert_exporter": "python",
   "pygments_lexer": "ipython3",
   "version": "3.6.8"
  }
 },
 "nbformat": 4,
 "nbformat_minor": 2
}
