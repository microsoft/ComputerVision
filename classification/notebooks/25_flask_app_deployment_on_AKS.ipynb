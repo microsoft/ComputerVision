{
 "cells": [
  {
   "cell_type": "markdown",
   "metadata": {},
   "source": [
    "<i>Copyright (c) Microsoft Corporation. All rights reserved.</i>\n",
    "\n",
    "<i>Licensed under the MIT License.</i>\n",
    "\n",
    "\n",
    "# Deployment of containerized Flask Application on AKS\n",
    "\n",
    "## Table of content\n",
    "1. [Introduction](#intro)\n",
    "1. [Setup](#setup)\n",
    "1. [Registration on Azure Container Registry](#register)\n",
    "1. [Installation and configuration of kubectl](#kube)\n",
    "1. [Creation of a static public IP address](#static)\n",
    "1. [Deployment of our registered Docker container on AKS](#deploy)\n",
    "1. [Website testing](#web_test)\n",
    "1. [Service monitoring](#insights)\n",
    "1. [Clean up](#clean)\n",
    "  1. [Static IP address detachment/deletion](#del_ip)\n",
    "  1. [Flask app service and deployment deletion](#del_svc)\n",
    "  1. [Application Insights deactivation and web service termination](#del_app_insights)\n",
    "  1. [Web service Docker image deletion](#del_image)\n",
    "1. [Resources](#resources)"
   ]
  },
  {
   "cell_type": "markdown",
   "metadata": {},
   "source": [
    "## 1. Introduction <a id=\"intro\"/>\n",
    "In the prior notebook, we created a Flask application that allowed us to upload images and get their predicted classes and probabilities. We also packaged our app into a Docker container that we ran on our local machine.\n",
    "\n",
    "In this tutorial, we will learn how to:\n",
    "- Register our Docker image on the Azure Container Registry (ACR)\n",
    "- Deploy this Docker image, and consequently our Flask app, on the same AKS cluster as our existing web service.\n",
    "\n",
    "This will ultimately make our application accessible through a website, from any machine, and by more than one person.\n",
    "\n",
    "We are assuming here that we already have:\n",
    "- An Azure workspace\n",
    "- A web service that serves our machine learning model on AKS -- If that is not the case, we can refer to the [AKS deployment notebook](https://github.com/microsoft/ComputerVision/blob/master/classification/notebooks/22_deployment_on_azure_kubernetes_service.ipynb) to create one\n",
    "- A Flask application that provides us with a user interface, and calls our web service\n",
    "- A Docker image that contains our Flask application.\n",
    "\n",
    "If we are missing the last 2 objects, we can create them by following the steps shown in the [previous](https://github.com/microsoft/ComputerVision/blob/master/classification/notebooks/24_web_service_call_through_user_interface.ipynb) notebook.\n",
    "\n",
    "We will also use the Azure Command Line Interface (CLI), which installation instructions are provided  [here](https://docs.microsoft.com/en-us/cli/azure/install-azure-cli?view=azure-cli-latest)."
   ]
  },
  {
   "cell_type": "markdown",
   "metadata": {},
   "source": [
    "## 2. Setup <a id=\"setup\"/>\n",
    "\n",
    "To help with the registration and deployment of our new Docker image, we will need to access the resources associated with our Azure workspace. So, let's first retrieve latter."
   ]
  },
  {
   "cell_type": "code",
   "execution_count": null,
   "metadata": {},
   "outputs": [],
   "source": [
    "# Import python and Azure library\n",
    "import os\n",
    "\n",
    "from azureml.core import Workspace\n",
    "\n",
    "# Retrieve the workspace object\n",
    "ws = Workspace.from_config()\n",
    "\n",
    "# Print the workspace attributes\n",
    "print('Workspace name: ' + ws.name, \n",
    "      'Azure region: ' + ws.location, \n",
    "      'Subscription id: ' + ws.subscription_id, \n",
    "      'Resource group: ' + ws.resource_group, sep = '\\n')"
   ]
  },
  {
   "cell_type": "markdown",
   "metadata": {},
   "source": [
    "Let's then move to the `flask_app/` directory. This folder contains all the files we have needed and will need for the creation of the Flask app, its deployment into a Docker image, and the deployment of that image onto AKS."
   ]
  },
  {
   "cell_type": "code",
   "execution_count": null,
   "metadata": {},
   "outputs": [],
   "source": [
    "%cd flask_app"
   ]
  },
  {
   "cell_type": "markdown",
   "metadata": {},
   "source": [
    "## 3. Registration on Azure Container Registry <a id=\"register\">\n",
    "\n",
    "Our Flask application can currently be accessed through our local Docker image. Now, our goal is to access it through a website. For this, we first need to register the Docker image into our [Azure Container Registry](https://docs.microsoft.com/en-us/azure/container-registry/container-registry-intro). This registry, associated with our workspace, already contains the Docker image we created in the [AKS deployment](https://github.com/Microsoft/ComputerVision/blob/master/classification/notebooks/22_deployment_on_azure_kubernetes_service.ipynb) notebook, which hosts our image classifier model.\n",
    "\n",
    "In the cells below, we will use the Azure CLI. As each of us has their own Azure resources, we will need to replace the variables identified by angled brackets (e.g. < subscription_id >) by our own values.\n",
    "\n",
    "*<b>Note:</b> For most users, the commands will follow the `az <action>` format. For others, `az.cmd <action>` may work better.*\n",
    "\n",
    "Let's first start by checking our Azure CLI version. Ideally, it should be 2.0.59 or later."
   ]
  },
  {
   "cell_type": "code",
   "execution_count": null,
   "metadata": {},
   "outputs": [],
   "source": [
    "!az --version | grep \"azure-cli\""
   ]
  },
  {
   "cell_type": "markdown",
   "metadata": {},
   "source": [
    "We also need to ensure that we use the right Azure subscription ID. Let's set it up properly."
   ]
  },
  {
   "cell_type": "code",
   "execution_count": null,
   "metadata": {},
   "outputs": [],
   "source": [
    "print(f\"My subscription ID is {ws.subscription_id}\")"
   ]
  },
  {
   "cell_type": "code",
   "execution_count": null,
   "metadata": {},
   "outputs": [],
   "source": [
    "!az account set -s <subscription_ID>\n",
    "# Set the account used by the CLI to the one associated with this <subscription ID>\n",
    "# Let's replace <subscription_ID> by the result we obtained in the prior cell"
   ]
  },
  {
   "cell_type": "markdown",
   "metadata": {},
   "source": [
    "We also need to know the name of our container registry"
   ]
  },
  {
   "cell_type": "code",
   "execution_count": null,
   "metadata": {},
   "outputs": [],
   "source": [
    "acr_name = os.path.basename(ws.get_details()['containerRegistry'])\n",
    "print(f\"My Azure Container Registry is *{acr_name}*\")"
   ]
  },
  {
   "cell_type": "code",
   "execution_count": null,
   "metadata": {},
   "outputs": [],
   "source": [
    "!az acr login --name <acr_name>\n",
    "# Let's replace <acr_name> by the value we obtained above\n",
    "# This takes a few seconds"
   ]
  },
  {
   "cell_type": "markdown",
   "metadata": {},
   "source": [
    "At this point, we may be asked to enter a username and a password. If that is the case, we need to:\n",
    "- Go to the Azure portal\n",
    "- Navigate to our resource group\n",
    "- Click on our workspace name\n",
    "- Click on the link next to \"Registry\" on the upper right of the screen - This takes us to our container registry\n",
    "- Click on \"Access keys\" on the menu\n",
    "- Copy and paste the username and one of the passwords available on that page.\n",
    "\n",
    "After providing these credentials, we should see `Login succeeded` in our notebook.\n",
    "\n",
    "We have just established a connection to our Azure remote resources. Let's now tag our local image, so we can recognize it later, and register it into our ACR."
   ]
  },
  {
   "cell_type": "code",
   "execution_count": null,
   "metadata": {},
   "outputs": [],
   "source": [
    "!docker tag flaskappdockerimage <acr_name>.azurecr.io/flaskappdockerimage:v1"
   ]
  },
  {
   "cell_type": "markdown",
   "metadata": {},
   "source": [
    "Let's check that the tag was applied properly"
   ]
  },
  {
   "cell_type": "code",
   "execution_count": null,
   "metadata": {},
   "outputs": [],
   "source": [
    "!docker images --filter=reference=\"flaskappdockerimage:*\""
   ]
  },
  {
   "cell_type": "markdown",
   "metadata": {},
   "source": [
    "We are now ready to register our image.\n",
    "\n",
    "<i><b>Note:</b> This takes a few minutes.</i>"
   ]
  },
  {
   "cell_type": "code",
   "execution_count": null,
   "metadata": {},
   "outputs": [],
   "source": [
    "!docker push <acr_name>.azurecr.io/flaskappdockerimage:v1"
   ]
  },
  {
   "cell_type": "markdown",
   "metadata": {},
   "source": [
    "We can check that this operation completed by going to the Azure portal. Still in the Registry section, where we found the credentials above, let's click on \"Repositories\". There, we should see our newly registered image.\n",
    "\n",
    "<img src=\"media/acr_repositories.jpg\" width=\"700\" align=\"left\">"
   ]
  },
  {
   "cell_type": "markdown",
   "metadata": {},
   "source": [
    "By clicking on it, we should see the \"v1\" tag we just added.\n",
    "\n",
    "<img src=\"media/acr_tag.jpg\" width=\"700\" align=\"left\">"
   ]
  },
  {
   "cell_type": "markdown",
   "metadata": {},
   "source": [
    "Clicking on this tag, shows us more details about the image, in particular what we did to create it, with the contents of the Dockerfile.\n",
    "<img src=\"media/acr_manifest.jpg\" width=\"700\" align=\"left\">"
   ]
  },
  {
   "cell_type": "markdown",
   "metadata": {},
   "source": [
    "We can also query the ACR and extract the list of images it currently contains. Both `image-classif-resnet18-f48`, which contains our image classifier model, and `flaskappdockerimage` are there."
   ]
  },
  {
   "cell_type": "code",
   "execution_count": null,
   "metadata": {},
   "outputs": [],
   "source": [
    "!az acr repository list --name <acr_name> --output table"
   ]
  },
  {
   "cell_type": "code",
   "execution_count": null,
   "metadata": {},
   "outputs": [],
   "source": [
    "!az acr repository show-tags --name <acr_name> --repository flaskappdockerimage --output table\n",
    "# Tag \"v1\", as created above"
   ]
  },
  {
   "cell_type": "markdown",
   "metadata": {},
   "source": [
    "The \"Overview\" section of the Azure Container Registry also shows a spike in activity. This corresponds to the moment when we registered our `flaskappdockerimage`.\n",
    "\n",
    "<img src=\"media/acr_activity_spike.jpg\" width=\"300\" align=\"left\">"
   ]
  },
  {
   "cell_type": "markdown",
   "metadata": {},
   "source": [
    "## 4. Installation and configuration of kubectl <a id=\"kube\">\n",
    "To continue our deployment on Azure Kubernetes Service, we now need to use the Kubernetes CLI: kubectl. If we don't already have it, let's install it."
   ]
  },
  {
   "cell_type": "code",
   "execution_count": null,
   "metadata": {},
   "outputs": [],
   "source": [
    "!az aks install-cli"
   ]
  },
  {
   "cell_type": "markdown",
   "metadata": {},
   "source": [
    "This should display a message similar to the following one, inviting us to add information to our PATH environment variable:\n",
    "```\n",
    "Add kubectl.exe to Path environment variable\n",
    "Please add \"<home_path>\\.azure-kubectl\" to your search PATH so the kubectl.exe can be found. 2 options:\n",
    "    1. Run \"set PATH=%PATH%;<home_path>\\.azure-kubectl\" or \"$env:path += '<home_path>\\.azure-kubectl'\" for PowerShell. \n",
    "    This is good for the current command session.\n",
    "    2. Update system PATH environment variable by following \"Control Panel->System->Advanced->Environment Variables\", and re-open the command window. You only need to do it once\n",
    "```\n",
    "The message will differ depending on the operating system we are using."
   ]
  },
  {
   "cell_type": "markdown",
   "metadata": {},
   "source": [
    "Let's also check that we are still using the right subscription id, and remind ourselves of our resource group, if we forgot about it."
   ]
  },
  {
   "cell_type": "code",
   "execution_count": null,
   "metadata": {},
   "outputs": [],
   "source": [
    "# Check the subscription ID used\n",
    "!az account show\n",
    "\n",
    "# If it is not the right one, we can set it again\n",
    "# !az account set -s <subscription ID>"
   ]
  },
  {
   "cell_type": "code",
   "execution_count": null,
   "metadata": {},
   "outputs": [],
   "source": [
    "print(f\"My resource group is {ws.resource_group}\")"
   ]
  },
  {
   "cell_type": "markdown",
   "metadata": {},
   "source": [
    "Let's now configure kubectl to connect to our AKS cluster. Here, we will use its full name."
   ]
  },
  {
   "cell_type": "code",
   "execution_count": null,
   "metadata": {},
   "outputs": [],
   "source": [
    "full_aks_cluster_name = os.path.basename(ws.compute_targets['imgclass-aks-cpu'].cluster_resource_id)\n",
    "print(f\"My AKS cluster name is {full_aks_cluster_name}\")"
   ]
  },
  {
   "cell_type": "code",
   "execution_count": null,
   "metadata": {},
   "outputs": [],
   "source": [
    "!az aks get-credentials --resource-group <resource_group> --name <full_aks_cluster_name>"
   ]
  },
  {
   "cell_type": "markdown",
   "metadata": {},
   "source": [
    "The command above gets credentials for our AKS cluster in our resource group. It also creates a `~/.kube/config` file, which contains information on our AKS cluster and users.\n",
    "\n",
    "Let's verify that our connection was properly set up"
   ]
  },
  {
   "cell_type": "code",
   "execution_count": null,
   "metadata": {},
   "outputs": [],
   "source": [
    "!kubectl get nodes"
   ]
  },
  {
   "cell_type": "markdown",
   "metadata": {},
   "source": [
    "We should see something silimar to the following:\n",
    "\n",
    "```\n",
    "NAME                       STATUS   ROLES   AGE     VERSION\n",
    "aks-agentpool-xxxxxxxx-0   Ready     agent     1d        v1.12.7\n",
    "aks-agentpool-xxxxxxxx-1   Ready     agent     1d        v1.12.7\n",
    "aks-agentpool-xxxxxxxx-2   Ready     agent     1d        v1.12.7\n",
    "```\n",
    "\n",
    "The connection succeeded, as we can get information on our AKS cluster from within our notebook. Here, we see that it is composed of one pool of 3 virtual machines."
   ]
  },
  {
   "cell_type": "markdown",
   "metadata": {},
   "source": [
    "## 5. Creation of a static public IP address <a id=\"static\">\n",
    "\n",
    "When we [created](https://github.com/Microsoft/ComputerVision/blob/master/classification/notebooks/22_deployment_on_azure_kubernetes_service.ipynb) our AKS cluster, we set it up, by default, only with an internal IP address, to allow only communication [within the cluster](https://docs.microsoft.com/en-us/azure/aks/concepts-network).\n",
    "\n",
    "Our goal here, however, is to have a public URL that can be used to call our service externally from the cluster. We then need to create a [static public IP address](https://docs.microsoft.com/en-us/azure/aks/static-ip). Such an IP address should be created in the AKS node resource group, so all resources are grouped together. This requires us to know what resource group our AKS cluster belongs to. Let's extract it first."
   ]
  },
  {
   "cell_type": "code",
   "execution_count": null,
   "metadata": {},
   "outputs": [],
   "source": [
    "!az aks show --resource-group <resource_group> --name <full_aks_cluster_name> --query nodeResourceGroup -o tsv\n",
    "# Here <resource_group> is the one in which our workspace is (i.e. the output of ws.resource_group)"
   ]
  },
  {
   "cell_type": "markdown",
   "metadata": {},
   "source": [
    "The command above returns the <b>node</b> resource group for our AKS cluster. It is typically of the following format:\n",
    "```\n",
    "MC_<resource_group>_<full_aks_cluster_name>_<workspace_region>\n",
    "```\n",
    "\n",
    "This string is the resource group we will use below.\n",
    "\n",
    "Let's now create our IP address and give it the name `ourAKSPublicIP`."
   ]
  },
  {
   "cell_type": "code",
   "execution_count": null,
   "metadata": {},
   "outputs": [],
   "source": [
    "!az network public-ip create --resource-group <node_resource_group> --name ourAKSPublicIP --allocation-method=static\n",
    "# Let's replace <node_resource_group> by the result from the prior command"
   ]
  },
  {
   "cell_type": "markdown",
   "metadata": {},
   "source": [
    "This should return a JSON object with the following shape:\n",
    "\n",
    "```{\n",
    "  \"publicIp\": {\n",
    "    \"dnsSettings\": null,\n",
    "    \"etag\": \"<unique_identifier>\",\n",
    "    \"id\": \"/subscriptions/<subscription_id>/resourceGroups/<node_resource_group>/providers/Microsoft.Network/publicIPAddresses/ourAKSPublicIP\",\n",
    "    \"idleTimeoutInMinutes\": 4,\n",
    "    \"ipAddress\": \"xxx.xxx.xxx.xx\",\n",
    "    \"name\": \"ourAKSPublicIP\",\n",
    "    [...]\n",
    "  }\n",
    "}\n",
    "```\n",
    "\n",
    "To make sure that this step worked properly, let's query the IP address we just created. For this, we need the name of our <b>node</b> resource group and of our IP address (here `ourAKSPublicIP`)."
   ]
  },
  {
   "cell_type": "code",
   "execution_count": null,
   "metadata": {},
   "outputs": [],
   "source": [
    "!az network public-ip show --resource-group <node_resource_group> --name ourAKSPublicIP --query ipAddress --output tsv"
   ]
  },
  {
   "cell_type": "markdown",
   "metadata": {},
   "source": [
    "This should return the same IP address as the one contained in the JSON object we obtained above.\n",
    "\n",
    "We can also check for the presence of our new IP address on the Azure portal. In the general \"Resource Group\" section of the portal, we can search for our node resource group. After clicking on the returned result, we can see our IP address present in the list of created resources.\n",
    "\n",
    "<img src=\"media/node_resource_group.jpg\" width=\"600\" align=\"left\">"
   ]
  },
  {
   "cell_type": "markdown",
   "metadata": {},
   "source": [
    "By clicking on it, we have access to logs, configuration and other properties of our IP address.\n",
    "<img src=\"media/ip_address.jpg\" width=\"600\" align=\"left\">"
   ]
  },
  {
   "cell_type": "markdown",
   "metadata": {},
   "source": [
    "## 6. Deployment of our registered Docker container on AKS <a id=\"deploy\">\n",
    "\n",
    "The last file we will use in this project is `aks_deployment.yaml`. It specifies how to create a new deployment for our Flask app to run on (e.g. Docker image used, port, number of replicas, IP address, etc.).\n",
    "\n",
    "Let's open this file and replace `<static_ip_address>` and `<acr_name>` by the address we just obtained and by the name of our Azure Container Registry. All the pieces we need for the deployment on AKS are now ready. The `kubectl apply` command will now parse this yaml file (also called a `manifest`) and create the `Deployment` and `Service` objects we defined there.\n",
    "\n",
    "<b>Note:</b> If we use Windows, let's make sure to run `dos2unix.exe aks_deployment.yaml`, so the next command can run successfully."
   ]
  },
  {
   "cell_type": "code",
   "execution_count": null,
   "metadata": {},
   "outputs": [],
   "source": [
    "!kubectl apply -f aks_deployment.yaml"
   ]
  },
  {
   "cell_type": "markdown",
   "metadata": {},
   "source": [
    "This should display the following results:\n",
    "\n",
    "```\n",
    "deployment.apps \"flask-app-deployment\" created\n",
    "service \"flask-app-deployment\" created\n",
    "```\n",
    "\n",
    "\n",
    "When the application runs, a Kubernetes service exposes the application to the internet. This process can take <b>a few minutes</b> to complete. We can monitor progress of the service deployment by using the `kubectl get service --watch` command. Better yet is to use `kubectl get all`. This shows all AKS pods, replicas, deployments and services on our AKS cluster. If we run it several times, a few minutes apart, we should see a change in the \"EXTERNAL-IP\" column for the deployed services. It should change from \"Pending\" to the IP address we just created. Additionally, the \"STATUS\" column of the pods that run our Flask app should change from \"ContainerCreating\" to \"Pending\" to \"Running\"."
   ]
  },
  {
   "cell_type": "code",
   "execution_count": null,
   "metadata": {},
   "outputs": [],
   "source": [
    "!kubectl get all\n",
    "# Let's run this command 2 or 3 times, a few minutes apart"
   ]
  },
  {
   "cell_type": "markdown",
   "metadata": {},
   "source": [
    "##### Debugging\n",
    "\n",
    "If there is any issue with deployment, especially the above command showing something different from \"ContainerCreating\", \"Pending\" or \"Running\", we can delete our `Deployment` and `Service` objects, fix the problem in our `aks_deployment.yaml` file, and run the `kubectl apply` command again."
   ]
  },
  {
   "cell_type": "code",
   "execution_count": null,
   "metadata": {},
   "outputs": [],
   "source": [
    "# !kubectl delete svc flask-app-deployment\n",
    "# !kubectl delete deploy flask-app-deployment\n",
    "# # Fix aks_deployment.yaml\n",
    "# !kubectl apply -f aks_deployment.yaml"
   ]
  },
  {
   "cell_type": "markdown",
   "metadata": {},
   "source": [
    "## 7. Website testing <a id=\"web_test\">"
   ]
  },
  {
   "cell_type": "markdown",
   "metadata": {},
   "source": [
    "By now, our Flask application should be up and running. Let's test it.\n",
    "\n",
    "Let's copy our static IP address, followed by \":5000\", into a browser (e.g. `http://xxx.xxx.xxx.xx:5000`)\n",
    "\n",
    "Here is our app website!\n",
    "\n",
    "<img src=\"media/website_ui.jpg\" width=\"400\" align=\"left\">"
   ]
  },
  {
   "cell_type": "markdown",
   "metadata": {},
   "source": [
    "Let's now upload a few images. This should return a table with the images we uploaded, and their predicted classes and probabilities.\n",
    "\n",
    "<i><b>Note:</b>  The first time the service runs, it needs to be \"primed\", so it may take a little more time than for subsequent requests.</i>\n",
    "\n",
    "Thanks to our public IP address, we can now call our image classifier model, through our Flask application, from any computer."
   ]
  },
  {
   "cell_type": "markdown",
   "metadata": {},
   "source": [
    "## 8. Service monitoring <a id=\"insights\"/>\n",
    "\n",
    "As before, we can track our web service health through the Application Insights service on the Azure portal (cf. [web service testing](https://github.com/microsoft/ComputerVision/blob/master/classification/notebooks/23_aci_aks_web_service.ipynb) notebook for details)."
   ]
  },
  {
   "cell_type": "markdown",
   "metadata": {},
   "source": [
    "## 9. Clean up <a id=\"clean\">\n",
    "\n",
    "In a real-life scenario, it is likely that the 2 services (i.e. image classifier and Flask application) we created would need to be up and running at all times. However, in the present demonstrative case, and now that we have verified that our services work, we can delete them as well as all the resources we used.\n",
    "\n",
    "Overall, with a workspace and a web service running on a CPU-based AKS cluster, we incurred a cost of about $15 a day. To get a better sense of pricing, we can refer to [this calculator](https://azure.microsoft.com/en-us/pricing/calculator/?service=virtual-machines). We can also navigate to the [Cost Management + Billing pane](https://ms.portal.azure.com/#blade/Microsoft_Azure_Billing/ModernBillingMenuBlade/BillingAccounts) on the portal, click on our subscription ID, and click on the Cost Analysis tab to check our credit usage.\n",
    "\n",
    "### 9.A Static IP address detachment/deletion <a id=\"del_ip\">\n",
    "\n",
    "We start with our static public IP address. As in the commands we used before, we need to replace `<resource_group>` by our own value."
   ]
  },
  {
   "cell_type": "code",
   "execution_count": null,
   "metadata": {},
   "outputs": [],
   "source": [
    "!az network public-ip delete -g <resource_group> -n ourAKSPublicIP"
   ]
  },
  {
   "cell_type": "markdown",
   "metadata": {},
   "source": [
    "### 9.B Flask app service and deployment deletion <a id=\"del_svc\">\n",
    "\n",
    "We then delete the service and deployment of our Flask application"
   ]
  },
  {
   "cell_type": "code",
   "execution_count": null,
   "metadata": {},
   "outputs": [],
   "source": [
    "# Flask app service deletion\n",
    "!kubectl delete svc flask-app-deployment\n",
    "\n",
    "# Flask app deployment deletion\n",
    "!kubectl delete deploy flask-app-deployment"
   ]
  },
  {
   "cell_type": "markdown",
   "metadata": {},
   "source": [
    "### 9.C Application Insights deactivation and web service termination <a id=\"del_app_insights\">\n",
    "\n",
    "We can now delete resources associated with our image classifier web services."
   ]
  },
  {
   "cell_type": "code",
   "execution_count": null,
   "metadata": {},
   "outputs": [],
   "source": [
    "# Telemetry deactivation\n",
    "aks_service.update(enable_app_insights=False)\n",
    "\n",
    "# Services termination\n",
    "aks_service.delete()\n",
    "\n",
    "# Compute target deletion\n",
    "aks_target.delete()"
   ]
  },
  {
   "cell_type": "markdown",
   "metadata": {},
   "source": [
    "### 9.D Web service Docker image deletion <a id=\"del_image\">\n",
    "\n",
    "Finally, we delete the Docker image that contains our image classifier model."
   ]
  },
  {
   "cell_type": "code",
   "execution_count": null,
   "metadata": {},
   "outputs": [],
   "source": [
    "print(\"Docker images:\")\n",
    "for docker_im in ws.images:    \n",
    "    print(f\"    --> Name: {ws.images[docker_im].name}\\n\\\n",
    "    --> ID: {ws.images[docker_im].id}\\n\\\n",
    "    --> Tags: {ws.images[docker_im].tags}\\n\\\n",
    "    --> Creation time: {ws.images[docker_im].created_time}\")"
   ]
  },
  {
   "cell_type": "code",
   "execution_count": null,
   "metadata": {},
   "outputs": [],
   "source": [
    "docker_image = ws.images[\"image-classif-resnet18-f48\"]\n",
    "docker_image.delete()"
   ]
  },
  {
   "cell_type": "markdown",
   "metadata": {},
   "source": [
    "## 10. Resources <a id=\"resources\">\n",
    "\n",
    "Throughout this notebook, we used a variety of tools and concepts. If that is of interest, here a few resources we recommend reading:\n",
    "- Docker: [General documentation](https://docs.docker.com/get-started/), [CLI functions](https://docs.docker.com/engine/reference/commandline/docker/)\n",
    "- [Kubernetes](https://kubernetes.io/docs/home/)\n",
    "- [Another example of application deployment on AKS](https://docs.microsoft.com/en-us/azure/aks/tutorial-kubernetes-prepare-app)\n",
    "- IP address management:\n",
    "  - [Using Azure CLI](https://docs.microsoft.com/en-us/cli/azure/network/public-ip?view=azure-cli-latest)\n",
    "  - [From the Azure portal](https://docs.microsoft.com/en-us/azure/virtual-network/virtual-network-public-ip-address)"
   ]
  }
 ],
 "metadata": {
  "kernelspec": {
   "display_name": "Python (cvbp)",
   "language": "python",
   "name": "cvbp"
  },
  "language_info": {
   "codemirror_mode": {
    "name": "ipython",
    "version": 3
   },
   "file_extension": ".py",
   "mimetype": "text/x-python",
   "name": "python",
   "nbconvert_exporter": "python",
   "pygments_lexer": "ipython3",
   "version": "3.6.8"
  }
 },
 "nbformat": 4,
 "nbformat_minor": 2
}
