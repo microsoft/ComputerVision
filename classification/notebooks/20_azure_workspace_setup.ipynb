{
 "cells": [
  {
   "cell_type": "markdown",
   "metadata": {},
   "source": [
    "<i>Copyright (c) Microsoft Corporation. All rights reserved.</i>\n",
    "\n",
    "<i>Licensed under the MIT License.</i>\n",
    "\n",
    "# Setup of an Azure workspace"
   ]
  },
  {
   "cell_type": "markdown",
   "metadata": {},
   "source": [
    "## 1. Introduction <a id=\"intro\"></a>\n",
    "\n",
    "This notebook is the first of a series (starting with \"2x_\") that leverage the [Azure Machine Learning Service](https://docs.microsoft.com/en-us/azure/machine-learning/service/overview-what-is-azure-ml). Azure ML, as we also call it, is a service that allows us to train, deploy, automate, and manage machine learning models, at scale, in the cloud.\n",
    "\n",
    "In this tutorial, we will set up an [Azure ML workspace](https://docs.microsoft.com/en-us/azure/machine-learning/service/concept-azure-machine-learning-architecture#workspace). Such resource organizes and coordinates the actions of many other Azure resources to assist in executing and sharing machine learning workflows. In particular, an Azure ML Workspace coordinates storage, databases, and compute resources providing added functionality for machine learning experimentation, deployment, inferencing, and the monitoring of deployed models.\n",
    "\n",
    "## 2. Pre-requisites\n",
    "<a id=\"pre-reqs\"></a>\n",
    "\n",
    "For this and all the other \"2x_\" notebooks to run properly on our machine, we need access to the Azure platform.\n",
    "\n",
    "Unless we already have one, we should first:\n",
    "- [Create an account](https://azure.microsoft.com/en-us/free/services/machine-learning/)\n",
    "- [Create a resource group and a workspace](https://docs.microsoft.com/en-us/azure/machine-learning/service/setup-create-workspace#portal)."
   ]
  },
  {
   "cell_type": "markdown",
   "metadata": {},
   "source": [
    "## 3. Azure workspace <a id=\"workspace\"></a>\n",
    "\n",
    "In the deployment tutorials present in this repository (numbered \"21_\" to \"25_\"), we use the Azure ML SDK. It allows us to access our Azure resources programmatically. As we are running our notebooks in the \"cvbp\" conda environment, the SDK should already be installed on our machine. Let's check which version of the Azure SDK we are working with."
   ]
  },
  {
   "cell_type": "code",
   "execution_count": 1,
   "metadata": {},
   "outputs": [
    {
     "name": "stdout",
     "output_type": "stream",
     "text": [
      "Azure ML SDK Version: 1.0.41\n"
     ]
    }
   ],
   "source": [
    "# For automatic reloading of modified libraries\n",
    "%reload_ext autoreload\n",
    "%autoreload 2\n",
    "\n",
    "# Azure\n",
    "import azureml.core\n",
    "from azureml.core import Workspace\n",
    "\n",
    "# Check core SDK version number\n",
    "print(f\"Azure ML SDK Version: {azureml.core.VERSION}\")"
   ]
  },
  {
   "cell_type": "markdown",
   "metadata": {},
   "source": [
    "We are now ready to load an existing workspace, or create a new one and save it to a local configuration file (`./aml_config/config.json` or `./.azureml/config.json`). This will give us access to the workspace object (`ws`).\n",
    "\n",
    "We are typically in one of the following cases:\n",
    "1. We created our workspace from the Azure portal, as explained in the link above\n",
    "2. We created a workspace from a script or notebook and already have a `config.json` file\n",
    "3. We created a workspace from a script or notebook and, for any reason, don't have such a file\n",
    "4. We already have one (or several) workspace, but don't want to use that one here\n",
    "5. We do not have any workspace at all\n",
    "\n",
    "Whatever our case, we just need to use the `Workspace.setup()` method. If we already have a configuration file, `setup()` extracts the information it needs from it. If we don't, `setup()` enters an interactive mode and asks for the following pieces of information:\n",
    "- <b>subscription ID:</b> the ID of the Azure subscription we are using\n",
    "- <b>resource group:</b> the name of the resource group in which our workspace resides\n",
    "- <b>workspace region:</b> the geographical area in which our workspace resides (e.g. \"eastus2\" -- other examples are available [here](https://azure.microsoft.com/en-us/global-infrastructure/geographies/) <i>-- note the lack of spaces</i>)\n",
    "- <b>workspace name:</b> the name of the workspace we want to create or retrieve.\n",
    "\n",
    "\n",
    "<i><b>Note:</b> The first time we use this functionality, a webbrowser page may get triggered, on which we will need to choose the email we want to use to connect to our Azure account.</i>"
   ]
  },
  {
   "cell_type": "code",
   "execution_count": 2,
   "metadata": {
    "scrolled": false
   },
   "outputs": [
    {
     "name": "stdout",
     "output_type": "stream",
     "text": [
      "-- No *.aml_env* file could be found - Let's create one --\n",
      "-- Please provide (without quotes):\n",
      "  > Your subscription ID: edf507a2-6235-46c5-b560-fd463ba2e771\n",
      "  > Your resource group: jiatacvbptest01\n",
      "  > The name of your workspace: cvbptest\n",
      "  > The region of your workspace\n",
      "(full list available at https://azure.microsoft.com/en-us/global-infrastructure/geographies/): eastus\n"
     ]
    },
    {
     "name": "stderr",
     "output_type": "stream",
     "text": [
      "Warning: Falling back to use azure cli login credentials.\n",
      "If you run your code in unattended mode, i.e., where you can't give a user input, then we recommend to use ServicePrincipalAuthentication or MsiAuthentication.\n",
      "Please refer to aka.ms/aml-notebook-auth for different authentication mechanisms in azureml-sdk.\n",
      "get_workspace error using subscription_id=edf507a2-6235-46c5-b560-fd463ba2e771, resource_group_name=jiatacvbptest01, workspace_name=cvbptest\n"
     ]
    },
    {
     "name": "stdout",
     "output_type": "stream",
     "text": [
      ">>> We could not find the workspace you are looking for.\n",
      "Please enter:\n",
      "1: To create a new workspace with the parameters above\n",
      "Any other key: To start over\n",
      "1\n",
      "Creating workspace *cvbptest* from scratch ...\n"
     ]
    },
    {
     "name": "stderr",
     "output_type": "stream",
     "text": [
      "UserWarning: The resource group doesn't exist or was not provided. AzureML SDK is creating a resource group=jiatacvbptest01 in location=eastus using subscription=edf507a2-6235-46c5-b560-fd463ba2e771.\n"
     ]
    },
    {
     "name": "stdout",
     "output_type": "stream",
     "text": [
      "Deploying AppInsights with name cvbptestinsights5894168f.\n",
      "Deployed AppInsights with name cvbptestinsights5894168f. Took 3.05 seconds.\n",
      "Deploying KeyVault with name cvbptestkeyvaultf2e0680d.\n",
      "Deploying StorageAccount with name cvbpteststorageed1ded9a8.\n",
      "Deployed KeyVault with name cvbptestkeyvaultf2e0680d. Took 17.24 seconds.\n",
      "Deployed StorageAccount with name cvbpteststorageed1ded9a8. Took 18.55 seconds.\n",
      "Deploying Workspace with name cvbptest.\n",
      "Deployed Workspace with name cvbptest. Took 34.83 seconds.\n",
      "Deploying Compute Target with name cpu-cluster\n",
      "Deploying Compute Target with name gpu-cluster\n",
      "Deployed Compute Target with name cpu-cluster. Took 35.7 seconds\n",
      "Deployed Compute Target with name gpu-cluster. Took 35.9 seconds\n",
      "Workspace *cvbptest* has been successfully created.\n"
     ]
    }
   ],
   "source": [
    "ws = Workspace.setup()"
   ]
  },
  {
   "cell_type": "markdown",
   "metadata": {},
   "source": [
    "Let's check that the workspace is properly loaded"
   ]
  },
  {
   "cell_type": "code",
   "execution_count": 3,
   "metadata": {},
   "outputs": [
    {
     "name": "stdout",
     "output_type": "stream",
     "text": [
      "Workspace name: cvbptest\n",
      "       Workspace region: eastus\n",
      "       Subscription id: edf507a2-6235-46c5-b560-fd463ba2e771\n",
      "       Resource group: jiatacvbptest01\n"
     ]
    }
   ],
   "source": [
    "# Print the workspace attributes\n",
    "print(f'Workspace name: {ws.name}\\n \\\n",
    "      Workspace region: {ws.location}\\n \\\n",
    "      Subscription id: {ws.subscription_id}\\n \\\n",
    "      Resource group: {ws.resource_group}')"
   ]
  },
  {
   "cell_type": "markdown",
   "metadata": {},
   "source": [
    "We can also see this workspace on the [Azure portal](http://portal.azure.com) by sequentially clicking on:\n",
    "- Resource groups, and clicking the one we referenced above"
   ]
  },
  {
   "cell_type": "markdown",
   "metadata": {},
   "source": [
    "<img src=\"media/resource_group.jpg\" width=\"800\" alt=\"Azure portal view of resource group\">"
   ]
  },
  {
   "cell_type": "markdown",
   "metadata": {},
   "source": [
    "- Workspace_name"
   ]
  },
  {
   "cell_type": "markdown",
   "metadata": {},
   "source": [
    "<img src=\"media/workspace.jpg\" width=\"800\" alt=\"Azure portal view of workspace\">"
   ]
  },
  {
   "cell_type": "markdown",
   "metadata": {},
   "source": [
    "For more details on the setup of a workspace and other Azure resources, we can refer to this [configuration](https://github.com/Azure/MachineLearningNotebooks/blob/dcce6f227f9ca62e4c201fb48ae9dc8739eaedf7/configuration.ipynb) notebook.\n",
    "\n",
    "Creating a workspace automatically adds associated resources:\n",
    "- A container registry, which can host Docker images, and gets lazily created\n",
    "- A storage account, in which output files get stored\n",
    "- Application Insights, which allows us to monitor the health of and traffic to a web service, for instance\n",
    "- A key vault, which stores our credentials.\n",
    "\n",
    "Such resources, when first created, cost less than a penny per day. To get a better sense of pricing, we can refer to this [calculator](https://azure.microsoft.com/en-us/pricing/calculator/). We can also navigate to the [Cost Management + Billing](https://ms.portal.azure.com/#blade/Microsoft_Azure_Billing/ModernBillingMenuBlade/Overview) pane on the portal, click on our subscription ID, and click on the Cost Analysis tab to check our credit usage.\n",
    "\n",
    "We will continue using our workspace in the next notebooks, so will keep it available. However, if we needed to delete it, we would run the command below."
   ]
  },
  {
   "cell_type": "code",
   "execution_count": 4,
   "metadata": {},
   "outputs": [],
   "source": [
    "# ws.delete(delete_dependent_resources=True)\n",
    "# This deletes our workspace, the container registry, the account storage, Application Insights and the key vault"
   ]
  },
  {
   "cell_type": "markdown",
   "metadata": {},
   "source": [
    "## 4. Next steps <a id=\"next-step\"></a>\n",
    "\n",
    "In this notebook, we loaded or created a new workspace, and stored configuration information in a `./aml_config/config.json` file. This is the file we will use in all the Azure ML-related notebooks in this repository. There, we will only need `ws = Workspace.from_config()`.\n",
    "\n",
    "In the next notebook, we will learn how to deploy a trained model as a web service on Azure."
   ]
  }
 ],
 "metadata": {
  "kernelspec": {
   "display_name": "Python (cvbp)",
   "language": "python",
   "name": "cvbp"
  },
  "language_info": {
   "codemirror_mode": {
    "name": "ipython",
    "version": 3
   },
   "file_extension": ".py",
   "mimetype": "text/x-python",
   "name": "python",
   "nbconvert_exporter": "python",
   "pygments_lexer": "ipython3",
   "version": "3.6.8"
  }
 },
 "nbformat": 4,
 "nbformat_minor": 2
}
